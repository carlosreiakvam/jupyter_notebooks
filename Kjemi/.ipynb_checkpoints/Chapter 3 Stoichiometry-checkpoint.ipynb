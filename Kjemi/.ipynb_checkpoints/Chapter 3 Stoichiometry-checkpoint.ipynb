{
 "cells": [
  {
   "cell_type": "code",
   "execution_count": 7,
   "metadata": {},
   "outputs": [],
   "source": [
    "import math as M"
   ]
  },
  {
   "cell_type": "markdown",
   "metadata": {},
   "source": [
    "### Example 3.1\n",
    "Copper, a metal known since ancient times, is used in electrical cables and pennies, among other things.  \n",
    "\n",
    "The atomic masses of its two stable isotopes, $_{63}^{29}Cu$ (69.09 percent) and $_{65}^{29}Cu$ (30.91 percent), are 62.93 amu and 64.9278 amu, respectively.\n",
    "\n",
    "Calculate the average atomic mass of copper. The relative abundances are given in parentheses.\n",
    "\n"
   ]
  },
  {
   "cell_type": "code",
   "execution_count": 2,
   "metadata": {},
   "outputs": [
    {
     "data": {
      "text/plain": [
       "63.54751998"
      ]
     },
     "execution_count": 2,
     "metadata": {},
     "output_type": "execute_result"
    }
   ],
   "source": [
    "(62.93*0.6909)+(64.9278*0.3091)"
   ]
  },
  {
   "cell_type": "markdown",
   "metadata": {},
   "source": [
    "# 3.2 Avogadro’s Number and the Molar Mass of an Element"
   ]
  },
  {
   "cell_type": "markdown",
   "metadata": {},
   "source": [
    "<img src=\"Screens/figure3_2.jpg\">"
   ]
  },
  {
   "cell_type": "code",
   "execution_count": 30,
   "metadata": {},
   "outputs": [],
   "source": [
    "AVOGADRO = 6.0221415 * M.pow(10,23)\n",
    "AMU_IN_GRAMS = 1.661 * M.pow(10,-24)"
   ]
  },
  {
   "cell_type": "markdown",
   "metadata": {},
   "source": [
    "###### Hvordan tenke på mol\n",
    "En mol med grunnstoff veier amu oppgitt i periodetabellen"
   ]
  },
  {
   "cell_type": "markdown",
   "metadata": {},
   "source": [
    "### Example 3.2\n",
    "Zinc (Zn) is a silvery metal that is used in making brass (with copper) and in plating iron to prevent corrosion. How many moles of Zn are there in 45.9 g of Zn?"
   ]
  },
  {
   "cell_type": "code",
   "execution_count": 5,
   "metadata": {},
   "outputs": [
    {
     "data": {
      "text/plain": [
       "0.7020495564392781"
      ]
     },
     "execution_count": 5,
     "metadata": {},
     "output_type": "execute_result"
    }
   ],
   "source": [
    "Zn_amu = 65.38\n",
    "m = 45.9\n",
    "\n",
    "n = m / Zn_amu\n",
    "n"
   ]
  },
  {
   "cell_type": "markdown",
   "metadata": {},
   "source": [
    "### Example 3.3\n",
    "Sulfur (S) is a nonmetallic element that is present in coal. When coal is burned, sulfur is converted to sulfur dioxide and eventually to sulfuric acid, which gives rise to the acid rain phenomenon. How many atoms are in 25.1 g of S?"
   ]
  },
  {
   "cell_type": "code",
   "execution_count": 42,
   "metadata": {},
   "outputs": [
    {
     "name": "stdout",
     "output_type": "stream",
     "text": [
      "4.71 e23 mol\n"
     ]
    }
   ],
   "source": [
    "S_amu = 32.06\n",
    "m = 25.1\n",
    "n = m /S_amu\n",
    "N = n * AVOGADRO\n",
    "print(round(N/(M.pow(10,23)),2),\"e23 mol\")"
   ]
  },
  {
   "cell_type": "markdown",
   "metadata": {},
   "source": [
    "###### Alternativ metode for 3.3\n",
    "Løser ved hjelp av conversion factors"
   ]
  },
  {
   "cell_type": "markdown",
   "metadata": {},
   "source": [
    "Sulfur amu: $32.06 mol/g$\n",
    "\n",
    "$\\frac{32.06 \\frac{mol}{g}}{25g} = \\frac{25g mol}{32.06g} = 0.78... mol = 4.71  \\text{ E23 atoms}$"
   ]
  },
  {
   "cell_type": "markdown",
   "metadata": {},
   "source": [
    "Kan også skrive det enda enklere:"
   ]
  },
  {
   "cell_type": "markdown",
   "metadata": {},
   "source": [
    "$\\text{n atoms } = \\frac{32}{25} \\cdot avogadro$"
   ]
  },
  {
   "cell_type": "code",
   "execution_count": 46,
   "metadata": {},
   "outputs": [
    {
     "name": "stdout",
     "output_type": "stream",
     "text": [
      "0.7829070492825951\n"
     ]
    },
    {
     "data": {
      "text/plain": [
       "4.714777032127262e+23"
      ]
     },
     "execution_count": 46,
     "metadata": {},
     "output_type": "execute_result"
    }
   ],
   "source": [
    "n = m  * 1/S_amu \n",
    "print(n)\n",
    "N =  n * AVOGADRO\n",
    "N"
   ]
  },
  {
   "cell_type": "code",
   "execution_count": 48,
   "metadata": {},
   "outputs": [
    {
     "data": {
      "text/plain": [
       "0.78125"
      ]
     },
     "execution_count": 48,
     "metadata": {},
     "output_type": "execute_result"
    }
   ],
   "source": [
    "25/32"
   ]
  },
  {
   "cell_type": "markdown",
   "metadata": {},
   "source": [
    "### Example 3.4\n",
    "Silver (Ag) is a precious metal used mainly in jewelry. What is the mass (in grams) of one Ag atom?"
   ]
  },
  {
   "cell_type": "code",
   "execution_count": 41,
   "metadata": {},
   "outputs": [
    {
     "name": "stdout",
     "output_type": "stream",
     "text": [
      "1.791 E-22 g\n"
     ]
    }
   ],
   "source": [
    "Ag_amu = 107.87\n",
    "N = 1\n",
    "n = N / AVOGADRO\n",
    "m = n * Ag_amu\n",
    "m\n",
    "print(round(m*(M.pow(10,22)),3),\"E-22 g\")"
   ]
  },
  {
   "cell_type": "markdown",
   "metadata": {},
   "source": [
    "###### Alternativ metode for 3.4\n",
    "Løser ved hjelp av conversion factors"
   ]
  },
  {
   "cell_type": "code",
   "execution_count": 32,
   "metadata": {},
   "outputs": [
    {
     "data": {
      "text/plain": [
       "1.7917207e-22"
      ]
     },
     "execution_count": 32,
     "metadata": {},
     "output_type": "execute_result"
    }
   ],
   "source": [
    "Ag_amu * AMU_IN_GRAMS"
   ]
  }
 ],
 "metadata": {
  "kernelspec": {
   "display_name": "Python 3",
   "language": "python",
   "name": "python3"
  },
  "language_info": {
   "codemirror_mode": {
    "name": "ipython",
    "version": 3
   },
   "file_extension": ".py",
   "mimetype": "text/x-python",
   "name": "python",
   "nbconvert_exporter": "python",
   "pygments_lexer": "ipython3",
   "version": "3.8.5"
  }
 },
 "nbformat": 4,
 "nbformat_minor": 4
}
