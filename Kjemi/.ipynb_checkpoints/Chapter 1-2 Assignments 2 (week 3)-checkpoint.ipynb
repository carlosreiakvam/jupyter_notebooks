{
 "cells": [
  {
   "cell_type": "markdown",
   "metadata": {},
   "source": [
    "# Øvingssett 2 (uke 3)"
   ]
  },
  {
   "cell_type": "markdown",
   "metadata": {},
   "source": [
    "### 1.46\n",
    "Et sylindrisk glassrør med lengde $12.7 cm$ fylles med kvikksølv. \n",
    "Massen av kvikksølv i røret er da $105.5 g $.\n",
    "Finn den indre diameteren til røret (i cm). \n",
    "Kvikksølv har tetthet $d = 13.6 \\frac{g}{mL}$ . Vi har $1 mL = 1 cm^3$."
   ]
  },
  {
   "cell_type": "markdown",
   "metadata": {},
   "source": [
    "<img src=\"Screens/Ex1_46.png\" width=\"100px\">"
   ]
  },
  {
   "cell_type": "markdown",
   "metadata": {},
   "source": [
    "$d =  \\frac{105.5g}{\\frac{13.6g}{mL}} = 7.75mL = 7.75cm^3 = 7.75\\cdot 10^{-6}m^3$\n"
   ]
  },
  {
   "cell_type": "markdown",
   "metadata": {},
   "source": [
    "$V = \\pi r^2 h \\Rightarrow r = \\sqrt{\\frac{V}{\\pi h}}$  "
   ]
  },
  {
   "cell_type": "markdown",
   "metadata": {},
   "source": [
    "$diameter = 2\\cdot\\sqrt{\\frac{V}{\\pi h}}$  "
   ]
  },
  {
   "cell_type": "markdown",
   "metadata": {},
   "source": [
    "$diameter = 2\\sqrt{\\frac{ 7.75\\cdot 10^{-6}m^3}{\\pi \\cdot 0.12m}}=0.009m$  \n",
    "$diameter = 0.9cm$"
   ]
  },
  {
   "cell_type": "code",
   "execution_count": 17,
   "metadata": {},
   "outputs": [
    {
     "name": "stdout",
     "output_type": "stream",
     "text": [
      "diameter = 0.009 m\n"
     ]
    }
   ],
   "source": [
    "import math as m\n",
    "v = (105.6/13.6)*m.pow(10,-6)\n",
    "diameter = 2*m.sqrt((v)/(m.pi*0.12))\n",
    "print('diameter =',round(diameter,3),'m')"
   ]
  },
  {
   "cell_type": "markdown",
   "metadata": {},
   "source": [
    "### 1.48\n",
    "En målesylinder inneholder $242.0 mL$ vann. En gjenstand i sølv som veier $194.3 g$ senkes ned i målesylinderen. Vannstanden avleses nå til $260.5 mL$. Regn ut tettheten (d) til sølv i $\\frac{g}{cm^3}$\n"
   ]
  },
  {
   "cell_type": "markdown",
   "metadata": {},
   "source": [
    "<img src=\"Screens/Ex1_48.jpg\" width=\"300px\">"
   ]
  },
  {
   "cell_type": "markdown",
   "metadata": {},
   "source": [
    "displacement of water = $260.5-242 = 18mL$  \n",
    "density = $\\frac{194.3g}{18mL} =10.79\\frac{g}{cm^3}$\n"
   ]
  },
  {
   "cell_type": "markdown",
   "metadata": {},
   "source": [
    "---\n",
    "## Oppgaver for å bli kjent med periodesystemet"
   ]
  },
  {
   "cell_type": "markdown",
   "metadata": {},
   "source": [
    "### 1) \n",
    "Finn den kjemiske forkortelsen (symbolet) for hvert av disse grunnstoffene: nitrogen,\n",
    "fosfor, natrium, helium, bly, krom, bor, selen, titan, karbon, kvikksølv, gull, sølv, kobber"
   ]
  },
  {
   "cell_type": "markdown",
   "metadata": {},
   "source": [
    "|||\n",
    "|---|---|  \n",
    "|nitrogen | N |\n",
    "|fosfor | P |\n",
    "|natrium | Na |\n",
    "|helium | He |\n",
    "|bly | Pb |\n",
    "|krom | Cr |\n",
    "|bor | B |\n",
    "|selen | Se |\n",
    "|titan | Ti |\n",
    "|karbon | C |\n",
    "|kvikksølv | Hg |\n",
    "|gull | Au |\n",
    "|sølv | Ag |\n",
    "|kobber | Cu |"
   ]
  },
  {
   "cell_type": "markdown",
   "metadata": {},
   "source": [
    "### 2)\n",
    "Hvilke grunnstoffer ble tidligere kalt surstoff, vannstoff og kvelstoff?"
   ]
  },
  {
   "cell_type": "markdown",
   "metadata": {},
   "source": [
    "N/A"
   ]
  },
  {
   "cell_type": "markdown",
   "metadata": {},
   "source": [
    "### 3)\n",
    "Hvilke av disse kjemiske formlene representerer grunnstoffer: H2, H2O, O, O2, O3, H2O2"
   ]
  },
  {
   "cell_type": "markdown",
   "metadata": {},
   "source": [
    "H2 = 2 Hydrogen  \n",
    "O = oksygen  \n",
    "O2 = 2 oksygen  \n",
    "O3 = 3 oksygen  "
   ]
  },
  {
   "cell_type": "markdown",
   "metadata": {},
   "source": [
    "### 4)\n",
    "Hvilke grunnstoffer skjuler seg bak følgende forkortelser (kjemiske symboler): Mg, Ne, Si, Fe, Ti, Ag, Pt, Au, Ca, K, Zn, Cu, og Sn?"
   ]
  },
  {
   "cell_type": "markdown",
   "metadata": {},
   "source": [
    "|Element|Symbol|\n",
    "|---|---|  \n",
    "|Magnesium | Mg |\n",
    "|Neon | Ne |\n",
    "|Silicon | Si |\n",
    "|Iron | Fe |\n",
    "|Titanium | Ti |\n",
    "|Silver| Ag |\n",
    "|Platinum | Pt |\n",
    "|Gold | Au |\n",
    "|Calcium | Ca |\n",
    "|Krypton | K |\n",
    "|Zinc | Zn |\n",
    "|Copper | Cu |\n",
    "|Tin | Sn |"
   ]
  },
  {
   "cell_type": "markdown",
   "metadata": {},
   "source": [
    "### 5)\n",
    "Hvilke 10 ikke-radioaktive grunnstoffer finnes i gassform ved $25^\\circ C$? Angi bare symbolene for disse her (se også Oppg. 13 for mer om gassene). Merk: Alle grunnstoffer med atomnummer Z > 83 er radioaktive – dvs. disse har kun radioaktive isotoper."
   ]
  },
  {
   "cell_type": "markdown",
   "metadata": {},
   "source": [
    "|Element|Symbol|boiling point $^\\circ C$|\n",
    "|---|---|---| \n",
    "|Hydrogen | H |-252.9| \n",
    "|Nitrogen | Ni |-195.8|\n",
    "|Oxygen | Ox |-183|\n",
    "|Fluorine | F |-188.1|\n",
    "|Chlorine | Cl |-34.04|\n",
    "|Helium | He |-269| \n",
    "|Neon | Ne |-246.1| \n",
    "|Argon | Ar |-186| \n",
    "|Krypton | Kr |-153.22| \n",
    "|Xenon | Xe |-108| "
   ]
  },
  {
   "cell_type": "markdown",
   "metadata": {},
   "source": [
    "### 6)\n",
    "Hvilke to grunnstoffer som kan du finne i periodesystemet finnes som væske ved 25 °C?"
   ]
  },
  {
   "cell_type": "markdown",
   "metadata": {},
   "source": [
    "|Element|Symbol|melting point $^\\circ C$|boiling point $^\\circ C$|  \n",
    "|---|---|---|---|\n",
    "|Francium | FR |20.9|650|  \n",
    "|Mercury |Hg |-38.8|356.73|  "
   ]
  },
  {
   "cell_type": "markdown",
   "metadata": {},
   "source": [
    "### 7)\n",
    "Angi 4 ulike grunnstoffer som du kjenner som «bruksmetaller» og som ikke tilhører\n",
    "overgangsmetallene/innskuddsgrunnstoffene (dvs. ikke tilhører de «korte» gruppene)."
   ]
  },
  {
   "cell_type": "markdown",
   "metadata": {},
   "source": [
    "|Element|Symbol|\n",
    "|---|---|  \n",
    "|Magnesium | Mg |\n",
    "|Aluminium|Al|\n",
    "|Tin|Sn|\n",
    "|Lead|Pb|"
   ]
  },
  {
   "cell_type": "markdown",
   "metadata": {},
   "source": [
    "### 8)\n",
    "Finn minst 10 overgangsmetaller fra de korte gruppene som du kjenner navnet til fra før."
   ]
  },
  {
   "cell_type": "markdown",
   "metadata": {},
   "source": [
    "|Element|Symbol|\n",
    "|---|---|  \n",
    "|Titanium|Ti|\n",
    "|Iron|Fe|\n",
    "|Nickel|Ni|\n",
    "|Copper|Cu|\n",
    "|Zinc|Zn|\n",
    "|Silver| Ag|\n",
    "|Tungsten| W|\n",
    "|Platinum|Pt|\n",
    "|Gold|Au|\n",
    "|Mercury|Hg|"
   ]
  },
  {
   "cell_type": "markdown",
   "metadata": {},
   "source": [
    "### 9)\n",
    "Angi minst 3 metalliske stoffer som du kjenner som ikke er grunnstoffer."
   ]
  },
  {
   "cell_type": "markdown",
   "metadata": {},
   "source": [
    "N/A"
   ]
  },
  {
   "cell_type": "markdown",
   "metadata": {},
   "source": [
    "### 10)\n",
    "Angi minst 3 grunnstoffer som er halvmetaller og som du kjenner fra før studiene."
   ]
  },
  {
   "cell_type": "markdown",
   "metadata": {},
   "source": [
    "|Element|Symbol|\n",
    "|---|---|  \n",
    "|Silicon|Si|\n",
    "|Arsenic|As|\n",
    "|Germanium|Ge|"
   ]
  },
  {
   "cell_type": "markdown",
   "metadata": {},
   "source": [
    "### 11)\n",
    "Angi minst 2 grunnstoffer som er ikke-metaller, og verken gass eller væske ved 25 °C."
   ]
  },
  {
   "cell_type": "markdown",
   "metadata": {},
   "source": [
    "|Element|Symbol|\n",
    "|---|---|  \n",
    "|Carbon|C|\n",
    "|Phosphorus|P|"
   ]
  },
  {
   "cell_type": "markdown",
   "metadata": {},
   "source": [
    "### 12)\n",
    "Pm og Tc finnes ikke naturlig i jordskorpen. Hva er deres navn og atomnummer?"
   ]
  },
  {
   "cell_type": "markdown",
   "metadata": {},
   "source": [
    "|Element|Symbol|Atomic number|\n",
    "|---|---|---|\n",
    "|Promethium|Pm|61|\n",
    "|Technetium|Tc|43|"
   ]
  },
  {
   "cell_type": "markdown",
   "metadata": {},
   "source": [
    "### 13)\n",
    "Angi korrekte kjemiske formler for de grunnstoffene som er i gassform ved 25 °C"
   ]
  },
  {
   "cell_type": "markdown",
   "metadata": {},
   "source": [
    "N/A"
   ]
  },
  {
   "cell_type": "markdown",
   "metadata": {},
   "source": [
    "### 14)\n",
    "Finn korrekte navn for de nyeste grunnstoffene 113 - 118 (symbol Nh, Fl, Mc, Lv, Ts, Og)."
   ]
  },
  {
   "cell_type": "markdown",
   "metadata": {},
   "source": [
    "|Element|Symbol|Atomic number|\n",
    "|---|---|---|\n",
    "|Nihonium|Nh|113|\n",
    "|Flerovium|Fl|114|\n",
    "|Moscovium|Mc|115|\n",
    "|Livermorium|Lv|116|\n",
    "|Tennessine|Ts|117|\n",
    "|Og|Oganesson|118|"
   ]
  },
  {
   "cell_type": "markdown",
   "metadata": {},
   "source": [
    "---"
   ]
  },
  {
   "cell_type": "markdown",
   "metadata": {},
   "source": [
    "## Atomer og Isotoper"
   ]
  },
  {
   "cell_type": "markdown",
   "metadata": {},
   "source": [
    "### 15)\n",
    "Beskriv atomets generelle oppbygning etter Rutherfords kjerneatommodell (1910-1911)\n",
    "med en tegning som angir hovedkomponentene."
   ]
  },
  {
   "cell_type": "markdown",
   "metadata": {},
   "source": [
    "<img src=\"Screens/Ov1_15.jpg\" width=\"400px\">"
   ]
  },
  {
   "cell_type": "markdown",
   "metadata": {},
   "source": [
    "The electrons are drawn in a shell like hierarchy but the shell really represents the different states of energy that the electrons have."
   ]
  },
  {
   "cell_type": "markdown",
   "metadata": {},
   "source": [
    "### 16)\n",
    "Hvilke tre elementærpartikler består et atom av som er relevante for kjemien, og hvor\n",
    "finner du dem? Angi de vanlige symbolene som brukes for hver av dem."
   ]
  },
  {
   "cell_type": "markdown",
   "metadata": {},
   "source": [
    "Electrons $e^-$  \n",
    "Protons  $p^+$  \n",
    "Nutreons $n^0$"
   ]
  },
  {
   "cell_type": "markdown",
   "metadata": {},
   "source": [
    "### 17)\n",
    "Hva er det som avgjør hvilket grunnstoff et atom tilhører?"
   ]
  },
  {
   "cell_type": "markdown",
   "metadata": {},
   "source": [
    "Antall protoner"
   ]
  },
  {
   "cell_type": "markdown",
   "metadata": {},
   "source": [
    "### 18)\n",
    "Definer begrepet massetall (A). Er massetallet den reelle massen til en isotop? Hvorfor?\n",
    "Hvorfor ikke?"
   ]
  },
  {
   "cell_type": "markdown",
   "metadata": {},
   "source": [
    "Massetall (mass number): Totalt antall protoner og nøytroner i et atom. Z + N.  \n",
    "Massetallet er **tilnærmet** likt som massen til en isotop."
   ]
  },
  {
   "cell_type": "markdown",
   "metadata": {},
   "source": [
    "### 19)\n",
    "Hva er forskjellen mellom to isotoper av samme grunnstoff?"
   ]
  },
  {
   "cell_type": "markdown",
   "metadata": {},
   "source": [
    "Antall nøytroner"
   ]
  },
  {
   "cell_type": "markdown",
   "metadata": {},
   "source": [
    "### 20)\n",
    "Er isotoper radioaktive?"
   ]
  },
  {
   "cell_type": "markdown",
   "metadata": {},
   "source": [
    "Noen kan være det"
   ]
  },
  {
   "cell_type": "markdown",
   "metadata": {},
   "source": [
    "### 21)\n",
    "Hydrogen finnes i naturen som tre ulike isotoper. Hvor mange protoner og nøytroner har\n",
    "hver av dem?"
   ]
  },
  {
   "cell_type": "markdown",
   "metadata": {},
   "source": [
    "Protium: 1 proton, 0 nøytron  \n",
    "Deuterium: 1 proton, 1 nøytron  \n",
    "Tritium: 1 proton, 2 nøytron"
   ]
  }
 ],
 "metadata": {
  "kernelspec": {
   "display_name": "Python 3",
   "language": "python",
   "name": "python3"
  },
  "language_info": {
   "codemirror_mode": {
    "name": "ipython",
    "version": 3
   },
   "file_extension": ".py",
   "mimetype": "text/x-python",
   "name": "python",
   "nbconvert_exporter": "python",
   "pygments_lexer": "ipython3",
   "version": "3.8.5"
  }
 },
 "nbformat": 4,
 "nbformat_minor": 4
}
