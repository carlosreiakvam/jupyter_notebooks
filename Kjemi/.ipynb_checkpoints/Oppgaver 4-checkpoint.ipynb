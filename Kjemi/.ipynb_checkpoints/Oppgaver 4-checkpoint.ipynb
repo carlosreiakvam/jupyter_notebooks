{
 "cells": [
  {
   "cell_type": "code",
   "execution_count": 1,
   "metadata": {},
   "outputs": [
    {
     "data": {
      "text/html": [
       "<style>\n",
       ".rendered_html table {\n",
       "    margin-right:50px;\n",
       "}\n",
       "table {float:left}\n",
       "</style>\n"
      ],
      "text/plain": [
       "<IPython.core.display.HTML object>"
      ]
     },
     "metadata": {},
     "output_type": "display_data"
    }
   ],
   "source": [
    "%%html\n",
    "<style>\n",
    ".rendered_html table {\n",
    "    margin-right:50px;\n",
    "}\n",
    "table {float:left}\n",
    "</style>"
   ]
  },
  {
   "cell_type": "markdown",
   "metadata": {},
   "source": [
    "# Oppgaver fra Chang"
   ]
  },
  {
   "cell_type": "markdown",
   "metadata": {},
   "source": [
    "### Oppgave 2.26\n",
    "Hva er en allotrop?  \n",
    "Gi et eksempel på en allotrop.  \n",
    "Hvordan er en allotrop forskjellig fra en isotop?"
   ]
  },
  {
   "cell_type": "markdown",
   "metadata": {},
   "source": [
    "#### Svar:\n",
    "Isotoper er varianter av grunnstoff som defineres av antall nøytroner.  \n",
    "Allotroper er sammensetninger av samme type atomer, arrangert på forskjellige måter.\n",
    "\n",
    "$O_2$ og $O_3$ er allotroper av oksygen."
   ]
  },
  {
   "cell_type": "markdown",
   "metadata": {},
   "source": [
    "### Oppgave 2.28\n",
    "Gi minst ett eksempel på hver av de følgende kategoriene av ioner (poly = «fler»):  \n",
    "a) enatomig kation b) enatomig anion c) polyatomig kation d) polyatomig anion\n",
    "\n",
    "a) $H^+$  \n",
    "b) $Cl^-$  \n",
    "c) $NH{_4}^+$  \n",
    "d) $NO{_3}^-$  "
   ]
  },
  {
   "cell_type": "markdown",
   "metadata": {},
   "source": [
    "### Oppgave 2.33\n",
    "Angi antallet protoner og elektroner i hver av de følgende vanlige ionene:\n",
    "\n",
    "|   | $p^+$  |$e^-$ |\n",
    "|---|:---|:---|\n",
    "|$$Na^+ $$|11|10|\n",
    "|$$Ca^{2+}$$|20|18|\n",
    "|$$Al^{3+}$$|13|10|\n",
    "|$$Fe^{2+}$$|26|24|\n",
    "|$$I^{-}$$|53|54|\n",
    "|$$F^{-}$$|9|10|\n",
    "|$$S^{2-}$$|16|18|\n",
    "|$$O^{2-}$$|8|10|\n",
    "|$$N^{3-}$$|7|10|\n"
   ]
  },
  {
   "cell_type": "markdown",
   "metadata": {},
   "source": [
    "### Oppgave 2.34\n",
    "Angi antallet protoner og elektroner i hver av de følgende vanlige ionene-\n",
    "Skriv navnet på hvert av anionene (ioner med negativ ladning).\n",
    "\n",
    "|   | $p^+$  |$e^-$|navn|\n",
    "|---|:---|:---|:---|\n",
    "|$$k^{+} $$|19|18|\n",
    "|$$Mg^{2+} $$|12|10||\n",
    "|$$Fe^{3+} $$|26|23||\n",
    "|$$Br^{-} $$|35|36|Bromide|\n",
    "|$$Mn^{2+} $$|25|23||\n",
    "|$$C^{4-} $$|6|10|Carbonide|\n",
    "|$$Cu^{2+} $$|29|27||"
   ]
  },
  {
   "cell_type": "markdown",
   "metadata": {},
   "source": [
    "# Oppgave ikke fra R Chang"
   ]
  },
  {
   "cell_type": "markdown",
   "metadata": {},
   "source": [
    "### Oppgave 1\n",
    "Hvor mange elektroner har følgende atomer:\n",
    "\n",
    "|   | $e^-$  |\n",
    "|---|:---|\n",
    "|$$H^{} $$|1|\n",
    "|$$He^{} $$|2|\n",
    "|$$B^{} $$|5|\n",
    "|$$O^{} $$|8|\n",
    "|$$Ne^{} $$|10|\n",
    "|$$Al^{} $$|13|\n",
    "|$$Fe^{} $$|26|"
   ]
  },
  {
   "cell_type": "markdown",
   "metadata": {},
   "source": [
    "### Oppgave 2\n",
    "Hvor mange elektroner har følgende ioner:\n",
    "\n",
    "|   | $e^-$  |\n",
    "|---|:---|\n",
    "|$$H^{+} $$|0|\n",
    "|$$H^{-} $$|2|\n",
    "|$$B^{3+} $$|2|\n",
    "|$$O^{+} $$|7|\n",
    "|$$Al^{+} $$|12|\n",
    "|$$Fe^{2+} $$|24|\n",
    "|$$Fe^{6+} $$|20|"
   ]
  },
  {
   "cell_type": "markdown",
   "metadata": {},
   "source": [
    "### Oppgave 3\n",
    "Grunnstoffene som ligger mellom helium og neon (dvs. 2. periode) vil gjerne ha 2 eller 10 elektroner totalt,  \n",
    "såkalt edelgass-struktur (dvs. det ytterste skallet fullt av elektroner).  \n",
    "\n",
    "En måte å oppnå edelgass-struktur på er å avgi eller ta opp elektroner.  \n",
    "Hva slags ioner vil du anta følgende grunnstoffer danner?\n",
    "\n",
    "|   |   ion|\n",
    "|---|:---|\n",
    "|$$He $$|stabil|\n",
    "|$$Li $$|$Li^+$|\n",
    "|$$Be $$|$Be^{2+}$|\n",
    "|$$O $$|$O^{2-}$|\n",
    "|$$F $$|$F^-$|\n",
    "|$$Br $$|$Br^{-}$|\n",
    "|$$Ne $$|stabil|\n",
    "|$$Xe $$|stabil|\n"
   ]
  },
  {
   "cell_type": "markdown",
   "metadata": {},
   "source": [
    "### Oppgave 4\n",
    "Hvorfor tror du de to strukturene (2 eller 10 elektroner) kalles edelgass-struktur?\n",
    "\n",
    "- De kalles edle fordi de har det maksimalt antall valenselektroner som ytterste skall kan holde\n",
    "- De er dermed de mest stabile grunnstoffene i naturlig form."
   ]
  },
  {
   "cell_type": "markdown",
   "metadata": {},
   "source": [
    "### Oppgave 5\n",
    "Dette prinsippet kan utvides til å gjelde alle edelgasser, og nesten alle grunnstoffer har en tendens til å søke edelgass-struktur. Ut fra dette, hva ville du forvente var vanligste ion dannet av \n",
    "\n",
    "|   |  $e^-$ |\n",
    "|---|:---|\n",
    "|$$K $$|$$K^+$$|\n",
    "|$$Na $$|$$Na^+$$|\n",
    "|$$Ca $$|$$Ca^{2+}$$|\n",
    "|$$Ba $$|$$Ba^{2+}$$|\n",
    "|$$Al $$|$$Al^{3+}$$|\n",
    "|$$S $$|$$S^{2-}$$|\n",
    "|$$Te $$|$$Te^{2-}$$|\n",
    "|$$F $$|$$F^-$$|\n",
    "|$$Br $$|$$Br^-$$|\n",
    "|$$Xe $$|stabil|"
   ]
  },
  {
   "cell_type": "markdown",
   "metadata": {},
   "source": [
    "### Oppgave 6\n",
    "Oksider er forbindelser mellom oksygen og ett annet grunnstoff, for eksempel $MgO$, magnesiumoksid.\n",
    "Oksygen vil i forbindelser normalt opptre som $O^{2-}$, og binder seg da til atomer med positiv ladning.  \n",
    "\n",
    "Hvilke oksider danner grunnstoffene $Na, Be, Al, C, P, S, Cl$ når vi antar at disse mister alle sine elektroner i prosessen?\n",
    "\n",
    "|grunnstoff|oksid|\n",
    "|---|---|\n",
    "|$$Na$$|$$Na_2O$$|\n",
    "|$$Be$$|$$BeO$$|\n",
    "|$$Al$$|$$Al_2O_3$$|\n",
    "|$$C$$|$$CO_2$$|\n",
    "|$$P$$|$$P_2O_5$$|\n",
    "|$$S$$|$$SO_3$$|\n",
    "|$$Cl$$|lurespm/umulig|"
   ]
  },
  {
   "cell_type": "markdown",
   "metadata": {},
   "source": [
    "### Oppgave 7\n",
    "Ta utgangspunkt i plasseringen i periodesystemet, finn ut hvilke ioner atomene i forbindelsene under danner. Ut fra dette: Strek under formlene du tror er feil og angi den riktige:\n",
    "\n",
    "|   |ioner  |korigert formel   |\n",
    "|---|---|---|\n",
    "|$$NaCl $$|$$Na^+\\,Cl^-$$||\n",
    "|$$MgO_2 $$|$$Mg^{2+}\\,O^{2-}$$|$$MgO$$|\n",
    "|$$CaCl_2 $$|$$Ca^{2+}\\, Cl^{-}$$||\n",
    "|$$CaTe$$|$$Ca^{2+}\\, Te^{2-}$$||\n",
    "|$$NaO $$|$$Na^{+}\\,O^{2-}$$|$$Na_2O$$|\n",
    "|$$KF_2 $$|$$K^+\\,F+$$||\n",
    "|$$CsS $$|$$Cs^{3-}\\,S^{2-}$$||\n",
    "|$$LiBr_2 $$|$$Li{+}\\,Br^{-} $$||\n",
    "|$$Ca_2O $$|$$Ca^{2+}\\,O^{2-}$$||\n",
    "|$$FrAt $$|$$Fr^{+}\\,At^{-}$$||\n",
    "|$$Fr_2At $$||$$Fr_2At_2$$|\n",
    "|$$FrAt_2 $$||$$Fr_2At_2$$|"
   ]
  }
 ],
 "metadata": {
  "kernelspec": {
   "display_name": "Python 3",
   "language": "python",
   "name": "python3"
  },
  "language_info": {
   "codemirror_mode": {
    "name": "ipython",
    "version": 3
   },
   "file_extension": ".py",
   "mimetype": "text/x-python",
   "name": "python",
   "nbconvert_exporter": "python",
   "pygments_lexer": "ipython3",
   "version": "3.8.5"
  }
 },
 "nbformat": 4,
 "nbformat_minor": 4
}
