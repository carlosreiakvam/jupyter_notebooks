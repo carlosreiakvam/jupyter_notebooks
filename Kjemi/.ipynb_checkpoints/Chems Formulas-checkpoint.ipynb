{
 "cells": [
  {
   "cell_type": "markdown",
   "metadata": {},
   "source": [
    "# Chapter 1 - Introduction\n",
    "\n",
    "#### Converting Temperatures\n",
    "\n",
    "$aC = \\frac{5 \\cdot (bF -32F)}{9}$  \n",
    "$aF = \\frac{9 (bC + 32F)}{5}$  \n",
    "$aK = bC + 273.15C$  "
   ]
  },
  {
   "cell_type": "markdown",
   "metadata": {},
   "source": [
    "#### General Conversion\n",
    "$\\text{given quantity} \\times \\text{conversion factor} = \\text{desired quantity}$  \n",
    "$\\require{cancel} \\cancel{\\text{given unit}} \\times \\frac{\\text{desired unit}}{\\cancel{\\text{given unit}}} = \\text{desired unit}$  "
   ]
  },
  {
   "cell_type": "markdown",
   "metadata": {},
   "source": [
    "# Chapter 3"
   ]
  },
  {
   "cell_type": "markdown",
   "metadata": {},
   "source": [
    "### Mol conversion"
   ]
  },
  {
   "cell_type": "markdown",
   "metadata": {},
   "source": [
    "<img src=\"Screens/figure3_2.jpg\">\n",
    "<img src=\"Screens/figure3_2_2.jpg\">"
   ]
  },
  {
   "cell_type": "markdown",
   "metadata": {},
   "source": [
    "How many moles are there in \"mol X\"?\n",
    "<img src=\"Screens/figure3_2_3.jpg\">"
   ]
  },
  {
   "cell_type": "markdown",
   "metadata": {},
   "source": [
    "Det som er tenkt med formelen over er at de skal brukes som conversion factors. Men merk at det kan være like greit å bruke den grønne til generelle formål.\n",
    "\n",
    "- Hvis man har 49 gram med stoff X så finner man antall mol ved å bruke den til høyre.\n",
    "- Hvis man har så og så mange atomer kan man bruke den til venstre"
   ]
  }
 ],
 "metadata": {
  "kernelspec": {
   "display_name": "Python 3",
   "language": "python",
   "name": "python3"
  },
  "language_info": {
   "codemirror_mode": {
    "name": "ipython",
    "version": 3
   },
   "file_extension": ".py",
   "mimetype": "text/x-python",
   "name": "python",
   "nbconvert_exporter": "python",
   "pygments_lexer": "ipython3",
   "version": "3.8.5"
  }
 },
 "nbformat": 4,
 "nbformat_minor": 1
}
