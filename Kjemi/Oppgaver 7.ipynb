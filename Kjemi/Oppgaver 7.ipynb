{
 "cells": [
  {
   "cell_type": "code",
   "execution_count": 2,
   "metadata": {},
   "outputs": [],
   "source": [
    "import math as M\n",
    "import mendeleev as PT\n",
    "import numpy as NP\n",
    "AVEG = 6.022 * M.pow(10,23)"
   ]
  },
  {
   "cell_type": "markdown",
   "metadata": {},
   "source": [
    "# Oppgaver 7"
   ]
  },
  {
   "cell_type": "markdown",
   "metadata": {},
   "source": [
    "Oppgave 1-6: Balanser reaksjoner"
   ]
  },
  {
   "cell_type": "markdown",
   "metadata": {},
   "source": [
    "### 1)\n",
    "$S + O_2 \\rightarrow SO_3$"
   ]
  },
  {
   "cell_type": "markdown",
   "metadata": {},
   "source": [
    "Balansert:\n",
    "\n",
    "$2S + 3O_2 \\rightarrow 2SO_3$"
   ]
  },
  {
   "cell_type": "markdown",
   "metadata": {},
   "source": [
    "### 2)\n",
    "$HCl + Ca(OH)_2 \\rightarrow CaCl_2 + H_2O$"
   ]
  },
  {
   "cell_type": "markdown",
   "metadata": {},
   "source": [
    "Balansert:\n",
    "\n",
    "$2HCl + Ca(OH)_2\\rightarrow  CaCl_2 + 2H_2O$"
   ]
  },
  {
   "cell_type": "markdown",
   "metadata": {},
   "source": [
    "### 3)\n",
    "\n",
    "$Cl_2 + H_2O \\rightarrow O_2 +HCl$"
   ]
  },
  {
   "cell_type": "markdown",
   "metadata": {},
   "source": [
    "$Cl_2 + H_2O \\rightarrow O_2 + 2HCl$\n",
    "\n",
    "- $H$ OK  \n",
    "- $Cl$ OK"
   ]
  },
  {
   "cell_type": "markdown",
   "metadata": {},
   "source": [
    "Balansert:\n",
    "\n",
    "$2Cl_2 + 2H_2O \\rightarrow O_2 + 4HCl$\n",
    "\n",
    "- $H$ OK  \n",
    "- $Cl$ OK\n",
    "- $O$ OK"
   ]
  },
  {
   "cell_type": "markdown",
   "metadata": {},
   "source": [
    "### 4)\n",
    "$N_2O_3 + NH_3 \\rightarrow N_2 + H_2O$"
   ]
  },
  {
   "cell_type": "markdown",
   "metadata": {},
   "source": [
    "#### $N_2O_3 + NH_3 \\rightarrow N_2 + 3H_2O$\n",
    "\n",
    "- $O$ OK"
   ]
  },
  {
   "cell_type": "markdown",
   "metadata": {},
   "source": [
    "$N_2O_3 + 2NH_3 \\rightarrow N_2 + 3H_2O$\n",
    "\n",
    "- $O$ OK\n",
    "- $H$ OK"
   ]
  },
  {
   "cell_type": "markdown",
   "metadata": {},
   "source": [
    "Balansert:\n",
    "\n",
    "$N_2O_3 + 2NH_3 \\rightarrow 2N_2 + 3H_2O$\n",
    "\n",
    "- $O$ OK\n",
    "- $H$ OK\n",
    "- $N$ OK"
   ]
  },
  {
   "cell_type": "markdown",
   "metadata": {},
   "source": [
    "### 5)\n",
    "$NO + NH_3 \\rightarrow N_2 + H_2O$"
   ]
  },
  {
   "cell_type": "markdown",
   "metadata": {},
   "source": [
    "$3NO + 2NH_3 \\rightarrow N_2 + 3H_2O$\n",
    "\n",
    "-$H$ OK  \n",
    "-$O$ OK  \n",
    "-$N$ blir helt feil så må endre på de andre"
   ]
  },
  {
   "cell_type": "markdown",
   "metadata": {},
   "source": [
    "Balansert:\n",
    "\n",
    "$6NO + 4NH_3 \\rightarrow 5N_2 + 6H_2O$\n",
    "\n",
    "-$H$ OK  \n",
    "-$O$ OK  \n",
    "-$N$ OK "
   ]
  },
  {
   "cell_type": "markdown",
   "metadata": {},
   "source": [
    "### 6)\n",
    "$Al + Fe_3O_4 \\rightarrow Al_2O_3 + Fe$"
   ]
  },
  {
   "cell_type": "markdown",
   "metadata": {},
   "source": [
    "Balansert:\n",
    "\n",
    "$8Al + 3Fe_3O_4 \\rightarrow 4Al_2O_3 + 9Fe$"
   ]
  },
  {
   "cell_type": "markdown",
   "metadata": {},
   "source": [
    "### 7)\n",
    "Gitt reaksjonslikningen: $2H_2(g) + O_2(g) \\rightarrow 2H_2O(l)$ "
   ]
  },
  {
   "cell_type": "markdown",
   "metadata": {},
   "source": [
    "**a)** Hvor mange mol $O_2$ må man bruke for reaksjon med 5 mol $H2$ for å danne vann?"
   ]
  },
  {
   "cell_type": "markdown",
   "metadata": {},
   "source": [
    "$x = $ moles of $O_2$\n",
    "\n",
    "$\\frac{5H_2}{2H_2} = \\frac{x}{O_2}$  \n",
    "\n",
    "$x = \\frac{5}{2} O_2 = $  \n",
    "\n",
    "$x = 2.5$"
   ]
  },
  {
   "cell_type": "markdown",
   "metadata": {},
   "source": [
    "**b)** Hvor mange  gram $O_2$ må man bruke for reaksjon med 5 mol $H_2$ for å danne vann?"
   ]
  },
  {
   "cell_type": "markdown",
   "metadata": {},
   "source": [
    "$\\frac{16g \\cdot 2}{mol} \\cdot 2.5 mol$"
   ]
  },
  {
   "cell_type": "code",
   "execution_count": 13,
   "metadata": {},
   "outputs": [
    {
     "name": "stdout",
     "output_type": "stream",
     "text": [
      "80.0 g\n"
     ]
    }
   ],
   "source": [
    "O2g =  2 *PT.O.atomic_weight * 2.5\n",
    "print(round(O2g,2),\"g\")"
   ]
  },
  {
   "cell_type": "markdown",
   "metadata": {},
   "source": [
    "**c** Hvor mange gram $O_2$ må man bruke for reaksjon med $1.0 kg$ $ H_2$ for å danne vann? "
   ]
  },
  {
   "cell_type": "markdown",
   "metadata": {},
   "source": [
    "$1kg H_2$"
   ]
  },
  {
   "cell_type": "code",
   "execution_count": 20,
   "metadata": {},
   "outputs": [
    {
     "data": {
      "text/plain": [
       "496.031746031746"
      ]
     },
     "execution_count": 20,
     "metadata": {},
     "output_type": "execute_result"
    }
   ],
   "source": [
    "#Finner 1000g H2 i mol\n",
    "nMolH2Per1000g = 1000 / (PT.H.atomic_weight * 2)\n",
    "nMolH2Per1000g"
   ]
  },
  {
   "cell_type": "code",
   "execution_count": 21,
   "metadata": {},
   "outputs": [
    {
     "data": {
      "text/plain": [
       "248.015873015873"
      ]
     },
     "execution_count": 21,
     "metadata": {},
     "output_type": "execute_result"
    }
   ],
   "source": [
    "#Finner antall mol O2 per 1000g H2\n",
    "nMolO2Per1000gH2 = nMolH2Per1000g / 2\n",
    "nMolO2Per1000gH2"
   ]
  },
  {
   "cell_type": "code",
   "execution_count": 24,
   "metadata": {},
   "outputs": [
    {
     "name": "stdout",
     "output_type": "stream",
     "text": [
      "7936 g\n"
     ]
    }
   ],
   "source": [
    "#Finner vekt til antall mol O2 per 1000g H2\n",
    "m_O2 = nMolO2Per1000gH2 * PT.O.atomic_weight * 2\n",
    "print(round(m_O2),\"g\")"
   ]
  },
  {
   "cell_type": "markdown",
   "metadata": {},
   "source": [
    "### 8) \n",
    "Metanol, $CH_3OH$ kan reagere med oksygen og danne vann og karbondioksid etter likninga:"
   ]
  },
  {
   "cell_type": "markdown",
   "metadata": {},
   "source": [
    "$2CH_3OH + 3O_2 \\rightarrow 4H_2O + 2CO_2$"
   ]
  },
  {
   "cell_type": "markdown",
   "metadata": {},
   "source": [
    "Hvor mange kg vann dannes når $1.00kg$ metanol reagerere med oksygen?"
   ]
  },
  {
   "cell_type": "markdown",
   "metadata": {},
   "source": [
    "#### Svar"
   ]
  },
  {
   "cell_type": "markdown",
   "metadata": {},
   "source": [
    "Metanol $2CH_3OH$ danner $4H_2O$  \n",
    "Faktisk forhold: 2 metanolmolekyler danner 4 vannmolekyler  \n",
    "Forenklet forhold: 1 metanolmolekyl gir 2 vannmolekyler"
   ]
  },
  {
   "cell_type": "code",
   "execution_count": 68,
   "metadata": {},
   "outputs": [
    {
     "name": "stdout",
     "output_type": "stream",
     "text": [
      "metanol_weight =  64.084\n"
     ]
    }
   ],
   "source": [
    "#Finner masse til en mol metanol\n",
    "metanol_weight = PT.C.atomic_weight + 4*PT.H.atomic_weight + PT.O.atomic_weight\n",
    "print(\"metanol_weight = \", metanol_weigh)"
   ]
  },
  {
   "cell_type": "markdown",
   "metadata": {},
   "source": [
    "$CH_3OH = 32g/mol$"
   ]
  },
  {
   "cell_type": "code",
   "execution_count": 67,
   "metadata": {},
   "outputs": [
    {
     "name": "stdout",
     "output_type": "stream",
     "text": [
      "H2O weight =  18.015\n"
     ]
    }
   ],
   "source": [
    "#Finner masse til en mol vann\n",
    "H2O_weight = 2*PT.H.atomic_weight + PT.O.atomic_weight\n",
    "print(\"H2O weight = \", H2O_weight)"
   ]
  },
  {
   "cell_type": "markdown",
   "metadata": {},
   "source": [
    "$H_2O = 18g/mol$"
   ]
  },
  {
   "cell_type": "code",
   "execution_count": 66,
   "metadata": {},
   "outputs": [
    {
     "name": "stdout",
     "output_type": "stream",
     "text": [
      "ratio =  31.2090381374446\n"
     ]
    }
   ],
   "source": [
    "#Finner forhold mellom en mol metanol i gram og 1000g\n",
    "ratio = 1000 / metanol_weight\n",
    "print(\"ratio = \", ratio)"
   ]
  },
  {
   "cell_type": "code",
   "execution_count": 71,
   "metadata": {},
   "outputs": [
    {
     "name": "stdout",
     "output_type": "stream",
     "text": [
      "H2O weight per 1000g metanol reaction: 1124 g\n"
     ]
    }
   ],
   "source": [
    "# FInner hvor mange gram vann man får i en reaksjon med 1000g metanol\n",
    "H2O_m = ratio * 2 * H2O_weight\n",
    "print(\"H2O weight per 1000g metanol reaction:\",round(H2O_m),\"g\")"
   ]
  },
  {
   "cell_type": "markdown",
   "metadata": {},
   "source": [
    "### 9)\n",
    "Amomoniakk produseres ved en reaksjon mellom nitrogen og hydrogengass:"
   ]
  },
  {
   "cell_type": "markdown",
   "metadata": {},
   "source": [
    "$N_2 +3H_2 \\rightarrow 2NH_3$"
   ]
  },
  {
   "cell_type": "markdown",
   "metadata": {},
   "source": [
    "Hvor mye nitrogen (i kg) går med til å framstille ett tonn ammoniakk?"
   ]
  },
  {
   "cell_type": "markdown",
   "metadata": {},
   "source": [
    "#### Svar"
   ]
  },
  {
   "cell_type": "markdown",
   "metadata": {},
   "source": [
    "For hver $N_2$ får man 2 mol $NH_3$"
   ]
  },
  {
   "cell_type": "code",
   "execution_count": 41,
   "metadata": {},
   "outputs": [
    {
     "name": "stdout",
     "output_type": "stream",
     "text": [
      "Amoniakk molmasse:  17.031 g/mol\n",
      "Antall mol NH3: 58716.45822323998\n",
      "Antall mol N2: 29358.22911161999\n",
      "For å fremstille et tonn amoniakk trenger man  822 kg N2\n"
     ]
    }
   ],
   "source": [
    "amoniakk_mm =  PT.N.atomic_weight + 3 * PT.H.atomic_weight\n",
    "print(\"Amoniakk molmasse: \" , amoniakk_mm, \"g/mol\")\n",
    "n_NH3 = M.pow(10,6) / amoniakk_mm\n",
    "print(\"Antall mol NH3:\", n_NH3)\n",
    "n_N2 = n_NH3 / 2\n",
    "print(\"Antall mol N2:\", n_N2)\n",
    "M_N2 = 2* PT.N.atomic_weight\n",
    "m_N2 = M_N2 * n_N2\n",
    "print(\"For å fremstille et tonn amoniakk trenger man \", round(m_N2/1000), \"kg N2\")"
   ]
  },
  {
   "cell_type": "markdown",
   "metadata": {},
   "source": [
    "### 10)\n",
    "Når nitroglyserin eksploderer dannes gassene nitrogen, karbondioksid, vanndamp og oksygen:"
   ]
  },
  {
   "cell_type": "markdown",
   "metadata": {},
   "source": [
    "$4C_3H_5O_9N_3(l) \\rightarrow 6N_2(g) \\ 12CO_2(g) \\ 10 H_2O(g) + O_2(g)$"
   ]
  },
  {
   "cell_type": "markdown",
   "metadata": {},
   "source": [
    "**a**) Hvor mange gram karbondioksid blir dannet når $1000g$ nitroglyserin eksploderer?"
   ]
  },
  {
   "cell_type": "markdown",
   "metadata": {},
   "source": [
    "4 mol nitroglyserin $\\rightarrow$ 6 mol $N_2$, 12 mol $CO_2$, 10 mol $H_2O$, 1 mol $O_2$"
   ]
  },
  {
   "cell_type": "markdown",
   "metadata": {},
   "source": [
    "4 mol nitroglyserin $\\rightarrow$ 12 mol $CO_2$  \n",
    "1 mol nitroglyserin $\\rightarrow$ 3 mol $CO_2$"
   ]
  },
  {
   "cell_type": "code",
   "execution_count": 55,
   "metadata": {},
   "outputs": [
    {
     "name": "stdout",
     "output_type": "stream",
     "text": [
      "n nitro: 4.403637404496113 mol\n",
      "n CO2: 13.210912213488339 mol\n",
      "Antall gram som dannes når 1000g nitroglysering eksploderer: 581.4 g\n"
     ]
    }
   ],
   "source": [
    "n_nitroglyserin = 1000 / (3*PT.C.atomic_weight + 5* PT.H.atomic_weight + 9 * PT.O.atomic_weight + 3 * PT.N.atomic_weight)\n",
    "print(\"n nitro:\",n_nitroglyserin, \"mol\")\n",
    "n_CO2 = n_nitroglyserin * 3\n",
    "print(\"n CO2:\", n_CO2, \"mol\")\n",
    "M_CO2 = n_CO2 * (PT.C.atomic_weight + 2* PT.O.atomic_weight)\n",
    "print(\"Antall gram som dannes når 1000g nitroglysering eksploderer:\", round(M_CO2,2), \"g\")"
   ]
  },
  {
   "cell_type": "markdown",
   "metadata": {},
   "source": [
    "**b**) Hvor mange mol gass blir tilsammen dannet når $1000 g$ nitroglyserin eksploderer?"
   ]
  },
  {
   "cell_type": "code",
   "execution_count": 61,
   "metadata": {},
   "outputs": [
    {
     "name": "stdout",
     "output_type": "stream",
     "text": [
      "31.93 mol\n"
     ]
    }
   ],
   "source": [
    "n_gas = n_nitroglyserin/4 * (6+12+10+1)\n",
    "print(round(n_gas,2),\"mol\")"
   ]
  },
  {
   "cell_type": "markdown",
   "metadata": {},
   "source": [
    "**c**) Hvor stort volum utgjør gassene? \n",
    "\n",
    "Volum av 1.0 mol gassmolekyler ved $25^\\circ C: V_m = 24.5_{mol}^{L}$"
   ]
  },
  {
   "cell_type": "code",
   "execution_count": 65,
   "metadata": {},
   "outputs": [
    {
     "name": "stdout",
     "output_type": "stream",
     "text": [
      "782.2 L\n"
     ]
    }
   ],
   "source": [
    "V = n_gas * 24.5\n",
    "print(round(V,2),\"L\")"
   ]
  },
  {
   "cell_type": "markdown",
   "metadata": {},
   "source": [
    "### 11)\n",
    "Magnesiumnitrid kan dannes i en reaksjon mellom magnesium og nitrogengass:"
   ]
  },
  {
   "cell_type": "markdown",
   "metadata": {},
   "source": [
    "$3Mg + N_2 \\rightarrow Mg_3N_2$"
   ]
  },
  {
   "cell_type": "markdown",
   "metadata": {},
   "source": [
    "**a)** En blanding med $35.0 g$ magnesium og $ 15.0g$ nitrogen $N_2$ reagerer.  \n",
    "Er det en begrensende reaktant her og i så fall hvilken?  \n",
    "Begrunn svaret med regning."
   ]
  },
  {
   "cell_type": "markdown",
   "metadata": {},
   "source": [
    "#### Svar"
   ]
  },
  {
   "cell_type": "code",
   "execution_count": 82,
   "metadata": {},
   "outputs": [
    {
     "name": "stdout",
     "output_type": "stream",
     "text": [
      "M_Mg= 24.305 mol/g\n",
      "M_N2 =  28.014 mol/g\n"
     ]
    }
   ],
   "source": [
    "M_Mg = PT.Mg.atomic_weight\n",
    "print(\"M_Mg=\", M_Mg, \"mol/g\")\n",
    "\n",
    "M_N2 = 2 * PT.N.atomic_weight\n",
    "print(\"M_N2 = \",M_N2, \"mol/g\")"
   ]
  },
  {
   "cell_type": "code",
   "execution_count": 103,
   "metadata": {},
   "outputs": [
    {
     "name": "stdout",
     "output_type": "stream",
     "text": [
      "Antall gram Mg:  1.44 mol\n",
      "Antall gram N2 0.54 mol\n"
     ]
    }
   ],
   "source": [
    "# Finner masse per stoff\n",
    "n_Mg = 35 / M_3Mg\n",
    "print(\"Antall gram Mg: \",round(n_Mg,2),\"mol\")\n",
    "\n",
    "n_N2 = 15 / M_N2\n",
    "print(\"Antall gram N2\", round(n_N2,2),\"mol\")\n"
   ]
  },
  {
   "cell_type": "markdown",
   "metadata": {},
   "source": [
    "Det skal dannes 3 ganger så mye Magnesium som Nitrogen.\n",
    "\n",
    "Forventer dermed"
   ]
  },
  {
   "cell_type": "code",
   "execution_count": 105,
   "metadata": {},
   "outputs": [
    {
     "name": "stdout",
     "output_type": "stream",
     "text": [
      "Forventer 1.61 mol mg\n"
     ]
    }
   ],
   "source": [
    "expected_Mg = m_N2 * 3\n",
    "print(\"Forventer\", round(expected_Mg,2),\"mol mg\")"
   ]
  },
  {
   "cell_type": "markdown",
   "metadata": {},
   "source": [
    "**b)** Hvor mange gram magnesiumnitrid blir dannet i oppgave a)?"
   ]
  },
  {
   "cell_type": "code",
   "execution_count": 117,
   "metadata": {},
   "outputs": [
    {
     "name": "stdout",
     "output_type": "stream",
     "text": [
      "n_Mg3 =  0.48\n"
     ]
    }
   ],
   "source": [
    "n_Mg3 =  n_Mg  / 3\n",
    "print(\"n_Mg3 = \", round(n_Mg3,2))"
   ]
  },
  {
   "cell_type": "markdown",
   "metadata": {},
   "source": [
    "### 12)\n",
    "Kobber(II)sulfid $CuS$ reagerer med salpetersyre ($HNO_3$):"
   ]
  },
  {
   "cell_type": "markdown",
   "metadata": {},
   "source": [
    "$3CuS+8HNO_3 \\rightarrow 3Cu(NO_3)_2 + 3S + 4H_2O + 2NO$"
   ]
  },
  {
   "cell_type": "markdown",
   "metadata": {},
   "source": [
    "**a)** Hva er masseprosent (se nedenfor) av nitrogen (N) i kobber(II)nitrat, $Cu(NO_3)_2$?"
   ]
  },
  {
   "cell_type": "code",
   "execution_count": 119,
   "metadata": {},
   "outputs": [
    {
     "name": "stdout",
     "output_type": "stream",
     "text": [
      "28.014\n"
     ]
    }
   ],
   "source": [
    "m_N = 2 * PT.N.atomic_weight\n",
    "print(m_N)"
   ]
  },
  {
   "cell_type": "code",
   "execution_count": 126,
   "metadata": {},
   "outputs": [
    {
     "name": "stdout",
     "output_type": "stream",
     "text": [
      "187.554\n"
     ]
    }
   ],
   "source": [
    "m_kobbernitrat = m_N + PT.Cu.atomic_weight + 6 * PT.O.atomic_weight  \n",
    "print(m_kobbernitrat)"
   ]
  },
  {
   "cell_type": "code",
   "execution_count": 128,
   "metadata": {},
   "outputs": [
    {
     "name": "stdout",
     "output_type": "stream",
     "text": [
      "Masseprosent: 14.94 %\n"
     ]
    }
   ],
   "source": [
    "masseprosent = (m_N / m_kobbernitrat) * 100\n",
    "print(\"Masseprosent:\", round(masseprosent,2),\"%\")"
   ]
  },
  {
   "cell_type": "markdown",
   "metadata": {},
   "source": [
    "**b)** Hvor mange gram vann blir dannet hvis $150g$ kobber(II)sulfid reagerer?"
   ]
  },
  {
   "cell_type": "markdown",
   "metadata": {},
   "source": [
    "$3CuS \\rightarrow 4H_2O$"
   ]
  },
  {
   "cell_type": "code",
   "execution_count": 131,
   "metadata": {},
   "outputs": [
    {
     "data": {
      "text/plain": [
       "1.3333333333333333"
      ]
     },
     "execution_count": 131,
     "metadata": {},
     "output_type": "execute_result"
    }
   ],
   "source": [
    "4/3"
   ]
  },
  {
   "cell_type": "markdown",
   "metadata": {},
   "source": [
    "for hver $CuS$ får man $\\frac{4}{3}H_2O$ "
   ]
  },
  {
   "cell_type": "markdown",
   "metadata": {},
   "source": [
    "Hvor mange mol tilsvarer 150g kobber(II)sulfid?"
   ]
  },
  {
   "cell_type": "code",
   "execution_count": 144,
   "metadata": {},
   "outputs": [
    {
     "data": {
      "text/plain": [
       "1.5689391879170764"
      ]
     },
     "execution_count": 144,
     "metadata": {},
     "output_type": "execute_result"
    }
   ],
   "source": [
    "nMol = 150 / ((PT.Cu.atomic_weight) + PT.S.atomic_weight)\n",
    "nMol"
   ]
  },
  {
   "cell_type": "markdown",
   "metadata": {},
   "source": [
    "Hvor mange mol $H_2O$ får man da?"
   ]
  },
  {
   "cell_type": "code",
   "execution_count": 153,
   "metadata": {},
   "outputs": [
    {
     "data": {
      "text/plain": [
       "2.0919189172227686"
      ]
     },
     "execution_count": 153,
     "metadata": {},
     "output_type": "execute_result"
    }
   ],
   "source": [
    "n_H2O = nMol * (4/3)\n",
    "n_H2O"
   ]
  },
  {
   "cell_type": "markdown",
   "metadata": {},
   "source": [
    "Hva tilsvarer dette i masse?"
   ]
  },
  {
   "cell_type": "code",
   "execution_count": 155,
   "metadata": {},
   "outputs": [
    {
     "name": "stdout",
     "output_type": "stream",
     "text": [
      "37.686 g\n"
     ]
    }
   ],
   "source": [
    "m_H2O = n_H2O * (2 * PT.H.atomic_weight + PT.O.atomic_weight)\n",
    "print(round(m_H2O,3),\"g\")"
   ]
  },
  {
   "cell_type": "markdown",
   "metadata": {},
   "source": [
    "**c)** $650g$ salpetersyre blandes med $470g$ kobber(II)sulfid. Hvilket stoff er i overskudd i reaksjonen?"
   ]
  },
  {
   "cell_type": "markdown",
   "metadata": {},
   "source": [
    "Salpetersyre: $HNO_3$"
   ]
  },
  {
   "cell_type": "code",
   "execution_count": 166,
   "metadata": {},
   "outputs": [
    {
     "name": "stdout",
     "output_type": "stream",
     "text": [
      "salpeter består av 63.012 mol\n"
     ]
    }
   ],
   "source": [
    "n_salpeter = PT.H.atomic_weight + PT.N.atomic_weight + 3 * PT.O.atomic_weight\n",
    "print(\"salpeter består av\", n_salpeter,\"mol\")"
   ]
  },
  {
   "cell_type": "code",
   "execution_count": 169,
   "metadata": {},
   "outputs": [
    {
     "name": "stdout",
     "output_type": "stream",
     "text": [
      "650g salpeter tilsvarer 10.315495461181998 mol\n"
     ]
    }
   ],
   "source": [
    "n_650Salpeter =  650 / n_salpeter\n",
    "print(\"650g salpeter tilsvarer\", n_650Salpeter,\"mol\")"
   ]
  },
  {
   "cell_type": "markdown",
   "metadata": {},
   "source": [
    "Kobber(II)sulfid: $CuS$"
   ]
  },
  {
   "cell_type": "code",
   "execution_count": 167,
   "metadata": {},
   "outputs": [
    {
     "name": "stdout",
     "output_type": "stream",
     "text": [
      "CuS består av= 95.606 mol\n"
     ]
    }
   ],
   "source": [
    "n_CuS = PT.Cu.atomic_weight + PT.S.atomic_weight\n",
    "print(\"CuS består av=\", n_CuS,\"mol\" )"
   ]
  },
  {
   "cell_type": "code",
   "execution_count": 170,
   "metadata": {},
   "outputs": [
    {
     "name": "stdout",
     "output_type": "stream",
     "text": [
      "470g SuC tilsvarer 4.916009455473506 mol\n"
     ]
    }
   ],
   "source": [
    "n_470gSuC = 470 / n_CuS \n",
    "print(\"470g SuC tilsvarer\", n_470gSuC,\"mol\")"
   ]
  },
  {
   "cell_type": "markdown",
   "metadata": {},
   "source": [
    "I følge formelen $3CuS + 8HNO_3$ er det 8 $HNO_3$ per 3 $Cus$\n",
    "\n",
    "Forventer dermed 8/3 ganger så mye $HNO_3$ som $CuS$"
   ]
  },
  {
   "cell_type": "code",
   "execution_count": 171,
   "metadata": {},
   "outputs": [
    {
     "data": {
      "text/plain": [
       "27.50798789648533"
      ]
     },
     "execution_count": 171,
     "metadata": {},
     "output_type": "execute_result"
    }
   ],
   "source": [
    "n_650Salpeter * 8/3"
   ]
  },
  {
   "cell_type": "markdown",
   "metadata": {},
   "source": [
    "Det er alt for mye $SuC$ i miksen"
   ]
  },
  {
   "cell_type": "markdown",
   "metadata": {},
   "source": [
    "---\n",
    "Definisjon av masseprosent $\\%(m/m):$  \n",
    "Masseprosent av grunnstoff A i en forbindelse:  \n",
    "\n",
    "$\\%(m/m)(A) = (ma/m_{TOT}) \\cdot 100\\% = [n \\cdot M_m(A)/Mm(forbind)] \\cdot 100\\%$  \n",
    "\n",
    "hvor: $n$ = antall mol av $A$ i $1.0$ mol av stoffet med molmasse $M_m(forbind)$"
   ]
  }
 ],
 "metadata": {
  "kernelspec": {
   "display_name": "Python 3",
   "language": "python",
   "name": "python3"
  },
  "language_info": {
   "codemirror_mode": {
    "name": "ipython",
    "version": 3
   },
   "file_extension": ".py",
   "mimetype": "text/x-python",
   "name": "python",
   "nbconvert_exporter": "python",
   "pygments_lexer": "ipython3",
   "version": "3.8.5"
  }
 },
 "nbformat": 4,
 "nbformat_minor": 4
}
