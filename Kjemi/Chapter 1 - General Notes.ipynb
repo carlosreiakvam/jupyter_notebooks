{
 "cells": [
  {
   "cell_type": "markdown",
   "metadata": {},
   "source": [
    "## 1.1 The Study of Chemistry"
   ]
  },
  {
   "cell_type": "markdown",
   "metadata": {},
   "source": [
    "### 1.2 The Scientific Method\n",
    "\n",
    "1.  Carefully define the problem\n",
    "2.  Perform experiments, make observations,record information\n",
    "3.  Interpret, make hypothesis\n",
    "\n",
    "###### Scientific Hypothesis \n",
    "A tentative explanation for a set of observations.\n",
    "\n",
    "###### Scientific Law\n",
    "A concise verbal or mathematical statement of a relationship between phenomena that is always the same under the same conditions\n",
    "\n",
    "###### Scientific Theory\n",
    "A unifying principle that explains a body of facts and/or those laws that are based on them"
   ]
  },
  {
   "cell_type": "markdown",
   "metadata": {},
   "source": [
    "### 1.3 Classifications of Matter\n",
    "\n",
    "- Matter is anything that occupies space and has mass.\n",
    "- All Matter can in principle exist in three states.  \n",
    "- The three states can be interconverted without changing the composition of the substance.\n",
    "-Chemistry is the study of matter and the changes it undergoes. \n",
    "\n",
    "#### The three states of matter\n",
    "\n",
    "###### Solid\n",
    "Rigid objects with definite shapes. \n",
    "\n",
    "###### Liquid\n",
    "Less rigid, able to flow and assume the shape of their containers.  \n",
    "\n",
    "###### Gas\n",
    "Fluid like liquids but they can expand indefinitely."
   ]
  },
  {
   "cell_type": "markdown",
   "metadata": {},
   "source": [
    "#### Substances and mixtures\n",
    "###### Substance (stoff)\n",
    "Matter that has a definite or constant composition and distinct properties.\n",
    "- Water\n",
    "- Silver\n",
    "- Ethanol\n",
    "- Table Salt\n",
    "\n",
    "###### Mixture (kjemisk blanding)\n",
    "A combination of two or more substances in which the substances retain their distinct identities.\n",
    "\n",
    "###### Homogeneous mixture (homogen blanding)\n",
    "The composition of the mixture remains the same throughout the solution.\n",
    "- Coffe and water\n",
    "\n",
    "###### Heterogeneous  (heterogen blanding)\n",
    "The composition is not uniform, meaning the substances seperate.\n",
    "- Oil and water\n",
    "\n",
    "Any mixture, whether homogeneous or heterogeneous, can be created and then separated by physical means into pure components without changing the identities of the components."
   ]
  },
  {
   "cell_type": "markdown",
   "metadata": {},
   "source": [
    "#### Elements and Compounds (Grunnstoffer og forbindelser)\n",
    "\n",
    "A substance can either be an element or a compound.\n",
    "\n",
    "###### Element (grunnstoff)\n",
    "\n",
    "- An element is a Substance that cannot be separated into simpler substances by chemical means.\n",
    "- Elements are represented with one or two letters. The first letter is always capitalized, the second letter is never capitalized.\n",
    "\n",
    "###### Compound (forbindelse)\n",
    "\n",
    "A substance composed of two or more elements chemically united in fixed proportions."
   ]
  },
  {
   "cell_type": "markdown",
   "metadata": {},
   "source": [
    "### 1.4 Physical and Chemical Properties of Matter\n",
    "\n",
    "###### Physical properties\n",
    "\n",
    "Some examples include:\n",
    "\n",
    "-   Color\n",
    "-   Melting point\n",
    "-   Boiling point\n",
    "-   Density\n",
    "\n",
    "A physical property can be measured and observed without changing the composition or identity of a substance.\n",
    "\n",
    "The physical properties of turning ice into water would be the temperature where the water melts. As the difference is only physical, and the composition remains unaltered.\n",
    "\n",
    "###### Chemical Properties\n",
    "\n",
    "To observe a chemical property we must carry out a chemical change\n",
    "\n",
    "When carrying out a chemical change, the original substances vanish and new substances takes their place.\n",
    "\n",
    "##### Extensive and Intensive Properties\n",
    "\n",
    "All measurable properties of matter fall into two categories: extensive properties and intensive properties.\n",
    "\n",
    "###### Extensive Properties\n",
    "\n",
    "Extensive properties depend on how much matter is being considered.\n",
    "\n",
    "Some examples include:\n",
    "\n",
    "-   Mass\n",
    "-   Length\n",
    "-   Volume\n",
    "\n",
    "More matter means more mass. Values of extensive properties can be added together.\n",
    "\n",
    "###### Intensive Properties\n",
    "\n",
    "Intensive properties does not depend on the amount of matter being considered.\n",
    "\n",
    "Some examples include:\n",
    "\n",
    "-   Temperature\n",
    "-   Melting point\n",
    "-   Boiling point\n",
    "-   Density\n",
    "\n",
    "When adding two substances that have the same temperature, the resulting temperature will not be the simple sum of the two temperatures."
   ]
  },
  {
   "cell_type": "markdown",
   "metadata": {},
   "source": [
    "#### 1.5 Measurement\n",
    "\n",
    "###### Macroscopic Measurements\n",
    "\n",
    "For making simple measurements of a substance's properties, various tools like metersticks, flasks and thermometers can be utilized. These provide measurements of macroscopic properties which can be determined directly.\n",
    "\n",
    "###### Microscopic Measurements\n",
    "\n",
    "Microscopic measurements are on the atomic and molecular scale. These must be determined by an inderect method.\n",
    "\n",
    "##### Mass and Weigth\n",
    "\n",
    "###### Mass\n",
    "\n",
    "A meassure of the quantity of matter in an object.\n",
    "\n",
    "###### Weight\n",
    "\n",
    "The force that the gravity exerts on an object.\n",
    "\n",
    "> An apple has the same mass on earth as in space, but it's weight is different as the forces of gravity on the apple is different in space.\n",
    "\n",
    "##### Density\n",
    "\n",
    "$\\text{density }d = \\frac{\\text{mass}}{\\text{volume}} = \\frac{m}{V}$"
   ]
  },
  {
   "cell_type": "markdown",
   "metadata": {},
   "source": [
    "#### 1.6 Handling Numbers\n",
    "\n",
    "##### Significant Figures\n",
    "\n",
    "When significant figures are used, the last digit is understood to be uncertain.\n",
    "\n",
    "###### Outline of rules for significant figures\n",
    "\n",
    "1.  Any digit that is not zero is significant.\n",
    "2.  Zeros between nonzero digits are significant.\n",
    "3.  Zeros to the left of the first nonzero digit are not significant.\n",
    "4.  If a number is greater than 1, then all the zeros written to the right of the decimal point count as significant figures.\n",
    "5.  For numbers that do not contain decimal points, trailing zeros may or may not be significant. In that case: Use scientific notation to specify.\n",
    "\n",
    "###### Rules for handling significant figures in calculations\n",
    "\n",
    "1.  In addition and subtraction, the answer cannot have more digits to the right of the decimal point than either of the original numbers.\n",
    "\n",
    "2.  In multiplication and division, the number of significant figures in the final product or quotient is determined by the original number that has the smallest number of significant figures.\n",
    "\n",
    "3.  Keep in mind that exact numbers obtained from definitions can be considered to have an infinite number of significant figures.\n",
    "\n",
    "NB: The book has a convention of rounding both intermediate and final results, despite the loss of accuracy."
   ]
  },
  {
   "cell_type": "markdown",
   "metadata": {},
   "source": [
    "#### Accuracy and Precision\n",
    "\n",
    "###### Accuracy\n",
    "\n",
    "Accuracy tells us how close a measurement is to the true value of the quantity that was measured.\n",
    "\n",
    "###### Precision\n",
    "\n",
    "Precision refers to how closely two or more measurements of the same quantity agree with one another.\n",
    "\n",
    "In other words a measurement can have high precision and low accuracy, meaning the measurement is off from the true value but multiple measurements are close to each other. Highly precise measurements do not necessarily guarantee accurate measurements.\n",
    "\n",
    "On the other hand an accurate measurement with low precision means that the measurements are close to the true value that is measured, but further away from each other. Higly accurate measurements are usually precise too."
   ]
  },
  {
   "cell_type": "markdown",
   "metadata": {},
   "source": [
    "#### 1.7 Dimensional Analysis\n",
    "\n",
    "$1 \\,inch = 2.54cm \\Rightarrow \\frac{2.54cm}{1 \\,inch} = 1$\n",
    "\n",
    "It is therefor appropriate to write\n",
    "\n",
    "$\\require{cancel}12 \\cancel{inch} \\cdot \\frac{2.54cm}{1 \\cancel{inch}} = 30.48cm$ For conversion multiply with the appropriate conversion factor.\n",
    "\n",
    "In general $\\text{given quantity} \\cdot \\text{conversion factor} = \\text{desired quantity}$"
   ]
  },
  {
   "cell_type": "markdown",
   "metadata": {},
   "source": [
    "###### Practice Exercise\n",
    "\n",
    "The volume of a room is $1.08 \\cdot 10^8 dm^3$. What is the volume in $m^3?$\n",
    "\n",
    "$1m^3 = 10dm \\cdot 10dm \\cdot 10dm = 10^3dm^3 \\Rightarrow 1dm^3 = 10^{-3}m^3$\n",
    "\n",
    "$1.08\\cdot10^8dm^3 = 1.08\\cdot10^8\\cdot10^{-3}m^3 = 1.08^5$\n",
    "\n",
    "\n"
   ]
  }
 ],
 "metadata": {
  "kernelspec": {
   "display_name": "Python 3",
   "language": "python",
   "name": "python3"
  },
  "language_info": {
   "codemirror_mode": {
    "name": "ipython",
    "version": 3
   },
   "file_extension": ".py",
   "mimetype": "text/x-python",
   "name": "python",
   "nbconvert_exporter": "python",
   "pygments_lexer": "ipython3",
   "version": "3.8.5"
  }
 },
 "nbformat": 4,
 "nbformat_minor": 4
}
