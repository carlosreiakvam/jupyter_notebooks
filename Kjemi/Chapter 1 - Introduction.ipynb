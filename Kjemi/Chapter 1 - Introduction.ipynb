{
 "cells": [
  {
   "cell_type": "markdown",
   "metadata": {},
   "source": [
    "## Sketchboard\n",
    "\n",
    "[Sketchboard flowchart Detailed](https://sketchboard.me/lCwlu2HbWHs)\n",
    "\n",
    "[Sketchboard flowchart Highlights](https://sketchboard.me/pCwpWLsCXedW#/)"
   ]
  },
  {
   "cell_type": "markdown",
   "metadata": {},
   "source": [
    "## 1.2 The Scientific Method\n",
    "\n",
    "1.  Carefully define the problem\n",
    "2.  Perform experiments, make observations,record information\n",
    "3.  Interpret, make hypothesis\n",
    "\n",
    "###### Scientific Hypothesis\n",
    "\n",
    "A tentative explanation for a set of observations.\n",
    "\n",
    "###### Scientific Law\n",
    "\n",
    "A concise verbal or mathematical statement of a relationship between phenomena that is always the same under the same conditions\n",
    "\n",
    "###### Scientific Theory\n",
    "\n",
    "A unifying principle that explains a body of facts and/or those laws that are based on them"
   ]
  },
  {
   "cell_type": "markdown",
   "metadata": {},
   "source": [
    "## 1.3 Classifications of Matter\n",
    "Matter is anything that occupies space and has mass, and chemistry is the study of matter and the changes it undergoes. All Matter can in principle exist in three states. The three states can be interconverted without changing the composition of the substance.\n",
    "\n",
    "###### Solid\n",
    "Rigid objects with definite shapes.\n",
    "\n",
    "###### Liquid\n",
    "Less rigid than solids. They are fluid, meaning they are able to flow and assume the shape of their containers.\n",
    "\n",
    "###### Gas\n",
    "Like liquids, gases are fluid, but unlike liquids, they can expand indefinitely.\n"
   ]
  },
  {
   "cell_type": "markdown",
   "metadata": {},
   "source": [
    "### Substances and Mixtures\n",
    "\n",
    "###### Substance\n",
    "\n",
    "Matter that has a definite or constant composition and distinct properties.\n",
    "\n",
    "###### Mixture\n",
    "A combination of two or more substances in which the substances retain their distinct identities.\n",
    "\n",
    "\n",
    "###### Homogeneous mixture\n",
    "The composition of the mixture remains the same throughout the solution.\n",
    "\n",
    "###### Heterogeneous mixture\n",
    "The composition is not uniform, meaning the substances seperate.\n",
    "\n",
    "Any mixture, whether homogeneous or heterogeneous, can be created and then separated by physical means into pure components without changing the identities of the components."
   ]
  },
  {
   "cell_type": "markdown",
   "metadata": {},
   "source": [
    "### Elements and Compounds\n",
    "A substance can either be an element or a compound.\n",
    "\n",
    "###### Element\n",
    "An element is a Substance that cannot be separated into simpler substances by chemical means.\\\n",
    "Elements are represented with one or two letters. The first letter is always capitalized, the second letter is never capitalized.\n",
    "\n",
    "###### Compound\n",
    "A substance composed of two or more elements chemically united in fixed proportions."
   ]
  },
  {
   "cell_type": "markdown",
   "metadata": {},
   "source": [
    "## 1.4 Physical and Chemical Properties of Matter\n",
    "\n",
    "###### Physical properties\n",
    "\n",
    "Some examples include:\n",
    "\n",
    "-   Color\n",
    "-   Melting point\n",
    "-   Boiling point\n",
    "-   Density\n",
    "\n",
    "> A physical property can be measured and observed without changing the composition or identity of a substance.\n",
    "\n",
    "The physical properties of turning ice into water would be the temperature where the water melts. As the difference is only physical, and the composition remains unaltered.\n",
    "\n",
    "###### Chemical Properties\n",
    "To observe a chemical property we must carry out a chemical change\n",
    "\n",
    "When carrying out a chemical change, the original substances vanish and new substances takes their place."
   ]
  },
  {
   "cell_type": "markdown",
   "metadata": {},
   "source": [
    "### Extensive and Intensive Properties\n",
    "All measurable properties of matter fall into two categories: extensive properties and intensive properties.\n",
    "\n",
    "###### Extensive Properties\n",
    "Extensive properties depend on how much matter is being considered.\n",
    "\n",
    "Some examples include:\n",
    "\n",
    "-   Mass\n",
    "-   Length\n",
    "-   Volume\n",
    "\n",
    "More matter means more mass. Values of extensive properties can be added together.\n",
    "\n",
    "###### Intensive Properties\n",
    "Intensive properties does not depend on the amount of matter being considered.\n",
    "\n",
    "Some examples include:\n",
    "\n",
    "-   Temperature\n",
    "-   Melting point\n",
    "-   Boiling point\n",
    "-   Density\n",
    "\n",
    "When adding two substances that have the same temperature, the resulting temperature will not be the simple sum of the two temperatures."
   ]
  },
  {
   "cell_type": "markdown",
   "metadata": {},
   "source": [
    "## 1.5 Measurement\n",
    "\n",
    "###### Macroscopic Measurements\n",
    "For making simple measurements of a substance's properties, various tools like metersticks, flasks and thermometers can be utilized. These provide measurements of macroscopic properties which can be determined directly.\n",
    "\n",
    "###### Microscopic Measurements\n",
    "Microscopic measurements are on the atomic and molecular scale. These must be determined by an inderect method."
   ]
  },
  {
   "cell_type": "markdown",
   "metadata": {},
   "source": [
    "### Mass and Weigth\n",
    "\n",
    "###### Mass\n",
    "A meassure of the quantity of matter in an object.\n",
    "\n",
    "###### Weight\n",
    "The force that the gravity exerts on an object.\n",
    "\n",
    "> An apple has the same mass on earth as in space, but it's weight is different as the forces of gravity on the apple is different in space.\n",
    "\n",
    "##### Density\n",
    "$\\text{density }d = \\frac{\\text{mass}}{\\text{volume}} = \\frac{m}{V}$"
   ]
  },
  {
   "cell_type": "markdown",
   "metadata": {},
   "source": [
    "## 1.6 Handling Numbers\n",
    "\n",
    "##### Significant Figures\n",
    "When significant figures are used, the last digit is understood to be uncertain.\n",
    "\n",
    "###### Outline of rules for significant figures\n",
    "\n",
    "1.  Any digit that is not zero is significant.\n",
    "2.  Zeros between nonzero digits are significant.\n",
    "3.  Zeros to the left of the first nonzero digit are not significant.\n",
    "4.  If a number is greater than 1, then all the zeros written to the right of the decimal point count as significant figures.\n",
    "5.  For numbers that do not contain decimal points, trailing zeros may or may not be significant. In that case: Use scientific notation to specify.\n",
    "\n",
    "###### Rules for handling significant figures in calculations\n",
    "\n",
    "1.  In addition and subtraction, the answer cannot have more digits to the right of the decimal point than either of the original numbers.\n",
    "\n",
    "2.  In multiplication and division, the number of significant figures in the final product or quotient is determined by the original number that has the smallest number of significant figures.\n",
    "\n",
    "3.  Keep in mind that exact numbers obtained from definitions can be considered to have an infinite number of significant figures.\n",
    "\n",
    "NB: The book has a convention of rounding both intermediate and final results, despite the loss of accuracy."
   ]
  },
  {
   "cell_type": "markdown",
   "metadata": {},
   "source": [
    "### Accuracy and Precision\n",
    "\n",
    "###### Accuracy\n",
    "Accuracy tells us how close a measurement is to the true value of the quantity that was measured.\n",
    "\n",
    "###### Precision\n",
    "Precision refers to how closely two or more measurements of the same quantity agree with one another.\n",
    "\n",
    "In other words a measurement can have high precision and low accuracy, meaning the measurement is off from the true value but multiple measurements are close to each other. Highly precise measurements do not necessarily guarantee accurate measurements.\n",
    "\n",
    "On the other hand an accurate measurement with low precision means that the measurements are close to the true value that is measured, but further away from each other. Higly accurate measurements are usually precise too."
   ]
  },
  {
   "cell_type": "markdown",
   "metadata": {},
   "source": [
    "## 1.7 Dimensional Analysis\n",
    "$1 \\,inch = 2.54cm \\Rightarrow \\frac{2.54cm}{1 \\,inch} = 1$\n",
    "\n",
    "It is therefor appropriate to write\n",
    "\n",
    "$\\require{cancel}12 \\cancel{inch} \\cdot \\frac{2.54cm}{1 \\cancel{inch}} = 30.48cm$ For conversion multiply with the appropriate conversion factor.\n",
    "\n",
    "In general $\\text{given quantity} \\cdot \\text{conversion factor} = \\text{desired quantity}$"
   ]
  },
  {
   "cell_type": "markdown",
   "metadata": {},
   "source": [
    "# Key words\n",
    "\n",
    "- Accuracy, p. 17\n",
    "- Chemical property, p. 7\n",
    "- Chemistry, p. 4\n",
    "- Compound, p. 6\n",
    "- Density, p. 10\n",
    "- Element, p. 5\n",
    "- Extensive property, p. 8\n",
    "- Heterogeneous mixture, p. 5\n",
    "- Homogeneous mixture, p. 5\n",
    "- Hypothesis, p. 3\n",
    "- Intensive property, p. 8\n",
    "- International System of\n",
    "- Units, p. 9\n",
    "- Law, p. 3\n",
    "- Liter, p. 10\n",
    "- Macroscopic property, p. 8\n",
    "- Mass, p. 9\n",
    "- Matter, p. 4\n",
    "- Microscopic property, p. 8\n",
    "- Mixture, p. 5\n",
    "- Physical property, p. 7\n",
    "- Precision, p. 17\n",
    "- Qualitative, p. 3\n",
    "- Quantitative, p. 3\n",
    "- Scientific method, p. 2\n",
    "- Significant figures, p. 15\n",
    "- Substance, p. 5\n",
    "- Theory, p. 3\n",
    "- Volume, p. 10\n",
    "- Weight, p. 9"
   ]
  }
 ],
 "metadata": {
  "kernelspec": {
   "display_name": "Python 3",
   "language": "python",
   "name": "python3"
  },
  "language_info": {
   "codemirror_mode": {
    "name": "ipython",
    "version": 3
   },
   "file_extension": ".py",
   "mimetype": "text/x-python",
   "name": "python",
   "nbconvert_exporter": "python",
   "pygments_lexer": "ipython3",
   "version": "3.8.5"
  }
 },
 "nbformat": 4,
 "nbformat_minor": 1
}
