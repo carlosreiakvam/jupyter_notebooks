{
 "cells": [
  {
   "cell_type": "code",
   "execution_count": 1,
   "metadata": {},
   "outputs": [],
   "source": [
    "import math as M\n",
    "import mendeleev as PT\n",
    "import numpy as NP\n",
    "AVEG = 6.022 * M.pow(10,23)"
   ]
  },
  {
   "cell_type": "markdown",
   "metadata": {},
   "source": [
    "### Oppgave 1a)"
   ]
  },
  {
   "cell_type": "markdown",
   "metadata": {},
   "source": [
    "1. Nitrogendioksid\n",
    "2. Bariumfluorid\n",
    "3. Kobber(II)sulfat\n",
    "4. Tin(II)Nitrat"
   ]
  },
  {
   "cell_type": "markdown",
   "metadata": {},
   "source": [
    "### Oppgave 1b)"
   ]
  },
  {
   "cell_type": "code",
   "execution_count": 2,
   "metadata": {},
   "outputs": [
    {
     "data": {
      "text/plain": [
       "1.0062"
      ]
     },
     "execution_count": 2,
     "metadata": {},
     "output_type": "execute_result"
    }
   ],
   "source": [
    "mH = 1.0079\n",
    "mD = 2.0141\n",
    "mD - mH"
   ]
  },
  {
   "cell_type": "markdown",
   "metadata": {},
   "source": [
    "H har null nøytroner, fordi protonmassen er ca 1u og nøytroner veier ca det samme som protoner.\n",
    "\n",
    "D har ett nøytroner\n",
    "\n",
    "Massetall til deuterium: $d_2 = 4.0282 g/mol$"
   ]
  },
  {
   "cell_type": "markdown",
   "metadata": {},
   "source": [
    "### Oppgave 1c)"
   ]
  },
  {
   "cell_type": "markdown",
   "metadata": {},
   "source": [
    "### Oppgave 1d)"
   ]
  },
  {
   "cell_type": "markdown",
   "metadata": {},
   "source": [
    "### Oppgave 2a)"
   ]
  },
  {
   "cell_type": "markdown",
   "metadata": {},
   "source": [
    "### Oppgave 2b)"
   ]
  },
  {
   "cell_type": "code",
   "execution_count": 29,
   "metadata": {},
   "outputs": [
    {
     "name": "stdout",
     "output_type": "stream",
     "text": [
      "molmasse NO: 30.006 mol\n",
      "mol per added NO 0.028127707791774977\n"
     ]
    }
   ],
   "source": [
    "m_NO = 0.844\n",
    "M_NO = (PT.N.atomic_weight + PT.O.atomic_weight)\n",
    "print(\"molmasse NO:\", M_NO,\"mol\")\n",
    "n_NO = m_NO / M_NO\n",
    "print(\"mol per added NO\", molPerAdded_NO)"
   ]
  },
  {
   "cell_type": "code",
   "execution_count": 32,
   "metadata": {},
   "outputs": [
    {
     "name": "stdout",
     "output_type": "stream",
     "text": [
      "antall gram som reagerte med NO 1.3500455908818236 g\n"
     ]
    }
   ],
   "source": [
    "M_O3_needed = 3*molPerAdded_NO\n",
    "m_O3 = M_O3_needed * PT.O.atomic_weight\n",
    "print(\"antall gram som reagerte med NO\", m_O3, \"g\")"
   ]
  },
  {
   "cell_type": "code",
   "execution_count": 31,
   "metadata": {},
   "outputs": [
    {
     "name": "stdout",
     "output_type": "stream",
     "text": [
      "Masse av produkt O2: 0.9000303939212158 g\n",
      "Masse av produkt NO2: 1.294015196960608 g\n"
     ]
    }
   ],
   "source": [
    "M_O2 = 2 * PT.O.atomic_weight\n",
    "M_NO2 = PT.N.atomic_weight + 2*PT.O.atomic_weight\n",
    "m_product_NO2 = molPerAdded_NO * M_NO2\n",
    "m_product_O2 = molPerAdded_NO * M_O2\n",
    "print(\"Masse av produkt O2:\", m_product_O2,\"g\" )\n",
    "print(\"Masse av produkt NO2:\", m_product_NO2,\"g\" )"
   ]
  },
  {
   "cell_type": "markdown",
   "metadata": {},
   "source": [
    "### Oppgave 2c)"
   ]
  },
  {
   "cell_type": "code",
   "execution_count": 37,
   "metadata": {},
   "outputs": [
    {
     "name": "stdout",
     "output_type": "stream",
     "text": [
      "0.0018751805194516652\n",
      "Antall DU tilstede: 4.202556072280738\n"
     ]
    }
   ],
   "source": [
    "DU =4.462 * M.pow(10,-4)\n",
    "n_O3 = n_NO\n",
    "arealFormel = n_O3 / 15\n",
    "print(arealFormel)\n",
    "DU_O3_Per15mSq =  arealFormel / DU\n",
    "print(\"Antall DU tilstede:\", DU_O3_Per15mSq)"
   ]
  }
 ],
 "metadata": {
  "kernelspec": {
   "display_name": "Python 3",
   "language": "python",
   "name": "python3"
  },
  "language_info": {
   "codemirror_mode": {
    "name": "ipython",
    "version": 3
   },
   "file_extension": ".py",
   "mimetype": "text/x-python",
   "name": "python",
   "nbconvert_exporter": "python",
   "pygments_lexer": "ipython3",
   "version": "3.8.5"
  }
 },
 "nbformat": 4,
 "nbformat_minor": 4
}
