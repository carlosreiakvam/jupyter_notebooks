{
 "cells": [
  {
   "cell_type": "code",
   "execution_count": 72,
   "metadata": {},
   "outputs": [],
   "source": [
    "import math as M\n",
    "import mendeleev as PT\n",
    "import numpy as NP\n",
    "AVEG = 6.022 * M.pow(10,23)"
   ]
  },
  {
   "cell_type": "markdown",
   "metadata": {},
   "source": [
    "### Spørsmål 1\n",
    "\n",
    "Hvor mange $u$ er massen $1kg$?"
   ]
  },
  {
   "cell_type": "markdown",
   "metadata": {},
   "source": [
    "###### Svar:\n",
    "$1 u \\approx 1.661 \\cdot 10^{-24} g$"
   ]
  },
  {
   "cell_type": "markdown",
   "metadata": {},
   "source": [
    "$1000 u \\approx \\frac{10^3}{1.661 \\cdot 10^{-24}} = 6.02 \\cdot 10^{26}$"
   ]
  },
  {
   "cell_type": "markdown",
   "metadata": {},
   "source": [
    "$1kg$ er $6.02 \\cdot 10^{26}$"
   ]
  },
  {
   "cell_type": "code",
   "execution_count": 13,
   "metadata": {},
   "outputs": [
    {
     "data": {
      "text/plain": [
       "6.020469596628537e+26"
      ]
     },
     "execution_count": 13,
     "metadata": {},
     "output_type": "execute_result"
    }
   ],
   "source": [
    "1000 / (1.661 *M.pow(10,-24))"
   ]
  },
  {
   "cell_type": "markdown",
   "metadata": {},
   "source": [
    "### Spørsmål 2\n",
    "\n",
    "Hva veier ett vannmolekyl (i $u$ og i $kg$)? Hvor mange vannmolekyler er det i $1.0 L$ ($1.0\n",
    "kg$) vann?\n"
   ]
  },
  {
   "cell_type": "markdown",
   "metadata": {},
   "source": [
    "###### Svar:\n",
    "$O = 16u$  \n",
    "$H = 1.01u$  \n",
    "$H_2O = 2(1.01)+16 = 18.02u$  \n",
    "\n",
    "$H_2O = 18.02 \\cdot 1.661 \\cdot 10^{-24} g = 2.99 \\cdot 10^{-23}g $\n",
    "\n",
    "$H_2O = 2.99 \\cdot 10^{-26}kg $\n",
    "\n",
    "Vannmolekylet veier $18u$ som tilsvarer $2.99 \\cdot 10^{-26}kg$\n",
    "\n",
    "I en kg vann er det $3.34 \\cdot 10^{25}$ vannmolekyler"
   ]
  },
  {
   "cell_type": "code",
   "execution_count": 16,
   "metadata": {},
   "outputs": [],
   "source": [
    "h2o = 18.02 * 1.661* M.pow(10,-24)"
   ]
  },
  {
   "cell_type": "code",
   "execution_count": 17,
   "metadata": {},
   "outputs": [
    {
     "data": {
      "text/plain": [
       "3.3409931168859812e+25"
      ]
     },
     "execution_count": 17,
     "metadata": {},
     "output_type": "execute_result"
    }
   ],
   "source": [
    "1000 / h2o"
   ]
  },
  {
   "cell_type": "markdown",
   "metadata": {},
   "source": [
    "### Spørsmål 3\n",
    "Hva veier i gram ett mol kaliumnitrat, $KNO_3$ ?"
   ]
  },
  {
   "cell_type": "markdown",
   "metadata": {},
   "source": [
    "$K = 39.098u $  \n",
    "$N = 14.007u$  \n",
    "$O_3 = 3 \\cdot 15.999u = 47.997u $  \n",
    "$KNO_3 = 101.102u$  \n",
    "$KNO_3 = 101.102 g /mol $  \n",
    "\"gram per mol\" $\\Rightarrow 101.102 g$ for en mol"
   ]
  },
  {
   "cell_type": "markdown",
   "metadata": {},
   "source": [
    "### Spørsmål 4\n",
    "\n",
    "Hva er molmassen til magnesiumfosfat, $Mg_3 (PO_4 )_2$ ?"
   ]
  },
  {
   "cell_type": "markdown",
   "metadata": {},
   "source": [
    "$(3\\cdot 24.305 + (2\\cdot 30.974) + (8 \\cdot 15.999) = 262.855u$  \n",
    "$262.9g/mol$"
   ]
  },
  {
   "cell_type": "code",
   "execution_count": 28,
   "metadata": {
    "collapsed": true
   },
   "outputs": [
    {
     "data": {
      "text/plain": [
       "262.855"
      ]
     },
     "execution_count": 28,
     "metadata": {},
     "output_type": "execute_result"
    }
   ],
   "source": [
    "(3 *  24.305) + (2 * 30.974) + (8 * 15.999)"
   ]
  },
  {
   "cell_type": "markdown",
   "metadata": {},
   "source": [
    "kommentar: $(PO_4)_2$ er 2*P og 4*O*2"
   ]
  },
  {
   "cell_type": "markdown",
   "metadata": {},
   "source": [
    "### Spørsmål 5\n",
    "\n",
    "Hvor mange mol er det i $1.0 kg$ aluminium (Al)?"
   ]
  },
  {
   "cell_type": "code",
   "execution_count": 16,
   "metadata": {
    "scrolled": true
   },
   "outputs": [
    {
     "name": "stdout",
     "output_type": "stream",
     "text": [
      "26.9815385\n",
      "Antall mol=  37.06 mol\n"
     ]
    }
   ],
   "source": [
    "m = 1000\n",
    "Mm_Al = 26.982\n",
    "print(PT.Al.atomic_weight)\n",
    "n = (m/Mm_Al)\n",
    "print(\"Antall mol= \" , round(n,2),\"mol\")"
   ]
  },
  {
   "cell_type": "markdown",
   "metadata": {},
   "source": [
    "### Spørsmål 6\n",
    "\n",
    "Hvor mange mol er det i $1.0 kg$ aluminiumsulfat, $Al_2 (SO_4 )_3$?"
   ]
  },
  {
   "cell_type": "code",
   "execution_count": 27,
   "metadata": {},
   "outputs": [
    {
     "name": "stdout",
     "output_type": "stream",
     "text": [
      "Antall mol =  2.92\n"
     ]
    }
   ],
   "source": [
    "m = 1000\n",
    "# 2Al, 3(S,4O) = 2Al, 3S, 12O\n",
    "sumMol = 2*PT.Al.atomic_weight + 3* PT.S.atomic_weight + 12* PT.O.atomic_weight\n",
    "nMols = m / sumMol\n",
    "print(\"Antall mol = \", round(nMols,2))"
   ]
  },
  {
   "cell_type": "markdown",
   "metadata": {},
   "source": [
    "### Spørsmål 7\n",
    "Hvor mange gram jern(II)sulfat $FeSO_4$ er det i en jerntablett som inneholder $0.000250 mol$\n",
    "jern(II)sulfat ?"
   ]
  },
  {
   "cell_type": "code",
   "execution_count": 137,
   "metadata": {},
   "outputs": [
    {
     "name": "stdout",
     "output_type": "stream",
     "text": [
      "molSum =  151.901\n",
      "masse= 0.038 g\n"
     ]
    }
   ],
   "source": [
    "mol = 0.000250\n",
    "molSum = PT.Fe.atomic_weight + PT.S.atomic_weight + 4* PT.O.atomic_weight\n",
    "print(\"molSum = \", molSum)\n",
    "m = molSum * mol\n",
    "print(\"masse=\",round(m,4),\"g\")"
   ]
  },
  {
   "cell_type": "markdown",
   "metadata": {},
   "source": [
    "### Spørsmål 8\n",
    "Hvor mange mol er $6.80 g$ ammoniakk, $NH_3$?"
   ]
  },
  {
   "cell_type": "code",
   "execution_count": 33,
   "metadata": {},
   "outputs": [
    {
     "name": "stdout",
     "output_type": "stream",
     "text": [
      "0.4 mol\n"
     ]
    }
   ],
   "source": [
    "m = 6.8\n",
    "sumMol = PT.N.atomic_weight + 3* PT.H.atomic_weight\n",
    "nMol = m / sumMol\n",
    "print(round(nMol,2),\"mol\")"
   ]
  },
  {
   "cell_type": "markdown",
   "metadata": {},
   "source": [
    "### Spørsmål 9\n",
    "Hva er massen til $5.3 \\cdot 10^{−4} mol$ bly(II)sulfat, $PbSO_4$ ?"
   ]
  },
  {
   "cell_type": "code",
   "execution_count": 139,
   "metadata": {},
   "outputs": [
    {
     "name": "stdout",
     "output_type": "stream",
     "text": [
      "m =  0.161 g\n"
     ]
    }
   ],
   "source": [
    "mol = 5.3 * M.pow(10,-4)\n",
    "molSum = PT.Pb.atomic_weight + PT.S.atomic_weight + 4 * PT.O.atomic_weight\n",
    "m = molSum * mol\n",
    "print(\"m = \",round(m,3),\"g\")"
   ]
  },
  {
   "cell_type": "markdown",
   "metadata": {},
   "source": [
    "### Spørsmål 10\n",
    "Hvor mange gram karbon er det i 1.0 kg sukker ($C_{12}H_{22}O_{11}$)?"
   ]
  },
  {
   "cell_type": "code",
   "execution_count": 43,
   "metadata": {},
   "outputs": [
    {
     "name": "stdout",
     "output_type": "stream",
     "text": [
      "421.07 g\n"
     ]
    }
   ],
   "source": [
    "mSukker = 1000\n",
    "molSum = 12 * PT.C.atomic_weight + 22*PT.H.atomic_weight + 11 * PT.O.atomic_weight\n",
    "C_ratio = 12*PT.C.atomic_weight / molSum\n",
    "mC = mSukker * C_ratio\n",
    "print(round(mC,2),\"g\")"
   ]
  },
  {
   "cell_type": "markdown",
   "metadata": {},
   "source": [
    "### Spørsmål 11\n",
    "Hvor mange gram oksygen er det i $500 g$ jernmalm (hematitt), $Fe_2O_3$ ?"
   ]
  },
  {
   "cell_type": "code",
   "execution_count": 45,
   "metadata": {},
   "outputs": [
    {
     "name": "stdout",
     "output_type": "stream",
     "text": [
      "150.28461928647914\n"
     ]
    }
   ],
   "source": [
    "m = 500\n",
    "molSum = 2 * PT.Fe.atomic_weight + 3* PT.O.atomic_weight\n",
    "O_ratio = 3* PT.O.atomic_weight / molSum\n",
    "mO = m * O_ratio\n",
    "print(mO)"
   ]
  },
  {
   "cell_type": "markdown",
   "metadata": {},
   "source": [
    "### Spørsmål 12\n",
    "Hvor mange mol fluoratomer, og hvor mange gram fluor, er det i $1000 g$\n",
    "aluminiumfluorid, $AlF_3$?"
   ]
  },
  {
   "cell_type": "code",
   "execution_count": 54,
   "metadata": {},
   "outputs": [
    {
     "name": "stdout",
     "output_type": "stream",
     "text": [
      "678.702 g Fluor\n",
      "3.4322515154275804e+25 Fluoratomer. Eller 3mol Fluoratomer som man også kan si\n"
     ]
    }
   ],
   "source": [
    "m = 1000\n",
    "molSum = PT.Al.atomic_weight + 3 * PT.F.atomic_weight\n",
    "F_ratio = 3 * PT.F.atomic_weight / molSum\n",
    "mF = m * F_ratio\n",
    "print(round(mF,3),\"g Fluor\")\n",
    "\n",
    "#Finner antall atomer\n",
    "nAtoms = 3 * PT.F.atomic_weight * AVEG\n",
    "print(nAtoms,\"Fluoratomer. Eller 3mol Fluoratomer som man også kan si\")"
   ]
  },
  {
   "cell_type": "markdown",
   "metadata": {},
   "source": [
    "### Spørsmål 13\n",
    "\n",
    "##### a)\n",
    "Analyse av vitamin C (askorbinsyre) viser at det inneholder i masseprosenter: 40.91 % karbon, 54.55 % oksygen og 4.55 % hydrogen. Hva er stoffets enklest tenkelige formel (empiriske formel)?\n",
    "\n",
    "\n"
   ]
  },
  {
   "cell_type": "code",
   "execution_count": 108,
   "metadata": {},
   "outputs": [
    {
     "name": "stdout",
     "output_type": "stream",
     "text": [
      "C 3.41\n",
      "O 3.41\n",
      "H 4.51\n"
     ]
    }
   ],
   "source": [
    "C = 40.91 / PT.C.atomic_weight \n",
    "print(\"C\",round(C,2))\n",
    "O = 54.55 / PT.O.atomic_weight \n",
    "print(\"O\",round(O,2))\n",
    "H = 4.55 / PT.H.atomic_weight\n",
    "print(\"H\",round(H,2))"
   ]
  },
  {
   "cell_type": "markdown",
   "metadata": {},
   "source": [
    "Det er like mange C og O atomer\n",
    "det er 4 H atomer for hver tredje O atom\n",
    "Formel: $C_3O_4H_3$"
   ]
  },
  {
   "cell_type": "markdown",
   "metadata": {},
   "source": [
    "###### b) \n",
    "Molmassen til stoffet viser seg å være $176.0 g/mol$. Bestem stoffets molekylformel.\n"
   ]
  },
  {
   "cell_type": "code",
   "execution_count": 122,
   "metadata": {},
   "outputs": [
    {
     "name": "stdout",
     "output_type": "stream",
     "text": [
      "molmasse empirisk: 88.062\n",
      "ratio = 2.0\n"
     ]
    }
   ],
   "source": [
    "molmasseEmpirisk = 3*PT.C.atomic_weight + 4* PT.H.atomic_weight + 3 * PT.O.atomic_weight\n",
    "print(\"molmasse empirisk:\",molmasseEmpirisk)\n",
    "molmasseStoff = 176\n",
    "ratio = molmasseStoff/molmasseEmpirisk\n",
    "print(\"ratio =\",round(ratio,2))"
   ]
  },
  {
   "cell_type": "markdown",
   "metadata": {},
   "source": [
    "Det er 2 ganger så mange atomer i molekylformelen som i den empiriske formelen.\n",
    "\n",
    "Man får da $C_6O_8H_6$"
   ]
  },
  {
   "cell_type": "markdown",
   "metadata": {},
   "source": [
    "### Spørsmål 14\n",
    "En forbindelse inneholder i masseprosent: 19.3 % natrium ($Na$), 26.9 % svovel ($S$) og 53.8 % oksygen ($O$). Ett mol av stoffet veier $238.0 g$. Finn formelen til denne forbindelsen.\n"
   ]
  },
  {
   "cell_type": "code",
   "execution_count": 124,
   "metadata": {},
   "outputs": [
    {
     "name": "stdout",
     "output_type": "stream",
     "text": [
      "Na 0.8395038577786023\n",
      "S 0.8390517779164066\n",
      "O 3.3627101693855863\n"
     ]
    }
   ],
   "source": [
    "Na = 19.3 / PT.Na.atomic_weight\n",
    "print(\"Na\",Na)\n",
    "S = 26.9 / PT.S.atomic_weight\n",
    "print(\"S\",S)\n",
    "O = 53.8 / PT.O.atomic_weight\n",
    "print(\"O\",O)"
   ]
  },
  {
   "cell_type": "markdown",
   "metadata": {},
   "source": [
    "Ser at forholdet er ca 1,1,3\n",
    "Empirisk formel blir da $NaSO_3$"
   ]
  },
  {
   "cell_type": "code",
   "execution_count": 126,
   "metadata": {},
   "outputs": [
    {
     "name": "stdout",
     "output_type": "stream",
     "text": [
      "103.04676928\n",
      "2.3096308759889728\n"
     ]
    }
   ],
   "source": [
    "molSumEmpirisk = PT.Na.atomic_weight + PT.S.atomic_weight + 3 * PT.O.atomic_weight \n",
    "print(molSumEmpirisk)\n",
    "molvekt = 238\n",
    "ratio = molvekt / molSumEmpirisk\n",
    "print(ratio)"
   ]
  },
  {
   "cell_type": "markdown",
   "metadata": {},
   "source": [
    "Ser at det er $2.3 \\approx 2$ ganger så mange atomer i det ukjente stoffet"
   ]
  },
  {
   "cell_type": "markdown",
   "metadata": {},
   "source": [
    "Formelen til forbindelsen blir da: $Na_2S_2O_6$"
   ]
  },
  {
   "cell_type": "markdown",
   "metadata": {},
   "source": [
    "###### OBS\n",
    "(Fasit sier $Na_2S_2O_8$) så den må ha rundet O opp til 4 istedet for ned til 3. Spør om dette er riktig"
   ]
  }
 ],
 "metadata": {
  "kernelspec": {
   "display_name": "Python 3",
   "language": "python",
   "name": "python3"
  },
  "language_info": {
   "codemirror_mode": {
    "name": "ipython",
    "version": 3
   },
   "file_extension": ".py",
   "mimetype": "text/x-python",
   "name": "python",
   "nbconvert_exporter": "python",
   "pygments_lexer": "ipython3",
   "version": "3.8.5"
  }
 },
 "nbformat": 4,
 "nbformat_minor": 4
}
