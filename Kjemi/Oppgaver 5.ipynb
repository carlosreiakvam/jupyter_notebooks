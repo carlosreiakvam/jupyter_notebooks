{
 "cells": [
  {
   "cell_type": "markdown",
   "metadata": {},
   "source": [
    "### Oppgave 2.47\n",
    "Navnsett følgende forbindelser (du finner store oversikter over navnsetting i Chang-boka, Kap. 2, Tabell 2.2-2.3, Fig. 2.13 – se også Tabell 2.3 og norsk diagram over navnsetting på Canvas):\n",
    "\n",
    "|#    |    |Norsk    |Engelsk| Info|\n",
    "|:---|:---|:---|:---|:---|\n",
    "|a|$$Na_2CrO_4 $$|natrium kromat |sodium chromate| Cr er metal => ikke molekyl|\n",
    "|b|$$K_2HPO_4 $$| disodium hydrogenfosfat |dipotassium hydrogen phosphate  |ikke-metall -> molekyl|\n",
    "|c|$$HBr$$| hydrogen bromid|hydrogen bromide|(gass) molekyl|\n",
    "|d|$$HBr$$| hydrobromsyre|hydrobromic acid |(i vann, her kommer syre-begrepet inn)|\n",
    "|e|$$Li_2CO_3 $$|litium karbonat |lithium carbonate |ioner som binder seg til oksygen|\n",
    "|f|$$K_2Cr_2O_7 $$|kalium dikromat |potassium dichromate|binder seg til oksygen -> at-ending |\n",
    "|g|$$NH_4NO_2 $$|amoniumnitritt |amounium nitrite ||\n",
    "|h|$$PF_3 $$|fosfor trifluorid | phosphorus trifluoride|kation først|\n",
    "|i|$$PF_5 $$|fosfor pentafluorid |phosphorus pentafluoride ||\n",
    "|j|$$P_4O_6 $$| tetrafosfor heksaoksid|penta phosphorus hexoxide||\n",
    "|k|$$CdI_2 $$|kadmium jodid  |cadmium iodide||\n",
    "|l|$$SrSO_4 $$|strontium sulfat |strontium sulfate||\n",
    "|m|$$Al(OH)_3 $$|aluminium hydroksid |aluminium hydroxide ||\n",
    "\n",
    "Hint oppgave g: eksempelet på et salt med et fleratomig kation og et fleratomiganion; se tabell 2.3."
   ]
  },
  {
   "cell_type": "markdown",
   "metadata": {},
   "source": [
    "### Oppgave 2.48\n",
    "Navnsett følgende forbindelser:\n",
    "\n",
    "|#    |    |Norsk|Engelsk    |Info|\n",
    "|:---|:---|:---|:---|:---|\n",
    "|a|$$KClO $$|kalium klorat |potassium chlorate ||\n",
    "|b|$$Ag_2CO_3$$| sølvkarbonat| silver carbonate||\n",
    "|c|$$FeCl_2 $$| jern(II) klorid|iron(II) chloride ||\n",
    "|d|$$KMnO_4 $$|kalium peramanganat |potassium permanganate ||\n",
    "|e|$$CsClO_3 $$|sesium klorat |cesium chlorate ||\n",
    "|f|$$HIO $$|hypojod syrling |hypoiodous acod|removal of two O atoms from the \"ic\" acid|\n",
    "|g|$$FeO $$|jern(II)oksid |iron(II)oxide ||\n",
    "|h|$$Fe_2O_3 $$|jern(III)oksid |iron(III)oxide| |\n",
    "|i|$$TiCl_4 $$| titan(IV)klorid|titan(IV)clhorine ||\n",
    "|j|$$NaH $$| natrium hydrid|sodium hydride |H^- er hydride|\n",
    "|k|$$Li_3N $$|litium nitrid |lithium nitride ||\n",
    "|l|$$Na_2O $$|natrium oksid |potassium oxide ||\n",
    "|m|$$Na_2O_2 $$|natrium peroksid |potassium peroxide ||\n",
    " \n",
    "Hint oppgave f: Delvis navn hypo – itt anion IO- blir til unde – syrling i sin fulle syreform, på norsk).\n",
    "\n",
    "Hint oppgave m: her er det mer sjeldne $O{_2}^{2-}$ - molekylionet involvert; kalt peroksid"
   ]
  },
  {
   "cell_type": "markdown",
   "metadata": {},
   "source": [
    "### Oppgave 2.54\n",
    "Hva er det som er galt eller tvetydig med disse forsøksvise beskrivelsene?\n",
    "\n",
    "a) \"1 gram med hydrogen\"  "
   ]
  },
  {
   "cell_type": "markdown",
   "metadata": {},
   "source": [
    "Vi måler atomisk vekt i $g/mol$  \n",
    "Et gram med hydrogen blir dermed upresist fordi vi et gram er mye tyngre enn ett hydrogenatom.\n",
    "\n",
    "Det er også upresist ifht. at den atomiske vekten oppgis som et gjennomsnitt av alle isoptopene av gitt grunnstoff.\n",
    "\n",
    "$1g \\text { hydrogen}\\approx 6.02214\\cdot 10^{24} \\text{ hydrogenatomer}$"
   ]
  },
  {
   "cell_type": "markdown",
   "metadata": {},
   "source": [
    "b) \"Fire molekyler med NaCl\""
   ]
  },
  {
   "cell_type": "markdown",
   "metadata": {},
   "source": [
    "Natrium klorid er et salt, en ionisk forbindelse, og ikke et molekyl."
   ]
  },
  {
   "cell_type": "markdown",
   "metadata": {},
   "source": [
    "### Oppgave 2.56\n",
    "Hvilke av disse formlene er et grunnstoff, hvilke er molekyler men ikke en forbindelse, hvilke er forbindelser men ikke molekyler, og hvilke er både forbindelser og molekyler?\n",
    "\n",
    "|oppgave| |Grunnstoff | Molekyl|Forbindelse|kommentar|\n",
    "|:---|:---|:---|:---|:---|:---|\n",
    "|a|$$SO_2 $$ | |$$\\checkmark$$ |$$\\checkmark$$|hvorfor forbindelse?|\n",
    "|b|$$S_8 $$ | $$\\checkmark$$|$$\\checkmark$$ ||\n",
    "|c|$$Cs $$ |$$\\checkmark$$ | ||\n",
    "|d|$$N_2O_5 $$ | |$$\\checkmark$$|$$\\checkmark$$|Hvorfor begge? |\n",
    "|e|$$O $$|$$\\checkmark$$ | ||\n",
    "|f|$$O_2 $$  | $$\\checkmark$$|$$\\checkmark$$||\n",
    "|g|$$O_3 $$  |$$\\checkmark$$ |$$\\checkmark$$||\n",
    "|h|$$CH_4 $$ | |$$\\checkmark$$ |$$\\checkmark$$|hvorfor begge?|\n",
    "|i|$$KBr $$ | || $$\\checkmark$$|metall og ikke-metall|\n",
    "|j|$$S $$ |$$\\checkmark$$ | ||\n",
    "|k|$$P_4 $$ |$$\\checkmark$$ | $$\\checkmark$$||\n",
    "|l|$$LiF $$ | ||$$\\checkmark$$| metall og ikke-metaller|"
   ]
  },
  {
   "cell_type": "markdown",
   "metadata": {},
   "source": [
    "### Oppgave 2.59\n",
    "Fyll ut denne tabellen basert på dine atom-, ione- og isotopkunnskaper; husk å ta hensyn til ’netcharge’ (nettoladning) i den nederste rekken:\n",
    "\n",
    "||    | | | | |\n",
    "|---        |---|---|---|---|---|\n",
    "|Symbol|    | |  $$^{54}_{26}Fe^{2+} $$||||\n",
    "|Protons    |5 | | | | |\n",
    "|Neutrons   |6 | |16 |79|86|\n",
    "|Electrons  |5 | |18 |117|136|\n",
    "|Net charge |  | |-3 |79|0|"
   ]
  },
  {
   "cell_type": "markdown",
   "metadata": {},
   "source": [
    "|           |   |   |   |   |   |\n",
    "|:---        |:---|:---|:---|:---|:---|\n",
    "|Symbol     |$$_5^6B$$|$$^{54}_{26}Fe^{2+} $$|$$_{15}^{31}P^{3-}$$|$$_{79}^{196}Au^{79+}$$|$$_{86}^{222}R$$|\n",
    "|Protons    |5        |26   |   15|79   |86 |\n",
    "|Neutrons   |6        |54     |16 |117 |136|\n",
    "|Electrons  |5        |24     |18 |97  |86|\n",
    "|Net charge |0        |2     |-3 |79 |0 |"
   ]
  },
  {
   "cell_type": "markdown",
   "metadata": {},
   "source": [
    "### Oppgave 2.73\n",
    "Fyll ut denne tabellen angående ioner, formler og navnsetting for salter (ioneforbindelser); du\n",
    "finner store oversikter over navnsetting i Chang-boka/Canvas (Kap. 2, Tabell 2.2-2.3, Fig. 2.13):\n",
    "\n",
    "|Cation |Anion |Formula |Name |\n",
    "|:---|:---|:---|:---|\n",
    "||||Magnesium bicarbonate|\n",
    "|||$$SrCl_2$$||\n",
    "|$$Fe^{3+}$$|$$NO_2^-$$|||\n",
    "||||Manganese(II) cholrate|\n",
    "|||$$SnBr_4$$||\n",
    "|$$Co^{2+}$$|$$PO_4^{3-}$$|||\n",
    "|$$Hg_2^2{2+}$$|$$I^-$$|||\n",
    "|||$$Cu_2CO_3$$||\n",
    "||||Lithium nitride|\n",
    "|$$Al^{3+}$$|$$S^{2-}$$|||"
   ]
  },
  {
   "cell_type": "markdown",
   "metadata": {},
   "source": [
    "|Cation |Anion |Formula |Engelsk |Norsk|\n",
    "|:---|:---|:---|:---|:---|\n",
    "|$$Mg^{2+}$$|$$HCO_3^-$$|$$Mg(HCO_3)_2$$|Magnesium bicarbonate|magnesiumbikarbonat|\n",
    "|$$Sr^{2+}$$|$$Cl^{-}$$|$$SrCl_2$$|strontium chloride|strontiumklorid|\n",
    "|$$Fe^{3+}$$|$$NO{_2}^-$$|$$Fe(NO_2)_3$$|iron(III) nitrite|jern(III) nitritt|\n",
    "|$$Mn^{2+}$$|$$ClO_3^-$$|$$Mn(ClO_3)_2$$|Manganese(II) chlorate|mangan(II) klorat|\n",
    "|$$Sn^{4+}$$|$$Br^-$$|$$SnBr_4$$|tin(VI) bromide|tin (VI) bromid|\n",
    "|$$Co^{2+}$$|$$PO_4^{3-}$$|$$Co_3PO_2 $$|cobalt(II) phosporate|kobalt(II) fosfat|\n",
    "|$$Hg_2^{2+}$$|$$I^-$$|$$Hg_2I_2$$|mercury(I) iodide|kvikksølv(I) jodin|\n",
    "|$$Cu^+$$|$$CO_3^{2-}$$|$$Cu_2CO_3$$|copper(I) carbonate |kobber(I)  karbonat|\n",
    "|$$Li^{+}$$|$$N^{3-}$$|$$Li_3N$$|Lithium nitride|litiumnitrid|\n",
    "|$$Al^{3+}$$|$$S^{2-}$$|$$Al_2S_3$$|aluminum sulfide|aluminiumsulfid|"
   ]
  }
 ],
 "metadata": {
  "kernelspec": {
   "display_name": "Python 3",
   "language": "python",
   "name": "python3"
  },
  "language_info": {
   "codemirror_mode": {
    "name": "ipython",
    "version": 3
   },
   "file_extension": ".py",
   "mimetype": "text/x-python",
   "name": "python",
   "nbconvert_exporter": "python",
   "pygments_lexer": "ipython3",
   "version": "3.8.5"
  }
 },
 "nbformat": 4,
 "nbformat_minor": 4
}
