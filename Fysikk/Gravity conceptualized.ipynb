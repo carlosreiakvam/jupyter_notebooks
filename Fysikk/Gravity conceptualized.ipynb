{
 "cells": [
  {
   "cell_type": "markdown",
   "metadata": {},
   "source": [
    "# Concept of the feeling of weightlessness and gravity"
   ]
  },
  {
   "cell_type": "markdown",
   "metadata": {},
   "source": [
    "Concider a man in an elevator.  \n",
    "He stands firmly on the floor as the elevator goes upwards.  \n",
    "If the elevator accelerates upwards, he feels as if he is pushed slightly down into the floor.  \n",
    "If the elevator accelerates downwards, he will feel as if he's feet are suddenly a bit lighter. A \"roller coaster feeling\".  \n",
    "\n",
    "The force of gravity equals $mg$ where $g$ is the constant acceleration that keeps you from flying up from the ground.  \n",
    "$g$ is the accelerative state of your body at all times on earth and it is pointed down to the center of the earth.  \n",
    "If you are encapsuled in a closed environment that *accelerates* at a rate different from that of gravity, you will *feel* this as either weightlessness or as being pushed down. What really happens is not a change in gravity, but rather that the body/element you are encapsuled in changes velocity (i.e accelerates) at a greater rate than the gravitational acceleration your body has towards the floor.\n",
    "\n",
    "In other words:  \n",
    "When an elevator goes upwards, the force upwards on the elevator is greater than the force that is keeping it on the ground. The force that keeps it on the ground is equal to the $\\vec{F}_{elevator} + \\vec{F}_{man}$. When the force is applied upward on the elevator, the elevator and the man inside changes velocity upwards. Even though"
   ]
  },
  {
   "cell_type": "markdown",
   "metadata": {},
   "source": [
    "$v_{Man} > v_{Elevator} \\Rightarrow \\text{Man is located at a constant height somewhere above elevator floor or stuck in ceiling.}$  \n",
    "$v_{Man} = v_{Elevator} \\Rightarrow \\text{Man is perfectly grounded on elevator floor.}$  \n",
    "$v_{Man} < v_{Elevator} \\Rightarrow \\text{Man is pushed constantly against floor.}$  \n",
    "\n",
    "$a = \\frac{\\Delta v}{\\Delta t} \\Rightarrow \\Delta v = a \\Delta t$  \n",
    "\n",
    "$a_{Man} {\\Delta t} > a_{Elevator} {\\Delta t} \\Rightarrow g > a_{Elevator} \\Rightarrow \\text{Man flies increasingly higher towards ceiling of elevator.}$  \n",
    "$a_{Man} {\\Delta t} = a_{Elevator} {\\Delta t} \\Rightarrow g = a_{Elevator} \\Rightarrow \\text{Man is perfectly grounded on elevator floor.}$  \n",
    "$a_{Man} {\\Delta t} < a_{Elevator} {\\Delta t} \\Rightarrow g < a_{Elevator} \\Rightarrow \\text{Man is increasingly pushed against floor.}$  "
   ]
  },
  {
   "cell_type": "markdown",
   "metadata": {},
   "source": [
    "<img src=\"Screens/concept_gravity.jpg\" width=\"500\">"
   ]
  },
  {
   "cell_type": "markdown",
   "metadata": {},
   "source": [
    "#### Example (Assignement 4.45)\n",
    "An elevator moves upward at $5.9 m/s$.  \n",
    "What’s its minimum stopping time if the passengers are to remain on the floor?\n",
    "\n",
    "Limit for acceleration at the verge of man flying towards ceiling:  \n",
    "$a_{Elevator} = g = \\frac{\\Delta v}{\\Delta T}$  \n",
    "$\\Delta T = \\frac{\\Delta v}{g} = \\frac{5.9m/s}{9.81m/s^2} = 0.6s$\n"
   ]
  }
 ],
 "metadata": {
  "kernelspec": {
   "display_name": "Python 3",
   "language": "python",
   "name": "python3"
  },
  "language_info": {
   "codemirror_mode": {
    "name": "ipython",
    "version": 3
   },
   "file_extension": ".py",
   "mimetype": "text/x-python",
   "name": "python",
   "nbconvert_exporter": "python",
   "pygments_lexer": "ipython3",
   "version": "3.8.5"
  }
 },
 "nbformat": 4,
 "nbformat_minor": 4
}
