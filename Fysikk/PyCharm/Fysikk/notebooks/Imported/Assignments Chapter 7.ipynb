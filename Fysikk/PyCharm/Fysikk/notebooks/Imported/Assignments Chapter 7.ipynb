{
 "cells": [
  {
   "cell_type": "code",
   "execution_count": 17,
   "metadata": {},
   "outputs": [
    {
     "data": {
      "text/html": [
       "<style>\n",
       ".rendered_html table {\n",
       "    margin-right:50px;\n",
       "}\n",
       "table {float:left}\n",
       "img {float:left}\n",
       "h1 {color: Blue}\n",
       "h2 {color: Blue}\n",
       "h3 {background-color: Blue}\n",
       "h3 {color: White}\n",
       "h4 {color: #0000cc}\n",
       "h6 {color: #00cc00}\n",
       "</style>\n"
      ],
      "text/plain": [
       "<IPython.core.display.HTML object>"
      ]
     },
     "metadata": {},
     "output_type": "display_data"
    }
   ],
   "source": [
    "%%html\n",
    "<style>\n",
    ".rendered_html table {\n",
    "    margin-right:50px;\n",
    "}\n",
    "table {float:left}\n",
    "img {float:left}\n",
    "h1 {color: Blue}\n",
    "h2 {color: Blue}\n",
    "h3 {background-color: Blue}\n",
    "h3 {color: White}\n",
    "h4 {color: #0000cc}\n",
    "h6 {color: #00cc00}\n",
    "</style>"
   ]
  },
  {
   "cell_type": "code",
   "execution_count": 1,
   "metadata": {},
   "outputs": [],
   "source": [
    "import math as M\n",
    "import sympy as SY\n",
    "import numpy as NP\n",
    "from scipy import integrate as integrate\n",
    "SY.init_printing()\n",
    "g = 9.8"
   ]
  },
  {
   "cell_type": "markdown",
   "metadata": {},
   "source": [
    "# Section 7.3 Conservation of Mechanical Energy"
   ]
  },
  {
   "cell_type": "markdown",
   "metadata": {},
   "source": [
    "### Assignment 19\n",
    "A skier starts down a frictionless 34° slope. After a vertical drop\n",
    "of 24 m, the slope temporarily levels out and then slopes down at\n",
    "16°, dropping an additional 38 m vertically before leveling out\n",
    "again. Find the skier’s speed on the two level stretches."
   ]
  },
  {
   "cell_type": "markdown",
   "metadata": {},
   "source": [
    "#### Interpretation"
   ]
  },
  {
   "cell_type": "markdown",
   "metadata": {},
   "source": [
    "Degree of slope is redundant, only the change in elevation is relevant as it determines the change in potential energy."
   ]
  },
  {
   "cell_type": "markdown",
   "metadata": {},
   "source": [
    "#### Change in potential energy from top to first level"
   ]
  },
  {
   "cell_type": "markdown",
   "metadata": {},
   "source": [
    "<img src=\"Screens/as7_19.jpg\" width = \"500\">"
   ]
  },
  {
   "cell_type": "markdown",
   "metadata": {},
   "source": [
    "$K_0 + U_0 = K + U$  \n",
    "$K_0 = 0$  \n",
    "$U = 0$  \n",
    "$K = U_0$  \n",
    "\n",
    "$\\frac{1}{2}mv^2 = mg\\Delta y_a$\n",
    "\n",
    "$\\frac{1}{2}v^2 = g\\Delta y_a$  \n",
    "\n",
    "$v = \\sqrt{2g\\Delta y_a}$"
   ]
  },
  {
   "cell_type": "code",
   "execution_count": 14,
   "metadata": {},
   "outputs": [
    {
     "name": "stdout",
     "output_type": "stream",
     "text": [
      "v1= 22 m/s\n"
     ]
    }
   ],
   "source": [
    "y_delta_a = 24\n",
    "v1 = M.sqrt(2*g*y_delta_a)\n",
    "print(\"v1=\",round(v1),\"m/s\")"
   ]
  },
  {
   "cell_type": "markdown",
   "metadata": {},
   "source": [
    "#### Change in potential energy from top to bottom level"
   ]
  },
  {
   "cell_type": "markdown",
   "metadata": {},
   "source": [
    "<img src=\"Screens/as7_19b.jpg\" width = \"500\">"
   ]
  },
  {
   "cell_type": "markdown",
   "metadata": {},
   "source": [
    "$v = \\sqrt{2g\\Delta y_b}$"
   ]
  },
  {
   "cell_type": "code",
   "execution_count": 15,
   "metadata": {},
   "outputs": [
    {
     "name": "stdout",
     "output_type": "stream",
     "text": [
      "v2= 35 m/s\n"
     ]
    }
   ],
   "source": [
    "y_delta_b = (y_delta1+38)\n",
    "v2 = M.sqrt(2*g*(y_delta_b))\n",
    "print(\"v2=\",round(v2),\"m/s\")"
   ]
  },
  {
   "cell_type": "markdown",
   "metadata": {},
   "source": [
    "### Assignment 21\n",
    "A $130g$ arrow is shot vertically from a bow whose effective\n",
    "spring constant is $400 N/m$. If the bow is drawn $85 cm$ before\n",
    "shooting, to what height does the arrow rise?"
   ]
  },
  {
   "cell_type": "markdown",
   "metadata": {},
   "source": [
    "<img src=\"Screens/as7_21.jpg\" width = \"200\">"
   ]
  },
  {
   "cell_type": "markdown",
   "metadata": {},
   "source": [
    "\n",
    "$U = \\frac{1}{2} kx^2 $"
   ]
  },
  {
   "cell_type": "code",
   "execution_count": 22,
   "metadata": {},
   "outputs": [
    {
     "data": {
      "image/png": "[encoded data removed]",
      "text/latex": [
       "$\\displaystyle 144.49999999999997$"
      ],
      "text/plain": [
       "144.49999999999997"
      ]
     },
     "execution_count": 22,
     "metadata": {},
     "output_type": "execute_result"
    }
   ],
   "source": [
    "x = 0.85\n",
    "m = 0.130\n",
    "k = 400\n",
    "U = 1/2 * k*M.pow(x,2)\n",
    "U"
   ]
  },
  {
   "cell_type": "markdown",
   "metadata": {},
   "source": [
    "$U_0 = U$  \n",
    "$\\Delta y \\cdot mg = U$  \n",
    "$\\Delta y = \\frac{U}{mg}$"
   ]
  },
  {
   "cell_type": "code",
   "execution_count": 25,
   "metadata": {},
   "outputs": [
    {
     "name": "stdout",
     "output_type": "stream",
     "text": [
      "height=  113.42 m\n"
     ]
    }
   ],
   "source": [
    "y_delta = U / (m*g)\n",
    "print(\"height= \", round(y_delta,2), \"m\")"
   ]
  },
  {
   "cell_type": "markdown",
   "metadata": {},
   "source": [
    "### Assignment 23\n",
    "You work for a toy company, and you’re designing a spring-launched model rocket. The launching apparatus has room for a\n",
    "spring that can be compressed $14 cm$, and the rocket’s mass is $65 g$.  \n",
    "If the rocket is to reach an altitude of $33 m$,  \n",
    "what should you specify for the spring constant?\n"
   ]
  },
  {
   "cell_type": "code",
   "execution_count": 30,
   "metadata": {},
   "outputs": [
    {
     "data": {
      "image/png": "[encoded data removed]",
      "text/latex": [
       "$\\displaystyle 21.021$"
      ],
      "text/plain": [
       "21.021"
      ]
     },
     "execution_count": 30,
     "metadata": {},
     "output_type": "execute_result"
    }
   ],
   "source": [
    "x = 0.14\n",
    "m = 0.065\n",
    "y_delta = 33\n",
    "U = y_delta * m * g\n",
    "U"
   ]
  },
  {
   "cell_type": "markdown",
   "metadata": {},
   "source": [
    "$U = U_0 = \\frac{1}{2}kx^2$  \n",
    "\n",
    "$k =\\frac{2U}{x^2}$"
   ]
  },
  {
   "cell_type": "code",
   "execution_count": 33,
   "metadata": {},
   "outputs": [
    {
     "name": "stdout",
     "output_type": "stream",
     "text": [
      "Spring constant:  2145 N/m\n"
     ]
    }
   ],
   "source": [
    "k = (2*U)/M.pow(x,2)\n",
    "print(\"Spring constant: \", round(k), \"N/m\")\n"
   ]
  },
  {
   "cell_type": "markdown",
   "metadata": {},
   "source": [
    "# Section 7.4 Nonconservative Forces"
   ]
  },
  {
   "cell_type": "markdown",
   "metadata": {},
   "source": [
    "### Assignment 25\n",
    "You push a $33kg$ table across a $6.2m$ wide room. In the process,  \n",
    "$1.5 kJ$ of mechanical energy gets converted to internal energy of\n",
    "the table/floor system. \n",
    "\n",
    "What’s the coefficient of kinetic friction\n",
    "between table and floor?\n"
   ]
  },
  {
   "cell_type": "code",
   "execution_count": 32,
   "metadata": {},
   "outputs": [],
   "source": [
    "m = 33\n",
    "d = 6.2\n",
    "E = 1500"
   ]
  },
  {
   "cell_type": "markdown",
   "metadata": {},
   "source": [
    "$\\Delta K + \\Delta U = - \\Delta E_{int}$"
   ]
  },
  {
   "cell_type": "markdown",
   "metadata": {},
   "source": [
    "$\\Delta E_{int} = f_kd = \\mu mgd = 1500$  \n",
    " \n",
    "$\\mu = \\frac{1500}{mgd}$"
   ]
  },
  {
   "cell_type": "code",
   "execution_count": 35,
   "metadata": {},
   "outputs": [
    {
     "name": "stdout",
     "output_type": "stream",
     "text": [
      "Friction coefficient: 0.75\n"
     ]
    }
   ],
   "source": [
    "mu = (-1500)/(m*-g*d)\n",
    "print(\"Friction coefficient:\", round(mu,2))"
   ]
  },
  {
   "cell_type": "markdown",
   "metadata": {},
   "source": [
    "# Section 7.6 Potential-Energy curves"
   ]
  },
  {
   "cell_type": "markdown",
   "metadata": {},
   "source": [
    "### Assignment 27\n",
    "A particle slides back and forth on a frictionless track whose  \n",
    "height as a function of horizontal position x is $y = ax^2$, where\n",
    "$a = 0.95 m^{-1}$\n",
    "\n",
    "If the particle’s maximum speed is $9.2 m/s$, find its turning points.\n"
   ]
  },
  {
   "cell_type": "markdown",
   "metadata": {},
   "source": [
    "<img src=\"Screens/as7_27.jpg\" width = \"400\">"
   ]
  },
  {
   "cell_type": "markdown",
   "metadata": {},
   "source": [
    "  \n",
    "$U_0 = U_2 = K$  \n",
    "\n",
    "$\\Delta y \\, mg = \\frac{1}{2}mv^2$\n",
    "\n",
    "$\\Delta y = \\frac{v^2}{2g}$\n",
    "\n",
    "$h = \\frac{\\Delta y}{2}$\n"
   ]
  },
  {
   "cell_type": "code",
   "execution_count": 40,
   "metadata": {},
   "outputs": [
    {
     "name": "stdout",
     "output_type": "stream",
     "text": [
      "h =  2.2 m\n"
     ]
    }
   ],
   "source": [
    "vMax = 9.2\n",
    "y_delta = M.pow(vMax,2)/(2*g)\n",
    "h = y_delta / 2\n",
    "print(\"h = \", round(h,1), \"m\")"
   ]
  },
  {
   "cell_type": "markdown",
   "metadata": {},
   "source": [
    "### Assignment 30\n",
    "The force in Fig. 7.14a is given by $\\vec{F_a} = F_0 \\hat{j}$ where $F_0$ is a constant.  \n",
    "\n",
    "The force in Fig.7.14b is given by $\\vec{F_b} = F_0(x/a) \\hat{j}$,  \n",
    "where the origin is at the lower left corner of the box,   \n",
    "$a$ is the width of the square box, and $x$ increases horizontally to the right.  \n",
    "\n",
    "Deterimine the work you would have to do to move an object around the perimeter of each box,   \n",
    "going clockwise at constant speed, starting at the lower left corner."
   ]
  },
  {
   "cell_type": "markdown",
   "metadata": {},
   "source": [
    "<img src=\"Screens/fig7_14.jpg\" width = \"500\">"
   ]
  },
  {
   "cell_type": "markdown",
   "metadata": {},
   "source": [
    "# Problems"
   ]
  },
  {
   "cell_type": "markdown",
   "metadata": {},
   "source": [
    "### Assignment 39\n",
    "A spring of constant $k$, compressed a distance $x$, is used to launch\n",
    "a mass $m$ up a frictionless slope at angle $\\theta$.   \n",
    "Find an expression for the maximum distance along the slope that the mass moves after leaving the spring.\n"
   ]
  },
  {
   "cell_type": "markdown",
   "metadata": {},
   "source": [
    "$U_0 = \\frac{1}{2}kx^2$  \n",
    "$U = \\Delta y \\, mg sin(\\theta)$  \n",
    "$U_0 = U$"
   ]
  },
  {
   "cell_type": "markdown",
   "metadata": {},
   "source": [
    "$\\Delta y = \\frac{kx^2}{2mg\\,sin(\\theta)}$"
   ]
  },
  {
   "cell_type": "markdown",
   "metadata": {},
   "source": [
    "### Assignment 43\n",
    "A $100g$ block slides back and forth on a frictionless surface between two springs, as shown in Fig. 7.18.   \n",
    "The left-hand spring has $k = 110 N/m$ and its maximum compression is $20 cm$.   \n",
    "The right-hand spring has $k = 240 N/m$. \n",
    "\n",
    "Find  \n",
    "**(a)** the maximum compression of the right-hand spring  \n",
    "\n",
    "**(b)** the speed of the block as it moves between the springs."
   ]
  },
  {
   "cell_type": "markdown",
   "metadata": {},
   "source": [
    "<img src=\"Screens/fig7_18.jpg\" width = \"500\">"
   ]
  },
  {
   "cell_type": "markdown",
   "metadata": {},
   "source": [
    "#### a)"
   ]
  },
  {
   "cell_type": "code",
   "execution_count": 52,
   "metadata": {},
   "outputs": [],
   "source": [
    "m = 0.1\n",
    "k1 = 110\n",
    "x1 = 0.2\n",
    "k2 = 240"
   ]
  },
  {
   "cell_type": "code",
   "execution_count": 50,
   "metadata": {},
   "outputs": [
    {
     "data": {
      "image/png": "[encoded data removed]",
      "text/latex": [
       "$\\displaystyle 11.0$"
      ],
      "text/plain": [
       "11.0"
      ]
     },
     "execution_count": 50,
     "metadata": {},
     "output_type": "execute_result"
    }
   ],
   "source": [
    "U1 = 1/2 * k1 * x1\n",
    "U1"
   ]
  },
  {
   "cell_type": "code",
   "execution_count": 60,
   "metadata": {},
   "outputs": [
    {
     "name": "stdout",
     "output_type": "stream",
     "text": [
      "max compression of right hand spring: 0.135 m\n"
     ]
    }
   ],
   "source": [
    "x2 = M.sqrt((k1 * M.pow(x1,2))/(k2))\n",
    "print(\"max compression of right hand spring:\", round(x2,3),\"m\")"
   ]
  },
  {
   "cell_type": "markdown",
   "metadata": {},
   "source": [
    "#### b)"
   ]
  },
  {
   "cell_type": "markdown",
   "metadata": {},
   "source": [
    "$U_0 = K$\n",
    "\n",
    "$\\frac{1}{2}mv^2 = \\frac{1}{2}k_1x{_1}^2$\n",
    "\n",
    "$v = \\sqrt{\\frac{k_1 x{_1}^2}{m}}$ "
   ]
  },
  {
   "cell_type": "code",
   "execution_count": 69,
   "metadata": {},
   "outputs": [
    {
     "name": "stdout",
     "output_type": "stream",
     "text": [
      "velocity between springs: 6.63 m/s\n"
     ]
    }
   ],
   "source": [
    "v = M.sqrt((k1*M.pow(x1,2))/(m))\n",
    "print(\"velocity between springs:\",round(v,2),\"m/s\")"
   ]
  },
  {
   "cell_type": "markdown",
   "metadata": {},
   "source": [
    "### Assignment 45\n",
    "A block slides on the frictionless loop-the-loop track shown in Fig. 7.19. \n",
    "\n",
    "Find the minimum height $h$ at which it can start from rest and still make it around the loop."
   ]
  },
  {
   "cell_type": "markdown",
   "metadata": {},
   "source": [
    "<img src=\"Screens/fig7_19.jpg\" width = \"500\">"
   ]
  },
  {
   "cell_type": "markdown",
   "metadata": {},
   "source": [
    "<img src=\"Screens/as7_45.jpg\" width = \"500\">"
   ]
  },
  {
   "cell_type": "markdown",
   "metadata": {},
   "source": [
    "###### Defining states:\n",
    "$U_0 = h \\,mg$  \n",
    "$U_1 = 2r mg$  \n",
    "$K_1 = \\frac{1}{2}mv^2$  \n",
    "\n",
    "\n",
    "\n",
    "\n"
   ]
  },
  {
   "cell_type": "markdown",
   "metadata": {},
   "source": [
    "###### Conservation of energy:\n",
    "\n",
    "$U_0 = U_1 + K_1$  \n",
    "\n",
    "$hmg = 2rmg + \\frac{1}{2}mv^2$\n",
    "\n"
   ]
  },
  {
   "cell_type": "markdown",
   "metadata": {},
   "source": [
    "###### min speed: \n",
    "$v = \\sqrt{rg}$"
   ]
  },
  {
   "cell_type": "markdown",
   "metadata": {},
   "source": [
    "###### Solving for h\n",
    "$hmg = 2rmg + \\frac{1}{2}mrg$\n",
    "\n",
    "$h = 2r + \\frac{1}{2}r$\n",
    "\n",
    "$h = \\frac{5}{2} r$"
   ]
  },
  {
   "cell_type": "markdown",
   "metadata": {},
   "source": [
    "### Assignment 54\n",
    "A bug slides back and forth in a bowl $15$ cm deep, starting from rest at the top, as shown in Fig. 7.20.  \n",
    "The bowl is frictionless except for a $1.4cm$-wide sticky patch on its flat bottom,  \n",
    "where the coefficient of friction is $0.89$. \n",
    "\n",
    "How many times does the bug cross the sticky region?\n"
   ]
  },
  {
   "cell_type": "markdown",
   "metadata": {},
   "source": [
    "<img src=\"Screens/fig7_20.jpg\" width = \"500\">"
   ]
  },
  {
   "cell_type": "markdown",
   "metadata": {},
   "source": [
    "$\\Delta K + \\Delta U = -f_kd$  \n",
    "$\\Delta y \\, mg + \\frac{1}{2}mv^2 = - \\mu Nd n$  \n",
    "$n =$ n times passed  \n",
    "$N = mg$\n",
    "\n",
    "$\\Delta y \\, mg + \\frac{1}{2}mv^2 = - \\mu mgd n$  \n",
    "$\\Delta y \\, g + \\frac{1}{2}v^2 = - \\mu gd n$  \n",
    "$v(n) = \\sqrt{-2\\mu gdn-2\\Delta y g}$\n",
    "\n",
    "Solving for $v(n) = 0$  \n",
    "$v(n) = 0 \\Rightarrow -2\\mu gdn-2\\Delta y g = 0$  \n",
    "$-2\\mu gdn= 2\\Delta y g$  \n",
    "$-\\mu dn=\\Delta y $  \n",
    "$n = -\\frac{\\Delta y}{ud} = -12$  \n",
    "oops, pretending $n = |n| \\Rightarrow n = 12$\n"
   ]
  },
  {
   "cell_type": "code",
   "execution_count": 4,
   "metadata": {},
   "outputs": [
    {
     "data": {
      "image/png": "[encoded data removed]",
      "text/latex": [
       "$\\displaystyle 12.03852327447833$"
      ],
      "text/plain": [
       "12.03852327447833"
      ]
     },
     "execution_count": 4,
     "metadata": {},
     "output_type": "execute_result"
    }
   ],
   "source": [
    "y_delta = 0.15\n",
    "mu = 0.89\n",
    "d = 0.014\n",
    "nTimes = (y_delta)/(mu*d)\n",
    "nTimes"
   ]
  },
  {
   "cell_type": "markdown",
   "metadata": {},
   "source": [
    "### Assignment 55\n",
    "A $182g$ block is launched by compressing a spring of constant $k = 200 N/m$ by $15 cm$.  \n",
    "The spring is mounted horizontally, and the surface directly under it is frictionless.  \n",
    "But beyond the equilibrium position of the spring end, the surface has frictional\n",
    "coefficient $\\mu = 0.27$ \n",
    "\n",
    "This frictional surface extends $85 cm$, followed by a frictionless curved rise, as shown in Fig. 7.21.  \n",
    "After it’s launched, where does the block finally come to rest?  \n",
    "Measure from the left end of the frictional zone.\n"
   ]
  },
  {
   "cell_type": "markdown",
   "metadata": {},
   "source": [
    "<img src=\"Screens/fig7_21.jpg\" width = \"500\">"
   ]
  },
  {
   "cell_type": "code",
   "execution_count": 5,
   "metadata": {},
   "outputs": [
    {
     "data": {
      "image/png": "[encoded data removed]",
      "text/latex": [
       "$\\displaystyle 170.0$"
      ],
      "text/plain": [
       "170.0"
      ]
     },
     "execution_count": 5,
     "metadata": {},
     "output_type": "execute_result"
    }
   ],
   "source": [
    "mu = 200\n",
    "d = 0.85\n",
    "y_delta = mu * d\n",
    "y_delta"
   ]
  },
  {
   "cell_type": "markdown",
   "metadata": {},
   "source": [
    "### Assignment 57\n",
    "An $710kg$ roller-coaster car is launched from a giant spring  \n",
    "with $k = 34 kN/m$ into a frictionless loop-the-loop track of  \n",
    "radius $7.5 m$, as shown in Fig. 7.23. \n",
    "\n",
    "What’s the minimum spring compression that will ensure the car stays on the track?"
   ]
  },
  {
   "cell_type": "markdown",
   "metadata": {},
   "source": [
    "<img src=\"Screens/fig7_23.jpg\" width = \"500\">"
   ]
  },
  {
   "cell_type": "markdown",
   "metadata": {},
   "source": [
    "$U_0 = U_1 + K1 $\n",
    "\n",
    "$\\frac{1}{2}kx^2 = 2rmg + \\frac{1}{2}mv^2$\n",
    "\n",
    "$v_{min} = \\sqrt{rg}$\n",
    "\n",
    "$x = \\sqrt{\\frac{4m(g+v{_{min}}^2)}{k}}$"
   ]
  },
  {
   "cell_type": "code",
   "execution_count": 6,
   "metadata": {},
   "outputs": [
    {
     "name": "stdout",
     "output_type": "stream",
     "text": [
      "miniumum spring compression: 2.64 m\n"
     ]
    }
   ],
   "source": [
    "m = 710\n",
    "k = 34000\n",
    "r = 7.5\n",
    "v_min = M.sqrt(r*g)\n",
    "x = M.sqrt((4*m*(g+M.pow(v_min,2)))/k)\n",
    "print(\"miniumum spring compression:\", round(x,2),\"m\" )"
   ]
  },
  {
   "cell_type": "markdown",
   "metadata": {},
   "source": [
    "### Assignment 60\n"
   ]
  },
  {
   "cell_type": "markdown",
   "metadata": {},
   "source": [
    "A bug lands on top of the frictionless, spherical head of a bald man.  \n",
    "It begins to slide down his head (Fig. 7.24).   \n",
    "Show that the bug leaves the head when it has dropped a vertical distance one-third of the head’s radius.\n"
   ]
  },
  {
   "cell_type": "markdown",
   "metadata": {},
   "source": [
    "<img src=\"Screens/fig7_24.jpg\" width = \"500\">"
   ]
  },
  {
   "cell_type": "markdown",
   "metadata": {},
   "source": [
    "$\\frac{1}{2}\\cdot \\frac{1}{3}rmg = \\frac{1}{2}mg\\Delta y$\n",
    "\n",
    "$\\frac{1}{6}r = \\frac{1}{2}\\Delta y $\n",
    "\n",
    "$r = 3\\Delta y$\n",
    "\n",
    "$\\Delta y = \\frac{r}{3}$"
   ]
  },
  {
   "cell_type": "markdown",
   "metadata": {},
   "source": [
    "Doesn't really prove anything but that's all I got : )"
   ]
  }
 ],
 "metadata": {
  "kernelspec": {
   "display_name": "Python 3",
   "language": "python",
   "name": "python3"
  },
  "language_info": {
   "codemirror_mode": {
    "name": "ipython",
    "version": 3
   },
   "file_extension": ".py",
   "mimetype": "text/x-python",
   "name": "python",
   "nbconvert_exporter": "python",
   "pygments_lexer": "ipython3",
   "version": "3.8.5"
  }
 },
 "nbformat": 4,
 "nbformat_minor": 4
}
