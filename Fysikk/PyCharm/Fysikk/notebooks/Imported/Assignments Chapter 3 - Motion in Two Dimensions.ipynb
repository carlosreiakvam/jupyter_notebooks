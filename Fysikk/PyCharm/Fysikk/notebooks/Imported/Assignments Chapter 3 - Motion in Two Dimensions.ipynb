{
 "cells": [
  {
   "cell_type": "markdown",
   "metadata": {},
   "source": [
    "# Mechanics in 2 and 3 dimensions\n",
    "#### Essential University Physics, chapter 3"
   ]
  },
  {
   "cell_type": "markdown",
   "metadata": {},
   "source": [
    "Assignements: 13,18,21,23"
   ]
  },
  {
   "cell_type": "code",
   "execution_count": 77,
   "metadata": {},
   "outputs": [
    {
     "data": {
      "text/plain": "<IPython.core.display.HTML object>",
      "text/html": "<style>\n.rendered_html table {\n    margin-right:50px;\n}\ntable {float:left}\nimg {float:left}\nh2 {color: black}\nh4 {color: #0000cc}\n</style>\n\n"
     },
     "metadata": {},
     "output_type": "display_data"
    }
   ],
   "source": [
    "%%html\n",
    "<style>\n",
    ".rendered_html table {\n",
    "    margin-right:50px;\n",
    "}\n",
    "table {float:left}\n",
    "img {float:left}\n",
    "h2 {color: black}\n",
    "h4 {color: #0000cc}\n",
    "</style>"
   ]
  },
  {
   "cell_type": "code",
   "execution_count": 78,
   "metadata": {},
   "outputs": [],
   "source": [
    "import numpy as np\n",
    "import math as m"
   ]
  },
  {
   "cell_type": "markdown",
   "metadata": {},
   "source": [
    "### Assignment 1\n",
    "When can you replace the vector sum of two velocities or accelerations by simple summation? Can you do this for more than\n",
    "two velocities or accelerations?"
   ]
  },
  {
   "cell_type": "markdown",
   "metadata": {},
   "source": [
    "<img src=\"./Screens/As3_1.jpg\" width=\"300\">"
   ]
  },
  {
   "cell_type": "markdown",
   "metadata": {},
   "source": [
    "As long as the angles are equal, the vector sum is a simple summation of the vector lengths. You can do this for any number of velocity or acceleration vectors."
   ]
  },
  {
   "cell_type": "markdown",
   "metadata": {},
   "source": [
    "### Assignment 2\n",
    "Can two vectors of equal magnitude sum to zero? How about two\n",
    "vectors of unequal magnitude?"
   ]
  },
  {
   "cell_type": "markdown",
   "metadata": {},
   "source": [
    "Both scenarios are possible if the angles are equal, as illustrated in assignment 1."
   ]
  },
  {
   "cell_type": "markdown",
   "metadata": {},
   "source": [
    "### Assignment 3\n",
    "Repeat Question 2 for three vectors."
   ]
  },
  {
   "cell_type": "markdown",
   "metadata": {},
   "source": [
    "I can not find a way to sum three equal vectors to 0\n",
    "<img src=\"Screens/As3_3_1.jpg\" width=\"300\">\n",
    "\n",
    "Three vectors of unequal length sums to zero\n",
    "<img src=\"Screens/As3_3_2.jpg\" width=\"300\">"
   ]
  },
  {
   "cell_type": "markdown",
   "metadata": {},
   "source": [
    "### Assignment 4\n",
    "Can an object have a southward acceleration while moving north-\n",
    "ward? A westward acceleration while moving northward?"
   ]
  },
  {
   "cell_type": "markdown",
   "metadata": {},
   "source": [
    "### Assignement 13\n",
    "You walk west 250 m, then north 160 m. What are the magnitude\n",
    "and direction of your displacement vector?"
   ]
  },
  {
   "cell_type": "markdown",
   "metadata": {},
   "source": [
    "<img src=\"Screens/Assignement_3_13.png\" width=\"300\">"
   ]
  },
  {
   "cell_type": "markdown",
   "metadata": {},
   "source": [
    "![tekst](Screens/Assignement_3_13.png)"
   ]
  },
  {
   "cell_type": "markdown",
   "metadata": {},
   "source": [
    "Displacement vector: $\\sqrt{250^2 + 160^2} = 296.8m$  \n",
    "$\\theta = tan^{-1}160/250 = 32.6 ^\\circ$  \n",
    "Direction relative to standard polar/carthesian:\n",
    "$180 - 32.6 = 147.4^\\circ$ "
   ]
  },
  {
   "cell_type": "code",
   "execution_count": 79,
   "metadata": {},
   "outputs": [
    {
     "data": {
      "text/plain": "32.61924307119283"
     },
     "execution_count": 79,
     "metadata": {},
     "output_type": "execute_result"
    }
   ],
   "source": [
    "m.sqrt(m.pow(250,2)+m.pow(160,2))\n",
    "m.degrees(m.atan(160/250))"
   ]
  },
  {
   "cell_type": "markdown",
   "metadata": {},
   "source": [
    "### Assignment 15\n",
    " A migrating whale follows the west coast of Mexico and North\n",
    "America toward its summer home in Alaska. It first travels 360\n",
    "km northwest to just off the coast of northern California, and then\n",
    "turns due north and travels 400 km toward its destination. Determine graphically the magnitude and direction of its displacement."
   ]
  },
  {
   "cell_type": "markdown",
   "metadata": {},
   "source": [
    "<img src=\"Screens/As3_15.jpg\" width=\"400\" style=\"float:left\">"
   ]
  },
  {
   "cell_type": "markdown",
   "metadata": {},
   "source": [
    "### Assignement 18\n",
    "Find the magnitude of the vector $33\\hat{i} + 14\\hat{j} $ and determine its angle to the x-axis."
   ]
  },
  {
   "cell_type": "markdown",
   "metadata": {},
   "source": [
    "$v = \\sqrt{33^2 + 14^2} = 36$  \n",
    "$\\theta = tan^{-1}(\\frac{14}{33}) = 23^\\circ$  \n",
    "No need for correction of angle as both points are in first quadrant"
   ]
  },
  {
   "cell_type": "code",
   "execution_count": 80,
   "metadata": {},
   "outputs": [
    {
     "data": {
      "text/plain": "35.84689665786984"
     },
     "execution_count": 80,
     "metadata": {},
     "output_type": "execute_result"
    }
   ],
   "source": [
    "m.sqrt(m.pow(33,2) + m.pow(14,2))"
   ]
  },
  {
   "cell_type": "code",
   "execution_count": 81,
   "metadata": {},
   "outputs": [
    {
     "data": {
      "text/plain": "22.98871680208064"
     },
     "execution_count": 81,
     "metadata": {},
     "output_type": "execute_result"
    }
   ],
   "source": [
    "m.degrees(m.atan(14/33))"
   ]
  },
  {
   "cell_type": "markdown",
   "metadata": {},
   "source": [
    "### Assignement 21\n",
    "\n",
    "An object is moving at 18 m/s at 220° counterclockwise from the\n",
    "x-axis. Find the x- and y-components of its velocity."
   ]
  },
  {
   "cell_type": "markdown",
   "metadata": {},
   "source": [
    "$\\theta = 220^\\circ$  \n",
    "$v =$ hypotenuse $ = 18$\n",
    "\n",
    "$cos(\\theta) = adjacent/hypotenuse$  \n",
    "$cos(\\theta) = x\\hat{i} / v$  \n",
    "$x\\hat{i} = cos(220) \\cdot 18 = -14$\n",
    "\n",
    "$sin(\\theta) = opposite/hypotenuse$  \n",
    "$sin(\\theta) = x\\hat{j} / v$  \n",
    "$x\\hat{i} = sin(220) \\cdot 18 = -12$"
   ]
  },
  {
   "cell_type": "code",
   "execution_count": 82,
   "metadata": {},
   "outputs": [
    {
     "data": {
      "text/plain": "-13.788799976141604"
     },
     "execution_count": 82,
     "metadata": {},
     "output_type": "execute_result"
    }
   ],
   "source": [
    "m.cos(m.radians(220))*18"
   ]
  },
  {
   "cell_type": "code",
   "execution_count": 83,
   "metadata": {},
   "outputs": [
    {
     "data": {
      "text/plain": "-11.570176974357707"
     },
     "execution_count": 83,
     "metadata": {},
     "output_type": "execute_result"
    }
   ],
   "source": [
    "m.sin(m.radians(220))*18"
   ]
  },
  {
   "cell_type": "markdown",
   "metadata": {},
   "source": [
    "### Assignement 23\n",
    "An object’s velocity is $\\vec{v} = ct^3\\hat{i} + d\\hat{j}$, where t is time and c and d are positive constants with appropriate units.   \n",
    "What’s the direction of the object’s acceleration?"
   ]
  },
  {
   "cell_type": "markdown",
   "metadata": {},
   "source": [
    "$\\vec{a} = \\frac{d\\vec{v}}{dt} = 3ct^2 \\hat{i}$  \n",
    "The direction of the acceleration is in the positive $\\hat{i}$ direction, meaning positive on the x-axis."
   ]
  },
  {
   "cell_type": "markdown",
   "metadata": {},
   "source": [
    "### Assignment 28 (Needs correction)\n",
    "You’re a pilot beginning a 1600-km flight. Your plane’s speed is 1200 km/h, and air traffic control says you’ll have to head 15° west of south to maintain a southward course. If the flight takes 110 min, what’s the wind velocity?\n"
   ]
  },
  {
   "cell_type": "markdown",
   "metadata": {},
   "source": [
    "<img src=\"Screens/As_3_28.png\" width=\"300\" style=\"float:left\">"
   ]
  },
  {
   "cell_type": "markdown",
   "metadata": {},
   "source": [
    "Let positive direction equal south  \n",
    "$\\vec{v}_{AC} = 1200 sin(15^\\circ)i + 1200 cos(15^\\circ)j$  \n",
    "$\\vec{v}_{AB} = 0i + \\frac{1600km}{110min}\\cdot 60minj$  \n",
    "$|\\vec{v}_{CB}| = \\sqrt{ (ABi-ACi)^2 + ( ABj-ACj)^2 }$  \n",
    "$|\\vec{v}_{CB}| = 422km/h$"
   ]
  },
  {
   "cell_type": "code",
   "execution_count": 84,
   "metadata": {},
   "outputs": [
    {
     "data": {
      "text/plain": "422.46578995245653"
     },
     "execution_count": 84,
     "metadata": {},
     "output_type": "execute_result"
    }
   ],
   "source": [
    "v_AC = np.array([1200*m.sin(m.radians(15)),1200*m.cos(m.radians(15))])\n",
    "v_AB = np.array([0,1600/(110/60)])\n",
    "v_CB = v_AC - v_AB\n",
    "CB = m.sqrt(m.pow(v_CB[0],2)+m.pow(v_CB[1],2))\n",
    "CB"
   ]
  },
  {
   "cell_type": "markdown",
   "metadata": {},
   "source": [
    "### Assignment 29\n",
    "You wish to row straight across a 63-m-wide river. You can row\n",
    "at a steady 1.3 m/s relative to the water, and the river flows at\n",
    "0.57 m/s.  \n",
    "(a) What direction should you head?  \n",
    "(b) How long will it take you to cross the river?  "
   ]
  },
  {
   "cell_type": "markdown",
   "metadata": {},
   "source": [
    "<img src=\"Screens/As_3_29.png\" width=\"300\" style=\"float:left\">"
   ]
  },
  {
   "cell_type": "markdown",
   "metadata": {},
   "source": [
    "#### a)\n",
    "$\\theta_{ABC} = sin^{-1}(0.57/1.3)$"
   ]
  },
  {
   "cell_type": "code",
   "execution_count": 85,
   "metadata": {},
   "outputs": [
    {
     "name": "stdout",
     "output_type": "stream",
     "text": [
      "26.01 degrees north of east\n"
     ]
    }
   ],
   "source": [
    "theta_ABC = m.degrees(m.asin(0.57/1.3))\n",
    "print(round(theta_ABC,2),'degrees north of east')"
   ]
  },
  {
   "cell_type": "markdown",
   "metadata": {},
   "source": [
    "#### b)\n",
    "$cos(\\theta_{ABC}) = 63m / x_a$   \n",
    "\n",
    "$x_a = 63m / cos(\\theta_{ABC})$  \n",
    "\n",
    "$t_a = x_a / 1.3m/s$"
   ]
  },
  {
   "cell_type": "code",
   "execution_count": 86,
   "metadata": {},
   "outputs": [
    {
     "name": "stdout",
     "output_type": "stream",
     "text": [
      "time to cross = 53.92 s\n"
     ]
    }
   ],
   "source": [
    "x_a = 63/m.cos(m.radians(theta_ABC))\n",
    "t_a = x_a / 1.3\n",
    "print('time to cross =',round(t_a,2) ,'s')"
   ]
  },
  {
   "cell_type": "markdown",
   "metadata": {},
   "source": [
    "### Assignment 30\n",
    "A plane with airspeed 320 km/h flies perpendicularly across the jet stream, its nose pointed into the jet stream at 38° from the perpendicular direction of its flight. Find the speed of the jet stream.\n",
    "<img src=\"Screens/As_3_30.png\" width=\"300\">"
   ]
  },
  {
   "cell_type": "code",
   "execution_count": 87,
   "metadata": {},
   "outputs": [
    {
     "name": "stdout",
     "output_type": "stream",
     "text": [
      "Airspeed v_c = 197.01 km/h\n"
     ]
    }
   ],
   "source": [
    "theta_ABC = m.radians(180-90-38)\n",
    "v_b = 320\n",
    "v_c = m.cos(theta_ABC) * v_b\n",
    "print('Airspeed v_c =', round(v_c,2),'km/h')"
   ]
  },
  {
   "cell_type": "markdown",
   "metadata": {},
   "source": [
    "### Assignment 31\n",
    "A flock of geese is attempting to migrate due south, but the wind is blowing from the west at 4.9 m/s. If the birds can fly at 7.6 m/s relative to the air, what direction should they head?\n",
    "<img src=\"Screens/As_3_31.png\" width=\"200\">"
   ]
  },
  {
   "cell_type": "markdown",
   "metadata": {},
   "source": [
    "$\\theta_{CAB} = sin^{-1}(\\frac{4.9}{7.6})$"
   ]
  },
  {
   "cell_type": "code",
   "execution_count": 88,
   "metadata": {},
   "outputs": [
    {
     "name": "stdout",
     "output_type": "stream",
     "text": [
      "40.15 degrees west of south\n"
     ]
    }
   ],
   "source": [
    "theta_CAB = m.degrees(m.asin(4.9/7.6))\n",
    "print(round(theta_CAB,2),'degrees west of south')"
   ]
  },
  {
   "cell_type": "markdown",
   "metadata": {},
   "source": [
    "### Assignment 34\n",
    "You toss an apple horizontally at 8.1 m/s from a height of 2.8 m.\n",
    "Simultaneously, you drop a peach from the same height. How\n",
    "long does each take to reach the ground?"
   ]
  },
  {
   "cell_type": "markdown",
   "metadata": {},
   "source": [
    "<img src=\"Screens/As3_34.jpg\" width=\"300\">"
   ]
  },
  {
   "cell_type": "markdown",
   "metadata": {},
   "source": [
    "$y = y_0 + v_{y0}t - \\frac{1}{2}gt^2$  "
   ]
  },
  {
   "cell_type": "markdown",
   "metadata": {},
   "source": [
    "$y_0 = 0$  \n",
    "$v_{y0} = 0$  \n",
    "$y = 2.8m$  \n",
    "$y = - \\frac{1}{2}gt^2$  \n",
    "$t = \\sqrt{-\\frac{2y}{(-g)}} \\Rightarrow t = \\sqrt{\\frac{2y}{g}}$  \n",
    "$t = 0.75s$"
   ]
  },
  {
   "cell_type": "code",
   "execution_count": 89,
   "metadata": {},
   "outputs": [
    {
     "data": {
      "text/plain": "0.755543562895768"
     },
     "execution_count": 89,
     "metadata": {},
     "output_type": "execute_result"
    }
   ],
   "source": [
    "m.sqrt(2*2.8/9.81)"
   ]
  },
  {
   "cell_type": "markdown",
   "metadata": {},
   "source": [
    "y and x are independent so the x direction is irrelevant in this situation. The only force acting upon the bodies is acceleration = -g."
   ]
  },
  {
   "cell_type": "markdown",
   "metadata": {},
   "source": [
    "### Assignment 35\n",
    "A carpenter tosses a shingle horizontally off an $8.2m$-high roof\n",
    "at $14 m/s$.  \n",
    "\n",
    "(a) How long does it take the shingle to reach the\n",
    "ground?  \n",
    "(b) How far does it move horizontally?"
   ]
  },
  {
   "cell_type": "markdown",
   "metadata": {},
   "source": [
    "$v_x = v_{x0}$  \n",
    "$v_y = v_{y0}-gt$  \n",
    "$x = x_0 + v_{x0}t$  \n",
    "$y = y_0 + v_{y0}t - \\frac{1}{2}gt^2$"
   ]
  },
  {
   "cell_type": "markdown",
   "metadata": {},
   "source": [
    "#### a) \n",
    "\n",
    "$v_x = 14 m/s$  \n",
    "$v_{y0} = 0$  \n",
    "$y_0 = 0$\n",
    "$y = 8.2m $"
   ]
  },
  {
   "cell_type": "markdown",
   "metadata": {},
   "source": [
    "$y = -\\frac{1}{2}gt^2$\n",
    "$t = \\sqrt{\\frac{2y}{g}}$  \n",
    "$t = \\sqrt{\\frac{2\\cdot{8.2}}{9.81}} = 1.3s$"
   ]
  },
  {
   "cell_type": "code",
   "execution_count": 90,
   "metadata": {},
   "outputs": [
    {
     "data": {
      "text/plain": "1.2929669394945456"
     },
     "execution_count": 90,
     "metadata": {},
     "output_type": "execute_result"
    }
   ],
   "source": [
    "m.sqrt(2*8.2/9.81)"
   ]
  },
  {
   "cell_type": "markdown",
   "metadata": {},
   "source": [
    "#### b)\n",
    "$x = x_0 + v_{x0}t = v_{x0}t$  \n",
    "$x =14m/s^2 \\cdot 1.3s = 18.2m $"
   ]
  },
  {
   "cell_type": "code",
   "execution_count": 91,
   "metadata": {},
   "outputs": [
    {
     "data": {
      "text/plain": "18.2"
     },
     "execution_count": 91,
     "metadata": {},
     "output_type": "execute_result"
    }
   ],
   "source": [
    "14*1.3"
   ]
  },
  {
   "cell_type": "markdown",
   "metadata": {},
   "source": [
    "### Assignment 36\n",
    "An arrow fired horizontally at $35 m/s$ travels $23m$ horizontally.\n",
    "From what height was it fired?"
   ]
  },
  {
   "cell_type": "markdown",
   "metadata": {},
   "source": [
    "<img src=\"Screens/As3_36.jpg\" width=\"300\">"
   ]
  },
  {
   "cell_type": "markdown",
   "metadata": {},
   "source": [
    "$v_x = 35m/s$  \n",
    "$x_0 = 0$  \n",
    "$x = 23m$  "
   ]
  },
  {
   "cell_type": "markdown",
   "metadata": {},
   "source": [
    "$x = v_{x0}t \\Rightarrow t = \\frac{x}{v_{x0}}$  \n",
    "$t = \\frac{23m}{35m/s} = 0.65s$"
   ]
  },
  {
   "cell_type": "markdown",
   "metadata": {},
   "source": [
    "$y = -\\frac{1}{2}gt^2$  \n",
    "$y = - \\frac{1}{2}\\cdot(-9.81)\\cdot 0.65^2 = 2.11m $"
   ]
  },
  {
   "cell_type": "code",
   "execution_count": 92,
   "metadata": {},
   "outputs": [
    {
     "data": {
      "text/plain": "2.1181591836734697"
     },
     "execution_count": 92,
     "metadata": {},
     "output_type": "execute_result"
    }
   ],
   "source": [
    "-(1/2)*(-9.81)*m.pow((23/35),2)"
   ]
  },
  {
   "cell_type": "markdown",
   "metadata": {},
   "source": [
    "### Assignment 37\n",
    "Droplets in an ink-jet printer are ejected horizontally at 12 m/s\n",
    "and travel a horizontal distance of 1.0 mm to the paper. How far\n",
    "do they fall in this interval?"
   ]
  },
  {
   "cell_type": "markdown",
   "metadata": {},
   "source": [
    "$v_x = v_x0 = 12m/s$  \n",
    "$x = 10^{-3}m$  \n",
    "$x = x_0 + v_{x0}t \\Rightarrow t = \\frac{x}{v_{x0}}$  \n",
    "$t = \\frac {10^{-3}m}{12m/s}$"
   ]
  },
  {
   "cell_type": "markdown",
   "metadata": {},
   "source": [
    "$y = y_0 + v_{y0}t - \\frac{1}{2}gt^2$  \n",
    "$y = - \\frac{1}{2}gt^2$  \n",
    "$y = -\\frac{1}{2} \\cdot(-9.81)\\cdot(8.3\\cdot10^{-5}s)^2$  \n",
    "$y = 3.40 \\cdot 10^{-8}m = 34.0nm$"
   ]
  },
  {
   "cell_type": "code",
   "execution_count": 93,
   "metadata": {},
   "outputs": [
    {
     "data": {
      "text/plain": "3.40625e-08"
     },
     "execution_count": 93,
     "metadata": {},
     "output_type": "execute_result"
    }
   ],
   "source": [
    "y = -(1/2)*(-9.81)*m.pow((0.001/12),2)\n",
    "y"
   ]
  },
  {
   "cell_type": "markdown",
   "metadata": {},
   "source": [
    "### Assignment 39\n",
    "If you can hit a golf ball 170 m on Earth, how far can you hit it\n",
    "on the Moon? (Your answer will be an underestimate because it\n",
    "neglects air resistance on Earth.)"
   ]
  },
  {
   "cell_type": "markdown",
   "metadata": {},
   "source": [
    "Moons gravity = $1.62m/s^2$  \n",
    "Ratio between the moon and earth's gravity: $\\frac{9.81}{1.62}$  \n",
    "Golf ball on the moon will therefor be launched $170m\\cdot \\frac{9.81}{1.62} = 1029m$"
   ]
  },
  {
   "cell_type": "code",
   "execution_count": 94,
   "metadata": {},
   "outputs": [
    {
     "data": {
      "text/plain": "1029.4444444444443"
     },
     "execution_count": 94,
     "metadata": {},
     "output_type": "execute_result"
    }
   ],
   "source": [
    "170* (9.81/1.62)"
   ]
  },
  {
   "cell_type": "markdown",
   "metadata": {},
   "source": [
    "### Example 3.5 \n",
    "p44, 4th edition.\n",
    "\n",
    "A construction worker stands in a 2.6m deep hole, 3.1 m from the edge\n",
    "of the hole. He tosses a hammer to a companion outside the hole. If the\n",
    "hammer leaves his hand 1.0 m above the bottom of the hole at an angle\n",
    "of 35°, what’s the minimum speed it needs to clear the edge of the hole?\n",
    "How far from the edge of the hole does it land?"
   ]
  },
  {
   "cell_type": "code",
   "execution_count": 95,
   "metadata": {},
   "outputs": [
    {
     "name": "stdout",
     "output_type": "stream",
     "text": [
      "v_0 = 11.09 m/s\n"
     ]
    }
   ],
   "source": [
    "# check book for explanation\n",
    "x_edge = 3.1\n",
    "y = 1.6\n",
    "g = 9.8\n",
    "theta = 35\n",
    "teller = g*m.pow(x_edge,2)\n",
    "nevner = 2*m.pow(m.cos(m.radians(theta)),2)*(x_edge*m.tan(m.radians(theta))-y)\n",
    "v_0 = m.sqrt(teller/nevner)\n",
    "print('v_0 =',round(v_0,2), 'm/s')"
   ]
  },
  {
   "cell_type": "code",
   "execution_count": 96,
   "metadata": {},
   "outputs": [
    {
     "data": {
      "text/plain": "array([8.69194365, 3.1       ])"
     },
     "execution_count": 96,
     "metadata": {},
     "output_type": "execute_result"
    }
   ],
   "source": [
    "# Quadratic formula with ax^2+bx+c\n",
    "a = g / (2*m.pow(v_0,2)*m.pow(m.cos(m.radians(theta)),2))\n",
    "b = -m.tan(m.radians(theta))\n",
    "c = y\n",
    "coeff = [a,b,c]\n",
    "x = np.roots(coeff)\n",
    "x"
   ]
  },
  {
   "cell_type": "code",
   "execution_count": 97,
   "metadata": {},
   "outputs": [
    {
     "name": "stdout",
     "output_type": "stream",
     "text": [
      "The hammer lands 5.6 m from the edge\n"
     ]
    }
   ],
   "source": [
    "print('The hammer lands',round(x[0]-x[1],1),'m from the edge')"
   ]
  },
  {
   "cell_type": "markdown",
   "metadata": {},
   "source": [
    "### Assignment 40\n",
    "China’s high-speed rail network calls for a minimum turn radius\n",
    "of 7.0 km for 350-km/h trains. What’s the magnitude of a train’s\n",
    "acceleration in this case?"
   ]
  },
  {
   "cell_type": "markdown",
   "metadata": {},
   "source": [
    "$v = \\frac{350\\cdot10^3}{60\\cdot60}$\n",
    "\n",
    "$r = 7000$\n",
    "\n",
    "$a = \\frac{v^2}{r}$\n",
    "\n",
    "$a = 1.35m/s^2$"
   ]
  },
  {
   "cell_type": "code",
   "execution_count": 98,
   "metadata": {},
   "outputs": [
    {
     "data": {
      "text/plain": "1.3503086419753088"
     },
     "execution_count": 98,
     "metadata": {},
     "output_type": "execute_result"
    }
   ],
   "source": [
    "v = 350*1000/(60*60)\n",
    "r = 7000\n",
    "a = m.pow(v,2)/r\n",
    "a"
   ]
  },
  {
   "cell_type": "markdown",
   "metadata": {},
   "source": [
    "### Assignment 41\n",
    "The minute hand of a clock is 7.50 cm long. Find the magnitude\n",
    "of the acceleration of its tip."
   ]
  },
  {
   "cell_type": "markdown",
   "metadata": {},
   "source": [
    "$r = 7.5 \\cdot 10^{-2}m$"
   ]
  },
  {
   "cell_type": "markdown",
   "metadata": {},
   "source": [
    "circumference of $1h = 2\\pi r \\Rightarrow v = \\frac{2 \\pi r}{h} = \\frac{2 \\pi r}{60\\cdot60s} $  \n"
   ]
  },
  {
   "cell_type": "markdown",
   "metadata": {},
   "source": [
    "$a = \\frac{v^2}{r} = \\left( \\frac{2\\pi r}{60^2s}\\right) ^2\\frac{1}{r}$  "
   ]
  },
  {
   "cell_type": "markdown",
   "metadata": {},
   "source": [
    "$ a = \\frac{4\\pi^2r^2}{60^4s^2\\cdot r} = \\frac{4\\pi^2 r}{60^4s^2}$"
   ]
  },
  {
   "cell_type": "markdown",
   "metadata": {},
   "source": [
    "$a = \\frac{4\\pi^2(7.5 \\cdot 10^{-2}m)}{60^4s^2}$  "
   ]
  },
  {
   "cell_type": "markdown",
   "metadata": {},
   "source": [
    "$a = 2.28\\cdot 10^{-7}m/s^2 = 0.228\\mu m/s^2 = 228nm/s^2$"
   ]
  },
  {
   "cell_type": "code",
   "execution_count": 99,
   "metadata": {},
   "outputs": [
    {
     "data": {
      "text/plain": "2.2846306484003145e-07"
     },
     "execution_count": 99,
     "metadata": {},
     "output_type": "execute_result"
    }
   ],
   "source": [
    "a = 4*m.pow(m.pi,2)*7.5*m.pow(10,-2)/m.pow(60,4)\n",
    "a"
   ]
  },
  {
   "cell_type": "markdown",
   "metadata": {},
   "source": [
    "### Assignment 42\n",
    "How fast would a car have to round a 50m radius turn for its acceleration to be numerically equal to that of gravity?\n"
   ]
  },
  {
   "cell_type": "markdown",
   "metadata": {},
   "source": [
    "$a = \\frac{v^2}{r} = g$"
   ]
  },
  {
   "cell_type": "markdown",
   "metadata": {},
   "source": [
    "$v = \\sqrt{gr} = 22.14m/s = 79.7km/h$"
   ]
  },
  {
   "cell_type": "code",
   "execution_count": 100,
   "metadata": {},
   "outputs": [
    {
     "data": {
      "text/plain": "79.73004452526037"
     },
     "execution_count": 100,
     "metadata": {},
     "output_type": "execute_result"
    }
   ],
   "source": [
    "m.sqrt(9.81 * 50)*3.6"
   ]
  },
  {
   "cell_type": "markdown",
   "metadata": {},
   "source": [
    "### Assignment 55 (UNFINISHED)\n",
    "The sum of two vectors, $\\vec{A} + \\vec{B}$ , is perpendicular to their difference, $\\vec{A} - \\vec{B}$. How do the vectors’ magnitudes compare?\n"
   ]
  },
  {
   "cell_type": "markdown",
   "metadata": {},
   "source": [
    "The two summations are perpendicular, therefore their dot product has to equal 0.\n",
    "\n",
    "$(\\vec{a}+\\vec{b}) \\cdot (\\vec{a}-\\vec{b}) = 0$  \n",
    "$\\vec{a}\\cdot\\vec{a}-\\vec{b}\\cdot\\vec{a}+\\vec{b}\\cdot\\vec{a}-\\vec{b}\\cdot\\vec{b} = 0$  \n",
    "$\\vec{a}^2-\\vec{b}^2 = 0$  \n",
    "$\\vec{a} = \\vec{b}$"
   ]
  },
  {
   "cell_type": "markdown",
   "metadata": {},
   "source": [
    "### Assignment 63\n",
    "Standing on the ground 3.0 m from a building, you want to throw a package from your 1.5-m shoulder level to someone in a window 4.2 m above the ground. At what speed and angle should you throw the package so it just barely clears the windowsill?"
   ]
  },
  {
   "cell_type": "markdown",
   "metadata": {},
   "source": [
    "<img src=\"Screens/As3_63.jpg\" width=\"400\">"
   ]
  },
  {
   "cell_type": "markdown",
   "metadata": {},
   "source": [
    "##### Interpretation\n",
    "Calculating movement as if the ball continued without interuption back to $y_0$. \n",
    "<img src=\"Screens/As3_63.jpg\" width=\"400\">\n",
    "\n"
   ]
  },
  {
   "cell_type": "markdown",
   "metadata": {},
   "source": [
    "Defining $y_0$ as top position.  \n",
    "The velocity of $v_{y1}$ is the same on both sides of the arc, but in opposite directions.\n",
    "\n",
    "<img src=\"Screens/As3_63_2.jpg\" width=\"400\">"
   ]
  },
  {
   "cell_type": "markdown",
   "metadata": {},
   "source": [
    "|Initial values  |\n",
    "|---|\n",
    "|$$v_{y0} = 0$$|\n",
    "|$$\\Delta y = 4.2m - 1.5m = 2.7m$$|\n",
    "|$$\\Delta x = 3m$$|"
   ]
  },
  {
   "cell_type": "markdown",
   "metadata": {},
   "source": [
    "|   |step|\n",
    "|---|---|\n",
    "|$$y = y_0 + v_{y0}t - \\frac{1}{2}gt^2 \\Rightarrow t = \\sqrt{\\frac{2\\Delta y}{g}}$$|1|\n",
    "|$$v_{y\\_down} = v_{y0}-gt \\Rightarrow v_{y\\_down} = -gt$$|2|\n",
    "|$$v_{y\\_up} = -v_{y\\_down} = gt$$|3|\n",
    "|$$v_x = \\frac{\\Delta x}{t} $$|4|\n",
    "|$$v = \\sqrt{{v_{y\\_up}}^2 + {v_x}^2}$$|5|\n",
    "|$$\\theta = tan^{-1}\\left(\\frac{v_y}{v_x}\\right)$$|6|"
   ]
  },
  {
   "cell_type": "code",
   "execution_count": 101,
   "metadata": {},
   "outputs": [
    {
     "name": "stdout",
     "output_type": "stream",
     "text": [
      "t = 0.742 s\n"
     ]
    }
   ],
   "source": [
    "#step 1\n",
    "delta_y = 4.2-1.5\n",
    "g = 9.81\n",
    "t = m.sqrt(2*(delta_y)/g)\n",
    "print(\"t =\",round(t,3),\"s\")"
   ]
  },
  {
   "cell_type": "code",
   "execution_count": 102,
   "metadata": {},
   "outputs": [
    {
     "name": "stdout",
     "output_type": "stream",
     "text": [
      "v_y =  7.278 m/s\n"
     ]
    }
   ],
   "source": [
    "#step 3\n",
    "v_y_up = g*t\n",
    "print(\"v_y = \",round(v_y_up,3),\"m/s\")"
   ]
  },
  {
   "cell_type": "code",
   "execution_count": 103,
   "metadata": {},
   "outputs": [
    {
     "name": "stdout",
     "output_type": "stream",
     "text": [
      "v_x =  4.044 m/s\n"
     ]
    }
   ],
   "source": [
    "#step 4\n",
    "v_x = 3/t\n",
    "print(\"v_x = \",round(v_x,3),\"m/s\")"
   ]
  },
  {
   "cell_type": "code",
   "execution_count": 104,
   "metadata": {},
   "outputs": [
    {
     "name": "stdout",
     "output_type": "stream",
     "text": [
      "v =  8.326 m/s\n"
     ]
    }
   ],
   "source": [
    "#step 5\n",
    "v = m.sqrt(m.pow(v_y_up,2)+m.pow(v_x,2))\n",
    "print(\"v = \", round(v,3), \"m/s\")"
   ]
  },
  {
   "cell_type": "code",
   "execution_count": 105,
   "metadata": {},
   "outputs": [
    {
     "name": "stdout",
     "output_type": "stream",
     "text": [
      "theta = 35 degrees\n"
     ]
    }
   ],
   "source": [
    "#step 6\n",
    "#theta = m.degrees(m.atan(v_y_opp/v_x))\n",
    "print(\"theta =\", round(theta,3),\"degrees\")"
   ]
  },
  {
   "cell_type": "markdown",
   "metadata": {},
   "source": [
    "## Assignment 71 (UNSOLVED x___X)\n",
    "A basketball player is $15 ft$ horizontally from the center of the\n",
    "basket, which is $10 ft$ off the ground. At what angle should the player aim the ball from a height of $8.2 ft$ with a speed of $26 ft/s$?"
   ]
  },
  {
   "cell_type": "markdown",
   "metadata": {},
   "source": [
    "<img src=\"Screens/As3_71a.jpg\" width=\"400\">"
   ]
  },
  {
   "cell_type": "markdown",
   "metadata": {},
   "source": [
    "$v_0 = 7.925m/s$  \n",
    "$\\Delta x = 4.572m$  \n",
    "$\\Delta y = 0.549m$  "
   ]
  },
  {
   "cell_type": "markdown",
   "metadata": {},
   "source": [
    "##### Den under her finner v_y0 fra start til slutt"
   ]
  },
  {
   "cell_type": "markdown",
   "metadata": {},
   "source": [
    "|   ||\n",
    "|---|---|\n",
    "|$t_{y\\_maks} = \\sqrt{\\frac{2\\Delta y}{g}}$| $t$ til toppen av buen|\n",
    "|$$v_{y\\_down} = v_{y0}-gt \\Rightarrow v_{y\\_down} = -gt$$| $y_0$ fra starten av buen. t er fortsatt ymaks|\n",
    "|$$v_{y0} = v_{y\\_up} = -v_{y\\_down} = gt$$||\n",
    "|$$x = \\frac{v{_0}^2}{2g}sin(2\\theta_0)$$|x frem til y_topp|\n",
    "|$$y = v_{y0}t - \\frac{1}{2}gt^2$$|y_topp|  \n",
    "|$$v_{y0} = v_0 sin \\theta \\Rightarrow \\theta = sin^{-1}\\left(\\frac{v_{y0}}{v_0}\\right)$$|Denne stemmer ikke|"
   ]
  },
  {
   "cell_type": "markdown",
   "metadata": {},
   "source": [
    "$\\Delta x = v_0 \\,cos\\theta_0 \\,t$  \n",
    "$cos\\theta_0 = \\frac{\\Delta x}{v_0 \\,t} \\Rightarrow \\theta = cos^{-1}\\left(\\frac{\\Delta x}{v_0 \\,t}\\right)$"
   ]
  },
  {
   "cell_type": "code",
   "execution_count": 106,
   "metadata": {},
   "outputs": [],
   "source": [
    "m_in_one_ft = 0.3048\n",
    "g = 9.81\n",
    "delta_x = 15*m_in_one_ft\n",
    "delta_y = (10-8.2)*m_in_one_ft\n",
    "v_0 = 26*m_in_one_ft\n",
    "r = delta_x /2"
   ]
  },
  {
   "cell_type": "code",
   "execution_count": 107,
   "metadata": {},
   "outputs": [
    {
     "data": {
      "text/plain": "0.33444463070764696"
     },
     "execution_count": 107,
     "metadata": {},
     "output_type": "execute_result"
    }
   ],
   "source": [
    "t_ymaks = m.sqrt(2* delta_y / g)\n",
    "t_ymaks"
   ]
  },
  {
   "cell_type": "code",
   "execution_count": 108,
   "metadata": {},
   "outputs": [
    {
     "data": {
      "text/plain": "3.2809018272420167"
     },
     "execution_count": 108,
     "metadata": {},
     "output_type": "execute_result"
    }
   ],
   "source": [
    "v_y0 = g*t_ymaks\n",
    "v_y0"
   ]
  },
  {
   "cell_type": "code",
   "execution_count": 109,
   "metadata": {},
   "outputs": [
    {
     "data": {
      "text/plain": "0.5486400000000002"
     },
     "execution_count": 109,
     "metadata": {},
     "output_type": "execute_result"
    }
   ],
   "source": [
    "# y_topp\n",
    "y_top = v_y0*t_ymaks - (1/2)*g*m.pow(t_ymaks,2)\n",
    "y_top\n",
    "# viser lavere enn delta y men det kan være avrunding\n",
    "# dette kan avsløre at oppgaven beskriver et kast som går akkurat til toppen\n",
    "# av buelengden før den treffer kurven"
   ]
  },
  {
   "cell_type": "code",
   "execution_count": 110,
   "metadata": {},
   "outputs": [],
   "source": [
    "#x frem til y topp, mangler theta\n",
    "x_ytopp = m.pow(v_0,2)*m.sin(2*theta)/2*g"
   ]
  },
  {
   "cell_type": "code",
   "execution_count": 111,
   "metadata": {},
   "outputs": [
    {
     "data": {
      "text/plain": "24.45663252428755"
     },
     "execution_count": 111,
     "metadata": {},
     "output_type": "execute_result"
    }
   ],
   "source": [
    "m.degrees(m.asin(v_y0/v_0))"
   ]
  },
  {
   "cell_type": "markdown",
   "metadata": {},
   "source": [
    "##### basert på fasit 66 grader under her"
   ]
  },
  {
   "cell_type": "code",
   "execution_count": 112,
   "metadata": {},
   "outputs": [
    {
     "data": {
      "text/plain": "1.4184192320620606"
     },
     "execution_count": 112,
     "metadata": {},
     "output_type": "execute_result"
    }
   ],
   "source": [
    "# t with delta x and theta\n",
    "t = delta_x /(v_0 * m.cos(m.radians(66)))\n",
    "t"
   ]
  },
  {
   "cell_type": "code",
   "execution_count": 113,
   "metadata": {},
   "outputs": [
    {
     "data": {
      "text/plain": "66.0"
     },
     "execution_count": 113,
     "metadata": {},
     "output_type": "execute_result"
    }
   ],
   "source": [
    "# theta with delta x, v_0 and t\n",
    "theta = m.degrees(m.acos(delta_x/(v_0*t)))\n",
    "theta"
   ]
  },
  {
   "cell_type": "code",
   "execution_count": 114,
   "metadata": {},
   "outputs": [
    {
     "data": {
      "text/plain": "4.572"
     },
     "execution_count": 114,
     "metadata": {},
     "output_type": "execute_result"
    }
   ],
   "source": [
    "# Delta x with theta and t\n",
    "x = v_0 * m.cos(m.radians(66))*t\n",
    "x"
   ]
  }
 ],
 "metadata": {
  "kernelspec": {
   "display_name": "Python 3",
   "language": "python",
   "name": "python3"
  },
  "language_info": {
   "codemirror_mode": {
    "name": "ipython",
    "version": 3
   },
   "file_extension": ".py",
   "mimetype": "text/x-python",
   "name": "python",
   "nbconvert_exporter": "python",
   "pygments_lexer": "ipython3",
   "version": "3.8.8"
  }
 },
 "nbformat": 4,
 "nbformat_minor": 1
}