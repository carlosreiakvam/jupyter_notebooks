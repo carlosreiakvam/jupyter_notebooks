{
 "cells": [
  {
   "cell_type": "markdown",
   "metadata": {
    "collapsed": true,
    "pycharm": {
     "name": "#%% md\n"
    }
   },
   "source": [
    "### Eksamen 2019\n",
    "###### Carlos Reiakvam"
   ]
  },
  {
   "cell_type": "code",
   "source": [
    "from CarlsPhyLib import *\n",
    "from  numpy.polynomial import Polynomial as P\n",
    "from numpy import polyder as pd\n",
    "\n",
    "import matplotlib\n",
    "from sympy import *\n",
    "from math import *\n",
    "init_session()"
   ],
   "metadata": {
    "collapsed": false,
    "pycharm": {
     "name": "#%%\n"
    }
   },
   "execution_count": 11,
   "outputs": [
    {
     "name": "stdout",
     "output_type": "stream",
     "text": [
      "IPython console for SymPy 1.7.1 (Python 3.8.8-64-bit) (ground types: python)\n",
      "\n",
      "These commands were executed:\n",
      ">>> from __future__ import division\n",
      ">>> from sympy import *\n",
      ">>> x, y, z, t = symbols('x y z t')\n",
      ">>> k, m, n = symbols('k m n', integer=True)\n",
      ">>> f, g, h = symbols('f g h', cls=Function)\n",
      ">>> init_printing()\n",
      "\n",
      "Documentation can be found at https://docs.sympy.org/1.7.1/\n",
      "\n"
     ]
    }
   ]
  },
  {
   "cell_type": "code",
   "execution_count": 12,
   "outputs": [],
   "source": [
    "t = symbols('t')\n",
    "a = 2\n",
    "b = 3\n",
    "c = -4\n",
    "d = 1.5\n",
    "e = 3.5\n",
    "f = 5\n",
    "\n",
    "r_i = a*Pow(t,3) + b*Pow(t,2) + c*t\n",
    "r_j = d*Pow(t,2) + e*t +f\n",
    "v_i = diff(r_i)\n",
    "v_j = diff(r_j)\n",
    "a_i = diff(v_i)\n",
    "a_j = diff(v_j)"
   ],
   "metadata": {
    "collapsed": false,
    "pycharm": {
     "name": "#%%\n"
    }
   }
  },
  {
   "cell_type": "code",
   "execution_count": 13,
   "outputs": [
    {
     "data": {
      "text/plain": "32.0000000000000",
      "image/png": "[encoded data removed]",
      "text/latex": "$\\displaystyle 32.0$"
     },
     "execution_count": 13,
     "metadata": {},
     "output_type": "execute_result"
    }
   ],
   "source": [
    "v_i.evalf(subs={t: 2})"
   ],
   "metadata": {
    "collapsed": false,
    "pycharm": {
     "name": "#%%\n"
    }
   }
  },
  {
   "cell_type": "code",
   "execution_count": 14,
   "outputs": [
    {
     "data": {
      "text/plain": "9.50000000000000",
      "image/png": "[encoded data removed]",
      "text/latex": "$\\displaystyle 9.5$"
     },
     "execution_count": 14,
     "metadata": {},
     "output_type": "execute_result"
    }
   ],
   "source": [
    "v_j.evalf(subs={t: 2})"
   ],
   "metadata": {
    "collapsed": false,
    "pycharm": {
     "name": "#%%\n"
    }
   }
  },
  {
   "cell_type": "code",
   "execution_count": 15,
   "outputs": [
    {
     "data": {
      "text/plain": "30.0000000000000",
      "image/png": "[encoded data removed]",
      "text/latex": "$\\displaystyle 30.0$"
     },
     "execution_count": 15,
     "metadata": {},
     "output_type": "execute_result"
    }
   ],
   "source": [
    "a_i.evalf(subs={t: 2})"
   ],
   "metadata": {
    "collapsed": false,
    "pycharm": {
     "name": "#%%\n"
    }
   }
  },
  {
   "cell_type": "code",
   "execution_count": 16,
   "outputs": [
    {
     "data": {
      "text/plain": "3.00000000000000",
      "image/png": "[encoded data removed]",
      "text/latex": "$\\displaystyle 3.0$"
     },
     "execution_count": 16,
     "metadata": {},
     "output_type": "execute_result"
    }
   ],
   "source": [
    "a_j.evalf(subs={t: 2})"
   ],
   "metadata": {
    "collapsed": false,
    "pycharm": {
     "name": "#%%\n"
    }
   }
  },
  {
   "cell_type": "code",
   "execution_count": 17,
   "outputs": [
    {
     "data": {
      "text/plain": "32.0",
      "image/png": "[encoded data removed]",
      "text/latex": "$\\displaystyle 32.0$"
     },
     "execution_count": 17,
     "metadata": {},
     "output_type": "execute_result"
    }
   ],
   "source": [
    "from numpy.polynomial import Polynomial as P\n",
    "ri = P([0,-4,3,2])\n",
    "ri = P.deriv(ri)\n",
    "ri(2)"
   ],
   "metadata": {
    "collapsed": false,
    "pycharm": {
     "name": "#%%\n"
    }
   }
  },
  {
   "cell_type": "code",
   "execution_count": 23,
   "outputs": [
    {
     "name": "stdout",
     "output_type": "stream",
     "text": [
      "vi:  32.0\n",
      "vj:  9.5\n",
      "ai:  30.0\n",
      "aj:  3.0\n"
     ]
    }
   ],
   "source": [
    "t = 2\n",
    "a = 2\n",
    "b = 3\n",
    "c = -4\n",
    "d = 1.5\n",
    "e = 3.5\n",
    "f = 5\n",
    "vi = polyDeriv(a,b,c,0,t,1\n",
    "vj = polyDeriv(0,d,e,f,t,1)\n",
    "print(\"vi: \",vi)\n",
    "print(\"vj: \",vj)\n",
    "ai = polyDeriv(a,b,c,0,t,2)\n",
    "aj = polyDeriv(0,d,e,f,t,2)\n",
    "\n",
    "print(\"ai: \",ai)\n",
    "print(\"aj: \",aj)"
   ],
   "metadata": {
    "collapsed": false,
    "pycharm": {
     "name": "#%%\n"
    }
   }
  }
 ],
 "metadata": {
  "kernelspec": {
   "display_name": "Python 3",
   "language": "python",
   "name": "python3"
  },
  "language_info": {
   "codemirror_mode": {
    "name": "ipython",
    "version": 3
   },
   "file_extension": ".py",
   "mimetype": "text/x-python",
   "name": "python",
   "nbconvert_exporter": "python",
   "pygments_lexer": "ipython3",
   "version": "3.8.8"
  }
 },
 "nbformat": 4,
 "nbformat_minor": 1
}