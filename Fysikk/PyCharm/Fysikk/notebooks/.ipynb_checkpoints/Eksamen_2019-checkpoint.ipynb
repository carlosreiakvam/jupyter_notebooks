{
 "cells": [
  {
   "cell_type": "markdown",
   "metadata": {
    "collapsed": true,
    "pycharm": {
     "name": "#%% md\n"
    }
   },
   "source": [
    "### Eksamen 2019\n",
    "###### Carlos Reiakvam"
   ]
  },
  {
   "cell_type": "markdown",
   "metadata": {
    "pycharm": {
     "name": "#%% md\n"
    }
   },
   "source": [
    "### Oppgave 1a)\n",
    "\n",
    "Posisjonsvektoren til et legeme som funksjon av tiden t er gitt ved:\n",
    "\n",
    "$\\vec{r} = (at^3 + bt^2 + ct)\\hat{i} + (dt^2 + et + f)\\hat{j}$\n",
    "\n",
    "$a = 2m/s^3$<br>\n",
    "$b = 3m/s^2$<br>\n",
    "$c = -4m/s$<br>\n",
    "$d = 1.5m/s^2$<br>\n",
    "$e = 3.5m/s$<br>\n",
    "$f = 5m$"
   ]
  },
  {
   "cell_type": "code",
   "execution_count": 1,
   "metadata": {
    "pycharm": {
     "name": "#%%\n"
    }
   },
   "outputs": [
    {
     "data": {
      "text/plain": [
       "7"
      ]
     },
     "execution_count": 1,
     "metadata": {},
     "output_type": "execute_result"
    }
   ],
   "source": [
    "3+3"
   ]
  }
 ],
 "metadata": {
  "kernelspec": {
   "display_name": "Python 3",
   "language": "python",
   "name": "python3"
  },
  "language_info": {
   "codemirror_mode": {
    "name": "ipython",
    "version": 3
   },
   "file_extension": ".py",
   "mimetype": "text/x-python",
   "name": "python",
   "nbconvert_exporter": "python",
   "pygments_lexer": "ipython3",
   "version": "3.8.8"
  }
 },
 "nbformat": 4,
 "nbformat_minor": 1
}
