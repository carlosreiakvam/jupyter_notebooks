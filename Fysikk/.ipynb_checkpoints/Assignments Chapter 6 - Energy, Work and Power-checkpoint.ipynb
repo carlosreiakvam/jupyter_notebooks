{
 "cells": [
  {
   "cell_type": "code",
   "execution_count": 2,
   "metadata": {},
   "outputs": [
    {
     "data": {
      "text/html": [
       "<style>\n",
       ".rendered_html table {\n",
       "    margin-right:50px;\n",
       "}\n",
       "table {float:left}\n",
       "img {float:left}\n",
       "h2 {color: Blue}\n",
       "h4 {color: #0000cc}\n",
       "h6 {color: #00cc00}\n",
       "</style>\n"
      ],
      "text/plain": [
       "<IPython.core.display.HTML object>"
      ]
     },
     "metadata": {},
     "output_type": "display_data"
    }
   ],
   "source": [
    "%%html\n",
    "<style>\n",
    ".rendered_html table {\n",
    "    margin-right:50px;\n",
    "}\n",
    "table {float:left}\n",
    "img {float:left}\n",
    "h2 {color: Blue}\n",
    "h4 {color: #0000cc}\n",
    "h6 {color: #00cc00}\n",
    "</style>"
   ]
  },
  {
   "cell_type": "code",
   "execution_count": 93,
   "metadata": {},
   "outputs": [],
   "source": [
    "import math as M\n",
    "import sympy as SY\n",
    "import numpy as NP\n",
    "from scipy import integrate as integrate\n",
    "SY.init_printing()\n",
    "g = 9.8"
   ]
  },
  {
   "cell_type": "markdown",
   "metadata": {},
   "source": [
    "## Section 6.1 and 6.2 Energy and Work"
   ]
  },
  {
   "cell_type": "markdown",
   "metadata": {},
   "source": [
    "### Assignment 21\n",
    "To push a stalled car, you apply a $470N$ force at $17°$ to the car’s motion,  \n",
    "doing $860 J$ of work in the process. \n",
    "\n",
    "How far do you push the car?\n"
   ]
  },
  {
   "cell_type": "code",
   "execution_count": 43,
   "metadata": {},
   "outputs": [
    {
     "name": "stdout",
     "output_type": "stream",
     "text": [
      "The car is pushed 1.91 m\n"
     ]
    }
   ],
   "source": [
    "F = 470\n",
    "theta = M.radians(17)\n",
    "Fx = F * M.cos(theta)\n",
    "W = 860\n",
    "x_delta = W / Fx\n",
    "print(\"The car is pushed\", round(x_delta,2), \"m\")"
   ]
  },
  {
   "cell_type": "markdown",
   "metadata": {},
   "source": [
    "## Section 6.3 Forces that vary"
   ]
  },
  {
   "cell_type": "markdown",
   "metadata": {},
   "source": [
    "### Assignment 22\n",
    "Find the total work done by the force shown in Fig. 6.15 as the\n",
    "object on which it acts moves \n",
    "\n",
    "(a) from $x = 0$ to $x = 3 km$ and\n",
    "\n",
    "(b) from $x = 3 km$ to $x = 4 km$.\n"
   ]
  },
  {
   "cell_type": "markdown",
   "metadata": {},
   "source": [
    "<img src=\"Screens/fig6_15.jpg\" width = \"500\">"
   ]
  },
  {
   "cell_type": "markdown",
   "metadata": {},
   "source": [
    "#### a)"
   ]
  },
  {
   "cell_type": "markdown",
   "metadata": {},
   "source": [
    "$ F(x) = \\frac{40}{3000} x$\n",
    "\n",
    "$W = \\int_0^{3000}{F(x)dx}$\n",
    "\n",
    "$W = 60kj$"
   ]
  },
  {
   "cell_type": "code",
   "execution_count": 57,
   "metadata": {},
   "outputs": [
    {
     "name": "stdout",
     "output_type": "stream",
     "text": [
      "Work W =  60.0 kJ\n"
     ]
    }
   ],
   "source": [
    "W = integrate.quad(lambda x: 40/3000*x,0,3000)\n",
    "print(\"Work W = \",W[0]/1000,\"kJ\")"
   ]
  },
  {
   "cell_type": "markdown",
   "metadata": {},
   "source": [
    "#### b)"
   ]
  },
  {
   "cell_type": "markdown",
   "metadata": {},
   "source": [
    "<img src=\"Screens/as6_22.jpg\" width = \"250\">"
   ]
  },
  {
   "cell_type": "markdown",
   "metadata": {},
   "source": [
    "$F(x) = -\\frac{40}{1000}x + 160$\n",
    "\n",
    "$W = \\int_{3000}^{4000}{F(x)dx}$\n",
    "\n",
    "$W = 20kj$"
   ]
  },
  {
   "cell_type": "code",
   "execution_count": 56,
   "metadata": {},
   "outputs": [
    {
     "name": "stdout",
     "output_type": "stream",
     "text": [
      "Work W =  20.0 kJ\n"
     ]
    }
   ],
   "source": [
    "W = integrate.quad(lambda x: - 40/1000*x + 160,3000,4000)\n",
    "print(\"Work W = \",round(W[0]/1000,2),\"kJ\")"
   ]
  },
  {
   "cell_type": "markdown",
   "metadata": {},
   "source": [
    "### Assignment 23\n",
    "How much work does it take to stretch a spring with $k = 210 N/m$\n",
    "\n",
    "(a) $10 cm$ from equilibrium and \n",
    "\n",
    "(b) from $10 cm$ to $20 cm$ from equilibrium?\n"
   ]
  },
  {
   "cell_type": "markdown",
   "metadata": {},
   "source": [
    "### Assignment 25\n",
    "You do $8.5 J$ of work to stretch a spring with $k = 190 N/m$, starting\n",
    "with the spring unstretched. \n",
    "\n",
    "How far does the spring stretch?"
   ]
  },
  {
   "cell_type": "markdown",
   "metadata": {},
   "source": [
    "## Section 6.5 Power"
   ]
  },
  {
   "cell_type": "markdown",
   "metadata": {},
   "source": [
    "### Assignment 33\n",
    "A typical human diet is “2000 calories” per day, where the\n",
    "“calorie” describing food energy is actually 1 kilocalorie.\n",
    "Express 2000 kcal/day in watts."
   ]
  },
  {
   "cell_type": "markdown",
   "metadata": {},
   "source": [
    "$1J = 4.184cal$  \n",
    "\n",
    "$P = \\frac{2000kcal \\cdot 4.184} {24 \\cdot 60\\cdot 60}= 97W$"
   ]
  },
  {
   "cell_type": "code",
   "execution_count": 15,
   "metadata": {},
   "outputs": [
    {
     "name": "stdout",
     "output_type": "stream",
     "text": [
      "200kcal in a day equals 97 W\n"
     ]
    }
   ],
   "source": [
    "day_in_seconds = 24*60*60\n",
    "cal = 2000*1000\n",
    "joules = cal * 4.184\n",
    "print\n",
    "P =  joules /day_in_seconds\n",
    "print(\"200kcal in a day equals\", round(P),\"W\")"
   ]
  },
  {
   "cell_type": "markdown",
   "metadata": {},
   "source": [
    "### Assignment 35\n",
    "A typical car battery stores about $2 kW \\cdot h$ of energy. What’s its\n",
    "power output if it drains completely in \n",
    "\n",
    "\n",
    "**(a)** 1 minute \n",
    "\n",
    "**(b)** 1 hour\n",
    "\n",
    "**(c)** 1 day"
   ]
  },
  {
   "cell_type": "code",
   "execution_count": 31,
   "metadata": {},
   "outputs": [],
   "source": [
    "P = 2000"
   ]
  },
  {
   "cell_type": "markdown",
   "metadata": {},
   "source": [
    "#### a)"
   ]
  },
  {
   "cell_type": "code",
   "execution_count": 35,
   "metadata": {},
   "outputs": [
    {
     "name": "stdout",
     "output_type": "stream",
     "text": [
      "120.0 kW\n"
     ]
    }
   ],
   "source": [
    "Pout_min = P*60\n",
    "print(round(Pout_min/1000,2),\"kW\")"
   ]
  },
  {
   "cell_type": "markdown",
   "metadata": {},
   "source": [
    "#### b)"
   ]
  },
  {
   "cell_type": "code",
   "execution_count": 36,
   "metadata": {},
   "outputs": [
    {
     "name": "stdout",
     "output_type": "stream",
     "text": [
      "2.0 W\n"
     ]
    }
   ],
   "source": [
    "Pout = (P)\n",
    "print(round(Pout/1000,2),\"W\")"
   ]
  },
  {
   "cell_type": "markdown",
   "metadata": {},
   "source": [
    "#### c)"
   ]
  },
  {
   "cell_type": "code",
   "execution_count": 37,
   "metadata": {},
   "outputs": [
    {
     "name": "stdout",
     "output_type": "stream",
     "text": [
      "83.33 W\n"
     ]
    }
   ],
   "source": [
    "Pout = (P /24)\n",
    "print(round(Pout,2),\"W\")"
   ]
  },
  {
   "cell_type": "markdown",
   "metadata": {},
   "source": [
    "## Problems"
   ]
  },
  {
   "cell_type": "markdown",
   "metadata": {},
   "source": [
    "### Assignment 43\n",
    "You slide a box of books at constant speed up a $30°$ ramp,  \n",
    "applying a force of $200 N$ directed up the slope.  \n",
    "The coefficient of sliding friction is $0.18$. \n",
    "\n",
    "(a) How much work have you done when the box has risen 1 m vertically? \n",
    "\n",
    "(b) What’s the mass of the box?\n"
   ]
  },
  {
   "cell_type": "markdown",
   "metadata": {},
   "source": [
    "<img src=\"Screens/as6_43.jpg\" width = \"400\">"
   ]
  },
  {
   "cell_type": "markdown",
   "metadata": {},
   "source": [
    "Constant speed $\\Rightarrow \\Sigma F = 0$\n",
    "\n",
    "$\\vec{R_y} = 1m$\n",
    "\n",
    "$\\vec{R} = \\frac{\\vec{R_y}} {sin(\\theta)} $"
   ]
  },
  {
   "cell_type": "markdown",
   "metadata": {},
   "source": [
    "#### a)"
   ]
  },
  {
   "cell_type": "code",
   "execution_count": 50,
   "metadata": {},
   "outputs": [],
   "source": [
    "# Listing known quantities\n",
    "theta = M.radians(30)\n",
    "A = 200\n",
    "Rs = 0.18\n",
    "Ry = 1"
   ]
  },
  {
   "cell_type": "code",
   "execution_count": 51,
   "metadata": {},
   "outputs": [
    {
     "name": "stdout",
     "output_type": "stream",
     "text": [
      "R =  2.0 m\n"
     ]
    }
   ],
   "source": [
    "# finding R\n",
    "R = Ry / M.sin(theta)\n",
    "print(\"R = \",round(R,2),\"m\")"
   ]
  },
  {
   "cell_type": "code",
   "execution_count": 55,
   "metadata": {},
   "outputs": [
    {
     "name": "stdout",
     "output_type": "stream",
     "text": [
      "W = 400.0 j\n"
     ]
    }
   ],
   "source": [
    "# Finding Work\n",
    "W = A * R\n",
    "print(\"W =\", round(W,2),\"J\")"
   ]
  },
  {
   "cell_type": "markdown",
   "metadata": {},
   "source": [
    "#### b)"
   ]
  },
  {
   "cell_type": "code",
   "execution_count": 61,
   "metadata": {},
   "outputs": [
    {
     "name": "stdout",
     "output_type": "stream",
     "text": [
      "mass of books:  150.0 kg\n"
     ]
    }
   ],
   "source": [
    "m = W[0] / (A * R)\n",
    "print(\"mass of books: \", round(m,2),\"kg\")"
   ]
  },
  {
   "cell_type": "markdown",
   "metadata": {},
   "source": [
    "### Assignment 49\n",
    "(a) Find the scalar product of the vectors $a\\hat{i} + b\\hat{j}$ and $b\\hat{i} - a\\hat{j} $,  \n",
    "where a and b are arbitrary constants. \n",
    "\n",
    "(b) What’s the angle between the two vectors?\n"
   ]
  },
  {
   "cell_type": "markdown",
   "metadata": {},
   "source": [
    "#### a)"
   ]
  },
  {
   "cell_type": "markdown",
   "metadata": {},
   "source": [
    "\n",
    "scalar $ = a \\cdot b\\ + b \\cdot (-a)$  \n",
    "scalar $ = a \\cdot b\\ - a \\cdot b = 0$  "
   ]
  },
  {
   "cell_type": "markdown",
   "metadata": {},
   "source": [
    "#### b)"
   ]
  },
  {
   "cell_type": "code",
   "execution_count": 73,
   "metadata": {},
   "outputs": [
    {
     "name": "stdout",
     "output_type": "stream",
     "text": [
      "Theta =  90.0 degrees\n"
     ]
    }
   ],
   "source": [
    "theta = M.degrees(M.acos(0))\n",
    "print(\"Theta = \", theta,\"degrees\")\n"
   ]
  },
  {
   "cell_type": "markdown",
   "metadata": {},
   "source": [
    "### Assignment 51\n",
    "How much work does a force  \n",
    "$F = 67\\hat{i} + 23\\hat{j} + 55\\hat{k} N$  \n",
    "do as it acts on a body moving in a straight line  \n",
    "from  $\\vec{r}_1 = (16\\hat{i} + 31\\hat{j})\\,m$  \n",
    "to $\\vec{r}_2 = (21\\hat{i} + 10\\hat{j} + 14\\hat{k})\\,m$ ?\n"
   ]
  },
  {
   "cell_type": "code",
   "execution_count": 99,
   "metadata": {},
   "outputs": [
    {
     "name": "stdout",
     "output_type": "stream",
     "text": [
      "displacement: [  5 -21  14]\n"
     ]
    }
   ],
   "source": [
    "#Finding displacement components\n",
    "r1 = NP.array([16, 31, 0])\n",
    "r2 = NP.array([21, 10, 14])\n",
    "d = NP.subtract(r2,r1)\n",
    "print(\"displacement:\",d)"
   ]
  },
  {
   "cell_type": "code",
   "execution_count": 101,
   "metadata": {},
   "outputs": [
    {
     "name": "stdout",
     "output_type": "stream",
     "text": [
      "W =  622 J\n"
     ]
    }
   ],
   "source": [
    "#Finding work\n",
    "F = NP.array([67,23,55])\n",
    "W = NP.dot(F,d)\n",
    "print(\"W = \", W,\"J\")"
   ]
  },
  {
   "cell_type": "markdown",
   "metadata": {},
   "source": [
    "### Assignment 67\n",
    "The rate at which the United States imports oil, expressed\n",
    "in terms of the energy content of the imported oil, is about\n",
    "600 GW. \n",
    "\n",
    "Using the “Energy Content of Fuels” table in Appendix C, convert this figure to gallons per day.\n"
   ]
  },
  {
   "cell_type": "code",
   "execution_count": 112,
   "metadata": {},
   "outputs": [
    {
     "name": "stdout",
     "output_type": "stream",
     "text": [
      "369 M gal\n"
     ]
    }
   ],
   "source": [
    "Pkw = 600 * M.pow(10,6)\n",
    "kwhPerGal = 39\n",
    "GalPerHour = Pkw / kwhPerGal\n",
    "GalPerDay = GalPerHour * 24\n",
    "print(round(GalPerDay/M.pow(10,6)),\"M gal\")"
   ]
  },
  {
   "cell_type": "markdown",
   "metadata": {},
   "source": [
    "### Assignment 73\n",
    "**(a)** What power is needed to push a $95kg$ crate at $0.62 m/s$ along\n",
    "a horizontal floor where the coefficient of friction is $0.78$? \n",
    "\n",
    "**(b)** How much work is done in pushing the crate $11 m$?\n"
   ]
  },
  {
   "cell_type": "markdown",
   "metadata": {},
   "source": [
    "#### a)"
   ]
  },
  {
   "cell_type": "code",
   "execution_count": 113,
   "metadata": {},
   "outputs": [],
   "source": [
    "# Listing known quantaties\n",
    "m = 95\n",
    "v = 0.62\n",
    "Rs = 0.78\n",
    "delta_x = 11"
   ]
  },
  {
   "cell_type": "code",
   "execution_count": null,
   "metadata": {},
   "outputs": [],
   "source": [
    "# Finding power\n"
   ]
  }
 ],
 "metadata": {
  "kernelspec": {
   "display_name": "Python 3",
   "language": "python",
   "name": "python3"
  },
  "language_info": {
   "codemirror_mode": {
    "name": "ipython",
    "version": 3
   },
   "file_extension": ".py",
   "mimetype": "text/x-python",
   "name": "python",
   "nbconvert_exporter": "python",
   "pygments_lexer": "ipython3",
   "version": "3.8.5"
  }
 },
 "nbformat": 4,
 "nbformat_minor": 4
}
