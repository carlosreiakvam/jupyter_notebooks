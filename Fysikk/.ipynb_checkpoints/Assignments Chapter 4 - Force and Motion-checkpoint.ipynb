{
 "cells": [
  {
   "cell_type": "markdown",
   "metadata": {},
   "source": [
    "# Force and Motion"
   ]
  },
  {
   "cell_type": "code",
   "execution_count": 2,
   "metadata": {},
   "outputs": [
    {
     "data": {
      "text/html": [
       "<style>\n",
       ".rendered_html table {\n",
       "    margin-right:50px;\n",
       "}\n",
       "table {float:left}\n",
       "img {float:left}\n",
       "h2 {color: black}\n",
       "h4 {color: #0000cc}\n",
       "</style>\n"
      ],
      "text/plain": [
       "<IPython.core.display.HTML object>"
      ]
     },
     "metadata": {},
     "output_type": "display_data"
    }
   ],
   "source": [
    "%%html\n",
    "<style>\n",
    ".rendered_html table {\n",
    "    margin-right:50px;\n",
    "}\n",
    "table {float:left}\n",
    "img {float:left}\n",
    "h2 {color: black}\n",
    "h4 {color: #0000cc}\n",
    "</style>"
   ]
  },
  {
   "cell_type": "code",
   "execution_count": 76,
   "metadata": {},
   "outputs": [],
   "source": [
    "import math as M\n",
    "g = 9.8"
   ]
  },
  {
   "cell_type": "markdown",
   "metadata": {},
   "source": [
    "### Assignment 15\n",
    "A $66Mg$ railroad locomotive can exert a $0.11-MN$ force.  \n",
    "At what rate can it accelerate  \n",
    "\n",
    "(a) by itself  \n",
    "\n",
    "(b) when pulling a $1.7Gg$\n",
    "train?\n"
   ]
  },
  {
   "cell_type": "markdown",
   "metadata": {},
   "source": [
    "#### a)"
   ]
  },
  {
   "cell_type": "code",
   "execution_count": 103,
   "metadata": {},
   "outputs": [
    {
     "name": "stdout",
     "output_type": "stream",
     "text": [
      "Acceleration by itself =  1.7 m/s^2\n"
     ]
    }
   ],
   "source": [
    "m = 66 * M.pow(10,3)\n",
    "F = 0.11 * M.pow(10,6)\n",
    "a = F/m\n",
    "print(\"Acceleration by itself = \", round(a,1), \"m/s^2\")"
   ]
  },
  {
   "cell_type": "markdown",
   "metadata": {},
   "source": [
    "#### b)"
   ]
  },
  {
   "cell_type": "code",
   "execution_count": 104,
   "metadata": {},
   "outputs": [
    {
     "name": "stdout",
     "output_type": "stream",
     "text": [
      "Acceleration when pulling a 1.7Gg train =  0.0623 m/s^2\n"
     ]
    }
   ],
   "source": [
    "m = 66 * M.pow(10,3) + 1.7 * M.pow(10,6)\n",
    "a = F/m\n",
    "print(\"Acceleration when pulling a 1.7Gg train = \", round(a,4), \"m/s^2\")"
   ]
  },
  {
   "cell_type": "markdown",
   "metadata": {},
   "source": [
    "### Assignment 17\n",
    "A car leaves the road traveling at 110 km/h and hits a tree, coming to a stop in 0.14 s.  \n",
    "What average force does a seatbelt exert on a 60-kg passenger during this collision?"
   ]
  },
  {
   "cell_type": "code",
   "execution_count": 108,
   "metadata": {},
   "outputs": [
    {
     "name": "stdout",
     "output_type": "stream",
     "text": [
      "Average force from seatbelt to person during crash: 13.1 kN\n"
     ]
    }
   ],
   "source": [
    "v = 110/3.6\n",
    "delta_t = 0.14\n",
    "m = 60\n",
    "a = v/delta_t\n",
    "F = m*a\n",
    "print('Average force from seatbelt to person during crash:',round(F/1000,2),\"kN\")"
   ]
  },
  {
   "cell_type": "markdown",
   "metadata": {},
   "source": [
    "### Assignment 21\n",
    "In an egg-dropping contest, a student encases an 83g egg in a\n",
    "large Styrofoam block. If the force on the egg can’t exceed 2.0 N,\n",
    "and if the block hits the ground at 1.7 m/s, by how much must\n",
    "the Styrofoam compress on impact? Note: The acceleration associated with stopping the egg is so great that you can neglect gravity while the Styrofoam block is slowing due to contact with\n",
    "the ground."
   ]
  },
  {
   "cell_type": "markdown",
   "metadata": {},
   "source": [
    "$v^2 = v{_0}^2 +2as$, $v_0 = 0$  (eq,2,11)  \n",
    "\n",
    "$a = F/m$  \n",
    "\n",
    "$s = \\frac{v^2}{\\frac{2F}{m}} = \\frac{mv^2}{2F}$"
   ]
  },
  {
   "cell_type": "code",
   "execution_count": 7,
   "metadata": {},
   "outputs": [
    {
     "name": "stdout",
     "output_type": "stream",
     "text": [
      "s = 0.06 m\n"
     ]
    }
   ],
   "source": [
    "m = 83*M.pow(10,-3)\n",
    "F = 2\n",
    "v = 1.7\n",
    "s = (m* M.pow(v,2))/(2*F)\n",
    "print(\"s =\",round(s,4), \"m\")"
   ]
  },
  {
   "cell_type": "markdown",
   "metadata": {},
   "source": [
    "### Assignment 23\n",
    "Show that the units of acceleration can be written as $N/kg$. Why\n",
    "does it make sense to give $g$ as $9.8 N/kg$ when talking about mass\n",
    "and weight?"
   ]
  },
  {
   "cell_type": "markdown",
   "metadata": {},
   "source": [
    "$F = ma$  \n",
    "$a = \\frac{F}{m}$  \n",
    "$a = \\frac{N}{kg}$  \n",
    "$g = 9.8 \\frac{N}{Kg}$"
   ]
  },
  {
   "cell_type": "markdown",
   "metadata": {},
   "source": [
    "### Assignment 25\n",
    "Your friend can barely lift a $35kg$ concrete block on Earth. How\n",
    "massive a block could she lift on the Moon?"
   ]
  },
  {
   "cell_type": "code",
   "execution_count": 119,
   "metadata": {},
   "outputs": [
    {
     "name": "stdout",
     "output_type": "stream",
     "text": [
      "Friend could lift 211.94 kg on moon\n"
     ]
    }
   ],
   "source": [
    "m = 35\n",
    "g_earth = 9.81\n",
    "g_moon = 1.62\n",
    "F_earth = m * g_earth\n",
    "# ratio of earths gravity to moons gravity\n",
    "g_ratio = g_earth / g_moon\n",
    "m_moon = m * g_ratio\n",
    "print(\"Friend could lift\",round(m_moon,2), \"kg on moon\")"
   ]
  },
  {
   "cell_type": "markdown",
   "metadata": {},
   "source": [
    "### Assignment 29\n",
    "A 50-kg parachutist descends at a steady 40 km/h.  \n",
    "What force does air exert on the parachute?"
   ]
  },
  {
   "cell_type": "code",
   "execution_count": 9,
   "metadata": {},
   "outputs": [
    {
     "name": "stdout",
     "output_type": "stream",
     "text": [
      "490.5 N (directly upwards)\n"
     ]
    }
   ],
   "source": [
    "m = 50\n",
    "a = 9.81\n",
    "F = m*a\n",
    "print(F, \"N (directly upwards)\")"
   ]
  },
  {
   "cell_type": "markdown",
   "metadata": {},
   "source": [
    "### Assignment 31\n",
    "An elevator accelerates downward at 2.4 m/s2.  \n",
    "What force does the elevator’s floor exert on a 52-kg passenger?"
   ]
  },
  {
   "cell_type": "markdown",
   "metadata": {},
   "source": [
    "<img src=\"Screens/as4_31.jpg\" width=\"200\">"
   ]
  },
  {
   "cell_type": "code",
   "execution_count": 128,
   "metadata": {},
   "outputs": [
    {
     "name": "stdout",
     "output_type": "stream",
     "text": [
      "Force of floor on passenger: 384.8 N\n"
     ]
    }
   ],
   "source": [
    "a = 2.4\n",
    "m = 52\n",
    "g = 9.8\n",
    "\n",
    "F_elevator = m*a\n",
    "F_grav = m*g\n",
    "F = F_grav - F_elevator\n",
    "# In this case the elevator floor \n",
    "# accelerates faster than the acceleration of gravity\n",
    "print(\"Force of floor on passenger:\",F,\"N\")"
   ]
  },
  {
   "cell_type": "markdown",
   "metadata": {},
   "source": [
    "### Assignment 33\n",
    "You’re an engineer working on Ares I, NASA’s replacement for\n",
    "the space shuttles.  \n",
    "Performance specs call for a first-stage rocket capable of accelerating a total mass of $600 Mg$ vertically from rest to $7700 km/h$ in $1.7 min$.  \n",
    "\n",
    "You’re asked to determine the required engine thrust (force) and the force exerted on a $79 kg$ astronaut during liftoff. \n",
    "\n",
    "What do you report?"
   ]
  },
  {
   "cell_type": "code",
   "execution_count": 146,
   "metadata": {},
   "outputs": [
    {
     "name": "stdout",
     "output_type": "stream",
     "text": [
      "Engine thrust force required:  12.58 MN \n",
      "Ratio between g on person and acceleration from rocket:  2.14\n",
      "Force on astronaut during liftoff:  1.689 kN\n"
     ]
    }
   ],
   "source": [
    "#Plug in known quantities\n",
    "m_tot = 600 * M.pow(10,3)\n",
    "m_man = 79\n",
    "v = 7700 /3.6\n",
    "t = 1.7 * 60\n",
    "g = 9.81\n",
    "a = v/t\n",
    "\n",
    "# Simple F = ma calculation to get total required force from rocket\n",
    "F_tot = m_tot * a\n",
    "print(\"Engine thrust force required: \",round(F_tot/1000000,2) ,\"MN \")\n",
    "\n",
    "# Gpower is given by ratio between acceleration from rocket vs\n",
    "# acceleration by gravity. It determines the force on man during liftoff.\n",
    "g_ratio =a/g\n",
    "print(\"Ratio between g on person and acceleration from rocket: \", round(g_ratio,2))\n",
    "F_onMan = m_man * g_ratio\n",
    "print(\"Force on astronaut during liftoff: \", round(F_onMan / 100,3), \"kN\") "
   ]
  },
  {
   "cell_type": "markdown",
   "metadata": {},
   "source": [
    "### Assignment 35\n",
    "What upward gravitational force does a 5600-kg elephant exert\n",
    "on Earth?"
   ]
  },
  {
   "cell_type": "code",
   "execution_count": 12,
   "metadata": {},
   "outputs": [
    {
     "name": "stdout",
     "output_type": "stream",
     "text": [
      "N =  55 KN\n"
     ]
    }
   ],
   "source": [
    "m = 5600\n",
    "g = 9.81\n",
    "F = m*g\n",
    "N = F\n",
    "print(\"N = \", round(N/1000), \"KN\")"
   ]
  },
  {
   "cell_type": "markdown",
   "metadata": {},
   "source": [
    "### Assignment 37\n",
    "What force is necessary to stretch a spring 48 cm, if its spring\n",
    "constant is 270 N/m?"
   ]
  },
  {
   "cell_type": "code",
   "execution_count": 13,
   "metadata": {},
   "outputs": [
    {
     "name": "stdout",
     "output_type": "stream",
     "text": [
      "130 N\n"
     ]
    }
   ],
   "source": [
    "x = 48/100\n",
    "k = 270\n",
    "\n",
    "# Using hooke's law\n",
    "Fs = k*x\n",
    "print(round(Fs), \"N\")"
   ]
  },
  {
   "cell_type": "markdown",
   "metadata": {},
   "source": [
    "### Assignment 39\n",
    "A spring with spring constant $k = 340 N/m$ is used to weigh a\n",
    "$6.7 kg$ fish.  \n",
    "How far does the spring stretch?"
   ]
  },
  {
   "cell_type": "code",
   "execution_count": 148,
   "metadata": {},
   "outputs": [
    {
     "name": "stdout",
     "output_type": "stream",
     "text": [
      "Spring stretches: 0.193 m\n"
     ]
    }
   ],
   "source": [
    "k = 340\n",
    "m = 6.7\n",
    "a = -9.81\n",
    "F = m*a\n",
    "x = -F/k\n",
    "print(\"Spring stretches:\", round(x,3),\"m\")"
   ]
  },
  {
   "cell_type": "markdown",
   "metadata": {},
   "source": [
    "### Assignment 41\n",
    "An airplane encounters sudden turbulence, and you feel momentarily lighter.  \n",
    "If your apparent weight seems to be about 70% of your normal weight,  \n",
    "what are the magnitude and direction of the plane’s acceleration?"
   ]
  },
  {
   "cell_type": "code",
   "execution_count": 159,
   "metadata": {},
   "outputs": [
    {
     "name": "stdout",
     "output_type": "stream",
     "text": [
      "Airplanes acceleration: 2.94 m/s^2\n",
      "Direction: Straight down in y-direction\n"
     ]
    }
   ],
   "source": [
    "g = 9.81\n",
    "g_delta = g * 0.7\n",
    "airplane_a = g - g_delta\n",
    "\n",
    "print(\"Airplanes acceleration:\", round(airplane_a,2),\"m/s^2\")\n",
    "print(\"Direction: Straight down in y-direction\")"
   ]
  },
  {
   "cell_type": "markdown",
   "metadata": {},
   "source": [
    "### Assignment 43\n",
    "A dancer executes a vertical jump during which the floor pushes  \n",
    "up on his feet with a force 44% greater than his weight.  \n",
    "What’s his upward acceleration?"
   ]
  },
  {
   "cell_type": "code",
   "execution_count": 16,
   "metadata": {},
   "outputs": [
    {
     "name": "stdout",
     "output_type": "stream",
     "text": [
      "Accelaration upwards =  4.3 m/s^2\n"
     ]
    }
   ],
   "source": [
    "a = 9.81* 0.44 \n",
    "print(\"Accelaration upwards = \",round(a,1),\"m/s^2\")"
   ]
  },
  {
   "cell_type": "markdown",
   "metadata": {},
   "source": [
    "### Assignment 45\n",
    "An elevator moves upward at $5.9 m/s$.  \n",
    "What’s its minimum stopping time if the passengers are to remain on the floor?"
   ]
  },
  {
   "cell_type": "markdown",
   "metadata": {},
   "source": [
    "$g > a_{Elevator}  \\Rightarrow \\text{Man flies with increasing velocity towards ceiling}$  \n",
    "$g = a_{Elevator} \\Rightarrow \\text{Man is perfectly grounded}$  \n",
    "$g < a_{Elevator} \\Rightarrow \\text{Man is pushed with increasing force against floor}$ \n",
    "\n",
    "\n",
    "Limit for acceleration at the verge of man flying towards ceiling:  \n",
    "$a_{Elevator} = g = \\frac{\\Delta v}{\\Delta T}$  \n",
    "$\\Delta T = \\frac{\\Delta v}{g} = \\frac{5.9m/s}{9.81m/s^2} = 0.6s$\n"
   ]
  },
  {
   "cell_type": "code",
   "execution_count": 17,
   "metadata": {},
   "outputs": [
    {
     "name": "stdout",
     "output_type": "stream",
     "text": [
      "Minimum stopping time =  0.6 s\n"
     ]
    }
   ],
   "source": [
    "t = 5.9 / 9.81\n",
    "print(\"Minimum stopping time = \", round(t,2), \"s\")"
   ]
  },
  {
   "cell_type": "markdown",
   "metadata": {},
   "source": [
    "### Assignment 47\n",
    "Blocks of $1.0$, $2.0$, and $3.0 kg$ are lined up on a frictionless table,  \n",
    "as shown in Fig. 4.22, with a $12N$ force applied to the leftmost block.  \n",
    "What’s the magnitude of the force that the rightmost block exerts on the middle one?\n"
   ]
  },
  {
   "cell_type": "markdown",
   "metadata": {},
   "source": [
    "<img src=\"Screens/figure_4_22.jpg\" width=\"400\">"
   ]
  },
  {
   "cell_type": "markdown",
   "metadata": {},
   "source": [
    "<img src=\"Screens/as4_47.jpg\" width=\"400\">"
   ]
  },
  {
   "cell_type": "markdown",
   "metadata": {},
   "source": [
    "The blocks move with the same acceleration and velocity  \n",
    "$a = \\frac{\\Sigma \\vec{F}}{m} = \\frac{12N}{6kg} = 2m/s^2$"
   ]
  },
  {
   "cell_type": "markdown",
   "metadata": {},
   "source": [
    "$\\Sigma \\vec{F} = 12N$  \n",
    "\n",
    "$m_{C}= 3kg \\Rightarrow \\vec{F_4} = 2m/s^2 \\cdot 3kg = 6N$  \n",
    "$\\vec{F_3} = \\vec{F_4}$ because it is the opposing force\n",
    "\n",
    "Direction: Opposite of $\\vec{F_4}$"
   ]
  },
  {
   "cell_type": "markdown",
   "metadata": {},
   "source": [
    "### Assignment 51\n",
    "A $2100kg$ airplane pulls two gliders,  \n",
    "the first of mass $340 kg$ and the second of mass $280 kg$, \n",
    "down the runway with acceleration $1.7 m/s^2$ (Fig. 4.23).  \n",
    "Neglecting the mass of the two ropes and any frictional forces,  "
   ]
  },
  {
   "cell_type": "markdown",
   "metadata": {},
   "source": [
    "<img src=\"Screens/figure_4_23.jpg\" width=\"400\">"
   ]
  },
  {
   "cell_type": "markdown",
   "metadata": {},
   "source": [
    "##### 51 a)\n",
    "Determine the magnitude of the horizontal thrust of the plane’s propeller."
   ]
  },
  {
   "cell_type": "code",
   "execution_count": 18,
   "metadata": {},
   "outputs": [
    {
     "name": "stdout",
     "output_type": "stream",
     "text": [
      "Propellers horizontal thrust: 4624.0 N\n"
     ]
    }
   ],
   "source": [
    "#a,b,c from left to right\n",
    "\n",
    "m_a = 280\n",
    "m_b = 340\n",
    "m_c = 2100\n",
    "\n",
    "a = 1.7\n",
    "m_tot = m_a + m_b + m_c\n",
    "F_tot = a * m_tot\n",
    "print(\"Propellers horizontal thrust:\", F_tot, \"N\")"
   ]
  },
  {
   "cell_type": "markdown",
   "metadata": {},
   "source": [
    "##### 51 b)\n",
    "Determine the magnitude of the tension force in the first rope."
   ]
  },
  {
   "cell_type": "code",
   "execution_count": 19,
   "metadata": {},
   "outputs": [
    {
     "name": "stdout",
     "output_type": "stream",
     "text": [
      "Tension force of first rope: 1054.0 N\n"
     ]
    }
   ],
   "source": [
    "F3 = a * (m_a+m_b)\n",
    "print(\"Tension force of first rope:\", F3, \"N\")"
   ]
  },
  {
   "cell_type": "markdown",
   "metadata": {},
   "source": [
    "##### 51 c)\n",
    "Determine  the tension force in the second rope."
   ]
  },
  {
   "cell_type": "code",
   "execution_count": 20,
   "metadata": {},
   "outputs": [
    {
     "name": "stdout",
     "output_type": "stream",
     "text": [
      "Tension force of first rope: 476.0 N\n"
     ]
    }
   ],
   "source": [
    "F1 = a * (m_a)\n",
    "print(\"Tension force of first rope:\", F1, \"N\")"
   ]
  },
  {
   "cell_type": "markdown",
   "metadata": {},
   "source": [
    "##### 51 d)\n",
    "Determine the net force on the first glider."
   ]
  },
  {
   "cell_type": "code",
   "execution_count": 21,
   "metadata": {},
   "outputs": [
    {
     "name": "stdout",
     "output_type": "stream",
     "text": [
      "Net force on first glider: 3570.0 N\n"
     ]
    }
   ],
   "source": [
    "F1net = F_tot - F3 \n",
    "print(\"Net force on first glider:\", F1net, \"N\")"
   ]
  },
  {
   "cell_type": "markdown",
   "metadata": {},
   "source": [
    "### Assignment 53 (feil svar?)\n",
    "An elastic towrope has spring constant $1300 N/m$.  \n",
    "It’s connected between a truck and a $1900 kg$ car.  \n",
    "As the truck tows the car, the rope stretches $55 cm$.  \n",
    "Starting from rest, how far do the truck and the car move in 1 min?  \n",
    "Assume the car experiences negligible friction."
   ]
  },
  {
   "cell_type": "code",
   "execution_count": 22,
   "metadata": {},
   "outputs": [],
   "source": [
    "# PLugging in known quantities\n",
    "k = 1300\n",
    "m = 1900\n",
    "x_rope = 0.55\n",
    "t = 60"
   ]
  },
  {
   "cell_type": "code",
   "execution_count": 23,
   "metadata": {},
   "outputs": [
    {
     "name": "stdout",
     "output_type": "stream",
     "text": [
      "Fs: 715.0 N\n"
     ]
    }
   ],
   "source": [
    "Fs = k*x_rope\n",
    "print(\"Fs:\",round(Fs,2),\"N\")"
   ]
  },
  {
   "cell_type": "code",
   "execution_count": 24,
   "metadata": {},
   "outputs": [
    {
     "name": "stdout",
     "output_type": "stream",
     "text": [
      "a: 0.38 m/s^2\n"
     ]
    }
   ],
   "source": [
    "a = Fs/m\n",
    "print(\"a:\",round(a,2),\"m/s^2\")"
   ]
  },
  {
   "cell_type": "code",
   "execution_count": 25,
   "metadata": {},
   "outputs": [
    {
     "name": "stdout",
     "output_type": "stream",
     "text": [
      "v: 22.578947368421055 m/s\n"
     ]
    }
   ],
   "source": [
    "v = a*t\n",
    "print(\"v:\",v,\"m/s\")"
   ]
  },
  {
   "cell_type": "code",
   "execution_count": 26,
   "metadata": {},
   "outputs": [
    {
     "name": "stdout",
     "output_type": "stream",
     "text": [
      "delta x: 30.0 m\n"
     ]
    }
   ],
   "source": [
    "deltaX = v /(2*a)\n",
    "print(\"delta x:\", deltaX, \"m\")"
   ]
  },
  {
   "cell_type": "markdown",
   "metadata": {},
   "source": [
    "### Assignment 55\n",
    "You’re an automotive engineer designing the “crumple zone”  \n",
    "of a new car -the region that compresses as the car comes to a stop in a head-on collision. \n",
    "\n",
    "If the maximum allowable force on a passenger in a $70-km/h$ collision is 20 times the passenger’s weight,  \n",
    "what do you specify for the amount of compression in\n",
    "the crumple zone?\n"
   ]
  },
  {
   "cell_type": "markdown",
   "metadata": {},
   "source": [
    "$\\Delta x = \\frac{v^2-v{_0}^2}{2a}$  \n",
    "\n",
    "$v = 0$   \n",
    "\n",
    "$\\Delta x = \\frac{v^2}{2a}$  \n",
    "\n",
    "$\\Delta x = \\frac{189}{a}$"
   ]
  },
  {
   "cell_type": "markdown",
   "metadata": {},
   "source": [
    "$a = \\frac{F}{m}$\n",
    "\n",
    "for dette tilfellet:\n",
    "\n",
    "$a = \\frac{F}{20m}$"
   ]
  },
  {
   "cell_type": "markdown",
   "metadata": {},
   "source": [
    "$F = 20ma$"
   ]
  },
  {
   "cell_type": "markdown",
   "metadata": {},
   "source": [
    "$\\Delta x = \\frac{189\\cdot 20m}{2F} = \\frac{1890m}{F}$"
   ]
  },
  {
   "cell_type": "code",
   "execution_count": 27,
   "metadata": {},
   "outputs": [
    {
     "name": "stdout",
     "output_type": "stream",
     "text": [
      "19.444444444444443\n"
     ]
    },
    {
     "data": {
      "text/plain": [
       "189.0432098765432"
      ]
     },
     "execution_count": 27,
     "metadata": {},
     "output_type": "execute_result"
    }
   ],
   "source": [
    "kmh = 70\n",
    "mps = kmh * 1000/3600\n",
    "print(mps)\n",
    "mps_sqr = M.pow(mps,2)\n",
    "(mps_sqr /2)"
   ]
  },
  {
   "cell_type": "code",
   "execution_count": 28,
   "metadata": {},
   "outputs": [
    {
     "data": {
      "text/plain": [
       "1890.0"
      ]
     },
     "execution_count": 28,
     "metadata": {},
     "output_type": "execute_result"
    }
   ],
   "source": [
    "(189*20)/2"
   ]
  },
  {
   "cell_type": "markdown",
   "metadata": {},
   "source": [
    "### Assignment 59\n",
    "What engine thrust (force) is needed to accelerate a rocket of\n",
    "mass m \n",
    "\n",
    "##### (a) \n",
    "downward at $1.40g$ near Earth’s surface.\n",
    "\n"
   ]
  },
  {
   "cell_type": "markdown",
   "metadata": {},
   "source": [
    "$a = g - 1.4g = g(1-1.4) = -0.4g$  \n",
    "$F = -0.4mg$"
   ]
  },
  {
   "cell_type": "markdown",
   "metadata": {},
   "source": [
    "##### (b) \n",
    "upward at $1.40g$ near Earth’s surface.\n",
    "\n",
    "$a = g + 1.4g = g(1+1.4) = 2.4g$  \n",
    "\n",
    "$F = 2.4mg$"
   ]
  },
  {
   "cell_type": "markdown",
   "metadata": {},
   "source": [
    "##### (c) \n",
    "at $1.40g$ in interstellar space, far from any star or planet?\n",
    "\n",
    "$g = 1.4g$  \n",
    "$F = 1.4mg$\n",
    "\n"
   ]
  },
  {
   "cell_type": "markdown",
   "metadata": {},
   "source": [
    "### Assignment 61\n",
    "With its fuel tanks half full, an F-35A jet fighter has mass $18 Mg$\n",
    "and engine thrust $191 kN$.   \n",
    "\n",
    "An Airbus A-380 has mass $560 Mg$ and\n",
    "total engine thrust $1.5 MN$.   \n",
    "\n",
    "Could either aircraft climb vertically\n",
    "with no lift from its wings?  \n",
    "If so, what vertical acceleration could\n",
    "it achieve?"
   ]
  },
  {
   "cell_type": "code",
   "execution_count": 78,
   "metadata": {},
   "outputs": [
    {
     "name": "stdout",
     "output_type": "stream",
     "text": [
      "Force of gravity on airbus:  5.49 MN\n",
      "Engine force from airbus:  1.5 MN\n",
      "Vertical climb possible: No\n"
     ]
    }
   ],
   "source": [
    "# Using F = ma, to determine magnitudes\n",
    "m_airbus = 560 * M.pow(10,3)\n",
    "F_airbus = 1.5 * M.pow(10,6)\n",
    "Fg_airbus = m_airbus * g\n",
    "\n",
    "print(\"Force of gravity on airbus: \",round(Fg_airbus/1000000,2),\"MN\")\n",
    "print(\"Engine force from airbus: \", round(F_airbus/1000000,2), \"MN\")\n",
    "print(\"Vertical climb possible: No\")"
   ]
  },
  {
   "cell_type": "code",
   "execution_count": 79,
   "metadata": {},
   "outputs": [
    {
     "name": "stdout",
     "output_type": "stream",
     "text": [
      "Engine force from jet:  191.0 kN\n",
      "Force of gravity on jet:  176.4 kN\n",
      "Vertical climb possible: Yes\n",
      "F net vertical =  14.6 kN\n",
      "Vertical acceleration: 0.81 m/s^2\n"
     ]
    }
   ],
   "source": [
    "##### m_jet = 18 * M.pow(10,3)\n",
    "F_jet = 191 * M.pow(10,3)\n",
    "Fg_jet = m_jet * g\n",
    "Fnet_vert = F_jet - Fg_jet\n",
    "a_vert = Fnet_vert/m_jet\n",
    "\n",
    "print(\"Engine force from jet: \", round(F_jet/1000,5), \"kN\")\n",
    "print(\"Force of gravity on jet: \",round(Fg_jet/1000,5), \"kN\")\n",
    "print(\"Vertical climb possible: Yes\")\n",
    "print(\"F net vertical = \", Fnet_vert /1000, \"kN\")\n",
    "print(\"Vertical acceleration:\", round(a_vert,2),\"m/s^2\")"
   ]
  },
  {
   "cell_type": "markdown",
   "metadata": {},
   "source": [
    "### Assignment  65\n",
    "A block 25% more massive than you hangs from a rope that goes over a frictionless, massless pulley. \n",
    "\n",
    "With what acceleration must you climb the other end of the rope to keep the block from falling?\n"
   ]
  },
  {
   "cell_type": "markdown",
   "metadata": {},
   "source": [
    "$F_{block} = m_{block}g$  \n",
    "\n",
    "$m_{block} = 1.25 m_{me}$  \n",
    "\n",
    "$F_{me} = m_{me} (g+a)$  \n",
    "\n",
    "$\\Sigma F = 0$ (no change in velocity)  \n",
    "\n",
    "$m_{block}g - m_{me}(g+a) = 0$  \n",
    "\n",
    "$1.25 m_{me}g - m_{me}(g+a) = 0$  \n",
    "$m_{me}(g+a) = 1.25 m_{me}g $  \n",
    "$g+a = 1.25g$  \n",
    "$a = 1.25g - g$  \n",
    "$a = g(1-1.25)$  \n",
    "$a = g(-0.25)$  \n",
    "$a = -0.25g$"
   ]
  },
  {
   "cell_type": "code",
   "execution_count": null,
   "metadata": {},
   "outputs": [],
   "source": [
    "g = 9.81\n",
    "a = -0.25*g\n",
    "print(\"a = \", a,\"m/s^2\")"
   ]
  },
  {
   "cell_type": "markdown",
   "metadata": {},
   "source": [
    "$m_{me}(g+a) = - m_{block}g$  "
   ]
  },
  {
   "cell_type": "markdown",
   "metadata": {},
   "source": [
    "### Assignment 71\n",
    "Your airplane is caught in a brief, violent downdraft.  \n",
    "To your amazement, pretzels rise vertically off your seatback tray, and\n",
    "you estimate their upward acceleration relative to the plane at\n",
    "$2 m/s^2$.  \n",
    "\n",
    "What’s the plane’s downward acceleration?"
   ]
  },
  {
   "cell_type": "code",
   "execution_count": 80,
   "metadata": {},
   "outputs": [
    {
     "name": "stdout",
     "output_type": "stream",
     "text": [
      "Downward acceleration: 11.8 m/s^2\n"
     ]
    }
   ],
   "source": [
    "a_down = g + 2\n",
    "print(\"Downward acceleration:\",a_down,\"m/s^2\")"
   ]
  },
  {
   "cell_type": "markdown",
   "metadata": {},
   "source": [
    "### Assignment 73\n",
    "Two masses are joined by a massless string.  \n",
    "A $30N$ force applied vertically to the upper mass   \n",
    "gives the system a constant upward acceleration of $3.2 m/s^2$.\n",
    "\n",
    "If the string tension is $18 N$, what are the\n",
    "two masses?\n"
   ]
  },
  {
   "cell_type": "markdown",
   "metadata": {},
   "source": [
    "###### Finding upper mass:"
   ]
  },
  {
   "cell_type": "code",
   "execution_count": 97,
   "metadata": {},
   "outputs": [],
   "source": [
    "# sumF = ma\n",
    "# F1 - T - m1g = m1a\n",
    "# F1 - T = m1(a+g)\n",
    "# m1 = (F1 - T) / (a+g)"
   ]
  },
  {
   "cell_type": "code",
   "execution_count": 96,
   "metadata": {},
   "outputs": [
    {
     "name": "stdout",
     "output_type": "stream",
     "text": [
      "Mass of upper:  0.92 kg\n"
     ]
    }
   ],
   "source": [
    "F1 = 30\n",
    "T = 18\n",
    "a = 3.2\n",
    "m1 = (F1-T) / (a+g)\n",
    "print(\"Mass of upper: \", round(m1,2),\"kg\")"
   ]
  },
  {
   "cell_type": "markdown",
   "metadata": {},
   "source": [
    "###### Finding lower mass"
   ]
  },
  {
   "cell_type": "code",
   "execution_count": null,
   "metadata": {},
   "outputs": [],
   "source": [
    "# T = m2(a+g)\n",
    "# m2 = T1 / (a+g)"
   ]
  },
  {
   "cell_type": "code",
   "execution_count": 102,
   "metadata": {},
   "outputs": [
    {
     "name": "stdout",
     "output_type": "stream",
     "text": [
      "Mass of lower:  1.38 kg\n"
     ]
    }
   ],
   "source": [
    "m2 = T / (a+g)\n",
    "print(\"Mass of lower: \",round(m2,2),\"kg\")"
   ]
  },
  {
   "cell_type": "markdown",
   "metadata": {},
   "source": [
    "### Assignment 75\n",
    "“Jerk” is the rate of change of acceleration, and it’s what can make you sick on an amusement park ride. \n",
    "\n",
    "In a particular ride, a car and passengers with total mass $M$  \n",
    "are subject to a force given by $F = F_0 sin (\\omega t)$, where $F_0$ and $\\omega$ are constants. \n",
    "\n",
    "Find an expression for the maximum jerk.\n"
   ]
  }
 ],
 "metadata": {
  "kernelspec": {
   "display_name": "Python 3",
   "language": "python",
   "name": "python3"
  },
  "language_info": {
   "codemirror_mode": {
    "name": "ipython",
    "version": 3
   },
   "file_extension": ".py",
   "mimetype": "text/x-python",
   "name": "python",
   "nbconvert_exporter": "python",
   "pygments_lexer": "ipython3",
   "version": "3.8.5"
  }
 },
 "nbformat": 4,
 "nbformat_minor": 4
}
