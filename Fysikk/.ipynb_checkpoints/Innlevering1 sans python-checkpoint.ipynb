{
 "cells": [
  {
   "cell_type": "code",
   "execution_count": 68,
   "metadata": {},
   "outputs": [
    {
     "data": {
      "text/html": [
       "<style>\n",
       ".rendered_html table {\n",
       "    margin-right:50px;\n",
       "}\n",
       "table {float:left}\n",
       "img {float:left}\n",
       "</style>\n"
      ],
      "text/plain": [
       "<IPython.core.display.HTML object>"
      ]
     },
     "metadata": {},
     "output_type": "display_data"
    }
   ],
   "source": [
    "%%html\n",
    "<style>\n",
    ".rendered_html table {\n",
    "    margin-right:50px;\n",
    "}\n",
    "table {float:left}\n",
    "img {float:left}\n",
    "</style>"
   ]
  },
  {
   "cell_type": "markdown",
   "metadata": {},
   "source": [
    "###### Kommentar til innleveringen: \n",
    "Noen steder er det ikke tatt med numeriske mellomregninger. Dette er fordi jeg har prøvd å regne symbolsk så langt som mulig for å unngå avrundingsfeil."
   ]
  },
  {
   "cell_type": "markdown",
   "metadata": {},
   "source": [
    "# Oppgave 1\n",
    "En båt beveger seg rett østover med farten 8.0 knop.  \n",
    "Et halvt minutt senere kjører båten med farten 12.0 knop mot nordvest.  \n",
    "Tegn figur og beregn båtens akselerasjon (verdi og retning)."
   ]
  },
  {
   "cell_type": "markdown",
   "metadata": {},
   "source": [
    "<img src=\"Screens/innlevering1/1_1.jpg\" width=\"400\">"
   ]
  },
  {
   "cell_type": "markdown",
   "metadata": {},
   "source": [
    "$v_0 = 8 \\, knop =  4.12m/s$  \n",
    "$v_1 = 12\\,knop = 6.17m/s$  \n",
    "\n",
    "$\\vec{v}_{0x} = 4.12 m/s$  \n",
    "\n",
    "$v_{1x} = 6.17 \\cdot cos(135) $  \n",
    "$v_{1y} = 6.17 \\cdot sin(135)$  \n",
    "\n",
    "$\\Delta v_x = v_{0x} + v_{1x} = -0.24$  \n",
    "$\\Delta v_y = v_{1y} = 4.36$\n",
    "\n",
    "$\\overline{v} = \\sqrt{\\Delta v_{x}^2 + \\Delta v{_y}^2} = 4.36m/s$ \n",
    "\n",
    "$\\overline{a} = \\frac{\\overline{v}}{30s} = 0.15m/s^2$\n",
    "\n",
    "$\\theta_a = tan \\left( \\frac{\\Delta v\\hat{j}}{\\Delta v\\hat{i}} \\right) = 86^\\circ$\n",
    "\n",
    "\n"
   ]
  },
  {
   "cell_type": "markdown",
   "metadata": {},
   "source": [
    "# Oppgave 2 \n",
    "En kloss med masse $4.8kg$ har en bevegelse med posisjonsvektoren"
   ]
  },
  {
   "cell_type": "markdown",
   "metadata": {},
   "source": [
    "#### a)\n",
    "Bestem klossens fartsvektor når t =2s"
   ]
  },
  {
   "cell_type": "markdown",
   "metadata": {},
   "source": [
    "##### Lister opp kjente verdier"
   ]
  },
  {
   "cell_type": "markdown",
   "metadata": {},
   "source": [
    "$\\vec{r} = bt^3\\hat{i} + ct^2\\hat{j}$  \n",
    "$b = 0.125m/s^3$  \n",
    "$c = 1.0 m/s^2$  \n",
    "t = 2s"
   ]
  },
  {
   "cell_type": "markdown",
   "metadata": {},
   "source": [
    "##### Finner uttrykk for $\\vec{v}$"
   ]
  },
  {
   "cell_type": "markdown",
   "metadata": {},
   "source": [
    "$\\vec{v} = \\frac{d\\vec{r}}{dt} \n",
    "= (bt^3 \\hat{i}+ ct^2 \\hat{j})' = 3bt^2 \\hat{i}+ 2ct \\hat{j}$"
   ]
  },
  {
   "cell_type": "markdown",
   "metadata": {},
   "source": [
    "##### Setter inn for $a,b,t$"
   ]
  },
  {
   "cell_type": "markdown",
   "metadata": {},
   "source": [
    "$\\vec{v} = \\frac{3(0.125)\\,m\\, 2^2 s^2}{s^3} \\hat{i} +\n",
    "\\frac{2m \\,2s}{s^2} \\hat{j}$"
   ]
  },
  {
   "cell_type": "markdown",
   "metadata": {},
   "source": [
    "$\\vec{v} = 12(0.125)m/s \\hat{i} + 4m/s \\hat{j}$\n",
    "\n",
    "$\\vec{v} = 1.5m/s \\,\\hat{i} + 4m/s \\,\\hat{j}$  "
   ]
  },
  {
   "cell_type": "markdown",
   "metadata": {},
   "source": [
    "##### Finner verdimengde til $\\vec{v}$ og $\\theta$"
   ]
  },
  {
   "cell_type": "markdown",
   "metadata": {},
   "source": [
    "$|\\vec{v}| = \\sqrt{1.5^2 + 4 ^2} = 4.27m/s$"
   ]
  },
  {
   "cell_type": "markdown",
   "metadata": {},
   "source": [
    "$\\theta = tan^{-1}(\\frac{4}{1.5}) = 69.4^\\circ$"
   ]
  },
  {
   "cell_type": "markdown",
   "metadata": {},
   "source": [
    "#### Svar"
   ]
  },
  {
   "cell_type": "markdown",
   "metadata": {},
   "source": [
    "$\\vec{v} = 1.5m/s \\,\\hat{i} + 4m/s \\,\\hat{j}$ \n",
    "\n",
    "$|\\vec{v}| = 4.27m/s$\n",
    "\n",
    "$\\theta = 69.4^\\circ$"
   ]
  },
  {
   "cell_type": "markdown",
   "metadata": {},
   "source": [
    "<img src=\"Screens/innlevering1/2_1.jpg\" height=\"100\">"
   ]
  },
  {
   "cell_type": "markdown",
   "metadata": {},
   "source": [
    "#### b)\n",
    "Bestem kraftsummen på klossen (verdi og retning) når t =2.0s"
   ]
  },
  {
   "cell_type": "markdown",
   "metadata": {},
   "source": [
    "$\\vec{a} = \\frac{v}{s} =  \\frac{4.27m/s}{2s}= 2.135m/s^2$"
   ]
  },
  {
   "cell_type": "markdown",
   "metadata": {},
   "source": [
    "$\\Sigma F = ma = 4.8kg \\cdot 2.135 m/s^2 = 10.248N$"
   ]
  },
  {
   "cell_type": "markdown",
   "metadata": {},
   "source": [
    "# Oppgave 3\n",
    "En ball kastes på skrå oppover med en startfart  \n",
    "$v_0 = 22.0 m/s$, $40^\\circ$ over horisontalen.\n",
    "\n",
    "Stedet der ballen lander ligger 16.0m lavere enn startpunktet."
   ]
  },
  {
   "cell_type": "markdown",
   "metadata": {},
   "source": [
    "<img src=\"Screens/innlevering1/3_3.jpg\">"
   ]
  },
  {
   "cell_type": "markdown",
   "metadata": {},
   "source": [
    "- Ballens bevegelse fra $x_0$ til $x_1$, vil være lik som fra $x_2$ til $x_1$.\n",
    "- Man kan dermed regne på ballens bevegelse uavhengig av hvilken side kastet gjøres fra.\n",
    "- Ballens bevegelse fra $x_3$ til $x_0$ kan sees på som et kast fra $x_3$ med utgangsfart og vinkel som gjør at bevegelsen mellom $x_2$ og $x_0$, samsvarer med bevegelsen til kastet fra $x_0$ til $x_2$"
   ]
  },
  {
   "cell_type": "markdown",
   "metadata": {},
   "source": [
    "#### a) \n",
    "Regn  ut ballens største høyde og farten i høyeste punkt (verdi og retning)"
   ]
  },
  {
   "cell_type": "markdown",
   "metadata": {},
   "source": [
    "<img src=\"Screens/innlevering1/3_1.jpg\">"
   ]
  },
  {
   "cell_type": "markdown",
   "metadata": {},
   "source": [
    "$g = 9.81m/s^2$  \n",
    "$v_0 = 22 m/s$  \n",
    "$\\theta_0 = 40^\\circ$  \n",
    "\n",
    "$v_{y0} = v_0 \\cdot sin(\\theta_0)$  \n",
    "$t_{y1} = \\frac{v_{y0}}{g} = 1.44...s$  \n",
    "$t_{y2} = 2t_{y1} = 1.89...s$  \n",
    "$y_{1} = v_{y0} \\, t_{y1} - \\frac{g\\,t^2}{2} = 10.2m$  \n",
    "\n",
    "$v_{y1} = 0m/s$  \n",
    "$v_{x1} = v_{x_0} = v_0 \\, cos(\\theta_0) = 16.85m/s$"
   ]
  },
  {
   "cell_type": "markdown",
   "metadata": {},
   "source": [
    "Ballen vil ha størst høyde i punkt [$x_1,y_1$], som defineres av $v_{y1} = 0$\n",
    "\n",
    "Høyden er da $10.2m$\n",
    "\n",
    "Fart i x-retning er $16.85 m/s$\n",
    "\n",
    "Fart i y-retning er $0m/s$"
   ]
  },
  {
   "cell_type": "markdown",
   "metadata": {},
   "source": [
    "#### b)\n",
    "Bestem tidspunkt og fart (verdi og retning), når ballen treffer bakken."
   ]
  },
  {
   "cell_type": "markdown",
   "metadata": {},
   "source": [
    "<img src=\"Screens/innlevering1/3_2.jpg\">"
   ]
  },
  {
   "cell_type": "markdown",
   "metadata": {},
   "source": [
    "- Regner på kastet som om kastet fra høyre mot venstre\n",
    "- Tid vil dermed avvike fra forrige utregning, men bevegelsen mellom $x_2$ og $x_0$ vil være identisk"
   ]
  },
  {
   "cell_type": "markdown",
   "metadata": {},
   "source": [
    "##### Total tid for bevegelsen"
   ]
  },
  {
   "cell_type": "markdown",
   "metadata": {},
   "source": [
    "$\\Delta y_{1,3} = y1 - y3 = 26.2m$  \n",
    "$t_{y1h} = $ tid for kast fra høyre  \n",
    "$t_{y1h} = \\sqrt{\\frac{2 \\Delta y_{1,3}}{g}} = 2.31$  \n",
    "$\\Delta t = t_{y1} + t_{y1h} = 3.76s$"
   ]
  },
  {
   "cell_type": "markdown",
   "metadata": {},
   "source": [
    "Total tid for bevegelsen: $3.76s$"
   ]
  },
  {
   "cell_type": "markdown",
   "metadata": {},
   "source": [
    "##### Fart når ballen treffer bakken"
   ]
  },
  {
   "cell_type": "markdown",
   "metadata": {},
   "source": [
    "$y = v_{y0}t-\\frac{1}{2}gt^2$  \n",
    "$v_{y0} = \\frac{\\Delta y_{1,3}}{t} + \\frac{1}{2}gt_{y1} = 22.67m/s$"
   ]
  },
  {
   "cell_type": "markdown",
   "metadata": {},
   "source": [
    "# Oppgave 4\n",
    "Vi skal henge opp et maleri med masse $3.8kg$ i en spiker på veggen.  \n",
    "I rammen er det to snorfester med avstand $40cm$.\n",
    "\n",
    "Snora vi bruker tåler en maksimal belastning på $20.0N$.\n",
    "\n",
    "Hvor lang må snora minst være? (Tegn figur)."
   ]
  },
  {
   "cell_type": "markdown",
   "metadata": {},
   "source": [
    "<img src=\"Screens/innlevering1/4_1.jpg\">"
   ]
  },
  {
   "cell_type": "markdown",
   "metadata": {},
   "source": [
    "##### Komplett system\n",
    "\n",
    "$\\Sigma \\vec{F} = 0$  \n",
    "$\\Sigma \\vec{F} = \\vec{T}_1 + \\vec{T}_2 - \\vec{F}_g$  \n",
    "$\\vec{F}_g = \\vec{T}_1 + \\vec{T}_2$  "
   ]
  },
  {
   "cell_type": "markdown",
   "metadata": {},
   "source": [
    "##### Finner $\\theta$\n",
    "\n",
    "$T = 20N$\n",
    "\n",
    "$\\vec{F}_{gy} = mg $  \n",
    "\n",
    "$\\vec{F}_{gy} = 2T_y$  \n",
    "\n",
    "$T_y = \\frac{mg}{2} = sin(\\theta) \\cdot T$\n",
    "\n",
    "$\\theta = sin^{-1} \\left(\\frac{T_y}{T}\\right) = 68.6 ^\\circ$"
   ]
  },
  {
   "cell_type": "markdown",
   "metadata": {},
   "source": [
    "<img src=\"Screens/innlevering1/4_2.jpg\">"
   ]
  },
  {
   "cell_type": "markdown",
   "metadata": {},
   "source": [
    "#### Finner minste lengde på tråden"
   ]
  },
  {
   "cell_type": "markdown",
   "metadata": {},
   "source": [
    "$s_1 = 0.4m$  \n",
    "$s_2 = \\frac{(s_1/2)}{cos(\\theta)}$  \n",
    "$s_{tot} = 2 \\cdot s_2 = 1.10m$"
   ]
  },
  {
   "cell_type": "markdown",
   "metadata": {},
   "source": [
    "Minste lengde på tråden er 1.10m"
   ]
  },
  {
   "cell_type": "markdown",
   "metadata": {},
   "source": [
    "# Oppgave 5\n",
    "<img src=\"Screens/innlevering1/Oppgave5_oppgavebilde.jpg\" width=\"400\">"
   ]
  },
  {
   "cell_type": "markdown",
   "metadata": {},
   "source": [
    "<img src=\"Screens/innlevering1/5_1.jpg\" width=\"400\">"
   ]
  },
  {
   "cell_type": "markdown",
   "metadata": {},
   "source": [
    "$m_m = 70kg$  \n",
    "$m_k = 25kg$  \n",
    "$m_b = 3kg$  "
   ]
  },
  {
   "cell_type": "markdown",
   "metadata": {},
   "source": [
    "$\\vec{G_m} = g \\cdot m_m$  \n",
    "$\\vec{G_k} = g \\cdot m_k$  \n",
    "$\\vec{G_b} = \\vec{T} = g \\cdot m_b$  "
   ]
  },
  {
   "cell_type": "markdown",
   "metadata": {},
   "source": [
    "$\\Sigma F = \\vec{N_m}  - \\vec{G_m} + \\vec{N_k} - \\vec{G_k} - \\vec{G_b} + T = 0$\n",
    "\n",
    "$\\vec{N_m} = \\vec{G_m} = 686N$"
   ]
  },
  {
   "cell_type": "markdown",
   "metadata": {},
   "source": [
    "Systemet er i ro, badevekta presser oppover med en kraft lik mannens tyngdekraft. \n",
    "Vekta vil derfor vise mannens vekt."
   ]
  }
 ],
 "metadata": {
  "kernelspec": {
   "display_name": "Python 3",
   "language": "python",
   "name": "python3"
  },
  "language_info": {
   "codemirror_mode": {
    "name": "ipython",
    "version": 3
   },
   "file_extension": ".py",
   "mimetype": "text/x-python",
   "name": "python",
   "nbconvert_exporter": "python",
   "pygments_lexer": "ipython3",
   "version": "3.8.5"
  }
 },
 "nbformat": 4,
 "nbformat_minor": 4
}
