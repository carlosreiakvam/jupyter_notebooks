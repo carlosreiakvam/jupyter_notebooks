{
 "cells": [
  {
   "cell_type": "code",
   "execution_count": 19,
   "metadata": {},
   "outputs": [],
   "source": [
    "import math as M\n",
    "import sympy as SP\n",
    "SP.init_printing()\n",
    "g = 9.8"
   ]
  },
  {
   "cell_type": "markdown",
   "metadata": {},
   "source": [
    "### Oppgave 1\n",
    "En båt beveger seg rett østover med farten 8.0 knop.  \n",
    "Et halvt minutt senere kjører båten med farten 12.0 knop mot nordvest.  \n",
    "Tegn figur og beregn båtens akselerasjon (verdi og retning)."
   ]
  },
  {
   "cell_type": "markdown",
   "metadata": {},
   "source": [
    "<img src=\"Screens/innlevering1/oppgave1.jpg\">"
   ]
  },
  {
   "cell_type": "markdown",
   "metadata": {},
   "source": [
    "$8 \\, knop =  4.12m/s$  \n",
    "$12\\,knop = 6.17m/s$  \n",
    "\n",
    "$v_{0\\hat{i}} = 4.12 \\cdot cos(0) $  \n",
    "$v_{0\\hat{j}} = 4.12 \\cdot sin(0)$  \n",
    "\n",
    "$v_{\\hat{i}} = 6.17 \\cdot cos(135) $  \n",
    "$v_{\\hat{j}} = 6.17 \\cdot sin(135)$  \n",
    "\n",
    "$\\Delta v_\\hat{i} = v_{0\\hat{i}} + v_{\\hat{i}} = -0.24$  \n",
    "$\\Delta v_\\hat{j} = v_{0\\hat{j}} + v_{\\hat{j}} = 4.36$\n",
    "\n",
    "$\\overline{v} = \\sqrt{\\Delta v{_\\hat{i}}^2 + \\Delta v{_\\hat{j}}^2} = 4.36m/s$ \n",
    "\n",
    "$\\overline{a} = \\frac{\\overline{v}}{30s} = 0.15m/s^2$\n",
    "\n",
    "$\\theta = tan \\left( \\frac{\\Delta v\\hat{j}}{\\Delta v\\hat{i}} \\right) = 86^\\circ$\n",
    "\n",
    "\n"
   ]
  },
  {
   "cell_type": "code",
   "execution_count": 20,
   "metadata": {},
   "outputs": [
    {
     "name": "stdout",
     "output_type": "stream",
     "text": [
      "v1i =  4.12\n",
      "v1j =  0.0\n"
     ]
    }
   ],
   "source": [
    "v1i = 4.12 * M.cos(0)\n",
    "v1j = 4.12 * M.sin(0)\n",
    "print(\"v1i = \",v1i)\n",
    "print(\"v1j = \",v1j)\n",
    "    "
   ]
  },
  {
   "cell_type": "code",
   "execution_count": 21,
   "metadata": {},
   "outputs": [
    {
     "name": "stdout",
     "output_type": "stream",
     "text": [
      "v2i =  -4.362848839920998\n",
      "v2j =  4.362848839920998\n"
     ]
    }
   ],
   "source": [
    "thetav2 = M.radians(135)\n",
    "v2i = 6.17 * M.cos(thetav2)\n",
    "v2j = 6.17 * M.sin(thetav2)\n",
    "print(\"v2i = \",v2i)\n",
    "print(\"v2j = \",v2j)\n",
    "    "
   ]
  },
  {
   "cell_type": "code",
   "execution_count": 22,
   "metadata": {},
   "outputs": [
    {
     "name": "stdout",
     "output_type": "stream",
     "text": [
      "delta vi =  -0.24284883992099804\n",
      "delta vj =  4.362848839920998\n"
     ]
    }
   ],
   "source": [
    "delta_vi = v2i + v1i\n",
    "delta_vj = v2j + v1j\n",
    "print(\"delta vi = \", delta_vi)\n",
    "print(\"delta vj = \", delta_vj)"
   ]
  },
  {
   "cell_type": "code",
   "execution_count": 23,
   "metadata": {},
   "outputs": [
    {
     "data": {
      "image/png": "[encoded data removed]",
      "text/latex": [
       "$\\displaystyle 4.369602448627446$"
      ],
      "text/plain": [
       "4.369602448627446"
      ]
     },
     "execution_count": 23,
     "metadata": {},
     "output_type": "execute_result"
    }
   ],
   "source": [
    "v = M.sqrt(M.pow(delta_vi,2)+ M.pow(delta_vj,2))\n",
    "v                                      "
   ]
  },
  {
   "cell_type": "code",
   "execution_count": 24,
   "metadata": {},
   "outputs": [
    {
     "data": {
      "image/png": "[encoded data removed]",
      "text/latex": [
       "$\\displaystyle 0.15$"
      ],
      "text/plain": [
       "0.15"
      ]
     },
     "execution_count": 24,
     "metadata": {},
     "output_type": "execute_result"
    }
   ],
   "source": [
    "a = v/30\n",
    "round(a,2)"
   ]
  },
  {
   "cell_type": "code",
   "execution_count": 25,
   "metadata": {},
   "outputs": [
    {
     "data": {
      "image/png": "[encoded data removed]",
      "text/latex": [
       "$\\displaystyle -86.8140381793117$"
      ],
      "text/plain": [
       "-86.8140381793117"
      ]
     },
     "execution_count": 25,
     "metadata": {},
     "output_type": "execute_result"
    }
   ],
   "source": [
    "M.degrees(M.atan(delta_vj/delta_vi))"
   ]
  },
  {
   "cell_type": "markdown",
   "metadata": {},
   "source": [
    "### Oppgave 2 \n",
    "En kloss med masse $4.8kg$ har en bevegelse med posisjonsvektoren"
   ]
  },
  {
   "cell_type": "markdown",
   "metadata": {},
   "source": [
    "#### a)\n",
    "Bestem klossens fartsvektor når t =2s"
   ]
  },
  {
   "cell_type": "markdown",
   "metadata": {},
   "source": [
    "> Lister opp kjente verdier"
   ]
  },
  {
   "cell_type": "markdown",
   "metadata": {},
   "source": [
    "$\\vec{r} = bt^3\\hat{i} + ct^2\\hat{j}$  \n",
    "$b = 0.125m/s^3$  \n",
    "$c = 1.0 m/s^2$  \n",
    "t = 2s"
   ]
  },
  {
   "cell_type": "markdown",
   "metadata": {},
   "source": [
    "> Finner uttrykk for $\\vec{v}$"
   ]
  },
  {
   "cell_type": "markdown",
   "metadata": {},
   "source": [
    "$\\vec{v} = \\frac{d\\vec{r}}{dt} \n",
    "= (bt^3 \\hat{i}+ ct^2 \\hat{j})' = 3bt^2 \\hat{i}+ 2ct \\hat{j}$"
   ]
  },
  {
   "cell_type": "markdown",
   "metadata": {},
   "source": [
    "> Setter inn for $a,b,t$"
   ]
  },
  {
   "cell_type": "markdown",
   "metadata": {},
   "source": [
    "$\\vec{v} = \\frac{3(0.125)\\,m\\, 2^2 s^2}{s^3} \\hat{i} +\n",
    "\\frac{2m \\,2s}{s^2} \\hat{j}$"
   ]
  },
  {
   "cell_type": "markdown",
   "metadata": {},
   "source": [
    "$\\vec{v} = 12(0.125)m/s \\hat{i} + 4m/s \\hat{j}$\n",
    "\n",
    "$\\vec{v} = 1.5m/s \\,\\hat{i} + 4m/s \\,\\hat{j}$  "
   ]
  },
  {
   "cell_type": "markdown",
   "metadata": {},
   "source": [
    "> Finner verdimengde til $\\vec{v}$ og $\\theta$"
   ]
  },
  {
   "cell_type": "markdown",
   "metadata": {},
   "source": [
    "$|\\vec{v}| = \\sqrt{1.5^2 + 4 ^2} = 4.27m/s$"
   ]
  },
  {
   "cell_type": "markdown",
   "metadata": {},
   "source": [
    "$\\theta = tan^{-1}(\\frac{4}{1.5}) = 69.4^\\circ$"
   ]
  },
  {
   "cell_type": "markdown",
   "metadata": {},
   "source": [
    "#### Svar"
   ]
  },
  {
   "cell_type": "markdown",
   "metadata": {},
   "source": [
    "$\\vec{v} = 1.5m/s \\,\\hat{i} + 4m/s \\,\\hat{j}$ \n",
    "\n",
    "$|\\vec{v}| = 4.27m/s$\n",
    "\n",
    "$\\theta = 69.4^\\circ$"
   ]
  },
  {
   "cell_type": "markdown",
   "metadata": {},
   "source": [
    "<img src=\"Screens/innlevering1/2_1.jpg\" height=\"100\">"
   ]
  },
  {
   "cell_type": "markdown",
   "metadata": {},
   "source": [
    "#### b)\n",
    "Bestem kraftsummen på klossen (verdi og retning) når t =2.0s"
   ]
  },
  {
   "cell_type": "markdown",
   "metadata": {},
   "source": [
    "$\\vec{a} = \\frac{v}{s} =  \\frac{4.27m/s}{2s}= 2.135m/s^2$"
   ]
  },
  {
   "cell_type": "markdown",
   "metadata": {},
   "source": [
    "$\\Sigma F = ma = 4.8kg \\cdot 2.135 m/s^2 = 10.248N$"
   ]
  },
  {
   "cell_type": "markdown",
   "metadata": {},
   "source": [
    "### Eksempel 3.3"
   ]
  },
  {
   "cell_type": "code",
   "execution_count": 45,
   "metadata": {},
   "outputs": [
    {
     "name": "stdout",
     "output_type": "stream",
     "text": [
      "x =  79.0\n",
      "y =  26.9\n"
     ]
    }
   ],
   "source": [
    "vx0 = 7.3\n",
    "ax = 0.41\n",
    "ay = 0.71\n",
    "t = 8.7\n",
    "x = vx0 * t + (ax * M.pow(t,2)) / 2\n",
    "y = ( ay*M.pow(t,2) ) / 2\n",
    "print(\"x = \", round(x,1))\n",
    "print(\"y = \", round(y,1))"
   ]
  },
  {
   "cell_type": "markdown",
   "metadata": {},
   "source": [
    "### Oppgave 3\n",
    "En ball kastes på skrå oppover med en startfart  \n",
    "$v_0 = 22.0 m/s$, $40^\\circ$ over horisontalen.\n",
    "\n",
    "Stedet der ballen lander ligger 16.0m lavere enn startpunktet."
   ]
  },
  {
   "cell_type": "markdown",
   "metadata": {},
   "source": [
    "<img src=\"Screens/innlevering1/3_3.jpg\">"
   ]
  },
  {
   "cell_type": "markdown",
   "metadata": {},
   "source": [
    "- Ballens bevegelse fra $x_0$ til $x_1$, vil være lik som fra $x_2$ til $x_1$.\n",
    "- Man kan dermed regne på ballens bevegelse uavhengig av hvilken side kastet gjøres fra.\n",
    "- Ballens bevegelse fra $x_3$ til $x_0$ kan sees på som et kast fra $x_3$ med utgangsfart og vinkel som gjør at bevegelsen mellom $x_2$ og $x_0$, samsvarer med bevegelsen til kastet fra $x_0$ til $x_2$"
   ]
  },
  {
   "cell_type": "markdown",
   "metadata": {},
   "source": [
    "#### a) \n",
    "Regn  ut ballens største høyde og farten i høyeste punkt (verdi og retning)"
   ]
  },
  {
   "cell_type": "markdown",
   "metadata": {},
   "source": [
    "<img src=\"Screens/innlevering1/3_1.jpg\">"
   ]
  },
  {
   "cell_type": "markdown",
   "metadata": {},
   "source": [
    "$g = 9.8m/s^2$  \n",
    "$v_0 = 22 m/s$  \n",
    "$\\theta_0 = 40^\\circ$  \n",
    "\n",
    "$v_{y0} = v_0 \\cdot sin(\\theta_0)$  \n",
    "$t_{y1} = \\frac{v_{y0}}{g} $  \n",
    "$t_{y2} = 2t_{y1} = 2.89s$  \n",
    "$y_{1} = v_{y0} \\, t_{y1} - \\frac{g\\,t^2}{2} = 10.2m$  \n",
    "\n",
    "$v_{y1} = 0m/s$  \n",
    "$v_{x1} = v_{x_0} = v_0 \\, cos(\\theta_0) = 16.85m/s$"
   ]
  },
  {
   "cell_type": "markdown",
   "metadata": {},
   "source": [
    "Ballen vil ha størst høyde i punkt [$x_1,y_1$], som defineres av $v_{y1} = 0$"
   ]
  },
  {
   "cell_type": "markdown",
   "metadata": {},
   "source": [
    "$t_{[x1,y1]} = $"
   ]
  },
  {
   "cell_type": "code",
   "execution_count": 28,
   "metadata": {},
   "outputs": [],
   "source": [
    "v0 = 22\n",
    "theta = M.radians(40)"
   ]
  },
  {
   "cell_type": "code",
   "execution_count": 29,
   "metadata": {},
   "outputs": [
    {
     "name": "stdout",
     "output_type": "stream",
     "text": [
      "vy0 =  14.141327413103863\n"
     ]
    }
   ],
   "source": [
    "vy0 = v0 * M.sin(theta)\n",
    "print(\"vy0 = \", vy0)"
   ]
  },
  {
   "cell_type": "code",
   "execution_count": 30,
   "metadata": {},
   "outputs": [
    {
     "name": "stdout",
     "output_type": "stream",
     "text": [
      "t at top =  1.4429925931738634 s\n",
      "t back to y_0 =  2.885985186347727 s\n"
     ]
    }
   ],
   "source": [
    "#største høyde når fart = 0\n",
    "t_top = vy0 / g \n",
    "print(\"t at top = \", t_top, \"s\")\n",
    "t_back_to_y0 = t_top * 2\n",
    "print(\"t back to y_0 = \", t_back_to_y0,\"s\")"
   ]
  },
  {
   "cell_type": "markdown",
   "metadata": {},
   "source": [
    "##### Største høyde"
   ]
  },
  {
   "cell_type": "code",
   "execution_count": 31,
   "metadata": {},
   "outputs": [
    {
     "name": "stdout",
     "output_type": "stream",
     "text": [
      "y_top = 10.2 m\n"
     ]
    }
   ],
   "source": [
    "#Største høyde med formel 3.13\n",
    "y_top = vy0*t_top - (g*M.pow(t_top,2))/2\n",
    "print(\"y_top =\", round(y_top,2),\"m\" )"
   ]
  },
  {
   "cell_type": "markdown",
   "metadata": {},
   "source": [
    "##### Fart i høyeste punkt"
   ]
  },
  {
   "cell_type": "markdown",
   "metadata": {},
   "source": [
    "Vertikal fart på topp: $0m/s$"
   ]
  },
  {
   "cell_type": "code",
   "execution_count": 32,
   "metadata": {},
   "outputs": [
    {
     "name": "stdout",
     "output_type": "stream",
     "text": [
      "horisontal fart på topp:  16.85 m/s\n"
     ]
    }
   ],
   "source": [
    "vx0 = v0 * M.cos(theta)\n",
    "vx_top = vx0\n",
    "print(\"horisontal fart på topp: \", round(vx0,2),\"m/s\")"
   ]
  },
  {
   "cell_type": "markdown",
   "metadata": {},
   "source": [
    "#### b)\n",
    "Bestem tidspunkt og fart (verdi og retning), når ballen treffer bakken."
   ]
  },
  {
   "cell_type": "markdown",
   "metadata": {},
   "source": [
    "<img src=\"Screens/innlevering1/3_2.jpg\">"
   ]
  },
  {
   "cell_type": "markdown",
   "metadata": {},
   "source": [
    "- Regner på kastet som om kastet fra høyre mot venstre\n",
    "- Tid vil dermed avvike fra forrige utregning, men bevegelsen mellom $x_2$ og $x_0$ vil være identisk"
   ]
  },
  {
   "cell_type": "markdown",
   "metadata": {},
   "source": [
    "##### Total tid for bevegelsen"
   ]
  },
  {
   "cell_type": "markdown",
   "metadata": {},
   "source": [
    "$\\Delta y_{1,3} = y1 - y3 = 26.2m$  \n",
    "$t_{y1v} = $ tid med kast fra høyre  \n",
    "$t_{y1v} = \\sqrt{\\frac{2 \\Delta y_{1,3}}{g}}$  \n",
    "$\\Delta t = t_{y1} + t_{y1v} = 3.8s$"
   ]
  },
  {
   "cell_type": "markdown",
   "metadata": {},
   "source": [
    "##### Total tid for bevegelsen regnet med python"
   ]
  },
  {
   "cell_type": "code",
   "execution_count": 33,
   "metadata": {},
   "outputs": [
    {
     "name": "stdout",
     "output_type": "stream",
     "text": [
      "time for top to bottom: 2.312473512584222 s\n",
      "total time of motion: 3.8 s\n"
     ]
    }
   ],
   "source": [
    "y_delta_left = y_top + 16\n",
    "t_top_to_bottom = M.sqrt(2*y_delta_left / g)\n",
    "t_total = t_top + t_top_to_bottom\n",
    "print(\"time for top to bottom:\", t_top_to_bottom,\"s\")\n",
    "print(\"total time of motion:\", round(t_total,1),\"s\")"
   ]
  },
  {
   "cell_type": "markdown",
   "metadata": {},
   "source": [
    "##### Fart når ballen treffer bakken"
   ]
  },
  {
   "cell_type": "markdown",
   "metadata": {},
   "source": [
    "$y = v_{y0}t-\\frac{1}{2}gt^2$  \n",
    "$v_{y0} = \\frac{y}{t} + \\frac{1}{2}gt$"
   ]
  },
  {
   "cell_type": "code",
   "execution_count": 34,
   "metadata": {},
   "outputs": [
    {
     "ename": "TypeError",
     "evalue": "can't round symbolic expression",
     "output_type": "error",
     "traceback": [
      "\u001b[1;31m---------------------------------------------------------------------------\u001b[0m",
      "\u001b[1;31mTypeError\u001b[0m                                 Traceback (most recent call last)",
      "\u001b[1;32m<ipython-input-34-3d71081ccced>\u001b[0m in \u001b[0;36m<module>\u001b[1;34m\u001b[0m\n\u001b[0;32m      1\u001b[0m \u001b[0mvy0_left\u001b[0m \u001b[1;33m=\u001b[0m \u001b[1;33m(\u001b[0m\u001b[0my_delta_left\u001b[0m\u001b[1;33m/\u001b[0m\u001b[0mt_top_to_bottom\u001b[0m\u001b[1;33m)\u001b[0m \u001b[1;33m+\u001b[0m \u001b[1;33m(\u001b[0m\u001b[0mg\u001b[0m\u001b[1;33m*\u001b[0m\u001b[0mt\u001b[0m\u001b[1;33m/\u001b[0m\u001b[1;36m2\u001b[0m\u001b[1;33m)\u001b[0m\u001b[1;33m\u001b[0m\u001b[1;33m\u001b[0m\u001b[0m\n\u001b[1;32m----> 2\u001b[1;33m \u001b[0mprint\u001b[0m\u001b[1;33m(\u001b[0m\u001b[1;34m\"fart i y-retning mot bakken når ballen treffer bakken:\"\u001b[0m\u001b[1;33m,\u001b[0m \u001b[0mround\u001b[0m\u001b[1;33m(\u001b[0m\u001b[0mvy0_left\u001b[0m\u001b[1;33m,\u001b[0m\u001b[1;36m2\u001b[0m\u001b[1;33m)\u001b[0m\u001b[1;33m,\u001b[0m\u001b[1;34m\"m/s\"\u001b[0m\u001b[1;33m)\u001b[0m\u001b[1;33m\u001b[0m\u001b[1;33m\u001b[0m\u001b[0m\n\u001b[0m",
      "\u001b[1;32m~\\anaconda3\\lib\\site-packages\\sympy\\core\\expr.py\u001b[0m in \u001b[0;36mround\u001b[1;34m(self, n)\u001b[0m\n\u001b[0;32m   3651\u001b[0m \u001b[1;33m\u001b[0m\u001b[0m\n\u001b[0;32m   3652\u001b[0m         \u001b[1;32mif\u001b[0m \u001b[1;32mnot\u001b[0m \u001b[0mx\u001b[0m\u001b[1;33m.\u001b[0m\u001b[0mis_number\u001b[0m\u001b[1;33m:\u001b[0m\u001b[1;33m\u001b[0m\u001b[1;33m\u001b[0m\u001b[0m\n\u001b[1;32m-> 3653\u001b[1;33m             \u001b[1;32mraise\u001b[0m \u001b[0mTypeError\u001b[0m\u001b[1;33m(\u001b[0m\u001b[1;34m\"can't round symbolic expression\"\u001b[0m\u001b[1;33m)\u001b[0m\u001b[1;33m\u001b[0m\u001b[1;33m\u001b[0m\u001b[0m\n\u001b[0m\u001b[0;32m   3654\u001b[0m         \u001b[1;32mif\u001b[0m \u001b[1;32mnot\u001b[0m \u001b[0mx\u001b[0m\u001b[1;33m.\u001b[0m\u001b[0mis_Atom\u001b[0m\u001b[1;33m:\u001b[0m\u001b[1;33m\u001b[0m\u001b[1;33m\u001b[0m\u001b[0m\n\u001b[0;32m   3655\u001b[0m             \u001b[1;32mif\u001b[0m \u001b[1;32mnot\u001b[0m \u001b[0mpure_complex\u001b[0m\u001b[1;33m(\u001b[0m\u001b[0mx\u001b[0m\u001b[1;33m.\u001b[0m\u001b[0mn\u001b[0m\u001b[1;33m(\u001b[0m\u001b[1;36m2\u001b[0m\u001b[1;33m)\u001b[0m\u001b[1;33m,\u001b[0m \u001b[0mor_real\u001b[0m\u001b[1;33m=\u001b[0m\u001b[1;32mTrue\u001b[0m\u001b[1;33m)\u001b[0m\u001b[1;33m:\u001b[0m\u001b[1;33m\u001b[0m\u001b[1;33m\u001b[0m\u001b[0m\n",
      "\u001b[1;31mTypeError\u001b[0m: can't round symbolic expression"
     ]
    }
   ],
   "source": [
    "vy0_left = (y_delta_left/t_top_to_bottom) + (g*t/2)\n",
    "print(\"fart i y-retning mot bakken når ballen treffer bakken:\", round(vy0_left,2),\"m/s\")"
   ]
  },
  {
   "cell_type": "markdown",
   "metadata": {},
   "source": [
    "Fart i x-retning er lik utgangsfarten i x-retning"
   ]
  },
  {
   "cell_type": "markdown",
   "metadata": {},
   "source": [
    "### Oppgave 4\n",
    "Vi skal henge opp et maleri med masse $3.8kg$ i en spiker på veggen.  \n",
    "I rammen er det to snorfester med avstand $40cm$.\n",
    "\n",
    "Snora vi bruker tåler en maksimal belastning på $20.0N$.\n",
    "\n",
    "Hvor lang må snora minst være? (Tegn figur)."
   ]
  },
  {
   "cell_type": "markdown",
   "metadata": {},
   "source": [
    "<img src=\"Screens/innlevering1/4_1.jpg\">"
   ]
  },
  {
   "cell_type": "markdown",
   "metadata": {},
   "source": [
    "##### Komplett system\n",
    "\n",
    "$\\Sigma \\vec{F} = 0$  \n",
    "$\\Sigma \\vec{F} = \\vec{T}_1 + \\vec{T}_2 - \\vec{F}_g$  \n",
    "$\\vec{F}_g = \\vec{T}_1 + \\vec{T}_2$  "
   ]
  },
  {
   "cell_type": "markdown",
   "metadata": {},
   "source": [
    "##### Finner $\\theta$\n",
    "\n",
    "$T = 20N$\n",
    "\n",
    "$\\vec{F}_{gy} = mg $  \n",
    "\n",
    "$\\vec{F}_{gy} = 2T_y$  \n",
    "\n",
    "$T_y = \\frac{mg}{2} = sin(\\theta) \\cdot T$\n",
    "\n",
    "$\\theta = sin^{-1} \\left(\\frac{T_y}{T}\\right) = 68.6 ^\\circ$"
   ]
  },
  {
   "cell_type": "code",
   "execution_count": 35,
   "metadata": {},
   "outputs": [
    {
     "name": "stdout",
     "output_type": "stream",
     "text": [
      "Theta = 68.6 grader\n"
     ]
    }
   ],
   "source": [
    "m = 3.8\n",
    "g = 9.8\n",
    "Ty = (m*g) / 2\n",
    "T = 20\n",
    "\n",
    "theta = M.asin(Ty/T)\n",
    "theta_deg = M.degrees(theta)\n",
    "print(\"Theta =\", round(theta_deg,1), \"grader\" )"
   ]
  },
  {
   "cell_type": "markdown",
   "metadata": {},
   "source": [
    "<img src=\"Screens/innlevering1/4_2.jpg\">"
   ]
  },
  {
   "cell_type": "code",
   "execution_count": 36,
   "metadata": {},
   "outputs": [
    {
     "name": "stdout",
     "output_type": "stream",
     "text": [
      "minste lengde på tråd: 1.0958 m\n"
     ]
    }
   ],
   "source": [
    "s1 = 0.4\n",
    "s2 = (s1/2)/M.cos(theta)\n",
    "min_tot_len = s2*2\n",
    "\n",
    "print(\"minste lengde på tråd:\",round(min_tot_len,4),\"m\")"
   ]
  },
  {
   "cell_type": "markdown",
   "metadata": {},
   "source": [
    "### Oppgave 5\n",
    "<img src=\"Screens/innlevering1/Oppgave5_oppgavebilde.jpg\" width=\"400\">"
   ]
  },
  {
   "cell_type": "markdown",
   "metadata": {},
   "source": [
    "<img src=\"Screens/innlevering1/5_1.jpg\" width=\"400\">"
   ]
  },
  {
   "cell_type": "code",
   "execution_count": null,
   "metadata": {},
   "outputs": [],
   "source": [
    "mm = 70\n",
    "mk = 25\n",
    "mb = 3\n",
    "\n",
    "Gm = g * mm\n",
    "Gk = g * mk\n",
    "Gb = g * mb\n",
    "\n",
    "Nk = Gk\n",
    "\n",
    "\n",
    "Gtot = Gm + Gk + Gb\n",
    "print(Gtot)\n",
    "\n",
    "T = Gb"
   ]
  },
  {
   "cell_type": "code",
   "execution_count": null,
   "metadata": {},
   "outputs": [],
   "source": [
    "print(Gm)"
   ]
  },
  {
   "cell_type": "markdown",
   "metadata": {},
   "source": [
    "$\\vec{N_m}  - \\vec{G_m} + \\vec{N_k} - \\vec{G_k} - \\vec{G_b} + T = 0$\n",
    "\n",
    "$\\vec{N_m} = \\vec{G_m} = 686N$"
   ]
  },
  {
   "cell_type": "markdown",
   "metadata": {},
   "source": [
    "Systemet er i ro, badevekta presser oppover med en kraft lik mannens tyngdekraft. \n",
    "Vekta vil derfor vise mannens vekt."
   ]
  }
 ],
 "metadata": {
  "kernelspec": {
   "display_name": "Python 3",
   "language": "python",
   "name": "python3"
  },
  "language_info": {
   "codemirror_mode": {
    "name": "ipython",
    "version": 3
   },
   "file_extension": ".py",
   "mimetype": "text/x-python",
   "name": "python",
   "nbconvert_exporter": "python",
   "pygments_lexer": "ipython3",
   "version": "3.8.5"
  }
 },
 "nbformat": 4,
 "nbformat_minor": 4
}
