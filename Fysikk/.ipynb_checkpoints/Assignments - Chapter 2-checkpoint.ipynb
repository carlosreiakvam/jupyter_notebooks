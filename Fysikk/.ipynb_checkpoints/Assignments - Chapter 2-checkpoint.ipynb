{
 "cells": [
  {
   "cell_type": "markdown",
   "metadata": {},
   "source": [
    "# Mechanics Assignments\n",
    "#### Essential University Physics, chapter 2"
   ]
  },
  {
   "cell_type": "markdown",
   "metadata": {},
   "source": [
    "#### Problem 43\n",
    "\n",
    "You allow 34 min to drive 27 mi to the airport, but you’re caught\n",
    "in heavy traffic and average only 25 mi/h for the first 17 min.\n",
    "What must your average speed be on the rest of the trip if you’re\n",
    "to make your flight?"
   ]
  },
  {
   "cell_type": "markdown",
   "metadata": {},
   "source": [
    "first distance: $\\frac{25}{60} \\cdot 17 = 7.08 \\text{ miles}$  \n",
    "Remaining distance: $27 - 7.08 = 19.9 \\text{ miles}$  \n",
    "Remaining time in mins: $34-17 = 17$  \n",
    "\n",
    "$\\frac{19.9 \\cdot 1609m}{17min/60} = 31.41m/s$  \n",
    "$31.41m/s \\cdot 3.6 \\Rightarrow 113.1km/h $"
   ]
  },
  {
   "cell_type": "markdown",
   "metadata": {},
   "source": [
    "#### Problem 48\n",
    "\n",
    "An object’s position as a function of time t is given by $x = bt^4$,\n",
    "with b a constant. Find an expression for the instantaneous\n",
    "­velocity, and show that the average velocity over the interval from t = 0 to any time t is one-fourth of the instantaneous\n",
    "­velocity at t."
   ]
  },
  {
   "cell_type": "markdown",
   "metadata": {},
   "source": [
    "Instantanious velocity $\\overline{v} = \\frac{dx}{dt} = 4bt^3$\n",
    "\n",
    "Average velocity $v = \\frac{\\Delta{x}}{ \\Delta{t} }= \\frac{x(t) - x_0}{t-0} = \\frac{bt^4-0}{t-0} = bt^3$\n",
    "\n",
    "$bt^3 \\cdot \\frac{1}{4} = 4bt^3$"
   ]
  },
  {
   "cell_type": "markdown",
   "metadata": {},
   "source": [
    "#### Problem 50\n",
    "Squaring Equation 2.7 gives an expression for $v^2$. Equation 2.11\n",
    "also gives an expression for $v^2$. Equate the two expressions, and\n",
    "show that the resulting equation reduces to Equation 2.10."
   ]
  },
  {
   "cell_type": "markdown",
   "metadata": {},
   "source": [
    "Equation 2.7:  $v = v_0 + at$  \n",
    "Equation 2.9:  $x = x_0 + \\frac{1}{2}(v_0 +v)t$  \n",
    "Equation 2.10: $x = x_0 + v_0t + \\frac{1}{2}at^2$  \n",
    "Equation 2.11: $v^2 = v{_0}^2 + 2a(x-x_0)$  "
   ]
  },
  {
   "cell_type": "markdown",
   "metadata": {},
   "source": [
    "$$\\begin{align*}\n",
    "(v_0 + at)^2 &= v{_0}^2 +2a(x-x_0) \\\\\n",
    "v{_0}^2 + 2v_0at + a^2 t^2&= v{_0}^2 +2ax-2ax_0  \\\\\n",
    "-2ax+2ax_0 &= v{_0}^2 - v{_0}^2  - 2v_0at - a^2t^2 \\\\\n",
    "-2ax+2ax_0 &= - 2v_0at - a^2t^2 \\\\\n",
    "-x+x_0 &= - \\frac{2v_0at}{2a} - \\frac{a^2t^2}{2a} \\\\\n",
    "-x &= -x_0 - v_0t - \\frac{1}{2}at^2 \\\\\n",
    "x &= x_0 + v_0t + \\frac{1}{2}at^2 \\\\\n",
    "\\end{align*}$$"
   ]
  },
  {
   "cell_type": "markdown",
   "metadata": {},
   "source": [
    "#### Problem 58\n",
    "Amtrak’s 20th-Century Limited is en route from Chicago to New\n",
    "York at 110 km/h when the engineer spots a cow on the track.\n",
    "The train brakes to a halt in 1.2 min, stopping just in front of\n",
    "the cow. (a) What is the magnitude of the train’s acceleration?\n",
    "(b) What’s the direction of the acceleration? (c) How far was the\n",
    "train from the cow when the engineer applied the brakes?"
   ]
  },
  {
   "cell_type": "markdown",
   "metadata": {},
   "source": [
    "Equation 2.7:  $v = v_0 + at$  \n",
    "Equation 2.9:  $x = x_0 + \\frac{1}{2}(v_0 +v)t$  \n",
    "Equation 2.10: $x = x_0 + v_0t + \\frac{1}{2}at^2$  \n",
    "Equation 2.11: $v^2 = v{_0}^2 + 2a(x-x_0)$  "
   ]
  },
  {
   "cell_type": "markdown",
   "metadata": {},
   "source": [
    "$v_0 = 110\\ km/h = 110 \\cdot 1000 / 60^2 = 30.6 \\ m/s$  \n",
    "$v = 0$  \n",
    "$t = 1.2 \\ min = 1.2 \\cdot 60 = 72s$\n",
    "\n",
    "\n",
    "**a)** Using equation 2.7:  \n",
    "$$a = \\frac{(v-v_0)}{t} = \\frac{(-30.6)}{72} = - 0.43 \\ m/s^2$$  \n",
    "\n",
    "**b)** The direction of the acceleration is negative i.e opposite of the trains direction of movement.  \n",
    "\n",
    "**c)** Using equation 2.11\n",
    "$$\\begin{align*}x_0 &= -x - v_0t - \\frac{1}{2}at^2  \\\\\n",
    " x_0 &= - 0 - 30.6 \\cdot 72 - \\frac {1}{2} (-0.43) 72^2\\\\\n",
    " x_0 &= - 30.6 \\cdot 72 + \\frac {1}{2} \\cdot 0.43 \\cdot 72^2\\\\\n",
    " x_0 &= -1089m\n",
    " \\end{align*}$$\n",
    "\n",
    " The train was 1089m from the cow when the engineer applied the brakes"
   ]
  },
  {
   "cell_type": "code",
   "execution_count": 35,
   "metadata": {},
   "outputs": [
    {
     "data": {
      "text/plain": [
       "-1088.6400000000003"
      ]
     },
     "metadata": {},
     "output_type": "display_data"
    }
   ],
   "source": [
    "import math\n",
    "-30.6*72 + (1/2) *0.43 *  math.pow(72,2)"
   ]
  },
  {
   "cell_type": "markdown",
   "metadata": {},
   "source": [
    "#### Problem 60\n",
    "A motorist suddenly notices a stalled car and slams on the\n",
    "brakes, negatively accelerating at $6.3 m/s^2$. Unfortunately, this\n",
    "isn’t enough, and a collision ensues. From the damage sustained,\n",
    "police estimate that the car was going $18 \\ km/h$ at the time of the\n",
    "collision. They also measure skid marks $34\\ m$ long. \n",
    "\n",
    "a) How fast was the motorist going when the brakes were first applied?  \n",
    "b) How much time elapsed from the initial braking to the collision?"
   ]
  },
  {
   "cell_type": "markdown",
   "metadata": {},
   "source": [
    "$v = 18\\ km/h = \\frac{18m}{3.6s} = 5\\ m/s$  \n",
    "$a = -6.3m/s^2$  \n",
    "$\\Delta x = x - x_0 =  34m$  \n",
    "\n",
    "a) \n",
    "\n",
    "Using equation 2.11: \n",
    "\n",
    "$\\begin{aligned}\n",
    "v^2 &= v{_0}^2 + 2a(x-x_0) \\\\\n",
    "v_0 &= \\sqrt{v^2 - 2a(\\Delta x)} \\\\\n",
    "v_0 &= \\sqrt{5^2+ 2 \\cdot 6.3 \\cdot 34} \\\\\n",
    "v_0 &= 21.3\\ m/s = 76.68\\ km/h \\\\\n",
    "\\end{aligned}$\n",
    "\n",
    "b)\n",
    "\n",
    "$\\begin{aligned}\n",
    "    v &= v_0 + at \\\\\n",
    "    t &= \\frac{v-v_0}{a} \\\\\n",
    "    t &= \\frac {5-21.3}{-6.3} \\\\\n",
    "    t &= 2.6s\n",
    "\\end{aligned}$"
   ]
  },
  {
   "cell_type": "markdown",
   "metadata": {},
   "source": [
    "#### Problem 61\n",
    "\n",
    "A racing car undergoing constant acceleration covers $140m$ in\n",
    "$3.6s$. \n",
    "\n",
    "(a) If it’s moving at $53 m/s$ at the end of this interval, what\n",
    "was its speed at the beginning of the interval? \n",
    "\n",
    "(b) How far did it\n",
    "travel from rest to the end of the 140-m distance?"
   ]
  },
  {
   "cell_type": "markdown",
   "metadata": {},
   "source": [
    "<img src=\"Screens/Assignement_61.png\" width=\"400\">"
   ]
  },
  {
   "cell_type": "markdown",
   "metadata": {},
   "source": [
    "##### a)\n",
    "\n",
    "$\\begin{align}\n",
    "x &= x_0 + \\frac{1}{2}(v_0 +v)t \\\\\n",
    "\\frac{1}{2}v_0t + \\frac{1}{2}vt &= \\Delta x \\\\\n",
    "\\frac{1}{2}v_0t &= \\Delta x - \\frac{1}{2}vt \\\\\n",
    "v_0 &= \\frac{2 \\Delta x}{t} - v \\\\\n",
    "v_0 &= \\frac{2 \\cdot 140}{3.6} - 53 \\\\\n",
    "v_0 &= \\frac{2 \\cdot 140}{3.6} - 53 \\\\\n",
    "v_0 &= 25m/s \\\\\n",
    "\\end{align}$"
   ]
  },
  {
   "cell_type": "markdown",
   "metadata": {},
   "source": [
    "##### b)\n",
    "\n",
    "$v = v_0 + at$  \n",
    "$a = \\frac{v-v_0}{t}$  \n",
    "$a = \\frac{53 25}{3.6} = 7.8 m/s^2$\n",
    "\n",
    "$\\Delta x = \\frac{v^2-v{_0}^2}{2a}$  \n",
    "$\\Delta x = \\frac{53^2-0^2}{2 \\cdot 7.8} = 180m$  \n"
   ]
  },
  {
   "cell_type": "markdown",
   "metadata": {},
   "source": [
    "#### 69) \n",
    "\n",
    "**You’re atop a building of height h, and a friend is poised to drop\n",
    "a ball from a window at h/2.  \n",
    "Find an expression for the speed at\n",
    "which you should simultaneously throw a ball downward, so the\n",
    "two hit the ground at the same time.**"
   ]
  },
  {
   "cell_type": "markdown",
   "metadata": {},
   "source": [
    "<img src=\"Screens/Assignement_69.png\" width=\"300\">"
   ]
  },
  {
   "cell_type": "markdown",
   "metadata": {},
   "source": [
    "\n",
    "Equation 2.10: $x = x_0 + v_0t + \\frac{1}{2}at^2$  \n",
    "\n",
    "$a = g = 9.81 m/s^2$ "
   ]
  },
  {
   "cell_type": "markdown",
   "metadata": {},
   "source": [
    "##### Ball from $x = h/2$  \n",
    "\n",
    "$\\frac{h}{2} = \\frac{1}{2} g t^2 \\Rightarrow t = \\sqrt{\\frac{h}{g}}$"
   ]
  },
  {
   "cell_type": "markdown",
   "metadata": {},
   "source": [
    "###### Ball from $x = h$\n",
    "$x_0 = 0$  \n",
    "$x = v_0t + \\frac{1}{2}at^2$  \n",
    "$h = v_0 (\\sqrt{\\frac{h}{g}}) + \\frac{1}{2}h$  \n",
    "$h - \\frac{1}{2}h = v_0 (\\sqrt{\\frac{h}{g}})$  \n",
    "$\\frac{1}{2}h = v_0 (\\sqrt{\\frac{h}{g}})$  \n",
    "$v_0 = \\frac{1}{2}h \\div \\sqrt{\\frac{h}{g}}$  \n",
    "$v_0 = \\frac{1}{2}h \\sqrt{\\frac{g}{h}}$  \n",
    "$v_0 = \\frac{1}{2} h \\sqrt{g}\\frac{\\sqrt{h}}{h}$  \n",
    "$v_0 = \\frac{1}{2} \\sqrt{gh}$    "
   ]
  },
  {
   "cell_type": "markdown",
   "metadata": {},
   "source": [
    "#### Problem 88\n",
    "An object’s acceleration increases quadratically with time:\n",
    "$a(t) = bt^2$, where $b = 0.041 m/s^4$.   \n",
    "**If the object starts from rest, how far does it travel in 6.3 s?**"
   ]
  },
  {
   "cell_type": "markdown",
   "metadata": {},
   "source": [
    "NB: Acceleration not constant\n",
    "\n",
    "$v(t) = \\int a(t) dt = \\int bt^2 dt = \\frac{1}{3}bt^3$  \n",
    "$s(t) = \\int v(t) dt = \\frac{1}{12}bt^4$  \n",
    "$s(6.3) = \\frac{1}{12} \\cdot 0.041m/s^4 \\cdot 6.3^4$   \n",
    "$s(6.3) = 5.38m$"
   ]
  },
  {
   "cell_type": "code",
   "execution_count": 6,
   "metadata": {},
   "outputs": [
    {
     "data": {
      "text/plain": [
       "5.382261675"
      ]
     },
     "metadata": {},
     "output_type": "display_data"
    }
   ],
   "source": [
    "import math as m\n",
    "(1/12) * 0.041 * m.pow(6.3,4)"
   ]
  },
  {
   "cell_type": "markdown",
   "metadata": {},
   "source": []
  },
  {
   "cell_type": "markdown",
   "metadata": {},
   "source": []
  },
  {
   "cell_type": "markdown",
   "metadata": {},
   "source": []
  },
  {
   "cell_type": "markdown",
   "metadata": {},
   "source": []
  }
 ],
 "metadata": {
  "kernelspec": {
   "display_name": "Python 3",
   "language": "python",
   "name": "python3"
  },
  "language_info": {
   "codemirror_mode": {
    "name": "ipython",
    "version": 3
   },
   "file_extension": ".py",
   "mimetype": "text/x-python",
   "name": "python",
   "nbconvert_exporter": "python",
   "pygments_lexer": "ipython3",
   "version": "3.8.5"
  }
 },
 "nbformat": 4,
 "nbformat_minor": 1
}
