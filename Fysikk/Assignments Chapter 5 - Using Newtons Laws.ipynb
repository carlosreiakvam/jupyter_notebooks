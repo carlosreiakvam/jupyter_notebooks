{
 "cells": [
  {
   "cell_type": "code",
   "execution_count": 168,
   "metadata": {},
   "outputs": [
    {
     "data": {
      "text/html": [
       "<style>\n",
       ".rendered_html table {\n",
       "    margin-right:50px;\n",
       "}\n",
       "table {float:left}\n",
       "img {float:left}\n",
       "h2 {color: black}\n",
       "h4 {color: #0000cc}\n",
       "h6 {color: #00cc00}\n",
       "</style>\n"
      ],
      "text/plain": [
       "<IPython.core.display.HTML object>"
      ]
     },
     "metadata": {},
     "output_type": "display_data"
    }
   ],
   "source": [
    "%%html\n",
    "<style>\n",
    ".rendered_html table {\n",
    "    margin-right:50px;\n",
    "}\n",
    "table {float:left}\n",
    "img {float:left}\n",
    "h2 {color: black}\n",
    "h4 {color: #0000cc}\n",
    "h6 {color: #00cc00}\n",
    "</style>"
   ]
  },
  {
   "cell_type": "code",
   "execution_count": 169,
   "metadata": {},
   "outputs": [],
   "source": [
    "import math as M\n",
    "import sympy as SP\n",
    "SP.init_printing()\n",
    "g = 9.8"
   ]
  },
  {
   "cell_type": "markdown",
   "metadata": {},
   "source": [
    "# Examples"
   ]
  },
  {
   "cell_type": "markdown",
   "metadata": {},
   "source": [
    "### Example 5.2\n",
    "To protect her $17kg$ pack from bears, a camper hangs it from ropes\n",
    "between two trees. What’s the tension in each rope?\n",
    "\n",
    "<img src=\"Screens/ex5_3.jpg\" width = \"300\">"
   ]
  },
  {
   "cell_type": "markdown",
   "metadata": {},
   "source": [
    "<img src=\"Screens/ex5_3_2.jpg\" width = \"500\">"
   ]
  },
  {
   "cell_type": "markdown",
   "metadata": {},
   "source": [
    "##### Complete system\n",
    "\n",
    "$\\Sigma \\vec{F} = 0$  \n",
    "$\\Sigma \\vec{F} = \\vec{T}_L + \\vec{T}_R - \\vec{F}_g$  \n",
    "$\\vec{F}_g = \\vec{T}_L + \\vec{T}_R$  "
   ]
  },
  {
   "cell_type": "markdown",
   "metadata": {},
   "source": [
    "##### Finding $T_y$\n",
    "$\\vec{F}_{gy} = mg $  \n",
    "\n",
    "$\\vec{F}_{gy} = 2T_y$  \n",
    "\n",
    "$T_y = \\frac{mg}{2}$\n",
    "\n",
    "$T_y = sin(22) \\cdot T$\n",
    "\n",
    "$T = \\frac{mg}{2 sin(22)}$"
   ]
  },
  {
   "cell_type": "code",
   "execution_count": 171,
   "metadata": {},
   "outputs": [
    {
     "name": "stdout",
     "output_type": "stream",
     "text": [
      "Tension force T =  222.59 N\n"
     ]
    }
   ],
   "source": [
    "m = 17\n",
    "g = 9.81\n",
    "theta = 22\n",
    "\n",
    "T = (m*g)/ (2 * M.sin(M.radians(theta)))\n",
    "print(\"Tension force T = \", round(T,2),\"N\")\n"
   ]
  },
  {
   "cell_type": "markdown",
   "metadata": {},
   "source": [
    "###### Smaller angle -> greater tension"
   ]
  },
  {
   "cell_type": "code",
   "execution_count": 172,
   "metadata": {},
   "outputs": [
    {
     "name": "stdout",
     "output_type": "stream",
     "text": [
      "theta =  5\n",
      "Tension force T =  956.74 N\n"
     ]
    }
   ],
   "source": [
    "m = 17\n",
    "g = 9.81\n",
    "theta = 5\n",
    "\n",
    "T = (m*g)/ (2 * M.sin(M.radians(theta)))\n",
    "print(\"theta = \", theta)\n",
    "print(\"Tension force T = \", round(T,2),\"N\")\n"
   ]
  },
  {
   "cell_type": "markdown",
   "metadata": {},
   "source": [
    "##### Very small angle -> very high tension"
   ]
  },
  {
   "cell_type": "code",
   "execution_count": 173,
   "metadata": {},
   "outputs": [
    {
     "name": "stdout",
     "output_type": "stream",
     "text": [
      "theta =  0.001\n",
      "Tension force T =  4777608.57 N\n"
     ]
    }
   ],
   "source": [
    "m = 17\n",
    "g = 9.81\n",
    "theta = 0.001\n",
    "\n",
    "T = (m*g)/ (2 * M.sin(M.radians(theta)))\n",
    "print(\"theta = \", theta)\n",
    "print(\"Tension force T = \", round(T,2),\"N\")\n"
   ]
  },
  {
   "cell_type": "markdown",
   "metadata": {},
   "source": [
    "##### Theta 90 degrees -> least amount of tension"
   ]
  },
  {
   "cell_type": "code",
   "execution_count": 174,
   "metadata": {},
   "outputs": [
    {
     "name": "stdout",
     "output_type": "stream",
     "text": [
      "theta =  90\n",
      "Tension force T =  83.39 N\n"
     ]
    }
   ],
   "source": [
    "m = 17\n",
    "g = 9.81\n",
    "theta = 90\n",
    "\n",
    "T = (m*g)/ (2 * M.sin(M.radians(theta)))\n",
    "print(\"theta = \", theta)\n",
    "print(\"Tension force T = \", round(T,2),\"N\")\n"
   ]
  },
  {
   "cell_type": "markdown",
   "metadata": {},
   "source": [
    "### Example 5.3"
   ]
  },
  {
   "cell_type": "markdown",
   "metadata": {},
   "source": [
    "$\\Sigma \\vec{F}_x = \\vec{F}_{gx}- \\vec{F}_{gate} = 0$\n",
    "\n",
    "$ \\vec{F}_{gate} =  \\vec{F}_{gx} $"
   ]
  },
  {
   "cell_type": "markdown",
   "metadata": {},
   "source": [
    "$\\vec{F}_{gx} = m \\cdot sin(30) g$"
   ]
  },
  {
   "cell_type": "code",
   "execution_count": 175,
   "metadata": {},
   "outputs": [
    {
     "name": "stdout",
     "output_type": "stream",
     "text": [
      "Force of gate =  304.11 N\n"
     ]
    }
   ],
   "source": [
    "g = 9.81\n",
    "m = 62\n",
    "f_gx = m * M.sin(M.radians(30))* g\n",
    "print(\"Force of gate = \", round(f_gx,2), \"N\")"
   ]
  },
  {
   "cell_type": "code",
   "execution_count": 176,
   "metadata": {},
   "outputs": [
    {
     "data": {
      "image/png": "[encoded data removed]",
      "text/latex": [
       "$\\displaystyle 304.10999999999996$"
      ],
      "text/plain": [
       "304.10999999999996"
      ]
     },
     "execution_count": 176,
     "metadata": {},
     "output_type": "execute_result"
    }
   ],
   "source": [
    "62*9.81* M.sin(M.radians(30))"
   ]
  },
  {
   "cell_type": "markdown",
   "metadata": {},
   "source": [
    "# Assignments"
   ]
  },
  {
   "cell_type": "markdown",
   "metadata": {},
   "source": [
    "### Assignment 13\n",
    "Two forces, both in the x-y plane, act on a $3.25 kg$ mass that accelerates at $5.48 m/s^2$ in a direction $38.0°$ counterclockwise from\n",
    "the x-axis. One force has magnitude $8.63 N$ and points in the $+x$\n",
    "direction. Find the other force."
   ]
  },
  {
   "cell_type": "markdown",
   "metadata": {},
   "source": [
    "<img src=\"Screens/as5_13.jpg\" width = \"250px\">"
   ]
  },
  {
   "cell_type": "code",
   "execution_count": 177,
   "metadata": {},
   "outputs": [],
   "source": [
    "# Known quantities\n",
    "m = 3.25\n",
    "a = 5.48\n",
    "F1x = 8.63"
   ]
  },
  {
   "cell_type": "code",
   "execution_count": 178,
   "metadata": {},
   "outputs": [
    {
     "name": "stdout",
     "output_type": "stream",
     "text": [
      "Fnet =  17.81 N\n"
     ]
    }
   ],
   "source": [
    "# Sum of total forces\n",
    "F_tot = m*a\n",
    "print(\"Fnet = \", round(F_tot,3), \"N\")"
   ]
  },
  {
   "cell_type": "code",
   "execution_count": 179,
   "metadata": {},
   "outputs": [
    {
     "name": "stdout",
     "output_type": "stream",
     "text": [
      "Total forces of x-components: 14.03 N\n",
      "Total forces of y-components 10.96 N\n"
     ]
    }
   ],
   "source": [
    "# Components of total forces\n",
    "Fx_tot = F_tot * M.cos(M.radians(38))  \n",
    "Fy_tot = F_tot * M.sin(M.radians(38))  \n",
    "print(\"Total forces of x-components:\",round(Fx_tot,2),\"N\")\n",
    "print(\"Total forces of y-components\",round(Fy_tot,2),\"N\")"
   ]
  },
  {
   "cell_type": "code",
   "execution_count": 180,
   "metadata": {},
   "outputs": [
    {
     "name": "stdout",
     "output_type": "stream",
     "text": [
      "x component of F2:  5.4 N\n"
     ]
    }
   ],
   "source": [
    "# Finding x components of F2\n",
    "F2x = Fx_tot - F1x\n",
    "print(\"x component of F2: \",round(F2x,2),\"N\")"
   ]
  },
  {
   "cell_type": "code",
   "execution_count": 181,
   "metadata": {},
   "outputs": [
    {
     "name": "stdout",
     "output_type": "stream",
     "text": [
      "y component of F2: 10.96 N\n"
     ]
    }
   ],
   "source": [
    "# Finding y component of F2\n",
    "F2y = Fy_tot\n",
    "print(\"y component of F2:\", round(F2y,2), \"N\")"
   ]
  },
  {
   "cell_type": "markdown",
   "metadata": {},
   "source": [
    "### Assignment 15\n",
    "At what angle should you tilt an air table to simulate free fall at\n",
    "the surface of Mars,  \n",
    "where $g = 3.71 m/s2$?"
   ]
  },
  {
   "cell_type": "markdown",
   "metadata": {},
   "source": [
    "<img src=\"Screens/as5_15.jpg\" width=\"400\">"
   ]
  },
  {
   "cell_type": "code",
   "execution_count": 182,
   "metadata": {},
   "outputs": [
    {
     "name": "stdout",
     "output_type": "stream",
     "text": [
      "Theta  =  22.25 degrees\n"
     ]
    },
    {
     "data": {
      "image/png": "[encoded data removed]",
      "text/latex": [
       "$\\displaystyle 3.7107564500538435$"
      ],
      "text/plain": [
       "3.7107564500538435"
      ]
     },
     "execution_count": 182,
     "metadata": {},
     "output_type": "execute_result"
    }
   ],
   "source": [
    "# Known constants\n",
    "g_mars = 3.71\n",
    "g_earth = 9.8\n",
    "\n",
    "# Simulating mars's gravity through slanted table\n",
    "# g_mars = g_earth * M.sin(theta)\n",
    "# M.sin(theta) = g_mars / g_earth\n",
    "\n",
    "theta = M.degrees(M.asin(g_mars / g_earth))\n",
    "print(\"Theta  = \", round(theta,2), \"degrees\")\n",
    "\n",
    "g_earth * M.sin(M.radians(22.25))"
   ]
  },
  {
   "cell_type": "markdown",
   "metadata": {},
   "source": [
    "### Assignment 16\n",
    "A skier starts from rest at the top of a $24^\\circ$ slope $1.5 km$ long.\n",
    "Neglecting friction, how long does it take to reach the bottom?"
   ]
  },
  {
   "cell_type": "code",
   "execution_count": 183,
   "metadata": {},
   "outputs": [],
   "source": [
    "x_delta = 1500\n",
    "theta = 24"
   ]
  },
  {
   "cell_type": "markdown",
   "metadata": {},
   "source": [
    "<img src=\"Screens/as5_16.jpg\">"
   ]
  },
  {
   "cell_type": "markdown",
   "metadata": {},
   "source": [
    "$\\Delta x = \\frac{1}{2}at^2 \\Rightarrow t = \\sqrt{\\frac{2\\Delta x}{a}}$"
   ]
  },
  {
   "cell_type": "code",
   "execution_count": 184,
   "metadata": {},
   "outputs": [
    {
     "name": "stdout",
     "output_type": "stream",
     "text": [
      "Time to reach bottom: 27.42 s\n"
     ]
    }
   ],
   "source": [
    "# g = hypotenuse\n",
    "a = M.sin(M.radians(theta)) * g # a = Gx\n",
    "t = M.sqrt((2*x_delta)/a)\n",
    "print(\"Time to reach bottom:\",round(t,2),\"s\")"
   ]
  },
  {
   "cell_type": "markdown",
   "metadata": {},
   "source": [
    "### Assignment 17\n",
    "A tow truck is connected to a 1500kg car by a cable that makes\n",
    "a 26° angle to the horizontal. If the truck accelerates at 0.56 m/s^2\n",
    "what’s the magnitude of the cable tension? Neglect friction and\n",
    "the cable’s mass."
   ]
  },
  {
   "cell_type": "code",
   "execution_count": 185,
   "metadata": {},
   "outputs": [],
   "source": [
    "m = 1500\n",
    "a = 0.56"
   ]
  },
  {
   "cell_type": "markdown",
   "metadata": {},
   "source": [
    "<img src=\"Screens/as5_17.jpg\" width=\"500\">"
   ]
  },
  {
   "cell_type": "code",
   "execution_count": 186,
   "metadata": {},
   "outputs": [
    {
     "name": "stdout",
     "output_type": "stream",
     "text": [
      "Tx = 840.0 N\n"
     ]
    }
   ],
   "source": [
    "# Horizontal magnitude = Force of acceleration\n",
    "Tx = m*a \n",
    "print(\"Tx =\",round(Tx,2), \"N\")"
   ]
  },
  {
   "cell_type": "code",
   "execution_count": 187,
   "metadata": {},
   "outputs": [
    {
     "name": "stdout",
     "output_type": "stream",
     "text": [
      "Tension T =  934.59 N\n"
     ]
    }
   ],
   "source": [
    "# T = hypotenuse of Tx, Ty\n",
    "T = Tx / M.cos(M.radians(26))\n",
    "print(\"Tension T = \", round(T,2), \"N\")"
   ]
  },
  {
   "cell_type": "markdown",
   "metadata": {},
   "source": [
    "### Assignment 21\n",
    "If the left-hand slope in **Fig. 5.30** makes a $64°$ angle with the horizontal, and the right-hand slope makes a $26°$ angle, how should\n",
    "the masses compare if the objects are not to slide along the frictionless slopes?"
   ]
  },
  {
   "cell_type": "markdown",
   "metadata": {},
   "source": [
    "<img src=\"Screens/figure_5_30.jpg\" width=\"400\">"
   ]
  },
  {
   "cell_type": "markdown",
   "metadata": {},
   "source": [
    "$\\Sigma F = 0 = F1 - F2$    \n",
    "$F1 = F2$  \n",
    "$m_1a_1 = m_2a_2 \\Rightarrow \\frac{m_1}{m_2} = \\frac{a_2}{a_1}$\n",
    "\n",
    "  \n",
    "$a_1 =  sin(64)g$  \n",
    "$a_2 =  sin(26)g$  \n",
    "\n",
    "$\\frac{m_1}{m_2} = \\frac{sin(26)g}{sin(24)g}= \\frac{m1}{m2} = 0.49$  "
   ]
  },
  {
   "cell_type": "code",
   "execution_count": 188,
   "metadata": {},
   "outputs": [
    {
     "name": "stdout",
     "output_type": "stream",
     "text": [
      "ratio:  0.49\n"
     ]
    }
   ],
   "source": [
    "aRatio = M.sin(M.radians(26)) /M.sin(M.radians(64)) \n",
    "print(\"ratio: \", round(aRatio,2))"
   ]
  },
  {
   "cell_type": "markdown",
   "metadata": {},
   "source": [
    "### Assignment 23\n",
    "Two unfortunate climbers, roped together, are sliding freely down\n",
    "an icy mountainside.  \n",
    "The upper climber (mass $80 kg$) is on a slope at $16°$ to the horizontal, but the lower climber (mass $65 kg$) has gone over the edge to a steeper slope at $32°$.  \n",
    "\n",
    "(a) Assuming frictionless ice and a massless rope, what’s the acceleration of the pair? \n",
    "\n",
    "(b) The upper climber manages to stop the slide with an iceax. \n",
    "After the climbers have come to a complete stop, what force\n",
    "must the ax exert against the ice?\n"
   ]
  },
  {
   "cell_type": "markdown",
   "metadata": {},
   "source": [
    "<img src=\"Screens/as5_23.jpg\" width=\"500\">"
   ]
  },
  {
   "cell_type": "code",
   "execution_count": 189,
   "metadata": {},
   "outputs": [],
   "source": [
    "g = 9.8\n",
    "m1 = 80\n",
    "theta1 = M.radians(16)\n",
    "m2 = 65\n",
    "theta2 = M.radians(32)\n",
    "mtot = m1+m2"
   ]
  },
  {
   "cell_type": "markdown",
   "metadata": {},
   "source": [
    "#### a)"
   ]
  },
  {
   "cell_type": "code",
   "execution_count": 190,
   "metadata": {},
   "outputs": [
    {
     "name": "stdout",
     "output_type": "stream",
     "text": [
      "Total force on the pair: 553.66 N\n"
     ]
    }
   ],
   "source": [
    "F1 = m1 * g * M.sin(theta1)\n",
    "F2 = m2 * g * M.sin(theta2)\n",
    "Ftot = F1 + F2\n",
    "print(\"Total force on the pair:\", round(Ftot,2), \"N\")"
   ]
  },
  {
   "cell_type": "code",
   "execution_count": 191,
   "metadata": {},
   "outputs": [
    {
     "name": "stdout",
     "output_type": "stream",
     "text": [
      "Common acceleration for the pair: 3.8 m/s^2\n"
     ]
    }
   ],
   "source": [
    "a = Ftot /mtot\n",
    "print(\"Common acceleration for the pair:\", round(a,1), \"m/s^2\")"
   ]
  },
  {
   "cell_type": "markdown",
   "metadata": {},
   "source": [
    "### Prøver å gjøre samme oppgave ved dekomponering"
   ]
  },
  {
   "cell_type": "code",
   "execution_count": 192,
   "metadata": {},
   "outputs": [
    {
     "name": "stdout",
     "output_type": "stream",
     "text": [
      "y component of F: 1421.0\n",
      "x component of F: 3753.5460189704218\n"
     ]
    }
   ],
   "source": [
    "F1_y = g * m1\n",
    "F2_y = g * m2\n",
    "Ftot_y = F1_y + F2_y\n",
    "\n",
    "F1 = F1_y / M.sin(theta1)\n",
    "F2 = F2_y / M.sin(theta2)\n",
    "\n",
    "F1_x = M.cos(theta1) * F1\n",
    "F2_x = M.cos(theta2) * F2\n",
    "Ftot_x = F1_x + F2_x\n",
    "\n",
    "print(\"y component of F:\", Ftot_y)\n",
    "print(\"x component of F:\", Ftot_x)"
   ]
  },
  {
   "cell_type": "code",
   "execution_count": 193,
   "metadata": {},
   "outputs": [
    {
     "name": "stdout",
     "output_type": "stream",
     "text": [
      "Theta Ftot: 20.735430483327217 degrees\n"
     ]
    }
   ],
   "source": [
    "Ftheta = M.degrees(M.atan(Ftot_y / Ftot_x))\n",
    "print(\"Theta Ftot:\", Ftheta, \"degrees\")"
   ]
  },
  {
   "cell_type": "code",
   "execution_count": 194,
   "metadata": {},
   "outputs": [
    {
     "data": {
      "image/png": "[encoded data removed]",
      "text/latex": [
       "$\\displaystyle 3.818332815703992$"
      ],
      "text/plain": [
       "3.818332815703992"
      ]
     },
     "execution_count": 194,
     "metadata": {},
     "output_type": "execute_result"
    }
   ],
   "source": [
    "a = Ftot / mtot\n",
    "a"
   ]
  },
  {
   "cell_type": "markdown",
   "metadata": {},
   "source": [
    "###### Suksess!"
   ]
  },
  {
   "cell_type": "markdown",
   "metadata": {},
   "source": [
    "#### b)"
   ]
  },
  {
   "cell_type": "code",
   "execution_count": 195,
   "metadata": {},
   "outputs": [
    {
     "data": {
      "image/png": "[encoded data removed]",
      "text/latex": [
       "$\\displaystyle 553.6582582770789$"
      ],
      "text/plain": [
       "553.6582582770789"
      ]
     },
     "execution_count": 195,
     "metadata": {},
     "output_type": "execute_result"
    }
   ],
   "source": [
    "N = Ftot\n",
    "N"
   ]
  },
  {
   "cell_type": "markdown",
   "metadata": {},
   "source": [
    "### Assignment 25\n",
    "Show that the force needed to keep a mass $m$ in a   \n",
    "circular path of radius $r$ with period $T$ is $\\frac{4p^2mr}{T^2}$.\n"
   ]
  },
  {
   "cell_type": "markdown",
   "metadata": {},
   "source": [
    "### Oppgave 31\n",
    "A hockey puck is given an initial speed of $11 m/s$.  \n",
    "If it comes to rest in $60 m$, what’s the coefficient of kinetic friction?"
   ]
  },
  {
   "cell_type": "markdown",
   "metadata": {},
   "source": [
    "###### Finding $a$\n",
    "$v{_0}^2 = 2a\\Delta x \\Rightarrow a = \\frac{v{_0}^2}{2\\Delta x}$  "
   ]
  },
  {
   "cell_type": "code",
   "execution_count": 196,
   "metadata": {},
   "outputs": [
    {
     "name": "stdout",
     "output_type": "stream",
     "text": [
      "a =  1.01 m/s^2\n"
     ]
    }
   ],
   "source": [
    "a = M.pow(11,2)/(60*2)\n",
    "print(\"a = \", round(a,2), \"m/s^2\")"
   ]
  },
  {
   "cell_type": "markdown",
   "metadata": {},
   "source": [
    "###### Finding $\\mu_s$"
   ]
  },
  {
   "cell_type": "markdown",
   "metadata": {},
   "source": [
    "|x axis|transition|y axis|\n",
    "|:---|:---:|---:|\n",
    "|$$ \\mu_s N = ma$$|| $$-mg + N = 0$$|\n",
    "|$$\\mu_s mg = ma$$|$$\\Leftarrow$$|$$N = mg$$|\n",
    "|$$\\mu_s g = a$$ || |\n",
    "|$$\\mu_s = \\frac{a}{g}$$ || |"
   ]
  },
  {
   "cell_type": "code",
   "execution_count": 197,
   "metadata": {},
   "outputs": [
    {
     "name": "stdout",
     "output_type": "stream",
     "text": [
      "u_s =  0.1\n"
     ]
    }
   ],
   "source": [
    "g = 9.81\n",
    "u_s = a/g\n",
    "print(\"u_s = \", round(u_s,2))"
   ]
  },
  {
   "cell_type": "markdown",
   "metadata": {},
   "source": [
    "### Oppgave 33\n",
    "A car moving at $40 km/h$ negotiates a $130m$ radius banked turn designed for $60 km/h$.  \n",
    "What coefficient of friction is needed to keep the car on the road?"
   ]
  },
  {
   "cell_type": "code",
   "execution_count": 198,
   "metadata": {},
   "outputs": [],
   "source": [
    "# Given quantaties\n",
    "v = 40 / 3.6\n",
    "r = 130\n",
    "v_design = 60 /3.6"
   ]
  },
  {
   "cell_type": "markdown",
   "metadata": {},
   "source": [
    "<img src=\"Screens/as5_33_1.jpg\" width=\"300\">\n",
    "<img src=\"Screens/as5_33_2.jpg\" width=\"200\">"
   ]
  },
  {
   "cell_type": "markdown",
   "metadata": {},
   "source": [
    "<img src=\"Screens/as5_33_3.jpg\" width=\"300\">"
   ]
  },
  {
   "cell_type": "markdown",
   "metadata": {},
   "source": [
    "##### x components\n",
    "$Nx = N \\cdot sin(\\theta) = \\frac{mv^2}{r}$"
   ]
  },
  {
   "cell_type": "markdown",
   "metadata": {},
   "source": [
    "##### Finding theta using sympy"
   ]
  },
  {
   "cell_type": "markdown",
   "metadata": {},
   "source": [
    "##### Finding theta"
   ]
  },
  {
   "cell_type": "markdown",
   "metadata": {},
   "source": [
    "$tan\\theta = \\frac{m{v_d}^2}{rmg} = \\frac{{v_d}^2}{rg}$"
   ]
  },
  {
   "cell_type": "markdown",
   "metadata": {},
   "source": [
    "$tan\\theta - \\frac{v^2}{rg} = 0$"
   ]
  },
  {
   "cell_type": "code",
   "execution_count": 215,
   "metadata": {},
   "outputs": [
    {
     "name": "stdout",
     "output_type": "stream",
     "text": [
      "theta =  12.29 degrees\n"
     ]
    }
   ],
   "source": [
    "theta = SP.Symbol(\"theta\")\n",
    "eqTheta = (SP.tan(theta) - (M.pow(v_design,2))/(r*g))\n",
    "theta = SP.solve(eqTheta)\n",
    "theta = theta[0]\n",
    "print(\"theta = \", round(M.degrees(theta),2),\"degrees\")"
   ]
  },
  {
   "cell_type": "markdown",
   "metadata": {},
   "source": [
    "##### Finding friction coefficient"
   ]
  },
  {
   "cell_type": "markdown",
   "metadata": {},
   "source": [
    "<img src=\"Screens/as5_33_4.jpg\" width=\"300\">"
   ]
  },
  {
   "cell_type": "markdown",
   "metadata": {},
   "source": [
    "$Ny = N cos\\theta$  \n",
    "$Nx = N sin\\theta$  \n",
    "\n",
    "$R = \\mu N$  \n",
    "$Ry = R sin\\theta = \\mu N sin\\theta$  \n",
    "$Rx = R cos\\theta = \\mu N cos\\theta$  "
   ]
  },
  {
   "cell_type": "markdown",
   "metadata": {},
   "source": [
    "##### X components\n",
    "\n",
    "$\\Sigma \\vec{F}_x = \\frac{mv^2}{r}$  \n",
    "$\\vec{N}_x - \\vec{R}_x = \\frac{mv^2}{r}$  \n",
    "$N sin\\theta - \\mu N cos\\theta = \\frac{mv^2}{r}$  \n",
    "$N (sin\\theta-\\mu\\, cos\\theta)=\\frac{mv^2}{r}$  \n",
    "$N =\\frac{mv^2}{r(sin\\theta-\\mu \\, cos\\theta)}$  \n",
    "\n",
    "\n",
    "##### Y components\n",
    "\n",
    "$\\Sigma \\vec{F}_y = 0$  \n",
    "$\\vec{N}_y + \\vec{R}_y - \\vec{F}_g = 0$  \n",
    "$N cos\\theta + \\mu N sin\\theta - mg = 0$  \n",
    "$N (cos\\theta+\\mu \\, sin\\theta)=mg$  \n",
    "$N = \\frac{mg}{cos\\theta+\\mu \\,sin\\theta}$"
   ]
  },
  {
   "cell_type": "markdown",
   "metadata": {},
   "source": [
    "##### Combining the two\n",
    "$\\frac{mv^2}{r(sin\\theta-\\mu \\, cos\\theta)} = \\frac{mg}{cos\\theta+\\mu\\,sin\\theta}$ \n",
    "\n",
    "$\\frac{v^2}{r(sin\\theta-\\mu \\, cos\\theta)} - \\frac{g}{cos\\theta+\\mu\\,sin\\theta} = 0$ "
   ]
  },
  {
   "cell_type": "markdown",
   "metadata": {},
   "source": [
    "##### Solving for $\\mu$ using Sympy"
   ]
  },
  {
   "cell_type": "code",
   "execution_count": 201,
   "metadata": {},
   "outputs": [],
   "source": [
    "u = SP.Symbol(\"\\mu\")"
   ]
  },
  {
   "cell_type": "code",
   "execution_count": 216,
   "metadata": {},
   "outputs": [],
   "source": [
    "eq1 = SP.Eq((M.pow(v,2) / r) \\\n",
    "             / (M.sin(theta) \\\n",
    "                    -u*M.cos(theta)) \\\n",
    "            - (g)/(M.cos(theta)\\\n",
    "                   +u*M.sin(theta)))"
   ]
  },
  {
   "cell_type": "code",
   "execution_count": 217,
   "metadata": {},
   "outputs": [
    {
     "name": "stdout",
     "output_type": "stream",
     "text": [
      "Friction =  0.12\n"
     ]
    }
   ],
   "source": [
    "Fs = SP.solve(eq1)\n",
    "Fs = round(Fs[0],2)\n",
    "print(\"Friction = \", Fs)"
   ]
  },
  {
   "cell_type": "markdown",
   "metadata": {},
   "source": [
    "### Oppgave 39\n",
    "A mass $m_1$ undergoes circular motion of radius $R$ on a horizontal frictionless table,  \n",
    "connected by a massless string through a hole in the table to a second mass $m_2$ (Fig. 5.33).  \n",
    "If $m_2$ is stationary, find expressions for (a) the string tension and (b) the period of the circular motion.\n",
    "\n",
    "<img src=\"Screens/figure5_33.jpg\" width=\"300\">"
   ]
  },
  {
   "cell_type": "markdown",
   "metadata": {},
   "source": [
    "#### a)"
   ]
  },
  {
   "cell_type": "markdown",
   "metadata": {},
   "source": [
    "#### b)"
   ]
  },
  {
   "cell_type": "markdown",
   "metadata": {},
   "source": [
    "### Oppgave 53\n",
    "In a typical front-wheel-drive car, 70% of the car’s weight rides on the front wheels.  \n",
    "If the coefficient of friction between tires and road is $0.61$, what’s the car’s maximum acceleration?"
   ]
  },
  {
   "cell_type": "markdown",
   "metadata": {},
   "source": [
    "### Oppgave 54\n",
    "A police officer investigating an accident estimates that a moving car hit a stationary car at $24 km/h$.  \n",
    "Before the collision, the car left $47m$ long skid marks as it braked.  \n",
    "The officer determines that the coefficient of kinetic friction was $0.71$.  \n",
    "What was the initial speed of the moving car?"
   ]
  },
  {
   "cell_type": "markdown",
   "metadata": {},
   "source": [
    "### Oppgave 65 (vent med denne)\n",
    "Driving in thick fog on a horizontal road, you spot a tractor-trailer truck jackknifed across the road. \n",
    "To avert a collision, you could brake to a stop or swerve in a circular arc, as suggested in Fig. 5.37.  \n",
    "Which option offers the greater margin of safety? \n",
    "\n",
    "Assume that there is the same coefficient of static friction in both cases, and that you maintain constant speed if you swerve.\n",
    "<img src=\"Screens/figure5_37.jpg\" width=\"300\">"
   ]
  },
  {
   "cell_type": "markdown",
   "metadata": {},
   "source": [
    "### Oppgave 67\n",
    "A $2.1kg$ mass is connected to a spring with spring constant $k = 150 N/m$ and unstretched length $18 cm$.  \n",
    "The two are mounted on a frictionless air table, with the free end of the spring attached to a frictionless pivot.  \n",
    "The mass is set into circular motion at $1.4 m/s$.  \n",
    "Find the radius of its path.\n"
   ]
  },
  {
   "cell_type": "markdown",
   "metadata": {},
   "source": [
    "### Oppgave 73\n",
    "A florist asks you to make a window display with two hanging pots as shown in Fig. 5.38.  \n",
    "The florist is adamant that the strings be as invisible as possible,  \n",
    "so you decide to use fishing line but want to use the thinnest line you can.  \n",
    "Will fishing line that can withstand $100 N$ of tension work?\n",
    "\n",
    "<img src=\"Screens/figure5_38.jpg\" width=\"300\">"
   ]
  }
 ],
 "metadata": {
  "kernelspec": {
   "display_name": "Python 3",
   "language": "python",
   "name": "python3"
  },
  "language_info": {
   "codemirror_mode": {
    "name": "ipython",
    "version": 3
   },
   "file_extension": ".py",
   "mimetype": "text/x-python",
   "name": "python",
   "nbconvert_exporter": "python",
   "pygments_lexer": "ipython3",
   "version": "3.8.5"
  }
 },
 "nbformat": 4,
 "nbformat_minor": 4
}
