{
 "cells": [
  {
   "cell_type": "code",
   "execution_count": 1,
   "metadata": {},
   "outputs": [],
   "source": [
    "import math as M"
   ]
  },
  {
   "cell_type": "markdown",
   "metadata": {},
   "source": [
    "#### Oppgave 1a\n",
    "\n",
    "En kule med radius $40,0 cm$ ruller uten å gli nedover et skråplan.\n",
    "Ved tiden $t = 0$ har kula farten $v_0 = 2,0 m/s$ og ved tiden $t = 2,0s$ har kula farten $v = 4,0 m/s$.\n",
    "\n",
    "Regn ut kulas vinkelakselerasjon og antallet rotasjoner kula gjør\n",
    "i tidsrommet $t = 0$ til $t = 2,0 s$."
   ]
  },
  {
   "cell_type": "markdown",
   "metadata": {},
   "source": [
    "#### Oppgave 1b\n",
    "Et legeme med masse $2,0 kg$ har en fartsvektor\n",
    "$v_0 = (4,0m/s)\\hat{i}$ ved tiden $t = 0$.  \n",
    "Legemet er påvirket av en kraft $\\vec{F} = (4,0 N)\\hat{j}$\n",
    "\n",
    "Bestem legemets fartsvektor ved tiden $t = 2,0 s$."
   ]
  },
  {
   "cell_type": "markdown",
   "metadata": {},
   "source": [
    "##### svar:\n",
    "Antar at $V_0 = 0$  \n",
    "$v_y = 4m/s$ uendret fordi uavhengig av x-retning\n",
    "\n",
    "Finner fart i x-retning  \n",
    "$a_x = \\frac{F}{m} 2m/s^2$  \n",
    "$v_x = v_0 + at =\\frac{Ft}{m} = 4m/s$  \n",
    "$\\vec{v}_\\theta = tan^-1(\\frac{v_y}{v_x}) = 45^\\circ$  \n",
    "$|\\vec{v}| = \\sqrt{v_x^2 + v_y^2} = 5.65m/s$"
   ]
  },
  {
   "cell_type": "markdown",
   "metadata": {},
   "source": [
    "#### Oppgave 2\n",
    "Et legeme beveger seg med konstant vinkelakselerasjon i en sirkelbane\n",
    "som har sentrum i origo og radius $5,0 m$. \n",
    "\n",
    "Ved $t = 0$ var legemets posisjon : $x = 5,0 m$, $y=0$ og farten var da null.\n",
    "\n",
    "Etter $6,0 s$ passerer legemet utgangspunktet etter å fullført en runde\n",
    "i sirkelbanen."
   ]
  },
  {
   "cell_type": "markdown",
   "metadata": {},
   "source": [
    "#### 2a)\n",
    "Tegn en figur av banen og skriv opp uttrykket for legemets banefart som\n",
    "funksjon av tiden."
   ]
  },
  {
   "cell_type": "markdown",
   "metadata": {},
   "source": [
    "##### svar:\n",
    "$a = \\frac{v^2}{r}$  \n",
    "$v = \\sqrt{ar}$  \n",
    "$v = \\frac{2\\pi r} {t} \n",
    "\\Rightarrow v = \\frac{(2\\pi r)^2 r}{rt} \n",
    "= \\frac{(2\\pi r)^2}{t}$\n",
    "\n",
    "Tror dette er rett, men beskriver det den såkalte banefarten?"
   ]
  },
  {
   "cell_type": "markdown",
   "metadata": {},
   "source": [
    "#### 2b)\n",
    "Bestem legemets akselerasjon i tangentiell og radiell retning\n",
    "ved tiden $t = 6,0 s$."
   ]
  },
  {
   "cell_type": "markdown",
   "metadata": {},
   "source": [
    "##### svar: (tror feilen er at regner på feil akselerasjon)\n",
    "$v = \\frac{(2\\pi r)^2}{6} = 164m/s$  \n",
    "\n",
    "$a = \\frac{v^2}{r} = \\frac{164^2}{5} = 5411m/s^2$"
   ]
  },
  {
   "cell_type": "code",
   "execution_count": 17,
   "metadata": {},
   "outputs": [
    {
     "data": {
      "text/plain": [
       "5411.616168555691"
      ]
     },
     "execution_count": 17,
     "metadata": {},
     "output_type": "execute_result"
    }
   ],
   "source": [
    "r = 5\n",
    "t = 6\n",
    "v = (4 * M.pow(M.pi,2)*M.pow(r,2))/t\n",
    "a = M.pow(v,2)/r \n",
    "a"
   ]
  },
  {
   "cell_type": "markdown",
   "metadata": {},
   "source": [
    "#### Oppgave 4a\n",
    "Et legeme A har masse $12,0 kg$ og beveger seg i positiv x-retning med\n",
    "farten $8,0 m/s$.\n",
    "\n",
    "Legeme B har masse $15,0 kg$ og beveger seg i positiv y-retning med\n",
    "farten $6,0 m/s$.\n",
    "\n",
    "Legemene kolliderer. Etter støtet henger legemene fast i hverandre\n",
    "og beveger seg videre som ett legeme.\n",
    "\n",
    "Bestem farten til felleslegemet etter kollisjonen. Tegn figur."
   ]
  },
  {
   "cell_type": "markdown",
   "metadata": {},
   "source": [
    "#### Oppgave 4b\n",
    "Vi har fire tynne rette stenger hver med lengde $1,0 m$.  \n",
    "Massene er henholdsvis $1,0 kg$, $2,0 kg$, $3,0 kg$ og $4,0 kg$.\n",
    "\n",
    "Vi plasserer stengene i et kvadrat i xy-planet slik at stangen med\n",
    "masse $1,0 kg$ ligger langs x -aksen med sin venstre ende i origo.\n",
    "\n",
    "Stangen med masse $2,0 kg$ ligger langs y-aksen med sin nedre ende i origo.  \n",
    "Stangen med masse $3,0 kg$ er parallell med x-aksen.\n",
    "\n",
    "Beregn koordinatene kvadratets tyngdepunkt. Tegn figur."
   ]
  },
  {
   "cell_type": "markdown",
   "metadata": {},
   "source": [
    "#### Oppgave 4c\n",
    "Beregn treghetsmomentet til kvadratet i oppgave b) om en akse gjennom\n",
    "sentrum av kvadratet som er parallell med z-aksen."
   ]
  },
  {
   "cell_type": "markdown",
   "metadata": {},
   "source": [
    "#### Oppgave 5\n",
    "En tynnvegget hul kule med startfart null ruller uten å gli nedover et skråplan som er $3,0 m$ langt og som har helningsvinkel $20^\\circ$ .\n"
   ]
  },
  {
   "cell_type": "markdown",
   "metadata": {},
   "source": [
    "####  5a)\n",
    "Tegn en figur med de kreftene som virker på kula og regn ut kulas\n",
    "akselerasjon."
   ]
  },
  {
   "cell_type": "markdown",
   "metadata": {},
   "source": [
    "#### 5b)\n",
    "Regn ut farten til kula i bunnen av skråplanet."
   ]
  },
  {
   "cell_type": "markdown",
   "metadata": {},
   "source": [
    "#### 5c)\n",
    "Hva ville farten til kula vært nederst på skråplanet hvis det ikke var\n",
    "friksjon? Gi en kort forklaring."
   ]
  },
  {
   "cell_type": "markdown",
   "metadata": {},
   "source": [
    "##### svar:\n",
    "Kula ville da ikke vært i stand til å rulle og ville oppført seg som en kloss"
   ]
  },
  {
   "cell_type": "markdown",
   "metadata": {},
   "source": [
    "#### Oppgave 6a)\n",
    "En kule med radius $10,0 cm$ henger i en snor fra taket.\n",
    "Kulas overflatetemperaturer $400 K$ og vi antar at kula stråler som et ideelt sort legeme.\n",
    "\n",
    "Beregn kulas totale utstrålte effekt og ved hvilken bølgelengde\n",
    "denne strålingen er mest intens."
   ]
  },
  {
   "cell_type": "markdown",
   "metadata": {},
   "source": [
    "#### Oppgave 6b)"
   ]
  },
  {
   "cell_type": "markdown",
   "metadata": {},
   "source": [
    "En av veggene i et hus er $2,50 m$ høy, $6,0 m$ lang og har en tykkelse på\n",
    "$40 cm$. Inne i huset er temperaturen $22^\\circ C$ , på utsiden er det $−8^\\circ C$.\n",
    "\n",
    "Regn ut varmestrømmen gjennom veggen når varmeledningsevnen for\n",
    "veggen er $k = 0,04 W/mK$."
   ]
  },
  {
   "cell_type": "markdown",
   "metadata": {},
   "source": [
    "#### Oppgave 6c)\n",
    "Vi har $2,0 kg$ is i en bøtte. Isen og bøtta har temperaturen $−20^\\circ C$.\n",
    "Bøttas varmekapasitet er $2400 J/K$.\n",
    "\n",
    "Hvor mye vann med temperatur $20^\\circ C$ må vi helle i bøtta for at\n",
    "temperaturen ved likevekt blir $5,0^\\circ C$ ?"
   ]
  }
 ],
 "metadata": {
  "kernelspec": {
   "display_name": "Python 3",
   "language": "python",
   "name": "python3"
  },
  "language_info": {
   "codemirror_mode": {
    "name": "ipython",
    "version": 3
   },
   "file_extension": ".py",
   "mimetype": "text/x-python",
   "name": "python",
   "nbconvert_exporter": "python",
   "pygments_lexer": "ipython3",
   "version": "3.8.5"
  }
 },
 "nbformat": 4,
 "nbformat_minor": 4
}
