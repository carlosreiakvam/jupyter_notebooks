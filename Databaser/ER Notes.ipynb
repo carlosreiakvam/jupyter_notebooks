{
 "cells": [
  {
   "cell_type": "markdown",
   "metadata": {},
   "source": [
    "|Navn|Forklaring|\n",
    "|:---|---:|\n",
    "|Identifikator| Nøkkel|\n",
    "|ikke-identifiserende| Forhold mellom to tabeller hvor hver tabell har en selvstendig identifikator/nøkkel|\n"
   ]
  }
 ],
 "metadata": {
  "kernelspec": {
   "display_name": "Python 3",
   "language": "python",
   "name": "python3"
  },
  "language_info": {
   "codemirror_mode": {
    "name": "ipython",
    "version": 3
   },
   "file_extension": ".py",
   "mimetype": "text/x-python",
   "name": "python",
   "nbconvert_exporter": "python",
   "pygments_lexer": "ipython3",
   "version": "3.8.5"
  }
 },
 "nbformat": 4,
 "nbformat_minor": 4
}
