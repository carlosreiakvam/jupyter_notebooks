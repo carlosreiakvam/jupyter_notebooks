{
 "cells": [
  {
   "cell_type": "markdown",
   "metadata": {},
   "source": [
    "# Mechanics in 2 and 3 dimensions\n",
    "#### Essential University Physics, chapter 3"
   ]
  },
  {
   "cell_type": "markdown",
   "metadata": {},
   "source": [
    "Assignements: 13,18,21,23"
   ]
  },
  {
   "cell_type": "markdown",
   "metadata": {},
   "source": [
    "##### Assignement 13\n",
    "You walk west 250 m, then north 160 m. What are the magnitude\n",
    "and direction of your displacement vector?"
   ]
  },
  {
   "cell_type": "markdown",
   "metadata": {},
   "source": [
    "<img src=\"Screens/Assignement_3_13.png\" width=\"300\">"
   ]
  },
  {
   "cell_type": "markdown",
   "metadata": {},
   "source": [
    "Displacement vector: $\\sqrt{250^2 + 160^2} = 296.8m$  \n",
    "$\\theta = tan^{-1}160/250 = 32.6 ^\\circ$  \n",
    "Direction relative to standard polar/carthesian:\n",
    "$180 - 32.6 = 147.4^\\circ$ "
   ]
  },
  {
   "cell_type": "code",
   "execution_count": 1,
   "metadata": {},
   "outputs": [
    {
     "data": {
      "text/plain": [
       "32.61924307119283"
      ]
     },
     "execution_count": 1,
     "metadata": {},
     "output_type": "execute_result"
    }
   ],
   "source": [
    "import math as m\n",
    "m.sqrt(m.pow(250,2)+m.pow(160,2))\n",
    "m.degrees(m.atan(160/250))"
   ]
  },
  {
   "cell_type": "markdown",
   "metadata": {},
   "source": [
    "##### Assignement 18\n",
    "Find the magnitude of the vector $33\\hat{i} + 14\\hat{j} $ and determine its angle to the x-axis."
   ]
  },
  {
   "cell_type": "markdown",
   "metadata": {},
   "source": [
    "$v = \\sqrt{33^2 + 14^2} = 36$  \n",
    "$\\theta = tan^{-1}(\\frac{14}{33}) = 23^\\circ$  \n",
    "No need for correction of angle as both points are in first quadrant"
   ]
  },
  {
   "cell_type": "code",
   "execution_count": 2,
   "metadata": {},
   "outputs": [
    {
     "data": {
      "text/plain": [
       "35.84689665786984"
      ]
     },
     "execution_count": 2,
     "metadata": {},
     "output_type": "execute_result"
    }
   ],
   "source": [
    "m.sqrt(m.pow(33,2) + m.pow(14,2))"
   ]
  },
  {
   "cell_type": "code",
   "execution_count": 3,
   "metadata": {},
   "outputs": [
    {
     "data": {
      "text/plain": [
       "22.98871680208064"
      ]
     },
     "execution_count": 3,
     "metadata": {},
     "output_type": "execute_result"
    }
   ],
   "source": [
    "m.degrees(m.atan(14/33))"
   ]
  },
  {
   "cell_type": "markdown",
   "metadata": {},
   "source": [
    "##### Assignement 21\n",
    "\n",
    "An object is moving at 18 m/s at 220° counterclockwise from the\n",
    "x-axis. Find the x- and y-components of its velocity."
   ]
  },
  {
   "cell_type": "markdown",
   "metadata": {},
   "source": [
    "$\\theta = 220^\\circ$  \n",
    "$v =$ hypotenuse $ = 18$\n",
    "\n",
    "$cos(\\theta) = adjacent/hypotenuse$  \n",
    "$cos(\\theta) = x\\hat{i} / v$  \n",
    "$x\\hat{i} = cos(220) \\cdot 18 = -14$\n",
    "\n",
    "$sin(\\theta) = opposite/hypotenuse$  \n",
    "$sin(\\theta) = x\\hat{j} / v$  \n",
    "$x\\hat{i} = sin(220) \\cdot 18 = -12$"
   ]
  },
  {
   "cell_type": "code",
   "execution_count": 4,
   "metadata": {},
   "outputs": [
    {
     "data": {
      "text/plain": [
       "-13.788799976141604"
      ]
     },
     "execution_count": 4,
     "metadata": {},
     "output_type": "execute_result"
    }
   ],
   "source": [
    "m.cos(m.radians(220))*18"
   ]
  },
  {
   "cell_type": "code",
   "execution_count": 5,
   "metadata": {},
   "outputs": [
    {
     "data": {
      "text/plain": [
       "-11.570176974357707"
      ]
     },
     "execution_count": 5,
     "metadata": {},
     "output_type": "execute_result"
    }
   ],
   "source": [
    "m.sin(m.radians(220))*18"
   ]
  },
  {
   "cell_type": "markdown",
   "metadata": {},
   "source": [
    "##### Assignement 23\n",
    "An object’s velocity is $\\vec{v} = ct^3\\hat{i} + d\\hat{j}$, where t is time and c and d are positive constants with appropriate units.   \n",
    "What’s the direction of the object’s acceleration?"
   ]
  },
  {
   "cell_type": "markdown",
   "metadata": {},
   "source": [
    "$\\vec{a} = \\frac{d\\vec{v}}{dt} = 3ct^2 \\hat{i}$  \n",
    "The direction of the acceleration is in the positive $\\hat{i}$ direction, meaning positive on the x-axis."
   ]
  },
  {
   "cell_type": "markdown",
   "metadata": {},
   "source": [
    "#### Assignment 28\n",
    "You’re a pilot beginning a 1600-km flight. Your plane’s speed is 1200 km/h, and air traffic control says you’ll have to head 15° west of south to maintain a southward course. If the flight takes 110 min, what’s the wind velocity?\n"
   ]
  },
  {
   "cell_type": "markdown",
   "metadata": {},
   "source": [
    "<img src=\"Screens/As_3_28.png\" width=\"300\" style=\"float:left\">\n",
    "\n",
    "$\\theta_{ABC} = 180 - 90 - 15$  \n",
    "\n",
    "$v_C = cos(\\theta_{ABC})\\cdot v_a$  \n",
    "\n",
    "$v_C = 310km/h$\n",
    "\n",
    "Remember: $v_b$ is not a thing, $t_b$ is not a thing, $only x_b$ is legit for b vector\n",
    "\n"
   ]
  },
  {
   "cell_type": "code",
   "execution_count": 88,
   "metadata": {},
   "outputs": [
    {
     "data": {
      "text/plain": [
       "310.5828541230249"
      ]
     },
     "execution_count": 88,
     "metadata": {},
     "output_type": "execute_result"
    }
   ],
   "source": [
    "theta_ABC = m.radians(180-90-15) \n",
    "v_c = m.cos(theta_ABC) * 1200\n",
    "v_c"
   ]
  },
  {
   "cell_type": "markdown",
   "metadata": {},
   "source": [
    "#### Assignment 29\n",
    "You wish to row straight across a 63-m-wide river. You can row\n",
    "at a steady 1.3 m/s relative to the water, and the river flows at\n",
    "0.57 m/s.  \n",
    "(a) What direction should you head?  \n",
    "(b) How long will it take you to cross the river?  "
   ]
  },
  {
   "cell_type": "markdown",
   "metadata": {},
   "source": [
    "<img src=\"Screens/As_3_29.png\" width=\"300\" style=\"float:left\">"
   ]
  },
  {
   "cell_type": "markdown",
   "metadata": {},
   "source": [
    "#### a)\n",
    "$\\theta_{ABC} = sin^{-1}(0.57/1.3)$"
   ]
  },
  {
   "cell_type": "code",
   "execution_count": 69,
   "metadata": {},
   "outputs": [
    {
     "name": "stdout",
     "output_type": "stream",
     "text": [
      "26.01 degrees north of east\n"
     ]
    }
   ],
   "source": [
    "theta_ABC = m.degrees(m.asin(0.57/1.3))\n",
    "print(round(theta_ABC,2),'degrees north of east')"
   ]
  },
  {
   "cell_type": "markdown",
   "metadata": {},
   "source": [
    "#### b)\n",
    "$cos(\\theta_{ABC}) = 63m / x_a$   \n",
    "\n",
    "$x_a = 63m / cos(\\theta_{ABC})$  \n",
    "\n",
    "$t_a = x_a / 1.3m/s$"
   ]
  },
  {
   "cell_type": "code",
   "execution_count": 71,
   "metadata": {},
   "outputs": [
    {
     "name": "stdout",
     "output_type": "stream",
     "text": [
      "time to cross = 53.92 s\n"
     ]
    }
   ],
   "source": [
    "x_a = 63/m.cos(m.radians(theta_ABC))\n",
    "t_a = x_a / 1.3\n",
    "print('time to cross =',round(t_a,2) ,'s')"
   ]
  },
  {
   "cell_type": "markdown",
   "metadata": {},
   "source": [
    "#### Assignment 30\n",
    "A plane with airspeed 320 km/h flies perpendicularly across the jet stream, its nose pointed into the jet stream at 38° from the perpendicular direction of its flight. Find the speed of the jet stream.\n",
    "<img src=\"Screens/As_3_30.png\" width=\"300\">"
   ]
  },
  {
   "cell_type": "code",
   "execution_count": 100,
   "metadata": {},
   "outputs": [
    {
     "name": "stdout",
     "output_type": "stream",
     "text": [
      "Airspeed v_c = 197.01 km/h\n"
     ]
    }
   ],
   "source": [
    "theta_ABC = m.radians(180-90-38)\n",
    "v_b = 320\n",
    "v_c = m.cos(theta_ABC) * v_b\n",
    "print('Airspeed v_c =', round(v_c,2),'km/h')"
   ]
  },
  {
   "cell_type": "markdown",
   "metadata": {},
   "source": [
    "#### Assignment 31\n",
    "A flock of geese is attempting to migrate due south, but the wind is blowing from the west at 4.9 m/s. If the birds can fly at 7.6 m/s relative to the air, what direction should they head?\n",
    "<img src=\"Screens/As_3_31.png\" width=\"200\">"
   ]
  },
  {
   "cell_type": "code",
   "execution_count": 99,
   "metadata": {},
   "outputs": [
    {
     "name": "stdout",
     "output_type": "stream",
     "text": [
      "40.15 degrees west of south\n"
     ]
    }
   ],
   "source": [
    "theta_CAB = m.degrees(m.asin(4.9/7.6))\n",
    "print(round(theta_CAB,2),'degrees west of south')"
   ]
  }
 ],
 "metadata": {
  "kernelspec": {
   "display_name": "Python 3",
   "language": "python",
   "name": "python3"
  },
  "language_info": {
   "codemirror_mode": {
    "name": "ipython",
    "version": 3
   },
   "file_extension": ".py",
   "mimetype": "text/x-python",
   "name": "python",
   "nbconvert_exporter": "python",
   "pygments_lexer": "ipython3",
   "version": "3.8.5"
  }
 },
 "nbformat": 4,
 "nbformat_minor": 1
}
