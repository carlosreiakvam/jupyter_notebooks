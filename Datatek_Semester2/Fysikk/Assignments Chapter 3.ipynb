{
 "cells": [
  {
   "cell_type": "markdown",
   "metadata": {},
   "source": [
    "# Mechanics in 2 and 3 dimensions\n",
    "#### Essential University Physics, chapter 3"
   ]
  },
  {
   "cell_type": "markdown",
   "metadata": {},
   "source": [
    "Assignements: 13,18,21,23"
   ]
  },
  {
   "cell_type": "markdown",
   "metadata": {},
   "source": [
    "#### Assignment 1\n",
    "When can you replace the vector sum of two velocities or accelerations by simple summation? Can you do this for more than\n",
    "two velocities or accelerations?"
   ]
  },
  {
   "cell_type": "markdown",
   "metadata": {},
   "source": [
    "<img src=\"Screens/As3_1.jpg\" width=\"300\">"
   ]
  },
  {
   "cell_type": "markdown",
   "metadata": {},
   "source": [
    "As long as the angles are equal, the vector sum is a simple summation of the vector lengths. You can do this for any number of velocity or acceleration vectors."
   ]
  },
  {
   "cell_type": "markdown",
   "metadata": {},
   "source": [
    "#### Assignment 2\n",
    "Can two vectors of equal magnitude sum to zero? How about two\n",
    "vectors of unequal magnitude?"
   ]
  },
  {
   "cell_type": "markdown",
   "metadata": {},
   "source": [
    "Both scenarios are possible if the angles are equal, as illustrated in assignment 1."
   ]
  },
  {
   "cell_type": "markdown",
   "metadata": {},
   "source": [
    "### Assignment 3\n",
    "Repeat Question 2 for three vectors."
   ]
  },
  {
   "cell_type": "markdown",
   "metadata": {},
   "source": [
    "I can not find a way to sum three equal vectors to 0\n",
    "<img src=\"Screens/As3_3_1.jpg\" width=\"300\">\n",
    "\n",
    "Three vectors of unequal length sums to zero\n",
    "<img src=\"Screens/As3_3_2.jpg\" width=\"300\">"
   ]
  },
  {
   "cell_type": "markdown",
   "metadata": {},
   "source": [
    "### Assignment 4\n",
    "Can an object have a southward acceleration while moving north-\n",
    "ward? A westward acceleration while moving northward?"
   ]
  },
  {
   "cell_type": "markdown",
   "metadata": {},
   "source": [
    "#### Assignement 13\n",
    "You walk west 250 m, then north 160 m. What are the magnitude\n",
    "and direction of your displacement vector?"
   ]
  },
  {
   "cell_type": "markdown",
   "metadata": {},
   "source": [
    "<img src=\"Screens/Assignement_3_13.png\" width=\"300\">"
   ]
  },
  {
   "cell_type": "markdown",
   "metadata": {},
   "source": [
    "Displacement vector: $\\sqrt{250^2 + 160^2} = 296.8m$  \n",
    "$\\theta = tan^{-1}160/250 = 32.6 ^\\circ$  \n",
    "Direction relative to standard polar/carthesian:\n",
    "$180 - 32.6 = 147.4^\\circ$ "
   ]
  },
  {
   "cell_type": "code",
   "execution_count": 1,
   "metadata": {},
   "outputs": [
    {
     "data": {
      "text/plain": [
       "32.61924307119283"
      ]
     },
     "execution_count": 1,
     "metadata": {},
     "output_type": "execute_result"
    }
   ],
   "source": [
    "import math as m\n",
    "m.sqrt(m.pow(250,2)+m.pow(160,2))\n",
    "m.degrees(m.atan(160/250))"
   ]
  },
  {
   "cell_type": "markdown",
   "metadata": {},
   "source": [
    "#### Assignment 15\n",
    " A migrating whale follows the west coast of Mexico and North\n",
    "America toward its summer home in Alaska. It first travels 360\n",
    "km northwest to just off the coast of northern California, and then\n",
    "turns due north and travels 400 km toward its destination. Determine graphically the magnitude and direction of its displacement."
   ]
  },
  {
   "cell_type": "markdown",
   "metadata": {},
   "source": [
    "<img src=\"Screens/As3_15.jpg\" width=\"400\" style=\"float:left\">"
   ]
  },
  {
   "cell_type": "markdown",
   "metadata": {},
   "source": [
    "##### Assignement 18\n",
    "Find the magnitude of the vector $33\\hat{i} + 14\\hat{j} $ and determine its angle to the x-axis."
   ]
  },
  {
   "cell_type": "markdown",
   "metadata": {},
   "source": [
    "$v = \\sqrt{33^2 + 14^2} = 36$  \n",
    "$\\theta = tan^{-1}(\\frac{14}{33}) = 23^\\circ$  \n",
    "No need for correction of angle as both points are in first quadrant"
   ]
  },
  {
   "cell_type": "code",
   "execution_count": 2,
   "metadata": {},
   "outputs": [
    {
     "data": {
      "text/plain": [
       "35.84689665786984"
      ]
     },
     "execution_count": 2,
     "metadata": {},
     "output_type": "execute_result"
    }
   ],
   "source": [
    "m.sqrt(m.pow(33,2) + m.pow(14,2))"
   ]
  },
  {
   "cell_type": "code",
   "execution_count": 3,
   "metadata": {},
   "outputs": [
    {
     "data": {
      "text/plain": [
       "22.98871680208064"
      ]
     },
     "execution_count": 3,
     "metadata": {},
     "output_type": "execute_result"
    }
   ],
   "source": [
    "m.degrees(m.atan(14/33))"
   ]
  },
  {
   "cell_type": "markdown",
   "metadata": {},
   "source": [
    "##### Assignement 21\n",
    "\n",
    "An object is moving at 18 m/s at 220° counterclockwise from the\n",
    "x-axis. Find the x- and y-components of its velocity."
   ]
  },
  {
   "cell_type": "markdown",
   "metadata": {},
   "source": [
    "$\\theta = 220^\\circ$  \n",
    "$v =$ hypotenuse $ = 18$\n",
    "\n",
    "$cos(\\theta) = adjacent/hypotenuse$  \n",
    "$cos(\\theta) = x\\hat{i} / v$  \n",
    "$x\\hat{i} = cos(220) \\cdot 18 = -14$\n",
    "\n",
    "$sin(\\theta) = opposite/hypotenuse$  \n",
    "$sin(\\theta) = x\\hat{j} / v$  \n",
    "$x\\hat{i} = sin(220) \\cdot 18 = -12$"
   ]
  },
  {
   "cell_type": "code",
   "execution_count": 4,
   "metadata": {},
   "outputs": [
    {
     "data": {
      "text/plain": [
       "-13.788799976141604"
      ]
     },
     "execution_count": 4,
     "metadata": {},
     "output_type": "execute_result"
    }
   ],
   "source": [
    "m.cos(m.radians(220))*18"
   ]
  },
  {
   "cell_type": "code",
   "execution_count": 5,
   "metadata": {},
   "outputs": [
    {
     "data": {
      "text/plain": [
       "-11.570176974357707"
      ]
     },
     "execution_count": 5,
     "metadata": {},
     "output_type": "execute_result"
    }
   ],
   "source": [
    "m.sin(m.radians(220))*18"
   ]
  },
  {
   "cell_type": "markdown",
   "metadata": {},
   "source": [
    "##### Assignement 23\n",
    "An object’s velocity is $\\vec{v} = ct^3\\hat{i} + d\\hat{j}$, where t is time and c and d are positive constants with appropriate units.   \n",
    "What’s the direction of the object’s acceleration?"
   ]
  },
  {
   "cell_type": "markdown",
   "metadata": {},
   "source": [
    "$\\vec{a} = \\frac{d\\vec{v}}{dt} = 3ct^2 \\hat{i}$  \n",
    "The direction of the acceleration is in the positive $\\hat{i}$ direction, meaning positive on the x-axis."
   ]
  },
  {
   "cell_type": "markdown",
   "metadata": {},
   "source": [
    "#### Assignment 28\n",
    "You’re a pilot beginning a 1600-km flight. Your plane’s speed is 1200 km/h, and air traffic control says you’ll have to head 15° west of south to maintain a southward course. If the flight takes 110 min, what’s the wind velocity?\n"
   ]
  },
  {
   "cell_type": "markdown",
   "metadata": {},
   "source": [
    "<img src=\"Screens/As_3_28.png\" width=\"400\" style=\"float:left\">"
   ]
  },
  {
   "cell_type": "markdown",
   "metadata": {},
   "source": [
    "$\\vec{v}_{CB} = \\vec{v}_{AC}-\\vec{v}_{AB}$"
   ]
  },
  {
   "cell_type": "code",
   "execution_count": 6,
   "metadata": {},
   "outputs": [
    {
     "data": {
      "text/plain": [
       "327.27272727272725"
      ]
     },
     "execution_count": 6,
     "metadata": {},
     "output_type": "execute_result"
    }
   ],
   "source": [
    "v_AC = 1200\n",
    "v_AB = 1600/(110/60)\n",
    "v_VB = v_AC - v_AB\n",
    "v_VB"
   ]
  },
  {
   "cell_type": "markdown",
   "metadata": {},
   "source": [
    "#### Assignment 29\n",
    "You wish to row straight across a 63-m-wide river. You can row\n",
    "at a steady 1.3 m/s relative to the water, and the river flows at\n",
    "0.57 m/s.  \n",
    "(a) What direction should you head?  \n",
    "(b) How long will it take you to cross the river?  "
   ]
  },
  {
   "cell_type": "markdown",
   "metadata": {},
   "source": [
    "<img src=\"Screens/As_3_29.png\" width=\"300\" style=\"float:left\">"
   ]
  },
  {
   "cell_type": "markdown",
   "metadata": {},
   "source": [
    "#### a)\n",
    "$\\theta_{ABC} = sin^{-1}(0.57/1.3)$"
   ]
  },
  {
   "cell_type": "code",
   "execution_count": 7,
   "metadata": {},
   "outputs": [
    {
     "name": "stdout",
     "output_type": "stream",
     "text": [
      "26.01 degrees north of east\n"
     ]
    }
   ],
   "source": [
    "theta_ABC = m.degrees(m.asin(0.57/1.3))\n",
    "print(round(theta_ABC,2),'degrees north of east')"
   ]
  },
  {
   "cell_type": "markdown",
   "metadata": {},
   "source": [
    "#### b)\n",
    "$cos(\\theta_{ABC}) = 63m / x_a$   \n",
    "\n",
    "$x_a = 63m / cos(\\theta_{ABC})$  \n",
    "\n",
    "$t_a = x_a / 1.3m/s$"
   ]
  },
  {
   "cell_type": "code",
   "execution_count": 8,
   "metadata": {},
   "outputs": [
    {
     "name": "stdout",
     "output_type": "stream",
     "text": [
      "time to cross = 53.92 s\n"
     ]
    }
   ],
   "source": [
    "x_a = 63/m.cos(m.radians(theta_ABC))\n",
    "t_a = x_a / 1.3\n",
    "print('time to cross =',round(t_a,2) ,'s')"
   ]
  },
  {
   "cell_type": "markdown",
   "metadata": {},
   "source": [
    "#### Assignment 30\n",
    "A plane with airspeed 320 km/h flies perpendicularly across the jet stream, its nose pointed into the jet stream at 38° from the perpendicular direction of its flight. Find the speed of the jet stream.\n",
    "<img src=\"Screens/As_3_30.png\" width=\"300\">"
   ]
  },
  {
   "cell_type": "code",
   "execution_count": 9,
   "metadata": {},
   "outputs": [
    {
     "name": "stdout",
     "output_type": "stream",
     "text": [
      "Airspeed v_c = 197.01 km/h\n"
     ]
    }
   ],
   "source": [
    "theta_ABC = m.radians(180-90-38)\n",
    "v_b = 320\n",
    "v_c = m.cos(theta_ABC) * v_b\n",
    "print('Airspeed v_c =', round(v_c,2),'km/h')"
   ]
  },
  {
   "cell_type": "markdown",
   "metadata": {},
   "source": [
    "#### Assignment 31\n",
    "A flock of geese is attempting to migrate due south, but the wind is blowing from the west at 4.9 m/s. If the birds can fly at 7.6 m/s relative to the air, what direction should they head?\n",
    "<img src=\"Screens/As_3_31.png\" width=\"200\">"
   ]
  },
  {
   "cell_type": "markdown",
   "metadata": {},
   "source": [
    "$\\theta_{CAB} = sin^{-1}(\\frac{4.9}{7.6})$"
   ]
  },
  {
   "cell_type": "code",
   "execution_count": 10,
   "metadata": {},
   "outputs": [
    {
     "name": "stdout",
     "output_type": "stream",
     "text": [
      "40.15 degrees west of south\n"
     ]
    }
   ],
   "source": [
    "theta_CAB = m.degrees(m.asin(4.9/7.6))\n",
    "print(round(theta_CAB,2),'degrees west of south')"
   ]
  },
  {
   "cell_type": "markdown",
   "metadata": {},
   "source": [
    "#### Assignment 34\n",
    "You toss an apple horizontally at 8.1 m/s from a height of 2.8 m.\n",
    "Simultaneously, you drop a peach from the same height. How\n",
    "long does each take to reach the ground?"
   ]
  },
  {
   "cell_type": "markdown",
   "metadata": {},
   "source": [
    "<img src=\"Screens/As3_34.jpg\" width=\"300\">"
   ]
  },
  {
   "cell_type": "markdown",
   "metadata": {},
   "source": [
    "$y = y_0 + v_{y0}t - \\frac{1}{2}gt^2$  "
   ]
  },
  {
   "cell_type": "markdown",
   "metadata": {},
   "source": [
    "$y_0 = 0$  \n",
    "$v_{y0} = 0$  \n",
    "$y = 2.8m$  \n",
    "$y = - \\frac{1}{2}gt^2$  \n",
    "$t = \\sqrt{-\\frac{2y}{(-g)}} \\Rightarrow t = \\sqrt{\\frac{2y}{g}}$"
   ]
  },
  {
   "cell_type": "markdown",
   "metadata": {},
   "source": [
    "y and x are independent so the x direction is irrelevant in this situation. The only force acting upon the bodies is acceleration = -g."
   ]
  },
  {
   "cell_type": "markdown",
   "metadata": {},
   "source": [
    "#### Assignment 35\n",
    "A carpenter tosses a shingle horizontally off an $8.2m$-high roof\n",
    "at $14 m/s$.  \n",
    "\n",
    "(a) How long does it take the shingle to reach the\n",
    "ground?  \n",
    "(b) How far does it move horizontally?"
   ]
  },
  {
   "cell_type": "markdown",
   "metadata": {},
   "source": [
    "$v_x = v_{x0}$  \n",
    "$v_y = v_{y0}-gt$  \n",
    "$x = x_0 + v_{x0}t$  \n",
    "$y = y_0 + v_{y0}t - \\frac{1}{2}gt^2$"
   ]
  },
  {
   "cell_type": "markdown",
   "metadata": {},
   "source": [
    "#### a) \n",
    "\n",
    "$v_x = 14 m/s$  \n",
    "$v_{y0} = 0$  \n",
    "$y_0 = 0$\n",
    "$y = 8.2m $"
   ]
  },
  {
   "cell_type": "markdown",
   "metadata": {},
   "source": [
    "$y = -\\frac{1}{2}gt^2$\n",
    "$t = \\sqrt{\\frac{2y}{g}}$  \n",
    "$t = \\sqrt{\\frac{2\\cdot{8.2}}{9.81}} = 1.3s$"
   ]
  },
  {
   "cell_type": "code",
   "execution_count": 12,
   "metadata": {},
   "outputs": [
    {
     "data": {
      "text/plain": [
       "1.2929669394945456"
      ]
     },
     "execution_count": 12,
     "metadata": {},
     "output_type": "execute_result"
    }
   ],
   "source": [
    "m.sqrt(2*8.2/9.81)"
   ]
  },
  {
   "cell_type": "markdown",
   "metadata": {},
   "source": [
    "#### b)\n",
    "$x = x_0 + v_{x0}t = v_{x0}t$  \n",
    "$x =14m/s^2 \\cdot 1.3s = 18.2m $"
   ]
  },
  {
   "cell_type": "code",
   "execution_count": 13,
   "metadata": {},
   "outputs": [
    {
     "data": {
      "text/plain": [
       "18.2"
      ]
     },
     "execution_count": 13,
     "metadata": {},
     "output_type": "execute_result"
    }
   ],
   "source": [
    "14*1.3"
   ]
  },
  {
   "cell_type": "markdown",
   "metadata": {},
   "source": [
    "## Assignment 36\n",
    "An arrow fired horizontally at $35 m/s$ travels $23m$ horizontally.\n",
    "From what height was it fired?"
   ]
  },
  {
   "cell_type": "markdown",
   "metadata": {},
   "source": [
    "<img src=\"Screens/As3_36.jpg\" width=\"300\">"
   ]
  },
  {
   "cell_type": "markdown",
   "metadata": {},
   "source": [
    "$v_x = 35m/s$  \n",
    "$x_0 = 0$  \n",
    "$x = 23m$  "
   ]
  },
  {
   "cell_type": "markdown",
   "metadata": {},
   "source": [
    "$x = v_{x0}t \\Rightarrow t = \\frac{x}{v_{x0}}$  \n",
    "$t = \\frac{23m}{35m/s} = 0.65s$"
   ]
  },
  {
   "cell_type": "markdown",
   "metadata": {},
   "source": [
    "$y = -\\frac{1}{2}gt^2$  \n",
    "$y = - \\frac{1}{2}\\cdot(-9.81)\\cdot 0.65^2 = 2.11m $"
   ]
  },
  {
   "cell_type": "code",
   "execution_count": 11,
   "metadata": {},
   "outputs": [
    {
     "data": {
      "text/plain": [
       "2.1181591836734697"
      ]
     },
     "execution_count": 11,
     "metadata": {},
     "output_type": "execute_result"
    }
   ],
   "source": [
    "-(1/2)*(-9.81)*m.pow((23/35),2)"
   ]
  },
  {
   "cell_type": "markdown",
   "metadata": {},
   "source": [
    "#### Assignment 37\n",
    "Droplets in an ink-jet printer are ejected horizontally at 12 m/s\n",
    "and travel a horizontal distance of 1.0 mm to the paper. How far\n",
    "do they fall in this interval?"
   ]
  },
  {
   "cell_type": "markdown",
   "metadata": {},
   "source": [
    "$v_x = v_x0 = 12m/s$  \n",
    "$x = 10^{-3}m$  \n",
    "$x = x_0 + v_{x0}t \\Rightarrow t = \\frac{x}{v_{x0}}$  \n",
    "$t = \\frac {1\\cdot10^{-3}m}{12m/s} = 8.3\\cdot10^{-5}s$"
   ]
  },
  {
   "cell_type": "code",
   "execution_count": 17,
   "metadata": {},
   "outputs": [
    {
     "data": {
      "text/plain": [
       "8.333333333333333e-05"
      ]
     },
     "execution_count": 17,
     "metadata": {},
     "output_type": "execute_result"
    }
   ],
   "source": [
    "0.001/12"
   ]
  },
  {
   "cell_type": "markdown",
   "metadata": {},
   "source": [
    "$y = y_0 + v_{y0}t - \\frac{1}{2}gt^2$  \n",
    "$y = - \\frac{1}{2}gt^2$  \n",
    "$y = -\\frac{1}{2} \\cdot(-9.81)\\cdot(8.3\\cdot10^{-5}s)$  \n",
    "$y = 4.09 \\cdot 10^{-9}m = 4.09nm$"
   ]
  },
  {
   "cell_type": "code",
   "execution_count": 21,
   "metadata": {},
   "outputs": [
    {
     "data": {
      "text/plain": [
       "4.0875e-09"
      ]
     },
     "execution_count": 21,
     "metadata": {},
     "output_type": "execute_result"
    }
   ],
   "source": [
    "-(1/2)*(-9.81)*(0.001/12*m.pow(10,-5))"
   ]
  },
  {
   "cell_type": "markdown",
   "metadata": {},
   "source": [
    "$v_x = v_{x0}$  \n",
    "$v_y = v_{y0}-gt$  \n",
    "$x = x_0 + v_{x0}t$  \n",
    "$y = y_0 + v_{y0}t - \\frac{1}{2}gt^2$"
   ]
  }
 ],
 "metadata": {
  "kernelspec": {
   "display_name": "Python 3",
   "language": "python",
   "name": "python3"
  },
  "language_info": {
   "codemirror_mode": {
    "name": "ipython",
    "version": 3
   },
   "file_extension": ".py",
   "mimetype": "text/x-python",
   "name": "python",
   "nbconvert_exporter": "python",
   "pygments_lexer": "ipython3",
   "version": "3.8.5"
  }
 },
 "nbformat": 4,
 "nbformat_minor": 1
}
