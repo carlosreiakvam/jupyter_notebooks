{
 "cells": [
  {
   "cell_type": "markdown",
   "metadata": {},
   "source": [
    "# Force and Motion"
   ]
  },
  {
   "cell_type": "code",
   "execution_count": 1,
   "metadata": {},
   "outputs": [
    {
     "data": {
      "text/html": [
       "<style>\n",
       ".rendered_html table {\n",
       "    margin-right:50px;\n",
       "}\n",
       "table {float:left}\n",
       "img {float:left}\n",
       "h2 {color: black}\n",
       "h4 {color: #0000cc}\n",
       "</style>\n"
      ],
      "text/plain": [
       "<IPython.core.display.HTML object>"
      ]
     },
     "metadata": {},
     "output_type": "display_data"
    }
   ],
   "source": [
    "%%html\n",
    "<style>\n",
    ".rendered_html table {\n",
    "    margin-right:50px;\n",
    "}\n",
    "table {float:left}\n",
    "img {float:left}\n",
    "h2 {color: black}\n",
    "h4 {color: #0000cc}\n",
    "</style>"
   ]
  },
  {
   "cell_type": "code",
   "execution_count": 21,
   "metadata": {},
   "outputs": [],
   "source": [
    "import math as M"
   ]
  },
  {
   "cell_type": "markdown",
   "metadata": {},
   "source": [
    "### Assignment 17\n",
    "A car leaves the road traveling at 110 km/h and hits a tree, coming to a stop in 0.14 s.  \n",
    "What average force does a seatbelt exert on a 60-kg passenger during this collision?"
   ]
  },
  {
   "cell_type": "code",
   "execution_count": 8,
   "metadata": {},
   "outputs": [
    {
     "name": "stdout",
     "output_type": "stream",
     "text": [
      "F = -13095.24 N\n"
     ]
    }
   ],
   "source": [
    "v = 110/3.6\n",
    "delta_s = 0.14\n",
    "m = 60\n",
    "a = v/delta_s\n",
    "F = m*-a\n",
    "print('F =',round(F,2),\"N\")"
   ]
  },
  {
   "cell_type": "markdown",
   "metadata": {},
   "source": [
    "### Assignment 21\n",
    "In an egg-dropping contest, a student encases an 83g egg in a\n",
    "large Styrofoam block. If the force on the egg can’t exceed 2.0 N,\n",
    "and if the block hits the ground at 1.7 m/s, by how much must\n",
    "the Styrofoam compress on impact? Note: The acceleration associated with stopping the egg is so great that you can neglect gravity while the Styrofoam block is slowing due to contact with\n",
    "the ground."
   ]
  },
  {
   "cell_type": "markdown",
   "metadata": {},
   "source": [
    "$v^2 = v{_0}^2 +2as$, $v_0 = 0$  (eq,2,11)  \n",
    "$a = F/m$  \n",
    "$s = \\frac{v^2}{\\frac{2F}{m}} = \\frac{mv^2}{2F}$"
   ]
  },
  {
   "cell_type": "code",
   "execution_count": 30,
   "metadata": {},
   "outputs": [
    {
     "name": "stdout",
     "output_type": "stream",
     "text": [
      "s = 0.06 m\n"
     ]
    }
   ],
   "source": [
    "m = 83*M.pow(10,-3)\n",
    "F = 2\n",
    "v = 1.7\n",
    "s = (m* M.pow(v,2))/(2*F)\n",
    "print(\"s =\",round(s,4), \"m\")"
   ]
  },
  {
   "cell_type": "markdown",
   "metadata": {},
   "source": [
    "### Assignment 29\n",
    "A 50-kg parachutist descends at a steady 40 km/h.  \n",
    "What force does air exert on the parachute?"
   ]
  },
  {
   "cell_type": "code",
   "execution_count": 31,
   "metadata": {},
   "outputs": [
    {
     "data": {
      "text/plain": [
       "490.5"
      ]
     },
     "execution_count": 31,
     "metadata": {},
     "output_type": "execute_result"
    }
   ],
   "source": [
    "m = 50\n",
    "v = 40/3.6\n",
    "a = 9.81\n",
    "F = m*a\n",
    "F"
   ]
  },
  {
   "cell_type": "markdown",
   "metadata": {},
   "source": [
    "### Assignment 31\n",
    "An elevator accelerates downward at 2.4 m/s2.  \n",
    "What force does the elevator’s floor exert on a 52-kg passenger?"
   ]
  },
  {
   "cell_type": "code",
   "execution_count": 39,
   "metadata": {},
   "outputs": [
    {
     "data": {
      "text/plain": [
       "385.32"
      ]
     },
     "execution_count": 39,
     "metadata": {},
     "output_type": "execute_result"
    }
   ],
   "source": [
    "a = 2.4\n",
    "m = 52\n",
    "g = 9.81\n",
    "F_elevator = m*a\n",
    "F_grav = m*g\n",
    "F = F_grav - F_elevator \n",
    "F"
   ]
  },
  {
   "cell_type": "markdown",
   "metadata": {},
   "source": [
    "### Assignment 39\n",
    "A spring with spring constant $k = 340 N/m$ is used to weigh a\n",
    "$6.7 kg$ fish.  \n",
    "How far does the spring stretch?"
   ]
  },
  {
   "cell_type": "code",
   "execution_count": 43,
   "metadata": {},
   "outputs": [
    {
     "name": "stdout",
     "output_type": "stream",
     "text": [
      "0.193 m\n"
     ]
    }
   ],
   "source": [
    "k = 340\n",
    "m = 6.7\n",
    "a = -9.81\n",
    "F = m*a\n",
    "x = -F/k\n",
    "print(round(x,3),\"m\")"
   ]
  }
 ],
 "metadata": {
  "kernelspec": {
   "display_name": "Python 3",
   "language": "python",
   "name": "python3"
  },
  "language_info": {
   "codemirror_mode": {
    "name": "ipython",
    "version": 3
   },
   "file_extension": ".py",
   "mimetype": "text/x-python",
   "name": "python",
   "nbconvert_exporter": "python",
   "pygments_lexer": "ipython3",
   "version": "3.8.5"
  }
 },
 "nbformat": 4,
 "nbformat_minor": 4
}
