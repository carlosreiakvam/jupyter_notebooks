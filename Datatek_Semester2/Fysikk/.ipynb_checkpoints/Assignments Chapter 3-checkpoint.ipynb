{
 "cells": [
  {
   "cell_type": "markdown",
   "metadata": {},
   "source": [
    "# Mechanics in 2 and 3 dimensions\n",
    "#### Essential University Physics, chapter 3"
   ]
  },
  {
   "cell_type": "markdown",
   "metadata": {},
   "source": [
    "Assignements: 13,18,21,23"
   ]
  },
  {
   "cell_type": "markdown",
   "metadata": {},
   "source": [
    "##### Assignement 13\n",
    "You walk west 250 m, then north 160 m. What are the magnitude\n",
    "and direction of your displacement vector?"
   ]
  },
  {
   "cell_type": "markdown",
   "metadata": {},
   "source": [
    "<img src=\"Screens/Assignement_3_13.png\" width=\"300\">"
   ]
  },
  {
   "cell_type": "markdown",
   "metadata": {},
   "source": [
    "Displacement vector: $\\sqrt{250^2 + 160^2} = 296.8m$  \n",
    "$\\theta = tan^{-1}160/250 = 32.6 ^\\circ$  \n",
    "Direction relative to standard polar/carthesian:\n",
    "$180 - 32.6 = 147.4^\\circ$ "
   ]
  },
  {
   "cell_type": "code",
   "execution_count": 3,
   "metadata": {},
   "outputs": [
    {
     "data": {
      "text/plain": [
       "32.61924307119283"
      ]
     },
     "metadata": {},
     "output_type": "display_data"
    }
   ],
   "source": [
    "import math as m\n",
    "m.sqrt(m.pow(250,2)+m.pow(160,2))\n",
    "m.degrees(m.atan(160/250))"
   ]
  },
  {
   "cell_type": "markdown",
   "metadata": {},
   "source": [
    "##### Assignement 18\n",
    "Find the magnitude of the vector $33\\hat{i} + 14\\hat{j} $ and determine its angle to the x-axis."
   ]
  },
  {
   "cell_type": "markdown",
   "metadata": {},
   "source": [
    "$v = \\sqrt{33^2 + 14^2} = 33.84$  \n",
    "$\\theta = tan^{-1}(\\frac{14}{33}) = 23^\\circ$  \n",
    "No need for correction of angle as both points are in first quadrant"
   ]
  },
  {
   "cell_type": "code",
   "execution_count": 4,
   "metadata": {},
   "outputs": [
    {
     "data": {
      "text/plain": [
       "22.98871680208064"
      ]
     },
     "metadata": {},
     "output_type": "display_data"
    }
   ],
   "source": [
    "m.sqrt(m.pow(33,2) + m.pow(14,2))\n",
    "m.degrees(m.atan(14/33))"
   ]
  },
  {
   "cell_type": "markdown",
   "metadata": {},
   "source": [
    "##### Assignement 21\n",
    "\n",
    "An object is moving at 18 m/s at 220° counterclockwise from the\n",
    "x-axis. Find the x- and y-components of its velocity."
   ]
  },
  {
   "cell_type": "markdown",
   "metadata": {},
   "source": [
    "$\\theta = 220^\\circ$  \n",
    "$v =$ hypotenuse $ = 18$\n",
    "\n",
    "$cos(\\theta) = adjacent/hypotenuse$  \n",
    "$cos(\\theta) = x\\hat{i} / v$  \n",
    "$x\\hat{i} = cos(220) \\cdot 18 = -14$\n",
    "\n",
    "$sin(\\theta) = opposite/hypotenuse$  \n",
    "$sin(\\theta) = x\\hat{j} / v$  \n",
    "$x\\hat{i} = sin(220) \\cdot 18 = -12$"
   ]
  },
  {
   "cell_type": "code",
   "execution_count": 0,
   "metadata": {},
   "outputs": [],
   "source": [
    "m.cos(m.radians(220))*18\n",
    "m.sin(m.radians(220))*18"
   ]
  },
  {
   "cell_type": "markdown",
   "metadata": {},
   "source": [
    "##### Assignement 23\n",
    "An object’s velocity is $\\vec{v} = ct^3\\hat{i} + d\\hat{j}$, where t is time and c and d are positive constants with appropriate units.   \n",
    "What’s the direction of the object’s acceleration?"
   ]
  },
  {
   "cell_type": "markdown",
   "metadata": {},
   "source": [
    "$\\vec{a} = \\frac{d\\vec{v}}{dt} = 3ct^2 \\hat{i}$  \n",
    "The direction of the acceleration is in the positive $\\hat{i}$ direction, meaning positive on the x-axis."
   ]
  }
 ],
 "metadata": {
  "kernelspec": {
   "display_name": "Python 3",
   "language": "python",
   "name": "python3"
  },
  "language_info": {
   "codemirror_mode": {
    "name": "ipython",
    "version": 3
   },
   "file_extension": ".py",
   "mimetype": "text/x-python",
   "name": "python",
   "nbconvert_exporter": "python",
   "pygments_lexer": "ipython3",
   "version": "3.8.5"
  }
 },
 "nbformat": 4,
 "nbformat_minor": 1
}
