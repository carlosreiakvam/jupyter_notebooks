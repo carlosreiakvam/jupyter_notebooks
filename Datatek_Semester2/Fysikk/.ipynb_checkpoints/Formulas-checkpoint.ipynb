{
 "cells": [
  {
   "cell_type": "markdown",
   "metadata": {},
   "source": [
    "#### Basic Definitions of movement\n",
    "$\\overline{v} = \\frac{\\Delta x}{\\Delta t}$  \n",
    "$v = \\frac{dx}{dt}$  \n",
    "$\\overline{a} = \\frac{\\Delta v}{\\Delta t}$  \n",
    "$a = \\frac{dv}{dt}$  "
   ]
  },
  {
   "cell_type": "markdown",
   "metadata": {},
   "source": [
    "#### Constant Acceleration\n",
    "Equation 2.7:  $v = v_0 + at$  \n",
    "Equation 2.9:  $x = x_0 + \\frac{1}{2}(v_0 +v)t$  \n",
    "Equation 2.10: $x = x_0 + v_0t + \\frac{1}{2}at^2$  \n",
    "Equation 2.11: $v^2 = v{_0}^2 + 2a(x-x_0)$ \n",
    "\n",
    "Carlos Equation c.1: $\\Delta x = \\frac{v^2-v{_0}^2}{2a}$  \n",
    "Carlos Equation c.2: $a = \\frac{v-v_0}{t}$  \n",
    "\n",
    "Remember  \n",
    "$\\Delta x = x-x_0$  "
   ]
  },
  {
   "cell_type": "markdown",
   "metadata": {},
   "source": [
    "#### Instantaneous Acceleration\n",
    "\n",
    "$v(t) = \\int a(t) dt$  \n",
    "$s(t) = \\int v(t) dt$"
   ]
  }
 ],
 "metadata": {
  "kernelspec": {
   "display_name": "Python 3",
   "language": "python",
   "name": "python3"
  },
  "language_info": {
   "codemirror_mode": {
    "name": "ipython",
    "version": 3
   },
   "file_extension": ".py",
   "mimetype": "text/x-python",
   "name": "python",
   "nbconvert_exporter": "python",
   "pygments_lexer": "ipython3",
   "version": "3.8.5"
  }
 },
 "nbformat": 4,
 "nbformat_minor": 1
}
