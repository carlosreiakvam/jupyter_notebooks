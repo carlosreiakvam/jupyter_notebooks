{
 "cells": [
  {
   "cell_type": "markdown",
   "metadata": {},
   "source": [
    "#### Basic Definitions of movement\n",
    "$\\overline{v} = \\frac{\\Delta x}{\\Delta t}$  \n",
    "$v = \\frac{dx}{dt}$  \n",
    "$\\overline{a} = \\frac{\\Delta v}{\\Delta t}$  \n",
    "$a = \\frac{dv}{dt}$  "
   ]
  },
  {
   "cell_type": "markdown",
   "metadata": {},
   "source": [
    "#### Constant Acceleration\n",
    "Equation 2.7:  $v = v_0 + at$  \n",
    "Equation 2.9:  $x = x_0 + \\frac{1}{2}(v_0 +v)t$  \n",
    "Equation 2.10: $x = x_0 + v_0t + \\frac{1}{2}at^2$  \n",
    "Equation 2.11: $v^2 = v{_0}^2 + 2a(x-x_0)$ \n",
    "\n",
    "Carlos Equation c.1: $\\Delta x = \\frac{v^2-v{_0}^2}{2a}$  \n",
    "Carlos Equation c.2: $a = \\frac{v-v_0}{t}$  \n",
    "\n",
    "Remember  \n",
    "$\\Delta x = x-x_0$  "
   ]
  },
  {
   "cell_type": "markdown",
   "metadata": {},
   "source": [
    "#### Instantaneous Acceleration\n",
    "\n",
    "$v(t) = \\int a(t) dt$  \n",
    "$s(t) = \\int v(t) dt$"
   ]
  },
  {
   "cell_type": "markdown",
   "metadata": {},
   "source": [
    "#### Projectile motion (in two directions and constant acceleration)\n",
    "\n",
    "Acceleration $g$ is constant but only in the y-direction  \n",
    "$a_y = -g = -9.81m/s^2$  \n",
    "$a_x = 0$"
   ]
  },
  {
   "cell_type": "markdown",
   "metadata": {},
   "source": [
    "Air resistance is neglected so horizontal speed remains constant  \n",
    "$v_x = v_x0 $"
   ]
  },
  {
   "cell_type": "markdown",
   "metadata": {},
   "source": [
    "objects velocity at any time t: $\\vec{v} = \\vec{v}_0 + \\vec{a}t$  \n",
    "objects position at any time t: $\\vec{r} = \\vec{r}_0 + \\vec{r}_0t+\\frac{1}{2}\\vec{a}t^2$  "
   ]
  },
  {
   "cell_type": "markdown",
   "metadata": {},
   "source": [
    "From all of the above we get the final four formulas for projectile motion:  \n",
    "\n",
    "$v_x = v_{x0}$  \n",
    "$v_y = v_{y0}-gt$  \n",
    "$x = x_0 + v_{x0}t$  \n",
    "$y = y_0 + v_{y0}t - \\frac{1}{2}gt^2$"
   ]
  },
  {
   "cell_type": "markdown",
   "metadata": {},
   "source": [
    "if $y_0 = 0$ and $v_{y0} =0$ and include negative direction for g:  \n",
    "$y = - \\frac{1}{2}(-g)t^2$  \n",
    "$t = \\sqrt{-\\frac{2y}{(-g)}} \\Rightarrow t = \\sqrt{\\frac{2y}{g}}$"
   ]
  }
 ],
 "metadata": {
  "kernelspec": {
   "display_name": "Python 3",
   "language": "python",
   "name": "python3"
  },
  "language_info": {
   "codemirror_mode": {
    "name": "ipython",
    "version": 3
   },
   "file_extension": ".py",
   "mimetype": "text/x-python",
   "name": "python",
   "nbconvert_exporter": "python",
   "pygments_lexer": "ipython3",
   "version": "3.8.5"
  }
 },
 "nbformat": 4,
 "nbformat_minor": 1
}
