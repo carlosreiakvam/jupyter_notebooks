{
 "cells": [
  {
   "cell_type": "code",
   "execution_count": 4,
   "metadata": {},
   "outputs": [
    {
     "data": {
      "text/html": [
       "<style>\n",
       ".rendered_html table {\n",
       "    margin-right:50px;\n",
       "}\n",
       "table {\n",
       "    float:left;\n",
       "}\n",
       "\n",
       "img {float:left}\n",
       "h1 {color: red}\n",
       "h2 {color: orange}\n",
       "h4 {color: #0000cc}\n",
       "h5 {color: black}\n",
       "</style>\n"
      ],
      "text/plain": [
       "<IPython.core.display.HTML object>"
      ]
     },
     "metadata": {},
     "output_type": "display_data"
    }
   ],
   "source": [
    "%%html\n",
    "<style>\n",
    ".rendered_html table {\n",
    "    margin-right:50px;\n",
    "}\n",
    "table {\n",
    "    float:left;\n",
    "}\n",
    "\n",
    "img {float:left}\n",
    "h1 {color: red}\n",
    "h2 {color: orange}\n",
    "h4 {color: #0000cc}\n",
    "h5 {color: black}\n",
    "</style>"
   ]
  },
  {
   "cell_type": "markdown",
   "metadata": {},
   "source": [
    "# CH2 MOTION IN ONE DIMENSION "
   ]
  },
  {
   "cell_type": "markdown",
   "metadata": {},
   "source": [
    "## Basic Definitions of motion\n",
    "|          Velocity                           |  |\n",
    "|--------------------------------------------|---|\n",
    "|$$\\overline{v} = \\frac{\\Delta x}{\\Delta t}$$ ||\n",
    "|$$v = \\frac{dx}{dt}$$ ||\n",
    "\n",
    "|              Acceleration                       |  |\n",
    "|--------------------------------------------|---|\n",
    "|$$\\overline{a} = \\frac{\\Delta v}{\\Delta t}$$ ||\n",
    "|$$a = \\frac{dv}{dt}$$ ||"
   ]
  },
  {
   "cell_type": "markdown",
   "metadata": {},
   "source": [
    "## Motion in One Dimension"
   ]
  },
  {
   "cell_type": "markdown",
   "metadata": {},
   "source": [
    "#### Constant Acceleration\n",
    "|   |   |\n",
    "|---|---|\n",
    "|$$v = v_0 + at$$                   |2.7|\n",
    "|$$x = x_0 + \\frac{1}{2}(v_0 +v)t$$ |2.9|\n",
    "|$$x = x_0 + v_0t + \\frac{1}{2}at^2$$ |2.10|\n",
    "|$$v^2 = v{_0}^2 + 2a(x-x_0)$$ |2.11|\n",
    "\n",
    "#### Algebraic alternatives\n",
    "|   |   |\n",
    "|---|---|\n",
    "|$$\\Delta x = \\frac{v^2-v{_0}^2}{2a}$$ | |\n",
    "|$$a = \\frac{v-v_0}{t}$$ | |"
   ]
  },
  {
   "cell_type": "markdown",
   "metadata": {},
   "source": [
    "#### Instantaneous Acceleration\n",
    "|   |   |\n",
    "|---|---|\n",
    "|$$v(t) = \\int a(t) dt$$  ||\n",
    "|$$s(t) = \\int v(t) dt$$||"
   ]
  },
  {
   "cell_type": "markdown",
   "metadata": {},
   "source": [
    "# CH3 MOTION IN TWO DIMENSIONS"
   ]
  },
  {
   "cell_type": "markdown",
   "metadata": {},
   "source": [
    "## Motion described with vectors\n",
    "\n",
    "|Description        |Formula                                     | # |\n",
    "|:-------------------|:---:|:---:|\n",
    "|Vector magnitude:  |$$A = \\sqrt{A{_x}^2+A{_y}^2}$$ |3.1|\n",
    "|Vector direction:  |$$tan\\theta = \\frac{A_y}{A_x}$$ |3.1|\n",
    "|Vector components  |$$A_x = A cos\\theta $$ |3.2|\n",
    "|Vector components  |$$A_y = A sin\\theta $$ |3.2|\n",
    "\n"
   ]
  },
  {
   "cell_type": "markdown",
   "metadata": {},
   "source": [
    "## 2D motion with constant acceleration\n",
    "\n",
    "|Description        |Formula                                     | # |\n",
    "|:-------------------|:---:|:---:|\n",
    "|Velocity of object |$$\\vec{v} = \\vec{v}_0 + \\vec{a}t$$ |3.8|\n",
    "|Displacement of object |$$\\vec{r} = \\vec{r}_0 + \\vec{v}_0 t + \\frac{1}{2} \\vec{a} t^2$$ |3.9|\n",
    "|Displacement of object component x |$$ x = x_0 + v_{x0}t + \\frac{1}{2}a_xt^2$$ ||\n",
    "|Displacement of object component y |$$ y = y_0 + v_{y0}t + \\frac{1}{2}a_yt^2$$ ||\n",
    "\n",
    "\n",
    "|Additional information| |\n",
    "|:---|:---|\n",
    "|$\\vec{r}$| Objects position at any time $t$|\n",
    "|$\\vec{r_0}$| Objects initial position at time $t = 0$|\n",
    "|$\\vec{v}$| Objects velocity at any time $t$|\n",
    "|$\\vec{v_0}$| Objects initial velocity|\n",
    "|$\\vec{a}$| Objects acceleration|"
   ]
  },
  {
   "cell_type": "markdown",
   "metadata": {},
   "source": [
    "- Use with any constant acceleration\n",
    "- Typically used to describe motion on the ground level or seen from above "
   ]
  },
  {
   "cell_type": "markdown",
   "metadata": {},
   "source": [
    "## 2d Projectile motion  \n",
    "\n",
    "|Special condition        |Formula                                     | # |\n",
    "|:-------------------|:---:|:---:|\n",
    "||$$v_x = v_{x0}$$  |3.10|\n",
    "||$$v_y = v_{y0}-gt$$|3.11|\n",
    "||$$x = x_0 + v_{x0}t$$|3.12|\n",
    "||$$y = y_0 + v_{y0}t - \\frac{1}{2}gt^2$$|3.13|  \n",
    "  \n",
    "- Gravity $g$ as only acceleration on object\n",
    "- Acceleration is constant\n",
    "- Neglect every resistance in x-direction $\\Rightarrow$ velocity in x direction only stops when object lands"
   ]
  },
  {
   "cell_type": "markdown",
   "metadata": {},
   "source": [
    "#### Projectile motion of horizontally launched object  \n",
    "Horizontally launched meaning: $v_{y0} =0$ and $y = 0$  \n",
    "\n",
    "$y_0= \\frac{1}{2}gt^2 \\Rightarrow t = \\sqrt{\\frac{2y_0}{g}}$"
   ]
  },
  {
   "cell_type": "markdown",
   "metadata": {},
   "source": [
    "#### Projectile Trajectories\n",
    "<img src=\"Screens/formulas_projectile1.jpg\" width=\"400\">"
   ]
  },
  {
   "cell_type": "markdown",
   "metadata": {},
   "source": [
    "|Description        |Formula                                     | # |\n",
    "|:---|:---:|:---:|\n",
    "||$$v_{x0} = v_0 cos \\theta $$||\n",
    "||$$v_{y0} = v_0 sin \\theta $$||\n",
    "||$$\\Delta x = v_0 \\,cos\\theta_0 \\,t$$||\n",
    "||$$\\Delta y = v_0 \\,sin\\theta_0 \\,t$$||\n",
    "||$$t = \\frac{\\Delta x}{v_0 \\,cos\\theta_0}$$|\n",
    "||$$v_0 = \\sqrt{\\frac{gx^2}{2\\,cos^2\\theta_0(x\\,tan\\theta_0 - y)}}$$|\n",
    "||$$y = \\Delta x \\,tan\\theta_0 - \\frac{g}{2v{_0}^2cos^2\\theta_0}(\\Delta x)^2$$  |3.14|"
   ]
  },
  {
   "cell_type": "markdown",
   "metadata": {},
   "source": [
    "Husk at man bruker utgangsvektor $\\vec{v}_0$ som utgangspunkt for å regne på den buede bevegelsen"
   ]
  },
  {
   "cell_type": "markdown",
   "metadata": {},
   "source": [
    "## Uniform Circular Motion\n",
    "|Description        |Formula                                     | # |\n",
    "|-------------------|--------------------------------------------|---|\n",
    "||$$a = \\frac{v^2}{r}$$|3.16||"
   ]
  },
  {
   "cell_type": "markdown",
   "metadata": {},
   "source": [
    "<img src=\"Screens/circular_acceleration.jpg\" width=\"400\">"
   ]
  },
  {
   "cell_type": "markdown",
   "metadata": {},
   "source": [
    "# CH4 MASS AND FORCE"
   ]
  },
  {
   "cell_type": "markdown",
   "metadata": {},
   "source": [
    "## Newtons Law's of Motion\n",
    "#### Newtons first law\n",
    "$\\Sigma \\vec{F} = 0 \\Rightarrow$ no change in motion.  \n",
    "\n",
    "A body in uniform motion remains in uniform motion, and a body at rest remains at rest, unless acted on by a nonzero net force.\n",
    "#### Newtons second law\n",
    "momentum $\\vec{p} = m\\vec{v}$  \n",
    "$\\Sigma\\vec{F} = \\frac{d\\vec{p}}{dt}\\Rightarrow \\Sigma\\vec{F} = m\\vec{a}$  \n",
    "Net force equals rate of change of momentum  \n",
    "#### Newtons third law\n",
    "If object A exerts a force on object B, then object B exerts an oppositely directed force of equal magnitude on A"
   ]
  },
  {
   "cell_type": "markdown",
   "metadata": {},
   "source": [
    "## Applications"
   ]
  },
  {
   "cell_type": "markdown",
   "metadata": {},
   "source": [
    "#### Weight\n",
    "$\\vec{w} = m\\vec{g}$  \n",
    "weight equals mass times gravity"
   ]
  },
  {
   "cell_type": "markdown",
   "metadata": {},
   "source": [
    "#### Hooke's law of springs\n",
    "$F_s = -kx$  \n",
    "k = spring constant with units of N/m"
   ]
  }
 ],
 "metadata": {
  "kernelspec": {
   "display_name": "Python 3",
   "language": "python",
   "name": "python3"
  },
  "language_info": {
   "codemirror_mode": {
    "name": "ipython",
    "version": 3
   },
   "file_extension": ".py",
   "mimetype": "text/x-python",
   "name": "python",
   "nbconvert_exporter": "python",
   "pygments_lexer": "ipython3",
   "version": "3.8.5"
  }
 },
 "nbformat": 4,
 "nbformat_minor": 1
}
