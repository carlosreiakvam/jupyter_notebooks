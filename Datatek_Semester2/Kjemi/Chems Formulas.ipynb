{
 "cells": [
  {
   "cell_type": "markdown",
   "metadata": {},
   "source": [
    "# Chapter 1 - Introduction\n",
    "\n",
    "#### Converting Temperatures\n",
    "\n",
    "$aC = \\frac{5 \\cdot (bF -32F)}{9}$  \n",
    "$aF = \\frac{9 (bC + 32F)}{5}$  \n",
    "$aK = bC + 273.15C$  "
   ]
  },
  {
   "cell_type": "markdown",
   "metadata": {},
   "source": [
    "#### General Conversion\n",
    "$\\text{given quantity} \\times \\text{conversion factor} = \\text{desired quantity}$  \n",
    "$\\require{cancel} \\cancel{\\text{given unit}} \\times \\frac{\\text{desired unit}}{\\cancel{\\text{given unit}}} = \\text{desired unit}$  "
   ]
  }
 ],
 "metadata": {
  "kernelspec": {
   "display_name": "Python 3",
   "language": "python",
   "name": "python3"
  },
  "language_info": {
   "codemirror_mode": {
    "name": "ipython",
    "version": 3
   },
   "file_extension": ".py",
   "mimetype": "text/x-python",
   "name": "python",
   "nbconvert_exporter": "python",
   "pygments_lexer": "ipython3",
   "version": "3.8.5"
  }
 },
 "nbformat": 4,
 "nbformat_minor": 1
}
