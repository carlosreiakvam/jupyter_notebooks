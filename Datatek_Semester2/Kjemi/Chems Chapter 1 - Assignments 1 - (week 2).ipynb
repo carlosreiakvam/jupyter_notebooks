{
 "cells": [
  {
   "cell_type": "markdown",
   "metadata": {},
   "source": [
    "# Øvingssett 1 (uke 2)"
   ]
  },
  {
   "cell_type": "markdown",
   "metadata": {},
   "source": [
    "#### 1.11\n",
    "##### Er følgende stoffer et grunnstoff (element) eller en forbindelse (compound)?\n",
    "\n",
    "a) Hydrogen: **Grunnstoff**  \n",
    "b) Vann: **Forbindelse**  \n",
    "c) Gull: **Grunnstoff**  \n",
    "d) Sukker (sukrose): **Forbindelse**  "
   ]
  },
  {
   "cell_type": "markdown",
   "metadata": {},
   "source": [
    "#### 1.12\n",
    "##### Er følgende stoffer et grunnstoff (element) eller en forbindelse (compound)?\n",
    "\n",
    "a) Natriumklorid (bordsalt): **Forbindelse**  \n",
    "b) Helium: **Grunnstoff**  \n",
    "c) Alkohol: **Forbindelse**  \n",
    "d) Platina: **Grunnstoff**  "
   ]
  },
  {
   "cell_type": "markdown",
   "metadata": {},
   "source": [
    "#### 1.17\n",
    "Ei blykule har massen $12 \\cdot 10^4g$, og kulas volum er $1.05 \\cdot 10^3 cm^3$.  \n",
    "Finn kulas tetthet $d$ i $g/cm^3$; gitt at $d = m/V$.\n",
    "     \n",
    "$d = \\frac{1.2 \\cdot 10^4g}{1.05\\cdot10^{3}cm^3} = 11.4 g/cm^3$"
   ]
  },
  {
   "cell_type": "code",
   "execution_count": 4,
   "metadata": {},
   "outputs": [
    {
     "data": {
      "text/plain": [
       "11.428571428571429"
      ]
     },
     "metadata": {},
     "output_type": "display_data"
    }
   ],
   "source": [
    "import math\n",
    "(1.2*math.pow(10,4)) / (1.05*math.pow(10,3))"
   ]
  },
  {
   "cell_type": "markdown",
   "metadata": {},
   "source": [
    "##### 1.20\n",
    "\n",
    "##### a)\n",
    "##### Konverter disse temperaturene til kelvin.  \n",
    "Forenklet sammenheng: T/K = t/°C + 273.15:\n",
    "\n",
    "1) 113 °C, smeltepunktet til svovel: $113^\\circ C + 273.15 = 386.15K$\n",
    "2) 37 °C, vanlig kroppstemperatur: $37^\\circ C + 273.15 = 310K$\n",
    "3) 357 °C, kokepunktet til kvikksølv: $357^\\circ C + 273.15 = 630.15K$\n",
    "\n",
    "\n",
    "\n"
   ]
  },
  {
   "cell_type": "markdown",
   "metadata": {},
   "source": [
    "##### b)\n",
    "##### Konverter disse temperaturene til grader Celsius (utled sammenhengen fra formel ovenfor):\n",
    "\n",
    "1) 77 K, kokepunktet til flytende nitrogen: $77 - 273.15 = -196.14^\\circ C$\n",
    "2) 4.2 K, kokepunktet til flytende helium: $4.2 - 273.15 = -268.95^\\circ C$\n",
    "3) 601 K, smeltepunktet til bly: $601-273.15 = 327.85^\\circ C$"
   ]
  },
  {
   "cell_type": "markdown",
   "metadata": {},
   "source": [
    "#### 1.31\n",
    "\n",
    "##### Regn om:  \n",
    " a) 22.6 m til desimeter (dm): $22.6m = 22.6 \\cdot 10 dm = 226dm$  \n",
    " b) 25.4 mg til kilogram (kg): $25.4mg = \\frac{2.54 \\cdot 10^{-2}}{10^3}g = 2.54\\cdot10^{-5}kg$  "
   ]
  },
  {
   "cell_type": "markdown",
   "metadata": {},
   "source": [
    "#### 1.35\n",
    "\n",
    "##### Hvor mange minutter bruker sollyset på strekningen (distansen) fra sola til jorda?\n",
    "Oppgitt: Avstanden fra sola til jorda er $93 \\text{ millioner miles}$, lysets hastighet er $3.00 × 10^8 m/s$, $1 \\text{ mile} =\n",
    "1609 m$\n",
    "\n",
    "Avstand fra sola til jorda: $93\\cdot 10^6 \\ \\text{miles} = 93 \\cdot 1609 \\cdot 10^6m = 1.49637 \\cdot 10^{11} m$  \n",
    "Lysets hastighet: $3.10 \\cdot 10^8 m/s$  \n",
    "Tid i minutter fra sola til jorda: $\\frac{1.49637\\cdot10^{11}}{3 \\cdot 10^8 \\cdot 60} = 8.3 \\text{min}$  "
   ]
  },
  {
   "cell_type": "markdown",
   "metadata": {},
   "source": [
    "#### 1.39\n",
    "\n",
    "Aluminium (Al) er et lettmetall som brukes bl.a. i fly og høyspentledninger. Tettheten er\n",
    "$2.70 g/cm^3$. Hva er tettheten i $kg/m3$?\n",
    "\n",
    "$\\frac{2.7\\cdot10^0}{10^3}kg = 2.7\\cdot10^{-3}kg$  \n",
    "$\\frac{2.7 \\cdot10^{-3}}{(10^{-2}cm)^3} = 2700kg/m^3 $\n"
   ]
  },
  {
   "cell_type": "markdown",
   "metadata": {},
   "source": [
    "#### 1.58\n",
    "Ved hvilken temperatur er kan man lese av det samme tallet på et celsius-termometer og et\n",
    "fahrenheit-termometer?  \n",
    "Hint:  \n",
    "°F = (9/5) × °C + 32; eller:  \n",
    "°C = (5/9) × (°F – 32).\n",
    "\n",
    "$F = \\frac{9}{5} + C32$    \n",
    "$C = \\frac{5}{9}(F-32)$  \n",
    "\n",
    "lar $C = F = Y$  \n",
    "\n",
    "$Y = \\frac{5}{9}(Y-32)$  \n",
    "$Y = \\frac{5}{9}Y - \\frac{160}{9} $  \n",
    "$9Y = 5Y - 160 $  \n",
    "$9Y - 5Y = -160$\n",
    "$4Y = -160$  \n",
    "$Y = -40$\n",
    "\n",
    "Fahrenheit og Celsius er like når begge er -40 grader"
   ]
  }
 ],
 "metadata": {
  "kernelspec": {
   "display_name": "Python 3",
   "language": "python",
   "name": "python3"
  },
  "language_info": {
   "codemirror_mode": {
    "name": "ipython",
    "version": 3
   },
   "file_extension": ".py",
   "mimetype": "text/x-python",
   "name": "python",
   "nbconvert_exporter": "python",
   "pygments_lexer": "ipython3",
   "version": "3.8.5"
  }
 },
 "nbformat": 4,
 "nbformat_minor": 1
}
