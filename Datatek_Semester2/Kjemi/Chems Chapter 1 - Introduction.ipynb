{
 "cells": [
  {
   "cell_type": "markdown",
   "metadata": {},
   "source": [
    "## Sketchboard\n",
    "\n",
    "[Sketchboard flowchart Detailed](https://sketchboard.me/lCwlu2HbWHs)\n",
    "\n",
    "[Sketchboard flowchart Highlights](https://sketchboard.me/pCwpWLsCXedW#/)"
   ]
  },
  {
   "cell_type": "markdown",
   "metadata": {},
   "source": [
    "## 1.2 The Scientific Method\n",
    "\n",
    "1.  Carefully define the problem\n",
    "2.  Perform experiments, make observations,record information\n",
    "3.  Interpret, make hypothesis\n",
    "\n",
    "###### Scientific Hypothesis\n",
    "\n",
    "A tentative explanation for a set of observations.\n",
    "\n",
    "###### Scientific Law\n",
    "\n",
    "A concise verbal or mathematical statement of a relationship between phenomena that is always the same under the same conditions\n",
    "\n",
    "###### Scientific Theory\n",
    "\n",
    "A unifying principle that explains a body of facts and/or those laws that are based on them"
   ]
  },
  {
   "cell_type": "markdown",
   "metadata": {},
   "source": [
    "## 1.3 Classifications of Matter\n",
    "Matter is anything that occupies space and has mass, and chemistry is the study of matter and the changes it undergoes. All Matter can in principle exist in three states. The three states can be interconverted without changing the composition of the substance.\n",
    "\n",
    "###### Solid\n",
    "Rigid objects with definite shapes.\n",
    "\n",
    "###### Liquid\n",
    "Less rigid than solids. They are fluid, meaning they are able to flow and assume the shape of their containers.\n",
    "\n",
    "###### Gas\n",
    "Like liquids, gases are fluid, but unlike liquids, they can expand indefinitely.\n"
   ]
  },
  {
   "cell_type": "markdown",
   "metadata": {},
   "source": [
    "### Substances and Mixtures\n",
    "\n",
    "###### Substance\n",
    "\n",
    "Matter that has a definite or constant composition and distinct properties.\n",
    "\n",
    "###### Mixture\n",
    "A combination of two or more substances in which the substances retain their distinct identities.\n",
    "\n",
    "\n",
    "###### Homogeneous mixture\n",
    "The composition of the mixture remains the same throughout the solution.\n",
    "\n",
    "###### Heterogeneous mixture\n",
    "The composition is not uniform, meaning the substances seperate.\n",
    "\n",
    "Any mixture, whether homogeneous or heterogeneous, can be created and then separated by physical means into pure components without changing the identities of the components."
   ]
  },
  {
   "cell_type": "markdown",
   "metadata": {},
   "source": [
    "### Elements and Compounds\n",
    "A substance can either be an element or a compound.\n",
    "\n",
    "###### Element\n",
    "An element is a Substance that cannot be separated into simpler substances by chemical means.\\\n",
    "Elements are represented with one or two letters. The first letter is always capitalized, the second letter is never capitalized.\n",
    "\n",
    "###### Compound\n",
    "A substance composed of two or more elements chemically united in fixed proportions."
   ]
  },
  {
   "cell_type": "markdown",
   "metadata": {},
   "source": [
    "## 1.4 Physical and Chemical Properties of Matter\n",
    "\n",
    "###### Physical properties\n",
    "\n",
    "Some examples include:\n",
    "\n",
    "-   Color\n",
    "-   Melting point\n",
    "-   Boiling point\n",
    "-   Density\n",
    "\n",
    "> A physical property can be measured and observed without changing the composition or identity of a substance.\n",
    "\n",
    "The physical properties of turning ice into water would be the temperature where the water melts. As the difference is only physical, and the composition remains unaltered.\n",
    "\n",
    "###### Chemical Properties\n",
    "To observe a chemical property we must carry out a chemical change\n",
    "\n",
    "When carrying out a chemical change, the original substances vanish and new substances takes their place."
   ]
  },
  {
   "cell_type": "markdown",
   "metadata": {},
   "source": [
    "### Extensive and Intensive Properties\n",
    "All measurable properties of matter fall into two categories: extensive properties and intensive properties.\n",
    "\n",
    "###### Extensive Properties\n",
    "Extensive properties depend on how much matter is being considered.\n",
    "\n",
    "Some examples include:\n",
    "\n",
    "-   Mass\n",
    "-   Length\n",
    "-   Volume\n",
    "\n",
    "More matter means more mass. Values of extensive properties can be added together.\n",
    "\n",
    "###### Intensive Properties\n",
    "Intensive properties does not depend on the amount of matter being considered.\n",
    "\n",
    "Some examples include:\n",
    "\n",
    "-   Temperature\n",
    "-   Melting point\n",
    "-   Boiling point\n",
    "-   Density\n",
    "\n",
    "When adding two substances that have the same temperature, the resulting temperature will not be the simple sum of the two temperatures."
   ]
  },
  {
   "cell_type": "markdown",
   "metadata": {},
   "source": [
    "## 1.5 Measurement\n",
    "\n",
    "###### Macroscopic Measurements\n",
    "For making simple measurements of a substance's properties, various tools like metersticks, flasks and thermometers can be utilized. These provide measurements of macroscopic properties which can be determined directly.\n",
    "\n",
    "###### Microscopic Measurements\n",
    "Microscopic measurements are on the atomic and molecular scale. These must be determined by an inderect method."
   ]
  },
  {
   "cell_type": "markdown",
   "metadata": {},
   "source": [
    "### Mass and Weigth\n",
    "\n",
    "###### Mass\n",
    "A meassure of the quantity of matter in an object.\n",
    "\n",
    "###### Weight\n",
    "The force that the gravity exerts on an object.\n",
    "\n",
    "> An apple has the same mass on earth as in space, but it's weight is different as the forces of gravity on the apple is different in space.\n",
    "\n",
    "##### Density\n",
    "$\\text{density }d = \\frac{\\text{mass}}{\\text{volume}} = \\frac{m}{V}$"
   ]
  },
  {
   "cell_type": "markdown",
   "metadata": {},
   "source": [
    "## 1.6 Handling Numbers\n",
    "\n",
    "##### Significant Figures\n",
    "When significant figures are used, the last digit is understood to be uncertain.\n",
    "\n",
    "###### Outline of rules for significant figures\n",
    "\n",
    "1.  Any digit that is not zero is significant.\n",
    "2.  Zeros between nonzero digits are significant.\n",
    "3.  Zeros to the left of the first nonzero digit are not significant.\n",
    "4.  If a number is greater than 1, then all the zeros written to the right of the decimal point count as significant figures.\n",
    "5.  For numbers that do not contain decimal points, trailing zeros may or may not be significant. In that case: Use scientific notation to specify.\n",
    "\n",
    "###### Rules for handling significant figures in calculations\n",
    "\n",
    "1.  In addition and subtraction, the answer cannot have more digits to the right of the decimal point than either of the original numbers.\n",
    "\n",
    "2.  In multiplication and division, the number of significant figures in the final product or quotient is determined by the original number that has the smallest number of significant figures.\n",
    "\n",
    "3.  Keep in mind that exact numbers obtained from definitions can be considered to have an infinite number of significant figures.\n",
    "\n",
    "NB: The book has a convention of rounding both intermediate and final results, despite the loss of accuracy."
   ]
  },
  {
   "cell_type": "markdown",
   "metadata": {},
   "source": [
    "### Accuracy and Precision\n",
    "\n",
    "###### Accuracy\n",
    "Accuracy tells us how close a measurement is to the true value of the quantity that was measured.\n",
    "\n",
    "###### Precision\n",
    "Precision refers to how closely two or more measurements of the same quantity agree with one another.\n",
    "\n",
    "In other words a measurement can have high precision and low accuracy, meaning the measurement is off from the true value but multiple measurements are close to each other. Highly precise measurements do not necessarily guarantee accurate measurements.\n",
    "\n",
    "On the other hand an accurate measurement with low precision means that the measurements are close to the true value that is measured, but further away from each other. Higly accurate measurements are usually precise too."
   ]
  },
  {
   "cell_type": "markdown",
   "metadata": {},
   "source": [
    "## 1.7 Dimensional Analysis\n",
    "$1 \\,inch = 2.54cm \\Rightarrow \\frac{2.54cm}{1 \\,inch} = 1$\n",
    "\n",
    "It is therefor appropriate to write\n",
    "\n",
    "$\\require{cancel}12 \\cancel{inch} \\cdot \\frac{2.54cm}{1 \\cancel{inch}} = 30.48cm$ For conversion multiply with the appropriate conversion factor.\n",
    "\n",
    "In general $\\text{given quantity} \\cdot \\text{conversion factor} = \\text{desired quantity}$"
   ]
  },
  {
   "cell_type": "markdown",
   "metadata": {},
   "source": [
    "# Key Formulas\n",
    "\n",
    "#### Converting Temperatures\n",
    "\n",
    "$aC = \\frac{5 \\cdot (bF -32F)}{9}$  \n",
    "$aF = \\frac{9 (bC + 32F)}{5}$  \n",
    "$aK = bC + 273.15C$  "
   ]
  },
  {
   "cell_type": "markdown",
   "metadata": {},
   "source": [
    "#### General Conversion\n",
    "$\\text{given quantity} \\times \\text{conversion factor} = \\text{desired quantity}$  \n",
    "$\\require{cancel} \\cancel{\\text{given unit}} \\times \\frac{\\text{desired unit}}{\\cancel{\\text{given unit}}} = \\text{desired unit}$  "
   ]
  },
  {
   "cell_type": "markdown",
   "metadata": {},
   "source": []
  },
  {
   "cell_type": "markdown",
   "metadata": {},
   "source": [
    "# Øvingssett 1 (uke 2)"
   ]
  },
  {
   "cell_type": "markdown",
   "metadata": {},
   "source": [
    "#### 1.7\n",
    "\n",
    "##### Er det stoffets fysiske eller kjemiske egenskaper følgende utsagn beskriver?  \n",
    "\n",
    "a) Oksygengass deltar i forbrenningsreaksjoner: **Kjemisk**  \n",
    "b) Gjødsel bidrar til å øke produksjonen i landbruket: **Kjemisk**  \n",
    "c) Kokepunktet for vann er under 100 °C på en fjelltopp: **Fysisk**   \n",
    "d) Bly har større tetthet enn aluminium: **Fysisk**  \n",
    "e) Uran er et radioaktivt grunnstoff: **Kjemisk**"
   ]
  },
  {
   "cell_type": "markdown",
   "metadata": {},
   "source": [
    "#### 1.8\n",
    "\n",
    "##### Er det stoffets fysiske eller kjemiske egenskaper følgende utsagn beskriver?  \n",
    "\n",
    "a) Heliumgassen i en ballong lekker ut i løpet av noen timer: **Fysisk**  \n",
    "b) Lyset fra en lommelykt blir stadig svakere og dør ut tilslutt: **Kjemisk**  \n",
    "c) Frossen appelsinjuice gjenopprettes med vann:  **Fysisk**  \n",
    "d) Planters vekst er avhengig av solas energi i prosessen som kalles fotosyntese: **kjemisk**  \n",
    "e) En skje med bordsalt løses i en tallerken suppe: **Fysisk**  "
   ]
  },
  {
   "cell_type": "markdown",
   "metadata": {},
   "source": [
    "#### 1.11\n",
    "##### Er følgende stoffer et grunnstoff (element) eller en forbindelse (compound)?\n",
    "\n",
    "a) Hydrogen: **Grunnstoff**  \n",
    "b) Vann: **Forbindelse**  \n",
    "c) Gull: **Grunnstoff**  \n",
    "d) Sukker (sukrose): **Forbindelse**  "
   ]
  },
  {
   "cell_type": "markdown",
   "metadata": {},
   "source": [
    "#### 1.12\n",
    "##### Er følgende stoffer et grunnstoff (element) eller en forbindelse (compound)?\n",
    "\n",
    "a) Natriumklorid (bordsalt): **Forbindelse**  \n",
    "b) Helium: **Grunnstoff**  \n",
    "c) Alkohol: **Forbindelse**  \n",
    "d) Platina: **Grunnstoff**  "
   ]
  },
  {
   "cell_type": "markdown",
   "metadata": {},
   "source": [
    "#### 1.17\n",
    "Ei blykule har massen $12 \\cdot 10^4g$, og kulas volum er $1.05 \\cdot 10^3 cm^3$.  \n",
    "Finn kulas tetthet $d$ i $g/cm^3$; gitt at $d = m/V$.\n",
    "     \n",
    "$d = \\frac{1.2 \\cdot 10^4g}{1.05\\cdot10^{3}cm^3} = 11.4 g/cm^3$"
   ]
  },
  {
   "cell_type": "code",
   "execution_count": 4,
   "metadata": {},
   "outputs": [
    {
     "data": {
      "text/plain": [
       "11.428571428571429"
      ]
     },
     "metadata": {},
     "output_type": "display_data"
    }
   ],
   "source": [
    "import math\n",
    "(1.2*math.pow(10,4)) / (1.05*math.pow(10,3))"
   ]
  },
  {
   "cell_type": "markdown",
   "metadata": {},
   "source": [
    "##### 1.20\n",
    "\n",
    "##### a)\n",
    "##### Konverter disse temperaturene til kelvin.  \n",
    "Forenklet sammenheng: T/K = t/°C + 273.15:\n",
    "\n",
    "1) 113 °C, smeltepunktet til svovel: $113^\\circ C + 273.15 = 386.15K$\n",
    "2) 37 °C, vanlig kroppstemperatur: $37^\\circ C + 273.15 = 310K$\n",
    "3) 357 °C, kokepunktet til kvikksølv: $357^\\circ C + 273.15 = 630.15K$\n",
    "\n",
    "\n",
    "\n"
   ]
  },
  {
   "cell_type": "markdown",
   "metadata": {},
   "source": [
    "##### b)\n",
    "##### Konverter disse temperaturene til grader Celsius (utled sammenhengen fra formel ovenfor):\n",
    "\n",
    "1) 77 K, kokepunktet til flytende nitrogen: $77 - 273.15 = -196.14^\\circ C$\n",
    "2) 4.2 K, kokepunktet til flytende helium: $4.2 - 273.15 = -268.95^\\circ C$\n",
    "3) 601 K, smeltepunktet til bly: $601-273.15 = 327.85^\\circ C$"
   ]
  },
  {
   "cell_type": "markdown",
   "metadata": {},
   "source": [
    "#### 1.31\n",
    "\n",
    "##### Regn om:  \n",
    " a) 22.6 m til desimeter (dm): $22.6m = 22.6 \\cdot 10 dm = 226dm$  \n",
    " b) 25.4 mg til kilogram (kg): $25.4mg = \\frac{2.54 \\cdot 10^{-2}}{10^3}g = 2.54\\cdot10^{-5}kg$  "
   ]
  },
  {
   "cell_type": "markdown",
   "metadata": {},
   "source": [
    "#### 1.35\n",
    "\n",
    "##### Hvor mange minutter bruker sollyset på strekningen (distansen) fra sola til jorda?\n",
    "Oppgitt: Avstanden fra sola til jorda er $93 \\text{ millioner miles}$, lysets hastighet er $3.00 × 10^8 m/s$, $1 \\text{ mile} =\n",
    "1609 m$\n",
    "\n",
    "Avstand fra sola til jorda: $93\\cdot 10^6 \\ \\text{miles} = 93 \\cdot 1609 \\cdot 10^6m = 1.49637 \\cdot 10^{11} m$  \n",
    "Lysets hastighet: $3.10 \\cdot 10^8 m/s$  \n",
    "Tid i minutter fra sola til jorda: $\\frac{1.49637\\cdot10^{11}}{3 \\cdot 10^8 \\cdot 60} = 8.3 \\text{min}$  "
   ]
  },
  {
   "cell_type": "markdown",
   "metadata": {},
   "source": [
    "#### 1.39\n",
    "\n",
    "Aluminium (Al) er et lettmetall som brukes bl.a. i fly og høyspentledninger. Tettheten er\n",
    "$2.70 g/cm^3$. Hva er tettheten i $kg/m3$?\n",
    "\n",
    "$\\frac{2.7\\cdot10^0}{10^3}kg = 2.7\\cdot10^{-3}kg$  \n",
    "$\\frac{2.7 \\cdot10^{-3}}{(10^{-2}cm)^3} = 2700kg/m^3 $\n"
   ]
  },
  {
   "cell_type": "markdown",
   "metadata": {},
   "source": [
    "#### 1.58\n",
    "Ved hvilken temperatur er kan man lese av det samme tallet på et celsius-termometer og et\n",
    "fahrenheit-termometer?  \n",
    "Hint:  \n",
    "°F = (9/5) × °C + 32; eller:  \n",
    "°C = (5/9) × (°F – 32).\n",
    "\n",
    "$F = \\frac{9}{5} + C32$    \n",
    "$C = \\frac{5}{9}(F-32)$  \n",
    "\n",
    "lar $C = F = Y$  \n",
    "\n",
    "$Y = \\frac{5}{9}(Y-32)$  \n",
    "$Y = \\frac{5}{9}Y - \\frac{160}{9} $  \n",
    "$9Y = 5Y - 160 $  \n",
    "$9Y - 5Y = -160$\n",
    "$4Y = -160$  \n",
    "$Y = -40$\n",
    "\n",
    "Fahrenheit og Celsius er like når begge er -40 grader"
   ]
  },
  {
   "cell_type": "markdown",
   "metadata": {},
   "source": [
    "# Key words\n",
    "\n",
    "- Accuracy, p. 17\n",
    "- Chemical property, p. 7\n",
    "- Chemistry, p. 4\n",
    "- Compound, p. 6\n",
    "- Density, p. 10\n",
    "- Element, p. 5\n",
    "- Extensive property, p. 8\n",
    "- Heterogeneous mixture, p. 5\n",
    "- Homogeneous mixture, p. 5\n",
    "- Hypothesis, p. 3\n",
    "- Intensive property, p. 8\n",
    "- International System of\n",
    "- Units, p. 9\n",
    "- Law, p. 3\n",
    "- Liter, p. 10\n",
    "- Macroscopic property, p. 8\n",
    "- Mass, p. 9\n",
    "- Matter, p. 4\n",
    "- Microscopic property, p. 8\n",
    "- Mixture, p. 5\n",
    "- Physical property, p. 7\n",
    "- Precision, p. 17\n",
    "- Qualitative, p. 3\n",
    "- Quantitative, p. 3\n",
    "- Scientific method, p. 2\n",
    "- Significant figures, p. 15\n",
    "- Substance, p. 5\n",
    "- Theory, p. 3\n",
    "- Volume, p. 10\n",
    "- Weight, p. 9"
   ]
  }
 ],
 "metadata": {
  "kernelspec": {
   "display_name": "Python 3",
   "language": "python",
   "name": "python3"
  },
  "language_info": {
   "codemirror_mode": {
    "name": "ipython",
    "version": 3
   },
   "file_extension": ".py",
   "mimetype": "text/x-python",
   "name": "python",
   "nbconvert_exporter": "python",
   "pygments_lexer": "ipython3",
   "version": "3.8.5"
  }
 },
 "nbformat": 4,
 "nbformat_minor": 1
}
