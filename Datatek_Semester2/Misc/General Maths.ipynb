{
 "cells": [
  {
   "cell_type": "markdown",
   "metadata": {},
   "source": [
    "#### Proof of multiplication and division inversion  \n",
    " $a\\cdot \\frac{b}{c} = a \\div \\frac{c}{b}$  \n",
    " $a \\cdot \\frac{b}{c} = \\frac{a}{\\frac{c}{b}}$  \n",
    " $a \\cdot \\frac{b}{c} = \\frac{a}{\\frac{c \\cdot}{b}} \\cdot \\frac{b}{b}$  \n",
    " $a \\cdot \\frac{b}{c} = \\frac{ab}{c} $  \n",
    " $a \\cdot \\frac{b}{c} = a \\cdot \\frac{b}{c} $  "
   ]
  },
  {
   "cell_type": "markdown",
   "metadata": {},
   "source": [
    "prove that \n",
    "$a\\cdot \\frac{b}{c} = a \\div \\frac{c}{b} = d$  \n",
    "\n",
    "$a\\cdot \\frac{b}{c} = d$  \n",
    "$\\frac{a}{\\frac{c}{b}} = d$  \n",
    "This works because of the proof above  \n",
    "It dosn't work to divide $d$ by $\\frac{c}{b}$ because $a$, $b$ and $c$ are already baked into $d$. \n"
   ]
  },
  {
   "cell_type": "markdown",
   "metadata": {},
   "source": [
    "#### Per's conundrum\n",
    "$\\sqrt\\frac{a}{b} = \\sqrt{a}\\frac{\\sqrt{b}}{b} = \\frac{\\sqrt{ab}}{b}$  \n",
    "$b\\sqrt\\frac{a}{b} = b\\sqrt{a}\\frac{\\sqrt{b}}{b} = \\sqrt{ab}$"
   ]
  },
  {
   "cell_type": "markdown",
   "metadata": {},
   "source": [
    "#### Trigonometry\n",
    "<img src=\"Screens/trig_relations_1.jpg\">\n",
    "Notice how tangent is perpendicular to the hypothenuse\n",
    "<img src=\"Screens/trig_relations_2.jpg\">"
   ]
  },
  {
   "cell_type": "markdown",
   "metadata": {},
   "source": [
    "### Vector Multiplication\n",
    "\n",
    "Dot product\n",
    "\n",
    "$\\vec{a}\\cdot\\vec{b} = (a_x\\cdot b_x) + (a_y \\cdot b_y)$\n",
    "\n",
    "$\\vec{a}\\cdot\\vec{b} = |\\vec{a}|\\cdot|\\vec{b}|\\cdot cos(\\theta)$\n",
    "\n",
    "if $\\vec{a}\\cdot\\vec{b} = 0 \\Rightarrow \\vec{a}$ and $\\vec{b}$ are orthogonal (perpendicular) to each other. \n"
   ]
  }
 ],
 "metadata": {
  "kernelspec": {
   "display_name": "Python 3",
   "language": "python",
   "name": "python3"
  },
  "language_info": {
   "codemirror_mode": {
    "name": "ipython",
    "version": 3
   },
   "file_extension": ".py",
   "mimetype": "text/x-python",
   "name": "python",
   "nbconvert_exporter": "python",
   "pygments_lexer": "ipython3",
   "version": "3.8.5"
  }
 },
 "nbformat": 4,
 "nbformat_minor": 1
}
