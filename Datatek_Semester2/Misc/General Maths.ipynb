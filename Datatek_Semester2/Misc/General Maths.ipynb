{
 "cells": [
  {
   "cell_type": "markdown",
   "metadata": {},
   "source": [
    "Proof of multiplication and division inversion  \n",
    " $a\\cdot \\frac{b}{c} = a \\div \\frac{c}{b}$  \n",
    " $a \\cdot \\frac{b}{c} = \\frac{a}{\\frac{c}{b}}$  \n",
    " $a \\cdot \\frac{b}{c} = \\frac{a}{\\frac{c \\cdot}{b}} \\cdot \\frac{b}{b}$  \n",
    " $a \\cdot \\frac{b}{c} = \\frac{ab}{c} $  \n",
    " $a \\cdot \\frac{b}{c} = a \\cdot \\frac{b}{c} $  "
   ]
  },
  {
   "cell_type": "markdown",
   "metadata": {},
   "source": [
    "prove that \n",
    "$a\\cdot \\frac{b}{c} = a \\div \\frac{c}{b} = d$  \n",
    "\n",
    "$a\\cdot \\frac{b}{c} = d$  \n",
    "$\\frac{a}{\\frac{c}{b}} = d$  \n",
    "This works because of the proof above  \n",
    "It dosn't work to divide $d$ by $\\frac{c}{b}$ because $a$, $b$ and $c$ are already baked into $d$. \n"
   ]
  },
  {
   "cell_type": "markdown",
   "metadata": {},
   "source": [
    "#### Per's conundrum\n",
    "$\\sqrt\\frac{a}{b} = \\sqrt{a}\\frac{\\sqrt{b}}{b} = \\frac{\\sqrt{ab}}{b}$  \n",
    "$b\\sqrt\\frac{a}{b} = b\\sqrt{a}\\frac{\\sqrt{b}}{b} = \\sqrt{ab}$"
   ]
  }
 ],
 "metadata": {
  "kernelspec": {
   "display_name": "Python 3",
   "language": "python",
   "name": "python3"
  },
  "language_info": {
   "codemirror_mode": {
    "name": "ipython",
    "version": 3
   },
   "file_extension": ".py",
   "mimetype": "text/x-python",
   "name": "python",
   "nbconvert_exporter": "python",
   "pygments_lexer": "ipython3",
   "version": "3.8.5"
  }
 },
 "nbformat": 4,
 "nbformat_minor": 1
}
